{
 "cells": [
  {
   "cell_type": "markdown",
   "id": "91103eea",
   "metadata": {},
   "source": [
    "# Heart Failure Prediction & Visualization"
   ]
  },
  {
   "cell_type": "markdown",
   "id": "0a86bea8",
   "metadata": {},
   "source": [
    "## 1. Import libraries and dataset"
   ]
  },
  {
   "cell_type": "code",
   "execution_count": 67,
   "id": "4a9bb953",
   "metadata": {},
   "outputs": [],
   "source": [
    "import pandas as pd\n",
    "import numpy as np\n",
    "import matplotlib.pyplot as plt\n",
    "import seaborn as sns\n",
    "from sklearn.ensemble import ExtraTreesClassifier\n",
    "import plotly.graph_objects as go\n",
    "import plotly.express as px\n",
    "from plotly.subplots import make_subplots\n",
    "from sklearn.model_selection import train_test_split\n",
    "from sklearn.preprocessing import StandardScaler\n",
    "from sklearn.linear_model import LogisticRegression\n",
    "from sklearn.metrics import confusion_matrix, accuracy_score\n",
    "from sklearn.neighbors import KNeighborsClassifier\n",
    "from sklearn.svm import SVC"
   ]
  },
  {
   "cell_type": "code",
   "execution_count": 2,
   "id": "add68f73",
   "metadata": {},
   "outputs": [],
   "source": [
    "dataset = pd.read_csv('./input/heart_failure_clinical_records_dataset.csv')"
   ]
  },
  {
   "cell_type": "code",
   "execution_count": 3,
   "id": "221d9720",
   "metadata": {},
   "outputs": [
    {
     "data": {
      "text/html": [
       "<div>\n",
       "<style scoped>\n",
       "    .dataframe tbody tr th:only-of-type {\n",
       "        vertical-align: middle;\n",
       "    }\n",
       "\n",
       "    .dataframe tbody tr th {\n",
       "        vertical-align: top;\n",
       "    }\n",
       "\n",
       "    .dataframe thead th {\n",
       "        text-align: right;\n",
       "    }\n",
       "</style>\n",
       "<table border=\"1\" class=\"dataframe\">\n",
       "  <thead>\n",
       "    <tr style=\"text-align: right;\">\n",
       "      <th></th>\n",
       "      <th>age</th>\n",
       "      <th>anaemia</th>\n",
       "      <th>creatinine_phosphokinase</th>\n",
       "      <th>diabetes</th>\n",
       "      <th>ejection_fraction</th>\n",
       "      <th>high_blood_pressure</th>\n",
       "      <th>platelets</th>\n",
       "      <th>serum_creatinine</th>\n",
       "      <th>serum_sodium</th>\n",
       "      <th>sex</th>\n",
       "      <th>smoking</th>\n",
       "      <th>time</th>\n",
       "      <th>DEATH_EVENT</th>\n",
       "    </tr>\n",
       "  </thead>\n",
       "  <tbody>\n",
       "    <tr>\n",
       "      <th>0</th>\n",
       "      <td>75.0</td>\n",
       "      <td>0</td>\n",
       "      <td>582</td>\n",
       "      <td>0</td>\n",
       "      <td>20</td>\n",
       "      <td>1</td>\n",
       "      <td>265000.00</td>\n",
       "      <td>1.9</td>\n",
       "      <td>130</td>\n",
       "      <td>1</td>\n",
       "      <td>0</td>\n",
       "      <td>4</td>\n",
       "      <td>1</td>\n",
       "    </tr>\n",
       "    <tr>\n",
       "      <th>1</th>\n",
       "      <td>55.0</td>\n",
       "      <td>0</td>\n",
       "      <td>7861</td>\n",
       "      <td>0</td>\n",
       "      <td>38</td>\n",
       "      <td>0</td>\n",
       "      <td>263358.03</td>\n",
       "      <td>1.1</td>\n",
       "      <td>136</td>\n",
       "      <td>1</td>\n",
       "      <td>0</td>\n",
       "      <td>6</td>\n",
       "      <td>1</td>\n",
       "    </tr>\n",
       "    <tr>\n",
       "      <th>2</th>\n",
       "      <td>65.0</td>\n",
       "      <td>0</td>\n",
       "      <td>146</td>\n",
       "      <td>0</td>\n",
       "      <td>20</td>\n",
       "      <td>0</td>\n",
       "      <td>162000.00</td>\n",
       "      <td>1.3</td>\n",
       "      <td>129</td>\n",
       "      <td>1</td>\n",
       "      <td>1</td>\n",
       "      <td>7</td>\n",
       "      <td>1</td>\n",
       "    </tr>\n",
       "    <tr>\n",
       "      <th>3</th>\n",
       "      <td>50.0</td>\n",
       "      <td>1</td>\n",
       "      <td>111</td>\n",
       "      <td>0</td>\n",
       "      <td>20</td>\n",
       "      <td>0</td>\n",
       "      <td>210000.00</td>\n",
       "      <td>1.9</td>\n",
       "      <td>137</td>\n",
       "      <td>1</td>\n",
       "      <td>0</td>\n",
       "      <td>7</td>\n",
       "      <td>1</td>\n",
       "    </tr>\n",
       "    <tr>\n",
       "      <th>4</th>\n",
       "      <td>65.0</td>\n",
       "      <td>1</td>\n",
       "      <td>160</td>\n",
       "      <td>1</td>\n",
       "      <td>20</td>\n",
       "      <td>0</td>\n",
       "      <td>327000.00</td>\n",
       "      <td>2.7</td>\n",
       "      <td>116</td>\n",
       "      <td>0</td>\n",
       "      <td>0</td>\n",
       "      <td>8</td>\n",
       "      <td>1</td>\n",
       "    </tr>\n",
       "  </tbody>\n",
       "</table>\n",
       "</div>"
      ],
      "text/plain": [
       "    age  anaemia  creatinine_phosphokinase  diabetes  ejection_fraction  \\\n",
       "0  75.0        0                       582         0                 20   \n",
       "1  55.0        0                      7861         0                 38   \n",
       "2  65.0        0                       146         0                 20   \n",
       "3  50.0        1                       111         0                 20   \n",
       "4  65.0        1                       160         1                 20   \n",
       "\n",
       "   high_blood_pressure  platelets  serum_creatinine  serum_sodium  sex  \\\n",
       "0                    1  265000.00               1.9           130    1   \n",
       "1                    0  263358.03               1.1           136    1   \n",
       "2                    0  162000.00               1.3           129    1   \n",
       "3                    0  210000.00               1.9           137    1   \n",
       "4                    0  327000.00               2.7           116    0   \n",
       "\n",
       "   smoking  time  DEATH_EVENT  \n",
       "0        0     4            1  \n",
       "1        0     6            1  \n",
       "2        1     7            1  \n",
       "3        0     7            1  \n",
       "4        0     8            1  "
      ]
     },
     "execution_count": 3,
     "metadata": {},
     "output_type": "execute_result"
    }
   ],
   "source": [
    "dataset.head()"
   ]
  },
  {
   "cell_type": "code",
   "execution_count": 4,
   "id": "f71e461f",
   "metadata": {},
   "outputs": [
    {
     "data": {
      "text/plain": [
       "age                         0\n",
       "anaemia                     0\n",
       "creatinine_phosphokinase    0\n",
       "diabetes                    0\n",
       "ejection_fraction           0\n",
       "high_blood_pressure         0\n",
       "platelets                   0\n",
       "serum_creatinine            0\n",
       "serum_sodium                0\n",
       "sex                         0\n",
       "smoking                     0\n",
       "time                        0\n",
       "DEATH_EVENT                 0\n",
       "dtype: int64"
      ]
     },
     "execution_count": 4,
     "metadata": {},
     "output_type": "execute_result"
    }
   ],
   "source": [
    "dataset.isnull().sum()"
   ]
  },
  {
   "cell_type": "markdown",
   "id": "821f2e88",
   "metadata": {},
   "source": [
    "## 2. Feature Selection\n",
    "\n",
    "Selecting only `time`, `ejection_fraction`, and `serum_creatinine`"
   ]
  },
  {
   "cell_type": "code",
   "execution_count": 6,
   "id": "c4c8285e",
   "metadata": {},
   "outputs": [
    {
     "name": "stdout",
     "output_type": "stream",
     "text": [
      "[0.09362301 0.02718925 0.07474529 0.03297962 0.1265722  0.02256724\n",
      " 0.07375782 0.12563691 0.08313166 0.02779392 0.02612088 0.2858822 ]\n"
     ]
    },
    {
     "data": {
      "image/png": "[encoded data removed]",
      "text/plain": [
       "<Figure size 1500x600 with 1 Axes>"
      ]
     },
     "metadata": {},
     "output_type": "display_data"
    }
   ],
   "source": [
    "plt.rcParams['figure.figsize'] = 15,6\n",
    "sns.set_style('darkgrid')\n",
    "\n",
    "x = dataset.iloc[:, :-1]\n",
    "y = dataset.iloc[:, -1]\n",
    "\n",
    "model = ExtraTreesClassifier()\n",
    "model.fit(x,y)\n",
    "print(model.feature_importances_)\n",
    "\n",
    "feat_importances = pd.Series(model.feature_importances_, index=x.columns)\n",
    "feat_importances.nlargest(12).plot(kind='barh')\n",
    "plt.show()"
   ]
  },
  {
   "cell_type": "markdown",
   "id": "57721c41",
   "metadata": {},
   "source": [
    "## 3. Finding outliers"
   ]
  },
  {
   "cell_type": "code",
   "execution_count": 10,
   "id": "7a59dbf0",
   "metadata": {},
   "outputs": [
    {
     "data": {
      "image/png": "[encoded data removed]",
      "text/plain": [
       "<Figure size 1500x600 with 1 Axes>"
      ]
     },
     "metadata": {},
     "output_type": "display_data"
    }
   ],
   "source": [
    "# boxplot for ejection_fraction\n",
    "\n",
    "sns.boxplot(x = dataset.ejection_fraction, color = 'grey')\n",
    "plt.show()"
   ]
  },
  {
   "cell_type": "code",
   "execution_count": 11,
   "id": "ab0a0846",
   "metadata": {},
   "outputs": [
    {
     "data": {
      "text/html": [
       "<div>\n",
       "<style scoped>\n",
       "    .dataframe tbody tr th:only-of-type {\n",
       "        vertical-align: middle;\n",
       "    }\n",
       "\n",
       "    .dataframe tbody tr th {\n",
       "        vertical-align: top;\n",
       "    }\n",
       "\n",
       "    .dataframe thead th {\n",
       "        text-align: right;\n",
       "    }\n",
       "</style>\n",
       "<table border=\"1\" class=\"dataframe\">\n",
       "  <thead>\n",
       "    <tr style=\"text-align: right;\">\n",
       "      <th></th>\n",
       "      <th>age</th>\n",
       "      <th>anaemia</th>\n",
       "      <th>creatinine_phosphokinase</th>\n",
       "      <th>diabetes</th>\n",
       "      <th>ejection_fraction</th>\n",
       "      <th>high_blood_pressure</th>\n",
       "      <th>platelets</th>\n",
       "      <th>serum_creatinine</th>\n",
       "      <th>serum_sodium</th>\n",
       "      <th>sex</th>\n",
       "      <th>smoking</th>\n",
       "      <th>time</th>\n",
       "      <th>DEATH_EVENT</th>\n",
       "    </tr>\n",
       "  </thead>\n",
       "  <tbody>\n",
       "    <tr>\n",
       "      <th>64</th>\n",
       "      <td>45.0</td>\n",
       "      <td>0</td>\n",
       "      <td>582</td>\n",
       "      <td>0</td>\n",
       "      <td>80</td>\n",
       "      <td>0</td>\n",
       "      <td>263358.03</td>\n",
       "      <td>1.18</td>\n",
       "      <td>137</td>\n",
       "      <td>0</td>\n",
       "      <td>0</td>\n",
       "      <td>63</td>\n",
       "      <td>0</td>\n",
       "    </tr>\n",
       "    <tr>\n",
       "      <th>217</th>\n",
       "      <td>54.0</td>\n",
       "      <td>1</td>\n",
       "      <td>427</td>\n",
       "      <td>0</td>\n",
       "      <td>70</td>\n",
       "      <td>1</td>\n",
       "      <td>151000.00</td>\n",
       "      <td>9.00</td>\n",
       "      <td>137</td>\n",
       "      <td>0</td>\n",
       "      <td>0</td>\n",
       "      <td>196</td>\n",
       "      <td>1</td>\n",
       "    </tr>\n",
       "  </tbody>\n",
       "</table>\n",
       "</div>"
      ],
      "text/plain": [
       "      age  anaemia  creatinine_phosphokinase  diabetes  ejection_fraction  \\\n",
       "64   45.0        0                       582         0                 80   \n",
       "217  54.0        1                       427         0                 70   \n",
       "\n",
       "     high_blood_pressure  platelets  serum_creatinine  serum_sodium  sex  \\\n",
       "64                     0  263358.03              1.18           137    0   \n",
       "217                    1  151000.00              9.00           137    0   \n",
       "\n",
       "     smoking  time  DEATH_EVENT  \n",
       "64         0    63            0  \n",
       "217        0   196            1  "
      ]
     },
     "execution_count": 11,
     "metadata": {},
     "output_type": "execute_result"
    }
   ],
   "source": [
    "# Two outliers at 70 and 80 are seen. We remove them here:\n",
    "\n",
    "dataset[dataset['ejection_fraction']>=70]"
   ]
  },
  {
   "cell_type": "code",
   "execution_count": 13,
   "id": "59291550",
   "metadata": {},
   "outputs": [
    {
     "data": {
      "text/html": [
       "<div>\n",
       "<style scoped>\n",
       "    .dataframe tbody tr th:only-of-type {\n",
       "        vertical-align: middle;\n",
       "    }\n",
       "\n",
       "    .dataframe tbody tr th {\n",
       "        vertical-align: top;\n",
       "    }\n",
       "\n",
       "    .dataframe thead th {\n",
       "        text-align: right;\n",
       "    }\n",
       "</style>\n",
       "<table border=\"1\" class=\"dataframe\">\n",
       "  <thead>\n",
       "    <tr style=\"text-align: right;\">\n",
       "      <th></th>\n",
       "      <th>age</th>\n",
       "      <th>anaemia</th>\n",
       "      <th>creatinine_phosphokinase</th>\n",
       "      <th>diabetes</th>\n",
       "      <th>ejection_fraction</th>\n",
       "      <th>high_blood_pressure</th>\n",
       "      <th>platelets</th>\n",
       "      <th>serum_creatinine</th>\n",
       "      <th>serum_sodium</th>\n",
       "      <th>sex</th>\n",
       "      <th>smoking</th>\n",
       "      <th>time</th>\n",
       "      <th>DEATH_EVENT</th>\n",
       "    </tr>\n",
       "  </thead>\n",
       "  <tbody>\n",
       "    <tr>\n",
       "      <th>0</th>\n",
       "      <td>75.0</td>\n",
       "      <td>0</td>\n",
       "      <td>582</td>\n",
       "      <td>0</td>\n",
       "      <td>20</td>\n",
       "      <td>1</td>\n",
       "      <td>265000.00</td>\n",
       "      <td>1.9</td>\n",
       "      <td>130</td>\n",
       "      <td>1</td>\n",
       "      <td>0</td>\n",
       "      <td>4</td>\n",
       "      <td>1</td>\n",
       "    </tr>\n",
       "    <tr>\n",
       "      <th>1</th>\n",
       "      <td>55.0</td>\n",
       "      <td>0</td>\n",
       "      <td>7861</td>\n",
       "      <td>0</td>\n",
       "      <td>38</td>\n",
       "      <td>0</td>\n",
       "      <td>263358.03</td>\n",
       "      <td>1.1</td>\n",
       "      <td>136</td>\n",
       "      <td>1</td>\n",
       "      <td>0</td>\n",
       "      <td>6</td>\n",
       "      <td>1</td>\n",
       "    </tr>\n",
       "    <tr>\n",
       "      <th>2</th>\n",
       "      <td>65.0</td>\n",
       "      <td>0</td>\n",
       "      <td>146</td>\n",
       "      <td>0</td>\n",
       "      <td>20</td>\n",
       "      <td>0</td>\n",
       "      <td>162000.00</td>\n",
       "      <td>1.3</td>\n",
       "      <td>129</td>\n",
       "      <td>1</td>\n",
       "      <td>1</td>\n",
       "      <td>7</td>\n",
       "      <td>1</td>\n",
       "    </tr>\n",
       "    <tr>\n",
       "      <th>3</th>\n",
       "      <td>50.0</td>\n",
       "      <td>1</td>\n",
       "      <td>111</td>\n",
       "      <td>0</td>\n",
       "      <td>20</td>\n",
       "      <td>0</td>\n",
       "      <td>210000.00</td>\n",
       "      <td>1.9</td>\n",
       "      <td>137</td>\n",
       "      <td>1</td>\n",
       "      <td>0</td>\n",
       "      <td>7</td>\n",
       "      <td>1</td>\n",
       "    </tr>\n",
       "    <tr>\n",
       "      <th>4</th>\n",
       "      <td>65.0</td>\n",
       "      <td>1</td>\n",
       "      <td>160</td>\n",
       "      <td>1</td>\n",
       "      <td>20</td>\n",
       "      <td>0</td>\n",
       "      <td>327000.00</td>\n",
       "      <td>2.7</td>\n",
       "      <td>116</td>\n",
       "      <td>0</td>\n",
       "      <td>0</td>\n",
       "      <td>8</td>\n",
       "      <td>1</td>\n",
       "    </tr>\n",
       "    <tr>\n",
       "      <th>...</th>\n",
       "      <td>...</td>\n",
       "      <td>...</td>\n",
       "      <td>...</td>\n",
       "      <td>...</td>\n",
       "      <td>...</td>\n",
       "      <td>...</td>\n",
       "      <td>...</td>\n",
       "      <td>...</td>\n",
       "      <td>...</td>\n",
       "      <td>...</td>\n",
       "      <td>...</td>\n",
       "      <td>...</td>\n",
       "      <td>...</td>\n",
       "    </tr>\n",
       "    <tr>\n",
       "      <th>294</th>\n",
       "      <td>62.0</td>\n",
       "      <td>0</td>\n",
       "      <td>61</td>\n",
       "      <td>1</td>\n",
       "      <td>38</td>\n",
       "      <td>1</td>\n",
       "      <td>155000.00</td>\n",
       "      <td>1.1</td>\n",
       "      <td>143</td>\n",
       "      <td>1</td>\n",
       "      <td>1</td>\n",
       "      <td>270</td>\n",
       "      <td>0</td>\n",
       "    </tr>\n",
       "    <tr>\n",
       "      <th>295</th>\n",
       "      <td>55.0</td>\n",
       "      <td>0</td>\n",
       "      <td>1820</td>\n",
       "      <td>0</td>\n",
       "      <td>38</td>\n",
       "      <td>0</td>\n",
       "      <td>270000.00</td>\n",
       "      <td>1.2</td>\n",
       "      <td>139</td>\n",
       "      <td>0</td>\n",
       "      <td>0</td>\n",
       "      <td>271</td>\n",
       "      <td>0</td>\n",
       "    </tr>\n",
       "    <tr>\n",
       "      <th>296</th>\n",
       "      <td>45.0</td>\n",
       "      <td>0</td>\n",
       "      <td>2060</td>\n",
       "      <td>1</td>\n",
       "      <td>60</td>\n",
       "      <td>0</td>\n",
       "      <td>742000.00</td>\n",
       "      <td>0.8</td>\n",
       "      <td>138</td>\n",
       "      <td>0</td>\n",
       "      <td>0</td>\n",
       "      <td>278</td>\n",
       "      <td>0</td>\n",
       "    </tr>\n",
       "    <tr>\n",
       "      <th>297</th>\n",
       "      <td>45.0</td>\n",
       "      <td>0</td>\n",
       "      <td>2413</td>\n",
       "      <td>0</td>\n",
       "      <td>38</td>\n",
       "      <td>0</td>\n",
       "      <td>140000.00</td>\n",
       "      <td>1.4</td>\n",
       "      <td>140</td>\n",
       "      <td>1</td>\n",
       "      <td>1</td>\n",
       "      <td>280</td>\n",
       "      <td>0</td>\n",
       "    </tr>\n",
       "    <tr>\n",
       "      <th>298</th>\n",
       "      <td>50.0</td>\n",
       "      <td>0</td>\n",
       "      <td>196</td>\n",
       "      <td>0</td>\n",
       "      <td>45</td>\n",
       "      <td>0</td>\n",
       "      <td>395000.00</td>\n",
       "      <td>1.6</td>\n",
       "      <td>136</td>\n",
       "      <td>1</td>\n",
       "      <td>1</td>\n",
       "      <td>285</td>\n",
       "      <td>0</td>\n",
       "    </tr>\n",
       "  </tbody>\n",
       "</table>\n",
       "<p>297 rows × 13 columns</p>\n",
       "</div>"
      ],
      "text/plain": [
       "      age  anaemia  creatinine_phosphokinase  diabetes  ejection_fraction  \\\n",
       "0    75.0        0                       582         0                 20   \n",
       "1    55.0        0                      7861         0                 38   \n",
       "2    65.0        0                       146         0                 20   \n",
       "3    50.0        1                       111         0                 20   \n",
       "4    65.0        1                       160         1                 20   \n",
       "..    ...      ...                       ...       ...                ...   \n",
       "294  62.0        0                        61         1                 38   \n",
       "295  55.0        0                      1820         0                 38   \n",
       "296  45.0        0                      2060         1                 60   \n",
       "297  45.0        0                      2413         0                 38   \n",
       "298  50.0        0                       196         0                 45   \n",
       "\n",
       "     high_blood_pressure  platelets  serum_creatinine  serum_sodium  sex  \\\n",
       "0                      1  265000.00               1.9           130    1   \n",
       "1                      0  263358.03               1.1           136    1   \n",
       "2                      0  162000.00               1.3           129    1   \n",
       "3                      0  210000.00               1.9           137    1   \n",
       "4                      0  327000.00               2.7           116    0   \n",
       "..                   ...        ...               ...           ...  ...   \n",
       "294                    1  155000.00               1.1           143    1   \n",
       "295                    0  270000.00               1.2           139    0   \n",
       "296                    0  742000.00               0.8           138    0   \n",
       "297                    0  140000.00               1.4           140    1   \n",
       "298                    0  395000.00               1.6           136    1   \n",
       "\n",
       "     smoking  time  DEATH_EVENT  \n",
       "0          0     4            1  \n",
       "1          0     6            1  \n",
       "2          1     7            1  \n",
       "3          0     7            1  \n",
       "4          0     8            1  \n",
       "..       ...   ...          ...  \n",
       "294        1   270            0  \n",
       "295        0   271            0  \n",
       "296        0   278            0  \n",
       "297        1   280            0  \n",
       "298        1   285            0  \n",
       "\n",
       "[297 rows x 13 columns]"
      ]
     },
     "execution_count": 13,
     "metadata": {},
     "output_type": "execute_result"
    }
   ],
   "source": [
    "dataset = dataset[dataset['ejection_fraction']<70]\n",
    "dataset"
   ]
  },
  {
   "cell_type": "code",
   "execution_count": 16,
   "id": "a64700b4",
   "metadata": {},
   "outputs": [
    {
     "data": {
      "image/png": "[encoded data removed]",
      "text/plain": [
       "<Figure size 1500x600 with 1 Axes>"
      ]
     },
     "metadata": {},
     "output_type": "display_data"
    }
   ],
   "source": [
    "# boxplot for time\n",
    "\n",
    "sns.boxplot(x=dataset.time, color='grey')\n",
    "plt.show()\n",
    "\n",
    "# no outliers found"
   ]
  },
  {
   "cell_type": "code",
   "execution_count": 17,
   "id": "1bbc3183",
   "metadata": {},
   "outputs": [
    {
     "data": {
      "image/png": "[encoded data removed]",
      "text/plain": [
       "<Figure size 1500x600 with 1 Axes>"
      ]
     },
     "metadata": {},
     "output_type": "display_data"
    }
   ],
   "source": [
    "# boxplot for serum_creatinine\n",
    "\n",
    "sns.boxplot(x=dataset.serum_creatinine, color='grey')\n",
    "plt.show()"
   ]
  },
  {
   "cell_type": "markdown",
   "id": "9970f2e7",
   "metadata": {},
   "source": [
    "It may appear that there are many outliers in `serum_creatinine`. However, we should apply domain knowledge so that we can sufficiently understand the possible ranges for each feature and know which to remove. Accuracy may not necessarily increase if we simply remove values that appear to be outliers without good reason. \n",
    "\n",
    "With domain knowledge, we find that the above values in `serum_creatinine` fall within the possible range of values, and are thus not outliers."
   ]
  },
  {
   "cell_type": "markdown",
   "id": "66fc98af",
   "metadata": {},
   "source": [
    "## 4. Exploratory Data Analysis"
   ]
  },
  {
   "cell_type": "code",
   "execution_count": 23,
   "id": "1e2cc151",
   "metadata": {},
   "outputs": [
    {
     "data": {
      "application/vnd.plotly.v1+json": {
       "config": {
        "plotlyServerURL": "https://plot.ly"
       },
       "data": [
        {
         "marker": {
          "color": "#66b2b2"
         },
         "opacity": 1,
         "type": "histogram",
         "x": [
          75,
          55,
          65,
          50,
          65,
          90,
          75,
          60,
          65,
          80,
          75,
          62,
          45,
          50,
          49,
          82,
          87,
          45,
          70,
          48,
          65,
          65,
          68,
          53,
          75,
          80,
          95,
          70,
          58,
          82,
          94,
          85,
          50,
          50,
          65,
          69,
          90,
          82,
          60,
          60,
          70,
          50,
          70,
          72,
          60,
          50,
          51,
          60,
          80,
          57,
          68,
          53,
          60,
          70,
          60,
          95,
          70,
          60,
          49,
          72,
          45,
          50,
          55,
          45,
          60,
          42,
          72,
          70,
          65,
          41,
          58,
          85,
          65,
          69,
          60,
          70,
          42,
          75,
          55,
          70,
          67,
          60,
          79,
          59,
          51,
          55,
          65,
          44,
          57,
          70,
          60,
          42,
          60,
          58,
          58,
          63,
          70,
          60,
          63,
          65,
          75,
          80,
          42,
          60,
          72,
          55,
          45,
          63,
          45,
          85,
          55,
          50,
          70,
          60,
          58,
          60,
          85,
          65,
          86,
          60,
          66,
          60,
          60,
          60,
          43,
          46,
          58,
          61,
          53,
          53,
          60,
          46,
          63,
          81,
          75,
          65,
          68,
          62,
          50,
          80,
          46,
          50,
          61,
          72,
          50,
          52,
          64,
          75,
          60,
          72,
          62,
          50,
          50,
          65,
          60,
          52,
          50,
          85,
          59,
          66,
          45,
          63,
          50,
          45,
          80,
          53,
          59,
          65,
          70,
          51,
          52,
          70,
          50,
          65,
          60,
          69,
          49,
          63,
          55,
          40,
          59,
          65,
          75,
          58,
          60.667,
          50,
          60,
          60.667,
          40,
          80,
          64,
          50,
          73,
          45,
          77,
          45,
          65,
          50,
          60,
          63,
          45,
          70,
          60,
          78,
          50,
          40,
          85,
          60,
          49,
          70,
          50,
          78,
          48,
          65,
          73,
          70,
          68,
          55,
          73,
          65,
          42,
          47,
          58,
          75,
          58,
          55,
          65,
          72,
          60,
          70,
          40,
          53,
          53,
          77,
          75,
          70,
          65,
          55,
          70,
          65,
          40,
          73,
          54,
          61,
          55,
          64,
          40,
          53,
          50,
          55,
          50,
          70,
          53,
          52,
          65,
          58,
          45,
          53,
          55,
          62,
          65,
          68,
          61,
          50,
          55,
          56,
          45,
          40,
          44,
          51,
          67,
          42,
          60,
          45,
          70,
          70,
          50,
          55,
          70,
          70,
          42,
          65,
          50,
          55,
          60,
          45,
          65,
          90,
          45,
          60,
          52,
          63,
          62,
          55,
          45,
          45,
          50
         ],
         "xbins": {
          "end": 95,
          "size": 2,
          "start": 40
         }
        }
       ],
       "layout": {
        "bargap": 0.05,
        "template": {
         "data": {
          "bar": [
           {
            "error_x": {
             "color": "#f2f5fa"
            },
            "error_y": {
             "color": "#f2f5fa"
            },
            "marker": {
             "line": {
              "color": "rgb(17,17,17)",
              "width": 0.5
             },
             "pattern": {
              "fillmode": "overlay",
              "size": 10,
              "solidity": 0.2
             }
            },
            "type": "bar"
           }
          ],
          "barpolar": [
           {
            "marker": {
             "line": {
              "color": "rgb(17,17,17)",
              "width": 0.5
             },
             "pattern": {
              "fillmode": "overlay",
              "size": 10,
              "solidity": 0.2
             }
            },
            "type": "barpolar"
           }
          ],
          "carpet": [
           {
            "aaxis": {
             "endlinecolor": "#A2B1C6",
             "gridcolor": "#506784",
             "linecolor": "#506784",
             "minorgridcolor": "#506784",
             "startlinecolor": "#A2B1C6"
            },
            "baxis": {
             "endlinecolor": "#A2B1C6",
             "gridcolor": "#506784",
             "linecolor": "#506784",
             "minorgridcolor": "#506784",
             "startlinecolor": "#A2B1C6"
            },
            "type": "carpet"
           }
          ],
          "choropleth": [
           {
            "colorbar": {
             "outlinewidth": 0,
             "ticks": ""
            },
            "type": "choropleth"
           }
          ],
          "contour": [
           {
            "colorbar": {
             "outlinewidth": 0,
             "ticks": ""
            },
            "colorscale": [
             [
              0,
              "#0d0887"
             ],
             [
              0.1111111111111111,
              "#46039f"
             ],
             [
              0.2222222222222222,
              "#7201a8"
             ],
             [
              0.3333333333333333,
              "#9c179e"
             ],
             [
              0.4444444444444444,
              "#bd3786"
             ],
             [
              0.5555555555555556,
              "#d8576b"
             ],
             [
              0.6666666666666666,
              "#ed7953"
             ],
             [
              0.7777777777777778,
              "#fb9f3a"
             ],
             [
              0.8888888888888888,
              "#fdca26"
             ],
             [
              1,
              "#f0f921"
             ]
            ],
            "type": "contour"
           }
          ],
          "contourcarpet": [
           {
            "colorbar": {
             "outlinewidth": 0,
             "ticks": ""
            },
            "type": "contourcarpet"
           }
          ],
          "heatmap": [
           {
            "colorbar": {
             "outlinewidth": 0,
             "ticks": ""
            },
            "colorscale": [
             [
              0,
              "#0d0887"
             ],
             [
              0.1111111111111111,
              "#46039f"
             ],
             [
              0.2222222222222222,
              "#7201a8"
             ],
             [
              0.3333333333333333,
              "#9c179e"
             ],
             [
              0.4444444444444444,
              "#bd3786"
             ],
             [
              0.5555555555555556,
              "#d8576b"
             ],
             [
              0.6666666666666666,
              "#ed7953"
             ],
             [
              0.7777777777777778,
              "#fb9f3a"
             ],
             [
              0.8888888888888888,
              "#fdca26"
             ],
             [
              1,
              "#f0f921"
             ]
            ],
            "type": "heatmap"
           }
          ],
          "heatmapgl": [
           {
            "colorbar": {
             "outlinewidth": 0,
             "ticks": ""
            },
            "colorscale": [
             [
              0,
              "#0d0887"
             ],
             [
              0.1111111111111111,
              "#46039f"
             ],
             [
              0.2222222222222222,
              "#7201a8"
             ],
             [
              0.3333333333333333,
              "#9c179e"
             ],
             [
              0.4444444444444444,
              "#bd3786"
             ],
             [
              0.5555555555555556,
              "#d8576b"
             ],
             [
              0.6666666666666666,
              "#ed7953"
             ],
             [
              0.7777777777777778,
              "#fb9f3a"
             ],
             [
              0.8888888888888888,
              "#fdca26"
             ],
             [
              1,
              "#f0f921"
             ]
            ],
            "type": "heatmapgl"
           }
          ],
          "histogram": [
           {
            "marker": {
             "pattern": {
              "fillmode": "overlay",
              "size": 10,
              "solidity": 0.2
             }
            },
            "type": "histogram"
           }
          ],
          "histogram2d": [
           {
            "colorbar": {
             "outlinewidth": 0,
             "ticks": ""
            },
            "colorscale": [
             [
              0,
              "#0d0887"
             ],
             [
              0.1111111111111111,
              "#46039f"
             ],
             [
              0.2222222222222222,
              "#7201a8"
             ],
             [
              0.3333333333333333,
              "#9c179e"
             ],
             [
              0.4444444444444444,
              "#bd3786"
             ],
             [
              0.5555555555555556,
              "#d8576b"
             ],
             [
              0.6666666666666666,
              "#ed7953"
             ],
             [
              0.7777777777777778,
              "#fb9f3a"
             ],
             [
              0.8888888888888888,
              "#fdca26"
             ],
             [
              1,
              "#f0f921"
             ]
            ],
            "type": "histogram2d"
           }
          ],
          "histogram2dcontour": [
           {
            "colorbar": {
             "outlinewidth": 0,
             "ticks": ""
            },
            "colorscale": [
             [
              0,
              "#0d0887"
             ],
             [
              0.1111111111111111,
              "#46039f"
             ],
             [
              0.2222222222222222,
              "#7201a8"
             ],
             [
              0.3333333333333333,
              "#9c179e"
             ],
             [
              0.4444444444444444,
              "#bd3786"
             ],
             [
              0.5555555555555556,
              "#d8576b"
             ],
             [
              0.6666666666666666,
              "#ed7953"
             ],
             [
              0.7777777777777778,
              "#fb9f3a"
             ],
             [
              0.8888888888888888,
              "#fdca26"
             ],
             [
              1,
              "#f0f921"
             ]
            ],
            "type": "histogram2dcontour"
           }
          ],
          "mesh3d": [
           {
            "colorbar": {
             "outlinewidth": 0,
             "ticks": ""
            },
            "type": "mesh3d"
           }
          ],
          "parcoords": [
           {
            "line": {
             "colorbar": {
              "outlinewidth": 0,
              "ticks": ""
             }
            },
            "type": "parcoords"
           }
          ],
          "pie": [
           {
            "automargin": true,
            "type": "pie"
           }
          ],
          "scatter": [
           {
            "marker": {
             "line": {
              "color": "#283442"
             }
            },
            "type": "scatter"
           }
          ],
          "scatter3d": [
           {
            "line": {
             "colorbar": {
              "outlinewidth": 0,
              "ticks": ""
             }
            },
            "marker": {
             "colorbar": {
              "outlinewidth": 0,
              "ticks": ""
             }
            },
            "type": "scatter3d"
           }
          ],
          "scattercarpet": [
           {
            "marker": {
             "colorbar": {
              "outlinewidth": 0,
              "ticks": ""
             }
            },
            "type": "scattercarpet"
           }
          ],
          "scattergeo": [
           {
            "marker": {
             "colorbar": {
              "outlinewidth": 0,
              "ticks": ""
             }
            },
            "type": "scattergeo"
           }
          ],
          "scattergl": [
           {
            "marker": {
             "line": {
              "color": "#283442"
             }
            },
            "type": "scattergl"
           }
          ],
          "scattermapbox": [
           {
            "marker": {
             "colorbar": {
              "outlinewidth": 0,
              "ticks": ""
             }
            },
            "type": "scattermapbox"
           }
          ],
          "scatterpolar": [
           {
            "marker": {
             "colorbar": {
              "outlinewidth": 0,
              "ticks": ""
             }
            },
            "type": "scatterpolar"
           }
          ],
          "scatterpolargl": [
           {
            "marker": {
             "colorbar": {
              "outlinewidth": 0,
              "ticks": ""
             }
            },
            "type": "scatterpolargl"
           }
          ],
          "scatterternary": [
           {
            "marker": {
             "colorbar": {
              "outlinewidth": 0,
              "ticks": ""
             }
            },
            "type": "scatterternary"
           }
          ],
          "surface": [
           {
            "colorbar": {
             "outlinewidth": 0,
             "ticks": ""
            },
            "colorscale": [
             [
              0,
              "#0d0887"
             ],
             [
              0.1111111111111111,
              "#46039f"
             ],
             [
              0.2222222222222222,
              "#7201a8"
             ],
             [
              0.3333333333333333,
              "#9c179e"
             ],
             [
              0.4444444444444444,
              "#bd3786"
             ],
             [
              0.5555555555555556,
              "#d8576b"
             ],
             [
              0.6666666666666666,
              "#ed7953"
             ],
             [
              0.7777777777777778,
              "#fb9f3a"
             ],
             [
              0.8888888888888888,
              "#fdca26"
             ],
             [
              1,
              "#f0f921"
             ]
            ],
            "type": "surface"
           }
          ],
          "table": [
           {
            "cells": {
             "fill": {
              "color": "#506784"
             },
             "line": {
              "color": "rgb(17,17,17)"
             }
            },
            "header": {
             "fill": {
              "color": "#2a3f5f"
             },
             "line": {
              "color": "rgb(17,17,17)"
             }
            },
            "type": "table"
           }
          ]
         },
         "layout": {
          "annotationdefaults": {
           "arrowcolor": "#f2f5fa",
           "arrowhead": 0,
           "arrowwidth": 1
          },
          "autotypenumbers": "strict",
          "coloraxis": {
           "colorbar": {
            "outlinewidth": 0,
            "ticks": ""
           }
          },
          "colorscale": {
           "diverging": [
            [
             0,
             "#8e0152"
            ],
            [
             0.1,
             "#c51b7d"
            ],
            [
             0.2,
             "#de77ae"
            ],
            [
             0.3,
             "#f1b6da"
            ],
            [
             0.4,
             "#fde0ef"
            ],
            [
             0.5,
             "#f7f7f7"
            ],
            [
             0.6,
             "#e6f5d0"
            ],
            [
             0.7,
             "#b8e186"
            ],
            [
             0.8,
             "#7fbc41"
            ],
            [
             0.9,
             "#4d9221"
            ],
            [
             1,
             "#276419"
            ]
           ],
           "sequential": [
            [
             0,
             "#0d0887"
            ],
            [
             0.1111111111111111,
             "#46039f"
            ],
            [
             0.2222222222222222,
             "#7201a8"
            ],
            [
             0.3333333333333333,
             "#9c179e"
            ],
            [
             0.4444444444444444,
             "#bd3786"
            ],
            [
             0.5555555555555556,
             "#d8576b"
            ],
            [
             0.6666666666666666,
             "#ed7953"
            ],
            [
             0.7777777777777778,
             "#fb9f3a"
            ],
            [
             0.8888888888888888,
             "#fdca26"
            ],
            [
             1,
             "#f0f921"
            ]
           ],
           "sequentialminus": [
            [
             0,
             "#0d0887"
            ],
            [
             0.1111111111111111,
             "#46039f"
            ],
            [
             0.2222222222222222,
             "#7201a8"
            ],
            [
             0.3333333333333333,
             "#9c179e"
            ],
            [
             0.4444444444444444,
             "#bd3786"
            ],
            [
             0.5555555555555556,
             "#d8576b"
            ],
            [
             0.6666666666666666,
             "#ed7953"
            ],
            [
             0.7777777777777778,
             "#fb9f3a"
            ],
            [
             0.8888888888888888,
             "#fdca26"
            ],
            [
             1,
             "#f0f921"
            ]
           ]
          },
          "colorway": [
           "#636efa",
           "#EF553B",
           "#00cc96",
           "#ab63fa",
           "#FFA15A",
           "#19d3f3",
           "#FF6692",
           "#B6E880",
           "#FF97FF",
           "#FECB52"
          ],
          "font": {
           "color": "#f2f5fa"
          },
          "geo": {
           "bgcolor": "rgb(17,17,17)",
           "lakecolor": "rgb(17,17,17)",
           "landcolor": "rgb(17,17,17)",
           "showlakes": true,
           "showland": true,
           "subunitcolor": "#506784"
          },
          "hoverlabel": {
           "align": "left"
          },
          "hovermode": "closest",
          "mapbox": {
           "style": "dark"
          },
          "paper_bgcolor": "rgb(17,17,17)",
          "plot_bgcolor": "rgb(17,17,17)",
          "polar": {
           "angularaxis": {
            "gridcolor": "#506784",
            "linecolor": "#506784",
            "ticks": ""
           },
           "bgcolor": "rgb(17,17,17)",
           "radialaxis": {
            "gridcolor": "#506784",
            "linecolor": "#506784",
            "ticks": ""
           }
          },
          "scene": {
           "xaxis": {
            "backgroundcolor": "rgb(17,17,17)",
            "gridcolor": "#506784",
            "gridwidth": 2,
            "linecolor": "#506784",
            "showbackground": true,
            "ticks": "",
            "zerolinecolor": "#C8D4E3"
           },
           "yaxis": {
            "backgroundcolor": "rgb(17,17,17)",
            "gridcolor": "#506784",
            "gridwidth": 2,
            "linecolor": "#506784",
            "showbackground": true,
            "ticks": "",
            "zerolinecolor": "#C8D4E3"
           },
           "zaxis": {
            "backgroundcolor": "rgb(17,17,17)",
            "gridcolor": "#506784",
            "gridwidth": 2,
            "linecolor": "#506784",
            "showbackground": true,
            "ticks": "",
            "zerolinecolor": "#C8D4E3"
           }
          },
          "shapedefaults": {
           "line": {
            "color": "#f2f5fa"
           }
          },
          "sliderdefaults": {
           "bgcolor": "#C8D4E3",
           "bordercolor": "rgb(17,17,17)",
           "borderwidth": 1,
           "tickwidth": 0
          },
          "ternary": {
           "aaxis": {
            "gridcolor": "#506784",
            "linecolor": "#506784",
            "ticks": ""
           },
           "baxis": {
            "gridcolor": "#506784",
            "linecolor": "#506784",
            "ticks": ""
           },
           "bgcolor": "rgb(17,17,17)",
           "caxis": {
            "gridcolor": "#506784",
            "linecolor": "#506784",
            "ticks": ""
           }
          },
          "title": {
           "x": 0.05
          },
          "updatemenudefaults": {
           "bgcolor": "#506784",
           "borderwidth": 0
          },
          "xaxis": {
           "automargin": true,
           "gridcolor": "#283442",
           "linecolor": "#506784",
           "ticks": "",
           "title": {
            "standoff": 15
           },
           "zerolinecolor": "#283442",
           "zerolinewidth": 2
          },
          "yaxis": {
           "automargin": true,
           "gridcolor": "#283442",
           "linecolor": "#506784",
           "ticks": "",
           "title": {
            "standoff": 15
           },
           "zerolinecolor": "#283442",
           "zerolinewidth": 2
          }
         }
        },
        "title": {
         "text": "Age Distribution"
        },
        "xaxis": {
         "showgrid": false,
         "title": {
          "text": "Age"
         }
        },
        "yaxis": {
         "showgrid": false,
         "title": {
          "text": "Count"
         }
        }
       }
      },
      "text/html": [
       "<div>                            <div id=\"c65e2d0a-5948-4011-88b3-e15d411b9050\" class=\"plotly-graph-div\" style=\"height:525px; width:100%;\"></div>            <script type=\"text/javascript\">                require([\"plotly\"], function(Plotly) {                    window.PLOTLYENV=window.PLOTLYENV || {};                                    if (document.getElementById(\"c65e2d0a-5948-4011-88b3-e15d411b9050\")) {                    Plotly.newPlot(                        \"c65e2d0a-5948-4011-88b3-e15d411b9050\",                        [{\"marker\":{\"color\":\"#66b2b2\"},\"opacity\":1,\"x\":[75.0,55.0,65.0,50.0,65.0,90.0,75.0,60.0,65.0,80.0,75.0,62.0,45.0,50.0,49.0,82.0,87.0,45.0,70.0,48.0,65.0,65.0,68.0,53.0,75.0,80.0,95.0,70.0,58.0,82.0,94.0,85.0,50.0,50.0,65.0,69.0,90.0,82.0,60.0,60.0,70.0,50.0,70.0,72.0,60.0,50.0,51.0,60.0,80.0,57.0,68.0,53.0,60.0,70.0,60.0,95.0,70.0,60.0,49.0,72.0,45.0,50.0,55.0,45.0,60.0,42.0,72.0,70.0,65.0,41.0,58.0,85.0,65.0,69.0,60.0,70.0,42.0,75.0,55.0,70.0,67.0,60.0,79.0,59.0,51.0,55.0,65.0,44.0,57.0,70.0,60.0,42.0,60.0,58.0,58.0,63.0,70.0,60.0,63.0,65.0,75.0,80.0,42.0,60.0,72.0,55.0,45.0,63.0,45.0,85.0,55.0,50.0,70.0,60.0,58.0,60.0,85.0,65.0,86.0,60.0,66.0,60.0,60.0,60.0,43.0,46.0,58.0,61.0,53.0,53.0,60.0,46.0,63.0,81.0,75.0,65.0,68.0,62.0,50.0,80.0,46.0,50.0,61.0,72.0,50.0,52.0,64.0,75.0,60.0,72.0,62.0,50.0,50.0,65.0,60.0,52.0,50.0,85.0,59.0,66.0,45.0,63.0,50.0,45.0,80.0,53.0,59.0,65.0,70.0,51.0,52.0,70.0,50.0,65.0,60.0,69.0,49.0,63.0,55.0,40.0,59.0,65.0,75.0,58.0,60.667,50.0,60.0,60.667,40.0,80.0,64.0,50.0,73.0,45.0,77.0,45.0,65.0,50.0,60.0,63.0,45.0,70.0,60.0,78.0,50.0,40.0,85.0,60.0,49.0,70.0,50.0,78.0,48.0,65.0,73.0,70.0,68.0,55.0,73.0,65.0,42.0,47.0,58.0,75.0,58.0,55.0,65.0,72.0,60.0,70.0,40.0,53.0,53.0,77.0,75.0,70.0,65.0,55.0,70.0,65.0,40.0,73.0,54.0,61.0,55.0,64.0,40.0,53.0,50.0,55.0,50.0,70.0,53.0,52.0,65.0,58.0,45.0,53.0,55.0,62.0,65.0,68.0,61.0,50.0,55.0,56.0,45.0,40.0,44.0,51.0,67.0,42.0,60.0,45.0,70.0,70.0,50.0,55.0,70.0,70.0,42.0,65.0,50.0,55.0,60.0,45.0,65.0,90.0,45.0,60.0,52.0,63.0,62.0,55.0,45.0,45.0,50.0],\"xbins\":{\"end\":95,\"size\":2,\"start\":40},\"type\":\"histogram\"}],                        {\"template\":{\"data\":{\"barpolar\":[{\"marker\":{\"line\":{\"color\":\"rgb(17,17,17)\",\"width\":0.5},\"pattern\":{\"fillmode\":\"overlay\",\"size\":10,\"solidity\":0.2}},\"type\":\"barpolar\"}],\"bar\":[{\"error_x\":{\"color\":\"#f2f5fa\"},\"error_y\":{\"color\":\"#f2f5fa\"},\"marker\":{\"line\":{\"color\":\"rgb(17,17,17)\",\"width\":0.5},\"pattern\":{\"fillmode\":\"overlay\",\"size\":10,\"solidity\":0.2}},\"type\":\"bar\"}],\"carpet\":[{\"aaxis\":{\"endlinecolor\":\"#A2B1C6\",\"gridcolor\":\"#506784\",\"linecolor\":\"#506784\",\"minorgridcolor\":\"#506784\",\"startlinecolor\":\"#A2B1C6\"},\"baxis\":{\"endlinecolor\":\"#A2B1C6\",\"gridcolor\":\"#506784\",\"linecolor\":\"#506784\",\"minorgridcolor\":\"#506784\",\"startlinecolor\":\"#A2B1C6\"},\"type\":\"carpet\"}],\"choropleth\":[{\"colorbar\":{\"outlinewidth\":0,\"ticks\":\"\"},\"type\":\"choropleth\"}],\"contourcarpet\":[{\"colorbar\":{\"outlinewidth\":0,\"ticks\":\"\"},\"type\":\"contourcarpet\"}],\"contour\":[{\"colorbar\":{\"outlinewidth\":0,\"ticks\":\"\"},\"colorscale\":[[0.0,\"#0d0887\"],[0.1111111111111111,\"#46039f\"],[0.2222222222222222,\"#7201a8\"],[0.3333333333333333,\"#9c179e\"],[0.4444444444444444,\"#bd3786\"],[0.5555555555555556,\"#d8576b\"],[0.6666666666666666,\"#ed7953\"],[0.7777777777777778,\"#fb9f3a\"],[0.8888888888888888,\"#fdca26\"],[1.0,\"#f0f921\"]],\"type\":\"contour\"}],\"heatmapgl\":[{\"colorbar\":{\"outlinewidth\":0,\"ticks\":\"\"},\"colorscale\":[[0.0,\"#0d0887\"],[0.1111111111111111,\"#46039f\"],[0.2222222222222222,\"#7201a8\"],[0.3333333333333333,\"#9c179e\"],[0.4444444444444444,\"#bd3786\"],[0.5555555555555556,\"#d8576b\"],[0.6666666666666666,\"#ed7953\"],[0.7777777777777778,\"#fb9f3a\"],[0.8888888888888888,\"#fdca26\"],[1.0,\"#f0f921\"]],\"type\":\"heatmapgl\"}],\"heatmap\":[{\"colorbar\":{\"outlinewidth\":0,\"ticks\":\"\"},\"colorscale\":[[0.0,\"#0d0887\"],[0.1111111111111111,\"#46039f\"],[0.2222222222222222,\"#7201a8\"],[0.3333333333333333,\"#9c179e\"],[0.4444444444444444,\"#bd3786\"],[0.5555555555555556,\"#d8576b\"],[0.6666666666666666,\"#ed7953\"],[0.7777777777777778,\"#fb9f3a\"],[0.8888888888888888,\"#fdca26\"],[1.0,\"#f0f921\"]],\"type\":\"heatmap\"}],\"histogram2dcontour\":[{\"colorbar\":{\"outlinewidth\":0,\"ticks\":\"\"},\"colorscale\":[[0.0,\"#0d0887\"],[0.1111111111111111,\"#46039f\"],[0.2222222222222222,\"#7201a8\"],[0.3333333333333333,\"#9c179e\"],[0.4444444444444444,\"#bd3786\"],[0.5555555555555556,\"#d8576b\"],[0.6666666666666666,\"#ed7953\"],[0.7777777777777778,\"#fb9f3a\"],[0.8888888888888888,\"#fdca26\"],[1.0,\"#f0f921\"]],\"type\":\"histogram2dcontour\"}],\"histogram2d\":[{\"colorbar\":{\"outlinewidth\":0,\"ticks\":\"\"},\"colorscale\":[[0.0,\"#0d0887\"],[0.1111111111111111,\"#46039f\"],[0.2222222222222222,\"#7201a8\"],[0.3333333333333333,\"#9c179e\"],[0.4444444444444444,\"#bd3786\"],[0.5555555555555556,\"#d8576b\"],[0.6666666666666666,\"#ed7953\"],[0.7777777777777778,\"#fb9f3a\"],[0.8888888888888888,\"#fdca26\"],[1.0,\"#f0f921\"]],\"type\":\"histogram2d\"}],\"histogram\":[{\"marker\":{\"pattern\":{\"fillmode\":\"overlay\",\"size\":10,\"solidity\":0.2}},\"type\":\"histogram\"}],\"mesh3d\":[{\"colorbar\":{\"outlinewidth\":0,\"ticks\":\"\"},\"type\":\"mesh3d\"}],\"parcoords\":[{\"line\":{\"colorbar\":{\"outlinewidth\":0,\"ticks\":\"\"}},\"type\":\"parcoords\"}],\"pie\":[{\"automargin\":true,\"type\":\"pie\"}],\"scatter3d\":[{\"line\":{\"colorbar\":{\"outlinewidth\":0,\"ticks\":\"\"}},\"marker\":{\"colorbar\":{\"outlinewidth\":0,\"ticks\":\"\"}},\"type\":\"scatter3d\"}],\"scattercarpet\":[{\"marker\":{\"colorbar\":{\"outlinewidth\":0,\"ticks\":\"\"}},\"type\":\"scattercarpet\"}],\"scattergeo\":[{\"marker\":{\"colorbar\":{\"outlinewidth\":0,\"ticks\":\"\"}},\"type\":\"scattergeo\"}],\"scattergl\":[{\"marker\":{\"line\":{\"color\":\"#283442\"}},\"type\":\"scattergl\"}],\"scattermapbox\":[{\"marker\":{\"colorbar\":{\"outlinewidth\":0,\"ticks\":\"\"}},\"type\":\"scattermapbox\"}],\"scatterpolargl\":[{\"marker\":{\"colorbar\":{\"outlinewidth\":0,\"ticks\":\"\"}},\"type\":\"scatterpolargl\"}],\"scatterpolar\":[{\"marker\":{\"colorbar\":{\"outlinewidth\":0,\"ticks\":\"\"}},\"type\":\"scatterpolar\"}],\"scatter\":[{\"marker\":{\"line\":{\"color\":\"#283442\"}},\"type\":\"scatter\"}],\"scatterternary\":[{\"marker\":{\"colorbar\":{\"outlinewidth\":0,\"ticks\":\"\"}},\"type\":\"scatterternary\"}],\"surface\":[{\"colorbar\":{\"outlinewidth\":0,\"ticks\":\"\"},\"colorscale\":[[0.0,\"#0d0887\"],[0.1111111111111111,\"#46039f\"],[0.2222222222222222,\"#7201a8\"],[0.3333333333333333,\"#9c179e\"],[0.4444444444444444,\"#bd3786\"],[0.5555555555555556,\"#d8576b\"],[0.6666666666666666,\"#ed7953\"],[0.7777777777777778,\"#fb9f3a\"],[0.8888888888888888,\"#fdca26\"],[1.0,\"#f0f921\"]],\"type\":\"surface\"}],\"table\":[{\"cells\":{\"fill\":{\"color\":\"#506784\"},\"line\":{\"color\":\"rgb(17,17,17)\"}},\"header\":{\"fill\":{\"color\":\"#2a3f5f\"},\"line\":{\"color\":\"rgb(17,17,17)\"}},\"type\":\"table\"}]},\"layout\":{\"annotationdefaults\":{\"arrowcolor\":\"#f2f5fa\",\"arrowhead\":0,\"arrowwidth\":1},\"autotypenumbers\":\"strict\",\"coloraxis\":{\"colorbar\":{\"outlinewidth\":0,\"ticks\":\"\"}},\"colorscale\":{\"diverging\":[[0,\"#8e0152\"],[0.1,\"#c51b7d\"],[0.2,\"#de77ae\"],[0.3,\"#f1b6da\"],[0.4,\"#fde0ef\"],[0.5,\"#f7f7f7\"],[0.6,\"#e6f5d0\"],[0.7,\"#b8e186\"],[0.8,\"#7fbc41\"],[0.9,\"#4d9221\"],[1,\"#276419\"]],\"sequential\":[[0.0,\"#0d0887\"],[0.1111111111111111,\"#46039f\"],[0.2222222222222222,\"#7201a8\"],[0.3333333333333333,\"#9c179e\"],[0.4444444444444444,\"#bd3786\"],[0.5555555555555556,\"#d8576b\"],[0.6666666666666666,\"#ed7953\"],[0.7777777777777778,\"#fb9f3a\"],[0.8888888888888888,\"#fdca26\"],[1.0,\"#f0f921\"]],\"sequentialminus\":[[0.0,\"#0d0887\"],[0.1111111111111111,\"#46039f\"],[0.2222222222222222,\"#7201a8\"],[0.3333333333333333,\"#9c179e\"],[0.4444444444444444,\"#bd3786\"],[0.5555555555555556,\"#d8576b\"],[0.6666666666666666,\"#ed7953\"],[0.7777777777777778,\"#fb9f3a\"],[0.8888888888888888,\"#fdca26\"],[1.0,\"#f0f921\"]]},\"colorway\":[\"#636efa\",\"#EF553B\",\"#00cc96\",\"#ab63fa\",\"#FFA15A\",\"#19d3f3\",\"#FF6692\",\"#B6E880\",\"#FF97FF\",\"#FECB52\"],\"font\":{\"color\":\"#f2f5fa\"},\"geo\":{\"bgcolor\":\"rgb(17,17,17)\",\"lakecolor\":\"rgb(17,17,17)\",\"landcolor\":\"rgb(17,17,17)\",\"showlakes\":true,\"showland\":true,\"subunitcolor\":\"#506784\"},\"hoverlabel\":{\"align\":\"left\"},\"hovermode\":\"closest\",\"mapbox\":{\"style\":\"dark\"},\"paper_bgcolor\":\"rgb(17,17,17)\",\"plot_bgcolor\":\"rgb(17,17,17)\",\"polar\":{\"angularaxis\":{\"gridcolor\":\"#506784\",\"linecolor\":\"#506784\",\"ticks\":\"\"},\"bgcolor\":\"rgb(17,17,17)\",\"radialaxis\":{\"gridcolor\":\"#506784\",\"linecolor\":\"#506784\",\"ticks\":\"\"}},\"scene\":{\"xaxis\":{\"backgroundcolor\":\"rgb(17,17,17)\",\"gridcolor\":\"#506784\",\"gridwidth\":2,\"linecolor\":\"#506784\",\"showbackground\":true,\"ticks\":\"\",\"zerolinecolor\":\"#C8D4E3\"},\"yaxis\":{\"backgroundcolor\":\"rgb(17,17,17)\",\"gridcolor\":\"#506784\",\"gridwidth\":2,\"linecolor\":\"#506784\",\"showbackground\":true,\"ticks\":\"\",\"zerolinecolor\":\"#C8D4E3\"},\"zaxis\":{\"backgroundcolor\":\"rgb(17,17,17)\",\"gridcolor\":\"#506784\",\"gridwidth\":2,\"linecolor\":\"#506784\",\"showbackground\":true,\"ticks\":\"\",\"zerolinecolor\":\"#C8D4E3\"}},\"shapedefaults\":{\"line\":{\"color\":\"#f2f5fa\"}},\"sliderdefaults\":{\"bgcolor\":\"#C8D4E3\",\"bordercolor\":\"rgb(17,17,17)\",\"borderwidth\":1,\"tickwidth\":0},\"ternary\":{\"aaxis\":{\"gridcolor\":\"#506784\",\"linecolor\":\"#506784\",\"ticks\":\"\"},\"baxis\":{\"gridcolor\":\"#506784\",\"linecolor\":\"#506784\",\"ticks\":\"\"},\"bgcolor\":\"rgb(17,17,17)\",\"caxis\":{\"gridcolor\":\"#506784\",\"linecolor\":\"#506784\",\"ticks\":\"\"}},\"title\":{\"x\":0.05},\"updatemenudefaults\":{\"bgcolor\":\"#506784\",\"borderwidth\":0},\"xaxis\":{\"automargin\":true,\"gridcolor\":\"#283442\",\"linecolor\":\"#506784\",\"ticks\":\"\",\"title\":{\"standoff\":15},\"zerolinecolor\":\"#283442\",\"zerolinewidth\":2},\"yaxis\":{\"automargin\":true,\"gridcolor\":\"#283442\",\"linecolor\":\"#506784\",\"ticks\":\"\",\"title\":{\"standoff\":15},\"zerolinecolor\":\"#283442\",\"zerolinewidth\":2}}},\"title\":{\"text\":\"Age Distribution\"},\"xaxis\":{\"title\":{\"text\":\"Age\"},\"showgrid\":false},\"yaxis\":{\"title\":{\"text\":\"Count\"},\"showgrid\":false},\"bargap\":0.05},                        {\"responsive\": true}                    ).then(function(){\n",
       "                            \n",
       "var gd = document.getElementById('c65e2d0a-5948-4011-88b3-e15d411b9050');\n",
       "var x = new MutationObserver(function (mutations, observer) {{\n",
       "        var display = window.getComputedStyle(gd).display;\n",
       "        if (!display || display === 'none') {{\n",
       "            console.log([gd, 'removed!']);\n",
       "            Plotly.purge(gd);\n",
       "            observer.disconnect();\n",
       "        }}\n",
       "}});\n",
       "\n",
       "// Listen for the removal of the full notebook cells\n",
       "var notebookContainer = gd.closest('#notebook-container');\n",
       "if (notebookContainer) {{\n",
       "    x.observe(notebookContainer, {childList: true});\n",
       "}}\n",
       "\n",
       "// Listen for the clearing of the current output cell\n",
       "var outputEl = gd.closest('.output');\n",
       "if (outputEl) {{\n",
       "    x.observe(outputEl, {childList: true});\n",
       "}}\n",
       "\n",
       "                        })                };                });            </script>        </div>"
      ]
     },
     "metadata": {},
     "output_type": "display_data"
    }
   ],
   "source": [
    "# Distribution of age\n",
    "\n",
    "fig = go.Figure()\n",
    "fig.add_trace(go.Histogram(\n",
    "    x = dataset['age'],\n",
    "    xbins = dict(\n",
    "        start = 40,\n",
    "        end = 95,\n",
    "        size = 2\n",
    "    ),\n",
    "    marker_color = '#66b2b2',\n",
    "    opacity = 1\n",
    "))\n",
    "\n",
    "fig.update_layout(\n",
    "    title_text = 'Age Distribution',\n",
    "    xaxis_title_text = 'Age',\n",
    "    yaxis_title_text = 'Count',\n",
    "    bargap = 0.05,\n",
    "    xaxis = {'showgrid': False},\n",
    "    yaxis = {'showgrid': False},\n",
    "    template = 'plotly_dark'\n",
    ")\n",
    "\n",
    "fig.show()"
   ]
  },
  {
   "cell_type": "markdown",
   "id": "832aab15",
   "metadata": {},
   "source": [
    "By hovering over the graph, we can see the count of people within the different age groups."
   ]
  },
  {
   "cell_type": "code",
   "execution_count": 32,
   "id": "d151f7a1",
   "metadata": {},
   "outputs": [
    {
     "data": {
      "application/vnd.plotly.v1+json": {
       "config": {
        "plotlyServerURL": "https://plot.ly"
       },
       "data": [
        {
         "alignmentgroup": "True",
         "bingroup": "x",
         "hovertemplate": "DEATH_EVENT=1<br>Age=%{x}<br>count=%{y}<extra></extra>",
         "legendgroup": "1",
         "marker": {
          "color": "#636efa",
          "pattern": {
           "shape": ""
          }
         },
         "name": "1",
         "offsetgroup": "1",
         "orientation": "v",
         "showlegend": true,
         "type": "histogram",
         "x": [
          75,
          55,
          65,
          50,
          65,
          90,
          75,
          60,
          65,
          80,
          75,
          62,
          45,
          50,
          82,
          87,
          45,
          70,
          48,
          65,
          68,
          75,
          80,
          95,
          70,
          58,
          82,
          94,
          85,
          50,
          65,
          69,
          90,
          82,
          60,
          70,
          50,
          70,
          60,
          50,
          51,
          60,
          80,
          57,
          68,
          53,
          60,
          70,
          60,
          95,
          49,
          72,
          45,
          50,
          45,
          60,
          42,
          72,
          70,
          65,
          85,
          69,
          60,
          60,
          59,
          60,
          72,
          85,
          70,
          86,
          60,
          46,
          80,
          72,
          75,
          72,
          50,
          45,
          80,
          59,
          59,
          65,
          75,
          58,
          60.667,
          50,
          60,
          45,
          77,
          48,
          73,
          60,
          55,
          65,
          55
         ],
         "xaxis": "x",
         "yaxis": "y"
        },
        {
         "alignmentgroup": "True",
         "customdata": [
          [
           0,
           582,
           0,
           20,
           1,
           265000,
           1.9,
           130,
           1,
           0,
           4,
           1
          ],
          [
           0,
           7861,
           0,
           38,
           0,
           263358.03,
           1.1,
           136,
           1,
           0,
           6,
           1
          ],
          [
           0,
           146,
           0,
           20,
           0,
           162000,
           1.3,
           129,
           1,
           1,
           7,
           1
          ],
          [
           1,
           111,
           0,
           20,
           0,
           210000,
           1.9,
           137,
           1,
           0,
           7,
           1
          ],
          [
           1,
           160,
           1,
           20,
           0,
           327000,
           2.7,
           116,
           0,
           0,
           8,
           1
          ],
          [
           1,
           47,
           0,
           40,
           1,
           204000,
           2.1,
           132,
           1,
           1,
           8,
           1
          ],
          [
           1,
           246,
           0,
           15,
           0,
           127000,
           1.2,
           137,
           1,
           0,
           10,
           1
          ],
          [
           1,
           315,
           1,
           60,
           0,
           454000,
           1.1,
           131,
           1,
           1,
           10,
           1
          ],
          [
           0,
           157,
           0,
           65,
           0,
           263358.03,
           1.5,
           138,
           0,
           0,
           10,
           1
          ],
          [
           1,
           123,
           0,
           35,
           1,
           388000,
           9.4,
           133,
           1,
           1,
           10,
           1
          ],
          [
           1,
           81,
           0,
           38,
           1,
           368000,
           4,
           131,
           1,
           1,
           10,
           1
          ],
          [
           0,
           231,
           0,
           25,
           1,
           253000,
           0.9,
           140,
           1,
           1,
           10,
           1
          ],
          [
           1,
           981,
           0,
           30,
           0,
           136000,
           1.1,
           137,
           1,
           0,
           11,
           1
          ],
          [
           1,
           168,
           0,
           38,
           1,
           276000,
           1.1,
           137,
           1,
           0,
           11,
           1
          ],
          [
           1,
           379,
           0,
           50,
           0,
           47000,
           1.3,
           136,
           1,
           0,
           13,
           1
          ],
          [
           1,
           149,
           0,
           38,
           0,
           262000,
           0.9,
           140,
           1,
           0,
           14,
           1
          ],
          [
           0,
           582,
           0,
           14,
           0,
           166000,
           0.8,
           127,
           1,
           0,
           14,
           1
          ],
          [
           1,
           125,
           0,
           25,
           1,
           237000,
           1,
           140,
           0,
           0,
           15,
           1
          ],
          [
           1,
           582,
           1,
           55,
           0,
           87000,
           1.9,
           121,
           0,
           0,
           15,
           1
          ],
          [
           1,
           128,
           1,
           30,
           1,
           297000,
           1.6,
           136,
           0,
           0,
           20,
           1
          ],
          [
           1,
           220,
           0,
           35,
           1,
           289000,
           0.9,
           140,
           1,
           1,
           20,
           1
          ],
          [
           0,
           582,
           1,
           30,
           1,
           263358.03,
           1.83,
           134,
           0,
           0,
           23,
           1
          ],
          [
           0,
           148,
           1,
           38,
           0,
           149000,
           1.9,
           144,
           1,
           1,
           23,
           1
          ],
          [
           1,
           112,
           0,
           40,
           1,
           196000,
           1,
           138,
           0,
           0,
           24,
           1
          ],
          [
           0,
           122,
           1,
           45,
           1,
           284000,
           1.3,
           136,
           1,
           1,
           26,
           1
          ],
          [
           1,
           60,
           0,
           38,
           0,
           153000,
           5.8,
           134,
           1,
           0,
           26,
           1
          ],
          [
           0,
           70,
           1,
           30,
           0,
           200000,
           1.2,
           132,
           1,
           1,
           26,
           1
          ],
          [
           0,
           582,
           1,
           38,
           1,
           263358.03,
           1.83,
           134,
           1,
           0,
           27,
           1
          ],
          [
           0,
           23,
           0,
           45,
           0,
           360000,
           3,
           132,
           1,
           0,
           28,
           1
          ],
          [
           1,
           249,
           1,
           35,
           1,
           319000,
           1,
           128,
           0,
           0,
           28,
           1
          ],
          [
           0,
           94,
           1,
           50,
           1,
           188000,
           1,
           140,
           1,
           0,
           29,
           1
          ],
          [
           0,
           582,
           1,
           35,
           0,
           228000,
           3.5,
           134,
           1,
           0,
           30,
           1
          ],
          [
           1,
           60,
           1,
           50,
           0,
           226000,
           1,
           134,
           1,
           0,
           30,
           1
          ],
          [
           1,
           855,
           1,
           50,
           1,
           321000,
           1,
           145,
           0,
           0,
           30,
           1
          ],
          [
           0,
           235,
           1,
           38,
           0,
           329000,
           3,
           142,
           0,
           0,
           30,
           1
          ],
          [
           0,
           582,
           0,
           20,
           1,
           263358.03,
           1.83,
           134,
           1,
           1,
           31,
           1
          ],
          [
           0,
           124,
           1,
           30,
           1,
           153000,
           1.2,
           136,
           0,
           1,
           32,
           1
          ],
          [
           0,
           571,
           1,
           45,
           1,
           185000,
           1.2,
           139,
           1,
           1,
           33,
           1
          ],
          [
           1,
           588,
           1,
           60,
           0,
           194000,
           1.1,
           142,
           0,
           0,
           33,
           1
          ],
          [
           0,
           582,
           1,
           38,
           0,
           310000,
           1.9,
           135,
           1,
           1,
           35,
           1
          ],
          [
           0,
           1380,
           0,
           25,
           1,
           271000,
           0.9,
           130,
           1,
           0,
           38,
           1
          ],
          [
           0,
           582,
           1,
           38,
           1,
           451000,
           0.6,
           138,
           1,
           1,
           40,
           1
          ],
          [
           1,
           553,
           0,
           20,
           1,
           140000,
           4.4,
           133,
           1,
           0,
           41,
           1
          ],
          [
           1,
           129,
           0,
           30,
           0,
           395000,
           1,
           140,
           0,
           0,
           42,
           1
          ],
          [
           1,
           577,
           0,
           25,
           1,
           166000,
           1,
           138,
           1,
           0,
           43,
           1
          ],
          [
           1,
           91,
           0,
           20,
           1,
           418000,
           1.4,
           139,
           0,
           0,
           43,
           1
          ],
          [
           0,
           3964,
           1,
           62,
           0,
           263358.03,
           6.8,
           146,
           0,
           0,
           43,
           1
          ],
          [
           1,
           69,
           1,
           50,
           1,
           351000,
           1,
           134,
           0,
           0,
           44,
           1
          ],
          [
           1,
           260,
           1,
           38,
           0,
           255000,
           2.2,
           132,
           0,
           1,
           45,
           1
          ],
          [
           1,
           371,
           0,
           30,
           0,
           461000,
           2,
           132,
           1,
           0,
           50,
           1
          ],
          [
           0,
           789,
           0,
           20,
           1,
           319000,
           1.1,
           136,
           1,
           1,
           55,
           1
          ],
          [
           0,
           364,
           1,
           20,
           1,
           254000,
           1.3,
           136,
           1,
           1,
           59,
           1
          ],
          [
           0,
           7702,
           1,
           25,
           1,
           390000,
           1,
           139,
           1,
           0,
           60,
           1
          ],
          [
           0,
           318,
           0,
           40,
           1,
           216000,
           2.3,
           131,
           0,
           0,
           60,
           1
          ],
          [
           0,
           582,
           0,
           35,
           0,
           385000,
           1,
           145,
           1,
           0,
           61,
           1
          ],
          [
           0,
           68,
           0,
           20,
           0,
           119000,
           2.9,
           127,
           1,
           1,
           64,
           1
          ],
          [
           1,
           250,
           1,
           15,
           0,
           213000,
           1.3,
           136,
           0,
           0,
           65,
           1
          ],
          [
           1,
           110,
           0,
           25,
           0,
           274000,
           1,
           140,
           1,
           1,
           65,
           1
          ],
          [
           0,
           161,
           0,
           25,
           0,
           244000,
           1.2,
           142,
           0,
           0,
           66,
           1
          ],
          [
           0,
           113,
           1,
           25,
           0,
           497000,
           1.83,
           135,
           1,
           0,
           67,
           1
          ],
          [
           0,
           5882,
           0,
           35,
           0,
           243000,
           1,
           132,
           1,
           1,
           72,
           1
          ],
          [
           0,
           582,
           0,
           20,
           0,
           266000,
           1.2,
           134,
           1,
           1,
           73,
           1
          ],
          [
           1,
           47,
           0,
           20,
           0,
           204000,
           0.7,
           139,
           1,
           1,
           73,
           1
          ],
          [
           1,
           76,
           1,
           25,
           0,
           196000,
           2.5,
           132,
           0,
           0,
           77,
           1
          ],
          [
           1,
           280,
           1,
           25,
           1,
           302000,
           1,
           141,
           0,
           0,
           78,
           1
          ],
          [
           1,
           154,
           0,
           25,
           0,
           210000,
           1.7,
           135,
           1,
           0,
           82,
           1
          ],
          [
           1,
           328,
           0,
           30,
           1,
           621000,
           1.7,
           138,
           0,
           1,
           88,
           1
          ],
          [
           0,
           129,
           0,
           60,
           0,
           306000,
           1.2,
           132,
           1,
           1,
           90,
           1
          ],
          [
           1,
           143,
           0,
           60,
           0,
           351000,
           1.3,
           137,
           0,
           0,
           90,
           1
          ],
          [
           0,
           582,
           0,
           38,
           0,
           263358.03,
           1.83,
           134,
           0,
           0,
           95,
           1
          ],
          [
           0,
           582,
           0,
           40,
           0,
           217000,
           3.7,
           134,
           1,
           0,
           96,
           1
          ],
          [
           0,
           168,
           1,
           17,
           1,
           271000,
           2.1,
           124,
           0,
           0,
           100,
           1
          ],
          [
           0,
           805,
           0,
           38,
           0,
           263358.03,
           1.1,
           134,
           1,
           0,
           109,
           1
          ],
          [
           1,
           943,
           0,
           25,
           1,
           338000,
           1.7,
           139,
           1,
           1,
           111,
           1
          ],
          [
           1,
           582,
           0,
           30,
           0,
           225000,
           1.83,
           134,
           1,
           0,
           113,
           1
          ],
          [
           0,
           233,
           0,
           45,
           1,
           235000,
           2.5,
           135,
           0,
           0,
           115,
           1
          ],
          [
           1,
           2334,
           1,
           35,
           0,
           75000,
           0.9,
           142,
           0,
           0,
           126,
           1
          ],
          [
           0,
           2442,
           1,
           30,
           0,
           334000,
           1.1,
           139,
           1,
           0,
           129,
           1
          ],
          [
           0,
           776,
           1,
           38,
           1,
           192000,
           1.3,
           135,
           0,
           0,
           130,
           1
          ],
          [
           0,
           66,
           1,
           20,
           0,
           70000,
           2.4,
           134,
           1,
           0,
           135,
           1
          ],
          [
           1,
           176,
           1,
           25,
           0,
           221000,
           1,
           136,
           1,
           1,
           150,
           1
          ],
          [
           0,
           395,
           1,
           25,
           0,
           265000,
           1.2,
           136,
           1,
           1,
           154,
           1
          ],
          [
           0,
           99,
           0,
           38,
           1,
           224000,
           2.5,
           134,
           1,
           0,
           162,
           1
          ],
          [
           1,
           145,
           0,
           25,
           0,
           219000,
           1.2,
           137,
           1,
           1,
           170,
           1
          ],
          [
           1,
           104,
           1,
           30,
           0,
           389000,
           1.5,
           136,
           1,
           0,
           171,
           1
          ],
          [
           0,
           582,
           0,
           50,
           0,
           153000,
           0.6,
           134,
           0,
           0,
           172,
           1
          ],
          [
           0,
           1896,
           1,
           25,
           0,
           365000,
           2.1,
           144,
           0,
           0,
           172,
           1
          ],
          [
           0,
           582,
           0,
           20,
           1,
           126000,
           1.6,
           135,
           1,
           0,
           180,
           1
          ],
          [
           1,
           418,
           0,
           45,
           0,
           223000,
           1.8,
           145,
           1,
           0,
           180,
           1
          ],
          [
           1,
           131,
           1,
           30,
           1,
           244000,
           1.6,
           130,
           0,
           0,
           193,
           1
          ],
          [
           0,
           582,
           0,
           20,
           0,
           263358.03,
           1.83,
           134,
           1,
           0,
           198,
           1
          ],
          [
           0,
           166,
           0,
           30,
           0,
           62000,
           1.7,
           127,
           0,
           0,
           207,
           1
          ],
          [
           0,
           2017,
           0,
           25,
           0,
           314000,
           1.1,
           138,
           1,
           0,
           214,
           1
          ],
          [
           1,
           258,
           1,
           25,
           0,
           198000,
           1.4,
           129,
           1,
           0,
           235,
           1
          ],
          [
           0,
           1199,
           0,
           20,
           0,
           263358.03,
           1.83,
           134,
           1,
           1,
           241,
           1
          ]
         ],
         "hovertemplate": "DEATH_EVENT=%{customdata[11]}<br>Age=%{x}<br>anaemia=%{customdata[0]}<br>creatinine_phosphokinase=%{customdata[1]}<br>diabetes=%{customdata[2]}<br>ejection_fraction=%{customdata[3]}<br>high_blood_pressure=%{customdata[4]}<br>platelets=%{customdata[5]}<br>serum_creatinine=%{customdata[6]}<br>serum_sodium=%{customdata[7]}<br>sex=%{customdata[8]}<br>smoking=%{customdata[9]}<br>time=%{customdata[10]}<extra></extra>",
         "legendgroup": "1",
         "marker": {
          "color": "#636efa"
         },
         "name": "1",
         "offsetgroup": "1",
         "scalegroup": "x",
         "showlegend": false,
         "type": "violin",
         "x": [
          75,
          55,
          65,
          50,
          65,
          90,
          75,
          60,
          65,
          80,
          75,
          62,
          45,
          50,
          82,
          87,
          45,
          70,
          48,
          65,
          68,
          75,
          80,
          95,
          70,
          58,
          82,
          94,
          85,
          50,
          65,
          69,
          90,
          82,
          60,
          70,
          50,
          70,
          60,
          50,
          51,
          60,
          80,
          57,
          68,
          53,
          60,
          70,
          60,
          95,
          49,
          72,
          45,
          50,
          45,
          60,
          42,
          72,
          70,
          65,
          85,
          69,
          60,
          60,
          59,
          60,
          72,
          85,
          70,
          86,
          60,
          46,
          80,
          72,
          75,
          72,
          50,
          45,
          80,
          59,
          59,
          65,
          75,
          58,
          60.667,
          50,
          60,
          45,
          77,
          48,
          73,
          60,
          55,
          65,
          55
         ],
         "xaxis": "x2",
         "yaxis": "y2"
        },
        {
         "alignmentgroup": "True",
         "bingroup": "x",
         "hovertemplate": "DEATH_EVENT=0<br>Age=%{x}<br>count=%{y}<extra></extra>",
         "legendgroup": "0",
         "marker": {
          "color": "#EF553B",
          "pattern": {
           "shape": ""
          }
         },
         "name": "0",
         "offsetgroup": "0",
         "orientation": "v",
         "showlegend": true,
         "type": "histogram",
         "x": [
          49,
          65,
          53,
          50,
          60,
          72,
          70,
          60,
          55,
          41,
          58,
          65,
          70,
          42,
          75,
          55,
          70,
          67,
          79,
          51,
          55,
          65,
          44,
          57,
          70,
          60,
          42,
          58,
          58,
          63,
          70,
          60,
          63,
          65,
          75,
          80,
          42,
          60,
          55,
          45,
          63,
          45,
          55,
          50,
          60,
          58,
          60,
          85,
          65,
          60,
          66,
          60,
          60,
          43,
          58,
          61,
          53,
          53,
          60,
          46,
          63,
          81,
          75,
          65,
          68,
          62,
          50,
          46,
          50,
          61,
          50,
          52,
          64,
          60,
          62,
          50,
          50,
          65,
          60,
          52,
          50,
          85,
          59,
          66,
          45,
          63,
          53,
          65,
          70,
          51,
          52,
          70,
          50,
          65,
          60,
          69,
          49,
          63,
          55,
          40,
          60.667,
          40,
          80,
          64,
          50,
          73,
          45,
          65,
          50,
          60,
          63,
          45,
          70,
          60,
          78,
          50,
          40,
          85,
          60,
          49,
          70,
          50,
          78,
          65,
          73,
          70,
          68,
          55,
          65,
          42,
          47,
          58,
          75,
          58,
          55,
          65,
          72,
          70,
          40,
          53,
          53,
          77,
          75,
          70,
          65,
          55,
          70,
          65,
          40,
          73,
          54,
          61,
          64,
          40,
          53,
          50,
          55,
          50,
          70,
          53,
          52,
          65,
          58,
          45,
          53,
          55,
          62,
          68,
          61,
          50,
          56,
          45,
          40,
          44,
          51,
          67,
          42,
          60,
          45,
          70,
          70,
          50,
          55,
          70,
          70,
          42,
          65,
          50,
          55,
          60,
          45,
          65,
          90,
          45,
          60,
          52,
          63,
          62,
          55,
          45,
          45,
          50
         ],
         "xaxis": "x",
         "yaxis": "y"
        },
        {
         "alignmentgroup": "True",
         "customdata": [
          [
           1,
           80,
           0,
           30,
           1,
           427000,
           1,
           138,
           0,
           0,
           12,
           0
          ],
          [
           1,
           52,
           0,
           25,
           1,
           276000,
           1.3,
           137,
           0,
           0,
           16,
           0
          ],
          [
           0,
           63,
           1,
           60,
           0,
           368000,
           0.8,
           135,
           1,
           0,
           22,
           0
          ],
          [
           1,
           159,
           1,
           30,
           0,
           302000,
           1.2,
           138,
           0,
           0,
           29,
           0
          ],
          [
           0,
           2656,
           1,
           30,
           0,
           305000,
           2.3,
           137,
           1,
           0,
           30,
           0
          ],
          [
           0,
           127,
           1,
           50,
           1,
           218000,
           1,
           134,
           1,
           0,
           33,
           0
          ],
          [
           1,
           75,
           0,
           35,
           0,
           223000,
           2.7,
           138,
           1,
           1,
           54,
           0
          ],
          [
           1,
           607,
           0,
           40,
           0,
           216000,
           0.6,
           138,
           1,
           1,
           54,
           0
          ],
          [
           0,
           109,
           0,
           35,
           0,
           254000,
           1.1,
           139,
           1,
           1,
           60,
           0
          ],
          [
           0,
           148,
           0,
           40,
           0,
           374000,
           0.8,
           140,
           1,
           1,
           68,
           0
          ],
          [
           0,
           582,
           1,
           35,
           0,
           122000,
           0.9,
           139,
           1,
           1,
           71,
           0
          ],
          [
           0,
           224,
           1,
           50,
           0,
           149000,
           1.3,
           137,
           1,
           1,
           72,
           0
          ],
          [
           0,
           92,
           0,
           60,
           1,
           317000,
           0.8,
           140,
           0,
           1,
           74,
           0
          ],
          [
           0,
           102,
           1,
           40,
           0,
           237000,
           1.2,
           140,
           1,
           0,
           74,
           0
          ],
          [
           1,
           203,
           1,
           38,
           1,
           283000,
           0.6,
           131,
           1,
           1,
           74,
           0
          ],
          [
           0,
           336,
           0,
           45,
           1,
           324000,
           0.9,
           140,
           0,
           0,
           74,
           0
          ],
          [
           0,
           69,
           0,
           40,
           0,
           293000,
           1.7,
           136,
           0,
           0,
           75,
           0
          ],
          [
           0,
           582,
           0,
           50,
           0,
           263358.03,
           1.18,
           137,
           1,
           1,
           76,
           0
          ],
          [
           1,
           55,
           0,
           50,
           1,
           172000,
           1.8,
           133,
           1,
           0,
           78,
           0
          ],
          [
           0,
           78,
           0,
           50,
           0,
           406000,
           0.7,
           140,
           1,
           0,
           79,
           0
          ],
          [
           0,
           47,
           0,
           35,
           1,
           173000,
           1.1,
           137,
           1,
           0,
           79,
           0
          ],
          [
           1,
           68,
           1,
           60,
           1,
           304000,
           0.8,
           140,
           1,
           0,
           79,
           0
          ],
          [
           0,
           84,
           1,
           40,
           1,
           235000,
           0.7,
           139,
           1,
           0,
           79,
           0
          ],
          [
           1,
           115,
           0,
           25,
           1,
           181000,
           1.1,
           144,
           1,
           0,
           79,
           0
          ],
          [
           0,
           66,
           1,
           45,
           0,
           249000,
           0.8,
           136,
           1,
           1,
           80,
           0
          ],
          [
           0,
           897,
           1,
           45,
           0,
           297000,
           1,
           133,
           1,
           0,
           80,
           0
          ],
          [
           0,
           582,
           0,
           60,
           0,
           263358.03,
           1.18,
           137,
           0,
           0,
           82,
           0
          ],
          [
           0,
           144,
           1,
           38,
           1,
           327000,
           0.7,
           142,
           0,
           0,
           83,
           0
          ],
          [
           1,
           133,
           0,
           60,
           1,
           219000,
           1,
           141,
           1,
           0,
           83,
           0
          ],
          [
           1,
           514,
           1,
           25,
           1,
           254000,
           1.3,
           134,
           1,
           0,
           83,
           0
          ],
          [
           1,
           59,
           0,
           60,
           0,
           255000,
           1.1,
           136,
           0,
           0,
           85,
           0
          ],
          [
           1,
           156,
           1,
           25,
           1,
           318000,
           1.2,
           137,
           0,
           0,
           85,
           0
          ],
          [
           1,
           61,
           1,
           40,
           0,
           221000,
           1.1,
           140,
           0,
           0,
           86,
           0
          ],
          [
           1,
           305,
           0,
           25,
           0,
           298000,
           1.1,
           141,
           1,
           0,
           87,
           0
          ],
          [
           0,
           582,
           0,
           45,
           1,
           263358.03,
           1.18,
           137,
           1,
           0,
           87,
           0
          ],
          [
           0,
           898,
           0,
           25,
           0,
           149000,
           1.1,
           144,
           1,
           1,
           87,
           0
          ],
          [
           0,
           5209,
           0,
           30,
           0,
           226000,
           1,
           140,
           1,
           1,
           87,
           0
          ],
          [
           0,
           53,
           0,
           50,
           1,
           286000,
           2.3,
           143,
           0,
           0,
           87,
           0
          ],
          [
           0,
           748,
           0,
           45,
           0,
           263000,
           1.3,
           137,
           1,
           0,
           88,
           0
          ],
          [
           1,
           1876,
           1,
           35,
           0,
           226000,
           0.9,
           138,
           1,
           0,
           88,
           0
          ],
          [
           0,
           936,
           0,
           38,
           0,
           304000,
           1.1,
           133,
           1,
           1,
           88,
           0
          ],
          [
           0,
           292,
           1,
           35,
           0,
           850000,
           1.3,
           142,
           1,
           1,
           88,
           0
          ],
          [
           0,
           60,
           0,
           35,
           0,
           228000,
           1.2,
           135,
           1,
           1,
           90,
           0
          ],
          [
           0,
           369,
           1,
           25,
           0,
           252000,
           1.6,
           136,
           1,
           0,
           90,
           0
          ],
          [
           1,
           754,
           1,
           40,
           1,
           328000,
           1.2,
           126,
           1,
           0,
           91,
           0
          ],
          [
           1,
           400,
           0,
           40,
           0,
           164000,
           1,
           139,
           0,
           0,
           91,
           0
          ],
          [
           1,
           96,
           1,
           60,
           1,
           271000,
           0.7,
           136,
           0,
           0,
           94,
           0
          ],
          [
           1,
           102,
           0,
           60,
           0,
           507000,
           3.2,
           138,
           0,
           0,
           94,
           0
          ],
          [
           1,
           113,
           1,
           60,
           1,
           203000,
           0.9,
           140,
           0,
           0,
           94,
           0
          ],
          [
           1,
           737,
           0,
           60,
           1,
           210000,
           1.5,
           135,
           1,
           1,
           95,
           0
          ],
          [
           1,
           68,
           1,
           38,
           1,
           162000,
           1,
           136,
           0,
           0,
           95,
           0
          ],
          [
           0,
           96,
           1,
           38,
           0,
           228000,
           0.75,
           140,
           0,
           0,
           95,
           0
          ],
          [
           1,
           582,
           0,
           30,
           1,
           127000,
           0.9,
           145,
           0,
           0,
           95,
           0
          ],
          [
           1,
           358,
           0,
           50,
           0,
           237000,
           1.3,
           135,
           0,
           0,
           97,
           0
          ],
          [
           1,
           200,
           1,
           60,
           0,
           300000,
           0.8,
           137,
           0,
           0,
           104,
           0
          ],
          [
           0,
           248,
           0,
           30,
           1,
           267000,
           0.7,
           136,
           1,
           1,
           104,
           0
          ],
          [
           1,
           270,
           1,
           35,
           0,
           227000,
           3.4,
           145,
           1,
           0,
           105,
           0
          ],
          [
           1,
           1808,
           0,
           60,
           1,
           249000,
           0.7,
           138,
           1,
           1,
           106,
           0
          ],
          [
           1,
           1082,
           1,
           45,
           0,
           250000,
           6.1,
           131,
           1,
           0,
           107,
           0
          ],
          [
           0,
           719,
           0,
           40,
           1,
           263358.03,
           1.18,
           137,
           0,
           0,
           107,
           0
          ],
          [
           0,
           193,
           0,
           60,
           1,
           295000,
           1.3,
           145,
           1,
           1,
           107,
           0
          ],
          [
           0,
           4540,
           0,
           35,
           0,
           231000,
           1.18,
           137,
           1,
           1,
           107,
           0
          ],
          [
           0,
           582,
           0,
           40,
           0,
           263358.03,
           1.18,
           137,
           1,
           0,
           107,
           0
          ],
          [
           1,
           59,
           1,
           60,
           0,
           172000,
           0.9,
           137,
           0,
           0,
           107,
           0
          ],
          [
           1,
           646,
           0,
           25,
           0,
           305000,
           2.1,
           130,
           1,
           0,
           108,
           0
          ],
          [
           0,
           281,
           1,
           35,
           0,
           221000,
           1,
           136,
           0,
           0,
           108,
           0
          ],
          [
           0,
           1548,
           0,
           30,
           1,
           211000,
           0.8,
           138,
           1,
           0,
           108,
           0
          ],
          [
           1,
           291,
           0,
           35,
           0,
           348000,
           0.9,
           140,
           0,
           0,
           109,
           0
          ],
          [
           0,
           482,
           1,
           30,
           0,
           329000,
           0.9,
           132,
           0,
           0,
           109,
           0
          ],
          [
           1,
           84,
           0,
           40,
           1,
           229000,
           0.9,
           141,
           0,
           0,
           110,
           0
          ],
          [
           0,
           185,
           0,
           30,
           0,
           266000,
           0.7,
           141,
           1,
           1,
           112,
           0
          ],
          [
           0,
           132,
           0,
           30,
           0,
           218000,
           0.7,
           136,
           1,
           1,
           112,
           0
          ],
          [
           0,
           1610,
           0,
           60,
           0,
           242000,
           1,
           137,
           1,
           0,
           113,
           0
          ],
          [
           0,
           2261,
           0,
           35,
           1,
           228000,
           0.9,
           136,
           1,
           0,
           115,
           0
          ],
          [
           0,
           30,
           1,
           60,
           1,
           244000,
           0.9,
           139,
           1,
           0,
           117,
           0
          ],
          [
           0,
           115,
           0,
           45,
           1,
           184000,
           0.9,
           134,
           1,
           1,
           118,
           0
          ],
          [
           0,
           1846,
           1,
           35,
           0,
           263358.03,
           1.18,
           137,
           1,
           1,
           119,
           0
          ],
          [
           1,
           335,
           0,
           35,
           1,
           235000,
           0.8,
           136,
           0,
           0,
           120,
           0
          ],
          [
           1,
           231,
           1,
           25,
           0,
           194000,
           1.7,
           140,
           1,
           0,
           120,
           0
          ],
          [
           1,
           58,
           0,
           35,
           0,
           277000,
           1.4,
           136,
           0,
           0,
           120,
           0
          ],
          [
           0,
           250,
           0,
           25,
           0,
           262000,
           1,
           136,
           1,
           1,
           120,
           0
          ],
          [
           1,
           910,
           0,
           50,
           0,
           235000,
           1.3,
           134,
           1,
           0,
           121,
           0
          ],
          [
           1,
           129,
           0,
           45,
           1,
           362000,
           1.1,
           139,
           1,
           1,
           121,
           0
          ],
          [
           1,
           72,
           0,
           40,
           1,
           242000,
           1.2,
           134,
           1,
           0,
           121,
           0
          ],
          [
           1,
           130,
           0,
           35,
           0,
           174000,
           0.8,
           139,
           1,
           1,
           121,
           0
          ],
          [
           1,
           582,
           0,
           40,
           0,
           448000,
           0.9,
           137,
           1,
           1,
           123,
           0
          ],
          [
           0,
           196,
           0,
           60,
           0,
           220000,
           0.7,
           133,
           1,
           1,
           134,
           0
          ],
          [
           0,
           582,
           1,
           40,
           0,
           270000,
           1,
           138,
           0,
           0,
           140,
           0
          ],
          [
           0,
           835,
           0,
           35,
           1,
           305000,
           0.8,
           133,
           0,
           0,
           145,
           0
          ],
          [
           1,
           582,
           1,
           35,
           0,
           263358.03,
           1.5,
           136,
           1,
           1,
           145,
           0
          ],
          [
           0,
           3966,
           0,
           40,
           0,
           325000,
           0.9,
           140,
           1,
           1,
           146,
           0
          ],
          [
           1,
           171,
           0,
           60,
           1,
           176000,
           1.1,
           145,
           1,
           1,
           146,
           0
          ],
          [
           1,
           115,
           0,
           20,
           0,
           189000,
           0.8,
           139,
           1,
           0,
           146,
           0
          ],
          [
           0,
           198,
           1,
           35,
           1,
           281000,
           0.9,
           137,
           1,
           1,
           146,
           0
          ],
          [
           1,
           95,
           0,
           60,
           0,
           337000,
           1,
           138,
           1,
           1,
           146,
           0
          ],
          [
           0,
           1419,
           0,
           40,
           0,
           105000,
           1,
           135,
           1,
           1,
           147,
           0
          ],
          [
           1,
           69,
           0,
           50,
           0,
           132000,
           1,
           140,
           0,
           0,
           147,
           0
          ],
          [
           1,
           122,
           1,
           60,
           0,
           267000,
           1.2,
           145,
           1,
           0,
           147,
           0
          ],
          [
           0,
           835,
           0,
           40,
           0,
           279000,
           0.7,
           140,
           1,
           1,
           147,
           0
          ],
          [
           0,
           478,
           1,
           30,
           0,
           303000,
           0.9,
           136,
           1,
           0,
           148,
           0
          ],
          [
           1,
           151,
           1,
           40,
           1,
           201000,
           1,
           136,
           0,
           0,
           172,
           0
          ],
          [
           0,
           244,
           0,
           45,
           1,
           275000,
           0.9,
           140,
           0,
           0,
           174,
           0
          ],
          [
           0,
           582,
           1,
           35,
           0,
           350000,
           2.1,
           134,
           1,
           0,
           174,
           0
          ],
          [
           1,
           62,
           0,
           60,
           0,
           309000,
           1.5,
           135,
           0,
           0,
           174,
           0
          ],
          [
           1,
           121,
           1,
           40,
           0,
           260000,
           0.7,
           130,
           1,
           0,
           175,
           0
          ],
          [
           1,
           231,
           1,
           30,
           0,
           160000,
           1.18,
           142,
           1,
           1,
           180,
           0
          ],
          [
           0,
           582,
           1,
           38,
           1,
           263358.03,
           1.18,
           137,
           0,
           0,
           185,
           0
          ],
          [
           0,
           167,
           0,
           30,
           0,
           259000,
           0.8,
           138,
           0,
           0,
           186,
           0
          ],
          [
           1,
           582,
           1,
           20,
           1,
           279000,
           1,
           134,
           0,
           0,
           186,
           0
          ],
          [
           0,
           1211,
           1,
           35,
           0,
           263358.03,
           1.8,
           113,
           1,
           1,
           186,
           0
          ],
          [
           1,
           1767,
           0,
           45,
           0,
           73000,
           0.7,
           137,
           1,
           0,
           186,
           0
          ],
          [
           0,
           308,
           1,
           60,
           1,
           377000,
           1,
           136,
           1,
           0,
           186,
           0
          ],
          [
           0,
           97,
           0,
           60,
           1,
           220000,
           0.9,
           138,
           1,
           0,
           186,
           0
          ],
          [
           0,
           59,
           0,
           25,
           1,
           212000,
           3.5,
           136,
           1,
           1,
           187,
           0
          ],
          [
           1,
           64,
           0,
           40,
           0,
           277000,
           0.7,
           137,
           1,
           1,
           187,
           0
          ],
          [
           1,
           167,
           1,
           45,
           0,
           362000,
           1,
           136,
           0,
           0,
           187,
           0
          ],
          [
           1,
           101,
           0,
           40,
           0,
           226000,
           0.8,
           141,
           0,
           0,
           187,
           0
          ],
          [
           0,
           212,
           0,
           38,
           0,
           186000,
           0.9,
           136,
           1,
           0,
           187,
           0
          ],
          [
           1,
           2281,
           1,
           40,
           0,
           283000,
           1,
           141,
           0,
           0,
           187,
           0
          ],
          [
           0,
           972,
           1,
           35,
           1,
           268000,
           0.8,
           130,
           0,
           0,
           187,
           0
          ],
          [
           0,
           212,
           1,
           17,
           1,
           389000,
           1,
           136,
           1,
           1,
           188,
           0
          ],
          [
           0,
           582,
           0,
           62,
           1,
           147000,
           0.8,
           140,
           1,
           1,
           192,
           0
          ],
          [
           0,
           224,
           0,
           50,
           0,
           481000,
           1.4,
           138,
           1,
           1,
           192,
           0
          ],
          [
           1,
           135,
           0,
           35,
           1,
           290000,
           0.8,
           134,
           1,
           0,
           194,
           0
          ],
          [
           0,
           582,
           0,
           35,
           1,
           203000,
           1.3,
           134,
           1,
           0,
           195,
           0
          ],
          [
           0,
           1202,
           0,
           50,
           1,
           358000,
           0.9,
           141,
           0,
           0,
           196,
           0
          ],
          [
           1,
           1021,
           1,
           35,
           0,
           271000,
           1.1,
           134,
           1,
           0,
           197,
           0
          ],
          [
           0,
           582,
           1,
           35,
           1,
           371000,
           0.7,
           140,
           0,
           0,
           197,
           0
          ],
          [
           0,
           118,
           0,
           50,
           0,
           194000,
           1.1,
           145,
           1,
           1,
           200,
           0
          ],
          [
           1,
           86,
           0,
           35,
           0,
           365000,
           1.1,
           139,
           1,
           1,
           201,
           0
          ],
          [
           0,
           582,
           0,
           25,
           0,
           130000,
           0.8,
           134,
           1,
           0,
           201,
           0
          ],
          [
           0,
           582,
           1,
           25,
           0,
           504000,
           1,
           138,
           1,
           0,
           205,
           0
          ],
          [
           0,
           675,
           1,
           60,
           0,
           265000,
           1.4,
           125,
           0,
           0,
           205,
           0
          ],
          [
           1,
           57,
           0,
           25,
           0,
           189000,
           1.3,
           132,
           1,
           1,
           205,
           0
          ],
          [
           1,
           2794,
           0,
           35,
           1,
           141000,
           1,
           140,
           1,
           0,
           206,
           0
          ],
          [
           0,
           56,
           0,
           25,
           0,
           237000,
           5,
           130,
           0,
           0,
           207,
           0
          ],
          [
           0,
           211,
           0,
           25,
           0,
           274000,
           1.2,
           134,
           0,
           0,
           207,
           0
          ],
          [
           0,
           93,
           0,
           35,
           0,
           185000,
           1.1,
           134,
           1,
           1,
           208,
           0
          ],
          [
           1,
           129,
           0,
           35,
           0,
           255000,
           0.9,
           137,
           1,
           0,
           209,
           0
          ],
          [
           1,
           707,
           0,
           38,
           0,
           330000,
           1.4,
           137,
           1,
           1,
           209,
           0
          ],
          [
           1,
           582,
           0,
           45,
           0,
           305000,
           1.1,
           137,
           1,
           1,
           209,
           0
          ],
          [
           1,
           109,
           0,
           50,
           1,
           406000,
           1.1,
           137,
           1,
           0,
           209,
           0
          ],
          [
           0,
           119,
           0,
           50,
           1,
           248000,
           1.1,
           148,
           1,
           0,
           209,
           0
          ],
          [
           0,
           232,
           0,
           30,
           0,
           173000,
           1.2,
           132,
           1,
           0,
           210,
           0
          ],
          [
           1,
           720,
           1,
           40,
           0,
           257000,
           1,
           136,
           0,
           0,
           210,
           0
          ],
          [
           1,
           180,
           0,
           45,
           0,
           263358.03,
           1.18,
           137,
           1,
           1,
           211,
           0
          ],
          [
           0,
           81,
           1,
           35,
           1,
           533000,
           1.3,
           139,
           0,
           0,
           212,
           0
          ],
          [
           0,
           582,
           1,
           30,
           0,
           249000,
           1.3,
           136,
           1,
           1,
           212,
           0
          ],
          [
           0,
           90,
           0,
           35,
           0,
           255000,
           1.1,
           136,
           1,
           1,
           212,
           0
          ],
          [
           1,
           1185,
           0,
           40,
           1,
           220000,
           0.9,
           141,
           0,
           0,
           213,
           0
          ],
          [
           0,
           582,
           1,
           38,
           0,
           264000,
           1.8,
           134,
           1,
           0,
           213,
           0
          ],
          [
           1,
           80,
           1,
           38,
           0,
           282000,
           1.4,
           137,
           1,
           0,
           213,
           0
          ],
          [
           0,
           143,
           0,
           25,
           0,
           246000,
           2.4,
           135,
           1,
           0,
           214,
           0
          ],
          [
           0,
           624,
           0,
           35,
           0,
           301000,
           1,
           142,
           1,
           1,
           214,
           0
          ],
          [
           0,
           207,
           1,
           40,
           0,
           223000,
           1.2,
           130,
           0,
           0,
           214,
           0
          ],
          [
           0,
           2522,
           0,
           30,
           1,
           404000,
           0.5,
           139,
           0,
           0,
           214,
           0
          ],
          [
           0,
           572,
           1,
           35,
           0,
           231000,
           0.8,
           143,
           0,
           0,
           215,
           0
          ],
          [
           0,
           245,
           0,
           45,
           1,
           274000,
           1,
           133,
           1,
           0,
           215,
           0
          ],
          [
           0,
           88,
           1,
           35,
           1,
           236000,
           1.2,
           132,
           0,
           0,
           215,
           0
          ],
          [
           1,
           446,
           0,
           60,
           1,
           263358.03,
           1,
           139,
           1,
           0,
           215,
           0
          ],
          [
           1,
           191,
           1,
           30,
           1,
           334000,
           1,
           142,
           1,
           1,
           216,
           0
          ],
          [
           0,
           326,
           0,
           38,
           0,
           294000,
           1.7,
           139,
           0,
           0,
           220,
           0
          ],
          [
           0,
           132,
           1,
           38,
           1,
           253000,
           1,
           139,
           1,
           0,
           230,
           0
          ],
          [
           1,
           66,
           1,
           25,
           0,
           233000,
           0.8,
           135,
           1,
           0,
           230,
           0
          ],
          [
           0,
           56,
           0,
           50,
           0,
           308000,
           0.7,
           135,
           1,
           1,
           231,
           0
          ],
          [
           0,
           66,
           0,
           40,
           0,
           203000,
           1,
           138,
           1,
           0,
           233,
           0
          ],
          [
           1,
           655,
           0,
           40,
           0,
           283000,
           0.7,
           133,
           0,
           0,
           233,
           0
          ],
          [
           1,
           157,
           1,
           60,
           0,
           208000,
           1,
           140,
           0,
           0,
           237,
           0
          ],
          [
           0,
           582,
           1,
           38,
           0,
           147000,
           1.2,
           141,
           1,
           0,
           237,
           0
          ],
          [
           1,
           298,
           0,
           35,
           0,
           362000,
           0.9,
           140,
           1,
           1,
           240,
           0
          ],
          [
           1,
           135,
           1,
           38,
           0,
           133000,
           1.7,
           140,
           1,
           0,
           244,
           0
          ],
          [
           0,
           582,
           1,
           38,
           0,
           302000,
           0.9,
           140,
           0,
           0,
           244,
           0
          ],
          [
           0,
           582,
           1,
           35,
           0,
           222000,
           1,
           132,
           1,
           0,
           244,
           0
          ],
          [
           0,
           582,
           1,
           30,
           1,
           263358.03,
           1.6,
           130,
           1,
           1,
           244,
           0
          ],
          [
           0,
           582,
           1,
           40,
           0,
           221000,
           0.9,
           134,
           0,
           0,
           244,
           0
          ],
          [
           0,
           213,
           0,
           38,
           0,
           215000,
           1.2,
           133,
           0,
           0,
           245,
           0
          ],
          [
           0,
           64,
           0,
           40,
           0,
           189000,
           0.7,
           140,
           1,
           0,
           245,
           0
          ],
          [
           1,
           257,
           1,
           30,
           0,
           150000,
           1,
           137,
           1,
           1,
           245,
           0
          ],
          [
           0,
           582,
           0,
           38,
           1,
           422000,
           0.8,
           137,
           0,
           0,
           245,
           0
          ],
          [
           0,
           618,
           0,
           35,
           0,
           327000,
           1.1,
           142,
           0,
           0,
           245,
           0
          ],
          [
           0,
           582,
           1,
           38,
           0,
           25100,
           1.1,
           140,
           1,
           0,
           246,
           0
          ],
          [
           1,
           1051,
           1,
           30,
           0,
           232000,
           0.7,
           136,
           0,
           0,
           246,
           0
          ],
          [
           0,
           84,
           1,
           38,
           0,
           451000,
           1.3,
           136,
           0,
           0,
           246,
           0
          ],
          [
           0,
           2695,
           1,
           40,
           0,
           241000,
           1,
           137,
           1,
           0,
           247,
           0
          ],
          [
           0,
           582,
           0,
           40,
           0,
           51000,
           2.7,
           136,
           1,
           1,
           250,
           0
          ],
          [
           0,
           64,
           0,
           30,
           0,
           215000,
           3.8,
           128,
           1,
           1,
           250,
           0
          ],
          [
           0,
           1688,
           0,
           38,
           0,
           263358.03,
           1.1,
           138,
           1,
           1,
           250,
           0
          ],
          [
           1,
           54,
           0,
           40,
           0,
           279000,
           0.8,
           141,
           1,
           0,
           250,
           0
          ],
          [
           1,
           170,
           1,
           40,
           0,
           336000,
           1.2,
           135,
           1,
           0,
           250,
           0
          ],
          [
           0,
           253,
           0,
           35,
           0,
           279000,
           1.7,
           140,
           1,
           0,
           250,
           0
          ],
          [
           0,
           582,
           1,
           55,
           0,
           543000,
           1,
           132,
           0,
           0,
           250,
           0
          ],
          [
           0,
           892,
           1,
           35,
           0,
           263358.03,
           1.1,
           142,
           0,
           0,
           256,
           0
          ],
          [
           1,
           337,
           0,
           38,
           0,
           390000,
           0.9,
           144,
           0,
           0,
           256,
           0
          ],
          [
           0,
           615,
           1,
           55,
           0,
           222000,
           0.8,
           141,
           0,
           0,
           257,
           0
          ],
          [
           0,
           320,
           0,
           35,
           0,
           133000,
           1.4,
           139,
           1,
           0,
           258,
           0
          ],
          [
           0,
           190,
           1,
           38,
           0,
           382000,
           1,
           140,
           1,
           1,
           258,
           0
          ],
          [
           1,
           103,
           1,
           35,
           0,
           179000,
           0.9,
           136,
           1,
           1,
           270,
           0
          ],
          [
           0,
           61,
           1,
           38,
           1,
           155000,
           1.1,
           143,
           1,
           1,
           270,
           0
          ],
          [
           0,
           1820,
           0,
           38,
           0,
           270000,
           1.2,
           139,
           0,
           0,
           271,
           0
          ],
          [
           0,
           2060,
           1,
           60,
           0,
           742000,
           0.8,
           138,
           0,
           0,
           278,
           0
          ],
          [
           0,
           2413,
           0,
           38,
           0,
           140000,
           1.4,
           140,
           1,
           1,
           280,
           0
          ],
          [
           0,
           196,
           0,
           45,
           0,
           395000,
           1.6,
           136,
           1,
           1,
           285,
           0
          ]
         ],
         "hovertemplate": "DEATH_EVENT=%{customdata[11]}<br>Age=%{x}<br>anaemia=%{customdata[0]}<br>creatinine_phosphokinase=%{customdata[1]}<br>diabetes=%{customdata[2]}<br>ejection_fraction=%{customdata[3]}<br>high_blood_pressure=%{customdata[4]}<br>platelets=%{customdata[5]}<br>serum_creatinine=%{customdata[6]}<br>serum_sodium=%{customdata[7]}<br>sex=%{customdata[8]}<br>smoking=%{customdata[9]}<br>time=%{customdata[10]}<extra></extra>",
         "legendgroup": "0",
         "marker": {
          "color": "#EF553B"
         },
         "name": "0",
         "offsetgroup": "0",
         "scalegroup": "x",
         "showlegend": false,
         "type": "violin",
         "x": [
          49,
          65,
          53,
          50,
          60,
          72,
          70,
          60,
          55,
          41,
          58,
          65,
          70,
          42,
          75,
          55,
          70,
          67,
          79,
          51,
          55,
          65,
          44,
          57,
          70,
          60,
          42,
          58,
          58,
          63,
          70,
          60,
          63,
          65,
          75,
          80,
          42,
          60,
          55,
          45,
          63,
          45,
          55,
          50,
          60,
          58,
          60,
          85,
          65,
          60,
          66,
          60,
          60,
          43,
          58,
          61,
          53,
          53,
          60,
          46,
          63,
          81,
          75,
          65,
          68,
          62,
          50,
          46,
          50,
          61,
          50,
          52,
          64,
          60,
          62,
          50,
          50,
          65,
          60,
          52,
          50,
          85,
          59,
          66,
          45,
          63,
          53,
          65,
          70,
          51,
          52,
          70,
          50,
          65,
          60,
          69,
          49,
          63,
          55,
          40,
          60.667,
          40,
          80,
          64,
          50,
          73,
          45,
          65,
          50,
          60,
          63,
          45,
          70,
          60,
          78,
          50,
          40,
          85,
          60,
          49,
          70,
          50,
          78,
          65,
          73,
          70,
          68,
          55,
          65,
          42,
          47,
          58,
          75,
          58,
          55,
          65,
          72,
          70,
          40,
          53,
          53,
          77,
          75,
          70,
          65,
          55,
          70,
          65,
          40,
          73,
          54,
          61,
          64,
          40,
          53,
          50,
          55,
          50,
          70,
          53,
          52,
          65,
          58,
          45,
          53,
          55,
          62,
          68,
          61,
          50,
          56,
          45,
          40,
          44,
          51,
          67,
          42,
          60,
          45,
          70,
          70,
          50,
          55,
          70,
          70,
          42,
          65,
          50,
          55,
          60,
          45,
          65,
          90,
          45,
          60,
          52,
          63,
          62,
          55,
          45,
          45,
          50
         ],
         "xaxis": "x2",
         "yaxis": "y2"
        }
       ],
       "layout": {
        "barmode": "relative",
        "legend": {
         "title": {
          "text": "DEATH_EVENT"
         },
         "tracegroupgap": 0
        },
        "template": {
         "data": {
          "bar": [
           {
            "error_x": {
             "color": "#f2f5fa"
            },
            "error_y": {
             "color": "#f2f5fa"
            },
            "marker": {
             "line": {
              "color": "rgb(17,17,17)",
              "width": 0.5
             },
             "pattern": {
              "fillmode": "overlay",
              "size": 10,
              "solidity": 0.2
             }
            },
            "type": "bar"
           }
          ],
          "barpolar": [
           {
            "marker": {
             "line": {
              "color": "rgb(17,17,17)",
              "width": 0.5
             },
             "pattern": {
              "fillmode": "overlay",
              "size": 10,
              "solidity": 0.2
             }
            },
            "type": "barpolar"
           }
          ],
          "carpet": [
           {
            "aaxis": {
             "endlinecolor": "#A2B1C6",
             "gridcolor": "#506784",
             "linecolor": "#506784",
             "minorgridcolor": "#506784",
             "startlinecolor": "#A2B1C6"
            },
            "baxis": {
             "endlinecolor": "#A2B1C6",
             "gridcolor": "#506784",
             "linecolor": "#506784",
             "minorgridcolor": "#506784",
             "startlinecolor": "#A2B1C6"
            },
            "type": "carpet"
           }
          ],
          "choropleth": [
           {
            "colorbar": {
             "outlinewidth": 0,
             "ticks": ""
            },
            "type": "choropleth"
           }
          ],
          "contour": [
           {
            "colorbar": {
             "outlinewidth": 0,
             "ticks": ""
            },
            "colorscale": [
             [
              0,
              "#0d0887"
             ],
             [
              0.1111111111111111,
              "#46039f"
             ],
             [
              0.2222222222222222,
              "#7201a8"
             ],
             [
              0.3333333333333333,
              "#9c179e"
             ],
             [
              0.4444444444444444,
              "#bd3786"
             ],
             [
              0.5555555555555556,
              "#d8576b"
             ],
             [
              0.6666666666666666,
              "#ed7953"
             ],
             [
              0.7777777777777778,
              "#fb9f3a"
             ],
             [
              0.8888888888888888,
              "#fdca26"
             ],
             [
              1,
              "#f0f921"
             ]
            ],
            "type": "contour"
           }
          ],
          "contourcarpet": [
           {
            "colorbar": {
             "outlinewidth": 0,
             "ticks": ""
            },
            "type": "contourcarpet"
           }
          ],
          "heatmap": [
           {
            "colorbar": {
             "outlinewidth": 0,
             "ticks": ""
            },
            "colorscale": [
             [
              0,
              "#0d0887"
             ],
             [
              0.1111111111111111,
              "#46039f"
             ],
             [
              0.2222222222222222,
              "#7201a8"
             ],
             [
              0.3333333333333333,
              "#9c179e"
             ],
             [
              0.4444444444444444,
              "#bd3786"
             ],
             [
              0.5555555555555556,
              "#d8576b"
             ],
             [
              0.6666666666666666,
              "#ed7953"
             ],
             [
              0.7777777777777778,
              "#fb9f3a"
             ],
             [
              0.8888888888888888,
              "#fdca26"
             ],
             [
              1,
              "#f0f921"
             ]
            ],
            "type": "heatmap"
           }
          ],
          "heatmapgl": [
           {
            "colorbar": {
             "outlinewidth": 0,
             "ticks": ""
            },
            "colorscale": [
             [
              0,
              "#0d0887"
             ],
             [
              0.1111111111111111,
              "#46039f"
             ],
             [
              0.2222222222222222,
              "#7201a8"
             ],
             [
              0.3333333333333333,
              "#9c179e"
             ],
             [
              0.4444444444444444,
              "#bd3786"
             ],
             [
              0.5555555555555556,
              "#d8576b"
             ],
             [
              0.6666666666666666,
              "#ed7953"
             ],
             [
              0.7777777777777778,
              "#fb9f3a"
             ],
             [
              0.8888888888888888,
              "#fdca26"
             ],
             [
              1,
              "#f0f921"
             ]
            ],
            "type": "heatmapgl"
           }
          ],
          "histogram": [
           {
            "marker": {
             "pattern": {
              "fillmode": "overlay",
              "size": 10,
              "solidity": 0.2
             }
            },
            "type": "histogram"
           }
          ],
          "histogram2d": [
           {
            "colorbar": {
             "outlinewidth": 0,
             "ticks": ""
            },
            "colorscale": [
             [
              0,
              "#0d0887"
             ],
             [
              0.1111111111111111,
              "#46039f"
             ],
             [
              0.2222222222222222,
              "#7201a8"
             ],
             [
              0.3333333333333333,
              "#9c179e"
             ],
             [
              0.4444444444444444,
              "#bd3786"
             ],
             [
              0.5555555555555556,
              "#d8576b"
             ],
             [
              0.6666666666666666,
              "#ed7953"
             ],
             [
              0.7777777777777778,
              "#fb9f3a"
             ],
             [
              0.8888888888888888,
              "#fdca26"
             ],
             [
              1,
              "#f0f921"
             ]
            ],
            "type": "histogram2d"
           }
          ],
          "histogram2dcontour": [
           {
            "colorbar": {
             "outlinewidth": 0,
             "ticks": ""
            },
            "colorscale": [
             [
              0,
              "#0d0887"
             ],
             [
              0.1111111111111111,
              "#46039f"
             ],
             [
              0.2222222222222222,
              "#7201a8"
             ],
             [
              0.3333333333333333,
              "#9c179e"
             ],
             [
              0.4444444444444444,
              "#bd3786"
             ],
             [
              0.5555555555555556,
              "#d8576b"
             ],
             [
              0.6666666666666666,
              "#ed7953"
             ],
             [
              0.7777777777777778,
              "#fb9f3a"
             ],
             [
              0.8888888888888888,
              "#fdca26"
             ],
             [
              1,
              "#f0f921"
             ]
            ],
            "type": "histogram2dcontour"
           }
          ],
          "mesh3d": [
           {
            "colorbar": {
             "outlinewidth": 0,
             "ticks": ""
            },
            "type": "mesh3d"
           }
          ],
          "parcoords": [
           {
            "line": {
             "colorbar": {
              "outlinewidth": 0,
              "ticks": ""
             }
            },
            "type": "parcoords"
           }
          ],
          "pie": [
           {
            "automargin": true,
            "type": "pie"
           }
          ],
          "scatter": [
           {
            "marker": {
             "line": {
              "color": "#283442"
             }
            },
            "type": "scatter"
           }
          ],
          "scatter3d": [
           {
            "line": {
             "colorbar": {
              "outlinewidth": 0,
              "ticks": ""
             }
            },
            "marker": {
             "colorbar": {
              "outlinewidth": 0,
              "ticks": ""
             }
            },
            "type": "scatter3d"
           }
          ],
          "scattercarpet": [
           {
            "marker": {
             "colorbar": {
              "outlinewidth": 0,
              "ticks": ""
             }
            },
            "type": "scattercarpet"
           }
          ],
          "scattergeo": [
           {
            "marker": {
             "colorbar": {
              "outlinewidth": 0,
              "ticks": ""
             }
            },
            "type": "scattergeo"
           }
          ],
          "scattergl": [
           {
            "marker": {
             "line": {
              "color": "#283442"
             }
            },
            "type": "scattergl"
           }
          ],
          "scattermapbox": [
           {
            "marker": {
             "colorbar": {
              "outlinewidth": 0,
              "ticks": ""
             }
            },
            "type": "scattermapbox"
           }
          ],
          "scatterpolar": [
           {
            "marker": {
             "colorbar": {
              "outlinewidth": 0,
              "ticks": ""
             }
            },
            "type": "scatterpolar"
           }
          ],
          "scatterpolargl": [
           {
            "marker": {
             "colorbar": {
              "outlinewidth": 0,
              "ticks": ""
             }
            },
            "type": "scatterpolargl"
           }
          ],
          "scatterternary": [
           {
            "marker": {
             "colorbar": {
              "outlinewidth": 0,
              "ticks": ""
             }
            },
            "type": "scatterternary"
           }
          ],
          "surface": [
           {
            "colorbar": {
             "outlinewidth": 0,
             "ticks": ""
            },
            "colorscale": [
             [
              0,
              "#0d0887"
             ],
             [
              0.1111111111111111,
              "#46039f"
             ],
             [
              0.2222222222222222,
              "#7201a8"
             ],
             [
              0.3333333333333333,
              "#9c179e"
             ],
             [
              0.4444444444444444,
              "#bd3786"
             ],
             [
              0.5555555555555556,
              "#d8576b"
             ],
             [
              0.6666666666666666,
              "#ed7953"
             ],
             [
              0.7777777777777778,
              "#fb9f3a"
             ],
             [
              0.8888888888888888,
              "#fdca26"
             ],
             [
              1,
              "#f0f921"
             ]
            ],
            "type": "surface"
           }
          ],
          "table": [
           {
            "cells": {
             "fill": {
              "color": "#506784"
             },
             "line": {
              "color": "rgb(17,17,17)"
             }
            },
            "header": {
             "fill": {
              "color": "#2a3f5f"
             },
             "line": {
              "color": "rgb(17,17,17)"
             }
            },
            "type": "table"
           }
          ]
         },
         "layout": {
          "annotationdefaults": {
           "arrowcolor": "#f2f5fa",
           "arrowhead": 0,
           "arrowwidth": 1
          },
          "autotypenumbers": "strict",
          "coloraxis": {
           "colorbar": {
            "outlinewidth": 0,
            "ticks": ""
           }
          },
          "colorscale": {
           "diverging": [
            [
             0,
             "#8e0152"
            ],
            [
             0.1,
             "#c51b7d"
            ],
            [
             0.2,
             "#de77ae"
            ],
            [
             0.3,
             "#f1b6da"
            ],
            [
             0.4,
             "#fde0ef"
            ],
            [
             0.5,
             "#f7f7f7"
            ],
            [
             0.6,
             "#e6f5d0"
            ],
            [
             0.7,
             "#b8e186"
            ],
            [
             0.8,
             "#7fbc41"
            ],
            [
             0.9,
             "#4d9221"
            ],
            [
             1,
             "#276419"
            ]
           ],
           "sequential": [
            [
             0,
             "#0d0887"
            ],
            [
             0.1111111111111111,
             "#46039f"
            ],
            [
             0.2222222222222222,
             "#7201a8"
            ],
            [
             0.3333333333333333,
             "#9c179e"
            ],
            [
             0.4444444444444444,
             "#bd3786"
            ],
            [
             0.5555555555555556,
             "#d8576b"
            ],
            [
             0.6666666666666666,
             "#ed7953"
            ],
            [
             0.7777777777777778,
             "#fb9f3a"
            ],
            [
             0.8888888888888888,
             "#fdca26"
            ],
            [
             1,
             "#f0f921"
            ]
           ],
           "sequentialminus": [
            [
             0,
             "#0d0887"
            ],
            [
             0.1111111111111111,
             "#46039f"
            ],
            [
             0.2222222222222222,
             "#7201a8"
            ],
            [
             0.3333333333333333,
             "#9c179e"
            ],
            [
             0.4444444444444444,
             "#bd3786"
            ],
            [
             0.5555555555555556,
             "#d8576b"
            ],
            [
             0.6666666666666666,
             "#ed7953"
            ],
            [
             0.7777777777777778,
             "#fb9f3a"
            ],
            [
             0.8888888888888888,
             "#fdca26"
            ],
            [
             1,
             "#f0f921"
            ]
           ]
          },
          "colorway": [
           "#636efa",
           "#EF553B",
           "#00cc96",
           "#ab63fa",
           "#FFA15A",
           "#19d3f3",
           "#FF6692",
           "#B6E880",
           "#FF97FF",
           "#FECB52"
          ],
          "font": {
           "color": "#f2f5fa"
          },
          "geo": {
           "bgcolor": "rgb(17,17,17)",
           "lakecolor": "rgb(17,17,17)",
           "landcolor": "rgb(17,17,17)",
           "showlakes": true,
           "showland": true,
           "subunitcolor": "#506784"
          },
          "hoverlabel": {
           "align": "left"
          },
          "hovermode": "closest",
          "mapbox": {
           "style": "dark"
          },
          "paper_bgcolor": "rgb(17,17,17)",
          "plot_bgcolor": "rgb(17,17,17)",
          "polar": {
           "angularaxis": {
            "gridcolor": "#506784",
            "linecolor": "#506784",
            "ticks": ""
           },
           "bgcolor": "rgb(17,17,17)",
           "radialaxis": {
            "gridcolor": "#506784",
            "linecolor": "#506784",
            "ticks": ""
           }
          },
          "scene": {
           "xaxis": {
            "backgroundcolor": "rgb(17,17,17)",
            "gridcolor": "#506784",
            "gridwidth": 2,
            "linecolor": "#506784",
            "showbackground": true,
            "ticks": "",
            "zerolinecolor": "#C8D4E3"
           },
           "yaxis": {
            "backgroundcolor": "rgb(17,17,17)",
            "gridcolor": "#506784",
            "gridwidth": 2,
            "linecolor": "#506784",
            "showbackground": true,
            "ticks": "",
            "zerolinecolor": "#C8D4E3"
           },
           "zaxis": {
            "backgroundcolor": "rgb(17,17,17)",
            "gridcolor": "#506784",
            "gridwidth": 2,
            "linecolor": "#506784",
            "showbackground": true,
            "ticks": "",
            "zerolinecolor": "#C8D4E3"
           }
          },
          "shapedefaults": {
           "line": {
            "color": "#f2f5fa"
           }
          },
          "sliderdefaults": {
           "bgcolor": "#C8D4E3",
           "bordercolor": "rgb(17,17,17)",
           "borderwidth": 1,
           "tickwidth": 0
          },
          "ternary": {
           "aaxis": {
            "gridcolor": "#506784",
            "linecolor": "#506784",
            "ticks": ""
           },
           "baxis": {
            "gridcolor": "#506784",
            "linecolor": "#506784",
            "ticks": ""
           },
           "bgcolor": "rgb(17,17,17)",
           "caxis": {
            "gridcolor": "#506784",
            "linecolor": "#506784",
            "ticks": ""
           }
          },
          "title": {
           "x": 0.05
          },
          "updatemenudefaults": {
           "bgcolor": "#506784",
           "borderwidth": 0
          },
          "xaxis": {
           "automargin": true,
           "gridcolor": "#283442",
           "linecolor": "#506784",
           "ticks": "",
           "title": {
            "standoff": 15
           },
           "zerolinecolor": "#283442",
           "zerolinewidth": 2
          },
          "yaxis": {
           "automargin": true,
           "gridcolor": "#283442",
           "linecolor": "#506784",
           "ticks": "",
           "title": {
            "standoff": 15
           },
           "zerolinecolor": "#283442",
           "zerolinewidth": 2
          }
         }
        },
        "title": {
         "text": "Distribution of Age by DEATH_EVENT"
        },
        "xaxis": {
         "anchor": "y",
         "domain": [
          0,
          1
         ],
         "title": {
          "text": "Age"
         }
        },
        "xaxis2": {
         "anchor": "y2",
         "domain": [
          0,
          1
         ],
         "matches": "x",
         "showgrid": true,
         "showticklabels": false
        },
        "yaxis": {
         "anchor": "x",
         "domain": [
          0,
          0.7326
         ],
         "title": {
          "text": "count"
         }
        },
        "yaxis2": {
         "anchor": "x2",
         "domain": [
          0.7426,
          1
         ],
         "matches": "y2",
         "showgrid": false,
         "showline": false,
         "showticklabels": false,
         "ticks": ""
        }
       }
      },
      "text/html": [
       "<div>                            <div id=\"491af22f-0b36-4bfa-9935-13e89693ad39\" class=\"plotly-graph-div\" style=\"height:525px; width:100%;\"></div>            <script type=\"text/javascript\">                require([\"plotly\"], function(Plotly) {                    window.PLOTLYENV=window.PLOTLYENV || {};                                    if (document.getElementById(\"491af22f-0b36-4bfa-9935-13e89693ad39\")) {                    Plotly.newPlot(                        \"491af22f-0b36-4bfa-9935-13e89693ad39\",                        [{\"alignmentgroup\":\"True\",\"bingroup\":\"x\",\"hovertemplate\":\"DEATH_EVENT=1<br>Age=%{x}<br>count=%{y}<extra></extra>\",\"legendgroup\":\"1\",\"marker\":{\"color\":\"#636efa\",\"pattern\":{\"shape\":\"\"}},\"name\":\"1\",\"offsetgroup\":\"1\",\"orientation\":\"v\",\"showlegend\":true,\"x\":[75.0,55.0,65.0,50.0,65.0,90.0,75.0,60.0,65.0,80.0,75.0,62.0,45.0,50.0,82.0,87.0,45.0,70.0,48.0,65.0,68.0,75.0,80.0,95.0,70.0,58.0,82.0,94.0,85.0,50.0,65.0,69.0,90.0,82.0,60.0,70.0,50.0,70.0,60.0,50.0,51.0,60.0,80.0,57.0,68.0,53.0,60.0,70.0,60.0,95.0,49.0,72.0,45.0,50.0,45.0,60.0,42.0,72.0,70.0,65.0,85.0,69.0,60.0,60.0,59.0,60.0,72.0,85.0,70.0,86.0,60.0,46.0,80.0,72.0,75.0,72.0,50.0,45.0,80.0,59.0,59.0,65.0,75.0,58.0,60.667,50.0,60.0,45.0,77.0,48.0,73.0,60.0,55.0,65.0,55.0],\"xaxis\":\"x\",\"yaxis\":\"y\",\"type\":\"histogram\"},{\"alignmentgroup\":\"True\",\"customdata\":[[0.0,582.0,0.0,20.0,1.0,265000.0,1.9,130.0,1.0,0.0,4.0,1.0],[0.0,7861.0,0.0,38.0,0.0,263358.03,1.1,136.0,1.0,0.0,6.0,1.0],[0.0,146.0,0.0,20.0,0.0,162000.0,1.3,129.0,1.0,1.0,7.0,1.0],[1.0,111.0,0.0,20.0,0.0,210000.0,1.9,137.0,1.0,0.0,7.0,1.0],[1.0,160.0,1.0,20.0,0.0,327000.0,2.7,116.0,0.0,0.0,8.0,1.0],[1.0,47.0,0.0,40.0,1.0,204000.0,2.1,132.0,1.0,1.0,8.0,1.0],[1.0,246.0,0.0,15.0,0.0,127000.0,1.2,137.0,1.0,0.0,10.0,1.0],[1.0,315.0,1.0,60.0,0.0,454000.0,1.1,131.0,1.0,1.0,10.0,1.0],[0.0,157.0,0.0,65.0,0.0,263358.03,1.5,138.0,0.0,0.0,10.0,1.0],[1.0,123.0,0.0,35.0,1.0,388000.0,9.4,133.0,1.0,1.0,10.0,1.0],[1.0,81.0,0.0,38.0,1.0,368000.0,4.0,131.0,1.0,1.0,10.0,1.0],[0.0,231.0,0.0,25.0,1.0,253000.0,0.9,140.0,1.0,1.0,10.0,1.0],[1.0,981.0,0.0,30.0,0.0,136000.0,1.1,137.0,1.0,0.0,11.0,1.0],[1.0,168.0,0.0,38.0,1.0,276000.0,1.1,137.0,1.0,0.0,11.0,1.0],[1.0,379.0,0.0,50.0,0.0,47000.0,1.3,136.0,1.0,0.0,13.0,1.0],[1.0,149.0,0.0,38.0,0.0,262000.0,0.9,140.0,1.0,0.0,14.0,1.0],[0.0,582.0,0.0,14.0,0.0,166000.0,0.8,127.0,1.0,0.0,14.0,1.0],[1.0,125.0,0.0,25.0,1.0,237000.0,1.0,140.0,0.0,0.0,15.0,1.0],[1.0,582.0,1.0,55.0,0.0,87000.0,1.9,121.0,0.0,0.0,15.0,1.0],[1.0,128.0,1.0,30.0,1.0,297000.0,1.6,136.0,0.0,0.0,20.0,1.0],[1.0,220.0,0.0,35.0,1.0,289000.0,0.9,140.0,1.0,1.0,20.0,1.0],[0.0,582.0,1.0,30.0,1.0,263358.03,1.83,134.0,0.0,0.0,23.0,1.0],[0.0,148.0,1.0,38.0,0.0,149000.0,1.9,144.0,1.0,1.0,23.0,1.0],[1.0,112.0,0.0,40.0,1.0,196000.0,1.0,138.0,0.0,0.0,24.0,1.0],[0.0,122.0,1.0,45.0,1.0,284000.0,1.3,136.0,1.0,1.0,26.0,1.0],[1.0,60.0,0.0,38.0,0.0,153000.0,5.8,134.0,1.0,0.0,26.0,1.0],[0.0,70.0,1.0,30.0,0.0,200000.0,1.2,132.0,1.0,1.0,26.0,1.0],[0.0,582.0,1.0,38.0,1.0,263358.03,1.83,134.0,1.0,0.0,27.0,1.0],[0.0,23.0,0.0,45.0,0.0,360000.0,3.0,132.0,1.0,0.0,28.0,1.0],[1.0,249.0,1.0,35.0,1.0,319000.0,1.0,128.0,0.0,0.0,28.0,1.0],[0.0,94.0,1.0,50.0,1.0,188000.0,1.0,140.0,1.0,0.0,29.0,1.0],[0.0,582.0,1.0,35.0,0.0,228000.0,3.5,134.0,1.0,0.0,30.0,1.0],[1.0,60.0,1.0,50.0,0.0,226000.0,1.0,134.0,1.0,0.0,30.0,1.0],[1.0,855.0,1.0,50.0,1.0,321000.0,1.0,145.0,0.0,0.0,30.0,1.0],[0.0,235.0,1.0,38.0,0.0,329000.0,3.0,142.0,0.0,0.0,30.0,1.0],[0.0,582.0,0.0,20.0,1.0,263358.03,1.83,134.0,1.0,1.0,31.0,1.0],[0.0,124.0,1.0,30.0,1.0,153000.0,1.2,136.0,0.0,1.0,32.0,1.0],[0.0,571.0,1.0,45.0,1.0,185000.0,1.2,139.0,1.0,1.0,33.0,1.0],[1.0,588.0,1.0,60.0,0.0,194000.0,1.1,142.0,0.0,0.0,33.0,1.0],[0.0,582.0,1.0,38.0,0.0,310000.0,1.9,135.0,1.0,1.0,35.0,1.0],[0.0,1380.0,0.0,25.0,1.0,271000.0,0.9,130.0,1.0,0.0,38.0,1.0],[0.0,582.0,1.0,38.0,1.0,451000.0,0.6,138.0,1.0,1.0,40.0,1.0],[1.0,553.0,0.0,20.0,1.0,140000.0,4.4,133.0,1.0,0.0,41.0,1.0],[1.0,129.0,0.0,30.0,0.0,395000.0,1.0,140.0,0.0,0.0,42.0,1.0],[1.0,577.0,0.0,25.0,1.0,166000.0,1.0,138.0,1.0,0.0,43.0,1.0],[1.0,91.0,0.0,20.0,1.0,418000.0,1.4,139.0,0.0,0.0,43.0,1.0],[0.0,3964.0,1.0,62.0,0.0,263358.03,6.8,146.0,0.0,0.0,43.0,1.0],[1.0,69.0,1.0,50.0,1.0,351000.0,1.0,134.0,0.0,0.0,44.0,1.0],[1.0,260.0,1.0,38.0,0.0,255000.0,2.2,132.0,0.0,1.0,45.0,1.0],[1.0,371.0,0.0,30.0,0.0,461000.0,2.0,132.0,1.0,0.0,50.0,1.0],[0.0,789.0,0.0,20.0,1.0,319000.0,1.1,136.0,1.0,1.0,55.0,1.0],[0.0,364.0,1.0,20.0,1.0,254000.0,1.3,136.0,1.0,1.0,59.0,1.0],[0.0,7702.0,1.0,25.0,1.0,390000.0,1.0,139.0,1.0,0.0,60.0,1.0],[0.0,318.0,0.0,40.0,1.0,216000.0,2.3,131.0,0.0,0.0,60.0,1.0],[0.0,582.0,0.0,35.0,0.0,385000.0,1.0,145.0,1.0,0.0,61.0,1.0],[0.0,68.0,0.0,20.0,0.0,119000.0,2.9,127.0,1.0,1.0,64.0,1.0],[1.0,250.0,1.0,15.0,0.0,213000.0,1.3,136.0,0.0,0.0,65.0,1.0],[1.0,110.0,0.0,25.0,0.0,274000.0,1.0,140.0,1.0,1.0,65.0,1.0],[0.0,161.0,0.0,25.0,0.0,244000.0,1.2,142.0,0.0,0.0,66.0,1.0],[0.0,113.0,1.0,25.0,0.0,497000.0,1.83,135.0,1.0,0.0,67.0,1.0],[0.0,5882.0,0.0,35.0,0.0,243000.0,1.0,132.0,1.0,1.0,72.0,1.0],[0.0,582.0,0.0,20.0,0.0,266000.0,1.2,134.0,1.0,1.0,73.0,1.0],[1.0,47.0,0.0,20.0,0.0,204000.0,0.7,139.0,1.0,1.0,73.0,1.0],[1.0,76.0,1.0,25.0,0.0,196000.0,2.5,132.0,0.0,0.0,77.0,1.0],[1.0,280.0,1.0,25.0,1.0,302000.0,1.0,141.0,0.0,0.0,78.0,1.0],[1.0,154.0,0.0,25.0,0.0,210000.0,1.7,135.0,1.0,0.0,82.0,1.0],[1.0,328.0,0.0,30.0,1.0,621000.0,1.7,138.0,0.0,1.0,88.0,1.0],[0.0,129.0,0.0,60.0,0.0,306000.0,1.2,132.0,1.0,1.0,90.0,1.0],[1.0,143.0,0.0,60.0,0.0,351000.0,1.3,137.0,0.0,0.0,90.0,1.0],[0.0,582.0,0.0,38.0,0.0,263358.03,1.83,134.0,0.0,0.0,95.0,1.0],[0.0,582.0,0.0,40.0,0.0,217000.0,3.7,134.0,1.0,0.0,96.0,1.0],[0.0,168.0,1.0,17.0,1.0,271000.0,2.1,124.0,0.0,0.0,100.0,1.0],[0.0,805.0,0.0,38.0,0.0,263358.03,1.1,134.0,1.0,0.0,109.0,1.0],[1.0,943.0,0.0,25.0,1.0,338000.0,1.7,139.0,1.0,1.0,111.0,1.0],[1.0,582.0,0.0,30.0,0.0,225000.0,1.83,134.0,1.0,0.0,113.0,1.0],[0.0,233.0,0.0,45.0,1.0,235000.0,2.5,135.0,0.0,0.0,115.0,1.0],[1.0,2334.0,1.0,35.0,0.0,75000.0,0.9,142.0,0.0,0.0,126.0,1.0],[0.0,2442.0,1.0,30.0,0.0,334000.0,1.1,139.0,1.0,0.0,129.0,1.0],[0.0,776.0,1.0,38.0,1.0,192000.0,1.3,135.0,0.0,0.0,130.0,1.0],[0.0,66.0,1.0,20.0,0.0,70000.0,2.4,134.0,1.0,0.0,135.0,1.0],[1.0,176.0,1.0,25.0,0.0,221000.0,1.0,136.0,1.0,1.0,150.0,1.0],[0.0,395.0,1.0,25.0,0.0,265000.0,1.2,136.0,1.0,1.0,154.0,1.0],[0.0,99.0,0.0,38.0,1.0,224000.0,2.5,134.0,1.0,0.0,162.0,1.0],[1.0,145.0,0.0,25.0,0.0,219000.0,1.2,137.0,1.0,1.0,170.0,1.0],[1.0,104.0,1.0,30.0,0.0,389000.0,1.5,136.0,1.0,0.0,171.0,1.0],[0.0,582.0,0.0,50.0,0.0,153000.0,0.6,134.0,0.0,0.0,172.0,1.0],[0.0,1896.0,1.0,25.0,0.0,365000.0,2.1,144.0,0.0,0.0,172.0,1.0],[0.0,582.0,0.0,20.0,1.0,126000.0,1.6,135.0,1.0,0.0,180.0,1.0],[1.0,418.0,0.0,45.0,0.0,223000.0,1.8,145.0,1.0,0.0,180.0,1.0],[1.0,131.0,1.0,30.0,1.0,244000.0,1.6,130.0,0.0,0.0,193.0,1.0],[0.0,582.0,0.0,20.0,0.0,263358.03,1.83,134.0,1.0,0.0,198.0,1.0],[0.0,166.0,0.0,30.0,0.0,62000.0,1.7,127.0,0.0,0.0,207.0,1.0],[0.0,2017.0,0.0,25.0,0.0,314000.0,1.1,138.0,1.0,0.0,214.0,1.0],[1.0,258.0,1.0,25.0,0.0,198000.0,1.4,129.0,1.0,0.0,235.0,1.0],[0.0,1199.0,0.0,20.0,0.0,263358.03,1.83,134.0,1.0,1.0,241.0,1.0]],\"hovertemplate\":\"DEATH_EVENT=%{customdata[11]}<br>Age=%{x}<br>anaemia=%{customdata[0]}<br>creatinine_phosphokinase=%{customdata[1]}<br>diabetes=%{customdata[2]}<br>ejection_fraction=%{customdata[3]}<br>high_blood_pressure=%{customdata[4]}<br>platelets=%{customdata[5]}<br>serum_creatinine=%{customdata[6]}<br>serum_sodium=%{customdata[7]}<br>sex=%{customdata[8]}<br>smoking=%{customdata[9]}<br>time=%{customdata[10]}<extra></extra>\",\"legendgroup\":\"1\",\"marker\":{\"color\":\"#636efa\"},\"name\":\"1\",\"offsetgroup\":\"1\",\"scalegroup\":\"x\",\"showlegend\":false,\"x\":[75.0,55.0,65.0,50.0,65.0,90.0,75.0,60.0,65.0,80.0,75.0,62.0,45.0,50.0,82.0,87.0,45.0,70.0,48.0,65.0,68.0,75.0,80.0,95.0,70.0,58.0,82.0,94.0,85.0,50.0,65.0,69.0,90.0,82.0,60.0,70.0,50.0,70.0,60.0,50.0,51.0,60.0,80.0,57.0,68.0,53.0,60.0,70.0,60.0,95.0,49.0,72.0,45.0,50.0,45.0,60.0,42.0,72.0,70.0,65.0,85.0,69.0,60.0,60.0,59.0,60.0,72.0,85.0,70.0,86.0,60.0,46.0,80.0,72.0,75.0,72.0,50.0,45.0,80.0,59.0,59.0,65.0,75.0,58.0,60.667,50.0,60.0,45.0,77.0,48.0,73.0,60.0,55.0,65.0,55.0],\"xaxis\":\"x2\",\"yaxis\":\"y2\",\"type\":\"violin\"},{\"alignmentgroup\":\"True\",\"bingroup\":\"x\",\"hovertemplate\":\"DEATH_EVENT=0<br>Age=%{x}<br>count=%{y}<extra></extra>\",\"legendgroup\":\"0\",\"marker\":{\"color\":\"#EF553B\",\"pattern\":{\"shape\":\"\"}},\"name\":\"0\",\"offsetgroup\":\"0\",\"orientation\":\"v\",\"showlegend\":true,\"x\":[49.0,65.0,53.0,50.0,60.0,72.0,70.0,60.0,55.0,41.0,58.0,65.0,70.0,42.0,75.0,55.0,70.0,67.0,79.0,51.0,55.0,65.0,44.0,57.0,70.0,60.0,42.0,58.0,58.0,63.0,70.0,60.0,63.0,65.0,75.0,80.0,42.0,60.0,55.0,45.0,63.0,45.0,55.0,50.0,60.0,58.0,60.0,85.0,65.0,60.0,66.0,60.0,60.0,43.0,58.0,61.0,53.0,53.0,60.0,46.0,63.0,81.0,75.0,65.0,68.0,62.0,50.0,46.0,50.0,61.0,50.0,52.0,64.0,60.0,62.0,50.0,50.0,65.0,60.0,52.0,50.0,85.0,59.0,66.0,45.0,63.0,53.0,65.0,70.0,51.0,52.0,70.0,50.0,65.0,60.0,69.0,49.0,63.0,55.0,40.0,60.667,40.0,80.0,64.0,50.0,73.0,45.0,65.0,50.0,60.0,63.0,45.0,70.0,60.0,78.0,50.0,40.0,85.0,60.0,49.0,70.0,50.0,78.0,65.0,73.0,70.0,68.0,55.0,65.0,42.0,47.0,58.0,75.0,58.0,55.0,65.0,72.0,70.0,40.0,53.0,53.0,77.0,75.0,70.0,65.0,55.0,70.0,65.0,40.0,73.0,54.0,61.0,64.0,40.0,53.0,50.0,55.0,50.0,70.0,53.0,52.0,65.0,58.0,45.0,53.0,55.0,62.0,68.0,61.0,50.0,56.0,45.0,40.0,44.0,51.0,67.0,42.0,60.0,45.0,70.0,70.0,50.0,55.0,70.0,70.0,42.0,65.0,50.0,55.0,60.0,45.0,65.0,90.0,45.0,60.0,52.0,63.0,62.0,55.0,45.0,45.0,50.0],\"xaxis\":\"x\",\"yaxis\":\"y\",\"type\":\"histogram\"},{\"alignmentgroup\":\"True\",\"customdata\":[[1.0,80.0,0.0,30.0,1.0,427000.0,1.0,138.0,0.0,0.0,12.0,0.0],[1.0,52.0,0.0,25.0,1.0,276000.0,1.3,137.0,0.0,0.0,16.0,0.0],[0.0,63.0,1.0,60.0,0.0,368000.0,0.8,135.0,1.0,0.0,22.0,0.0],[1.0,159.0,1.0,30.0,0.0,302000.0,1.2,138.0,0.0,0.0,29.0,0.0],[0.0,2656.0,1.0,30.0,0.0,305000.0,2.3,137.0,1.0,0.0,30.0,0.0],[0.0,127.0,1.0,50.0,1.0,218000.0,1.0,134.0,1.0,0.0,33.0,0.0],[1.0,75.0,0.0,35.0,0.0,223000.0,2.7,138.0,1.0,1.0,54.0,0.0],[1.0,607.0,0.0,40.0,0.0,216000.0,0.6,138.0,1.0,1.0,54.0,0.0],[0.0,109.0,0.0,35.0,0.0,254000.0,1.1,139.0,1.0,1.0,60.0,0.0],[0.0,148.0,0.0,40.0,0.0,374000.0,0.8,140.0,1.0,1.0,68.0,0.0],[0.0,582.0,1.0,35.0,0.0,122000.0,0.9,139.0,1.0,1.0,71.0,0.0],[0.0,224.0,1.0,50.0,0.0,149000.0,1.3,137.0,1.0,1.0,72.0,0.0],[0.0,92.0,0.0,60.0,1.0,317000.0,0.8,140.0,0.0,1.0,74.0,0.0],[0.0,102.0,1.0,40.0,0.0,237000.0,1.2,140.0,1.0,0.0,74.0,0.0],[1.0,203.0,1.0,38.0,1.0,283000.0,0.6,131.0,1.0,1.0,74.0,0.0],[0.0,336.0,0.0,45.0,1.0,324000.0,0.9,140.0,0.0,0.0,74.0,0.0],[0.0,69.0,0.0,40.0,0.0,293000.0,1.7,136.0,0.0,0.0,75.0,0.0],[0.0,582.0,0.0,50.0,0.0,263358.03,1.18,137.0,1.0,1.0,76.0,0.0],[1.0,55.0,0.0,50.0,1.0,172000.0,1.8,133.0,1.0,0.0,78.0,0.0],[0.0,78.0,0.0,50.0,0.0,406000.0,0.7,140.0,1.0,0.0,79.0,0.0],[0.0,47.0,0.0,35.0,1.0,173000.0,1.1,137.0,1.0,0.0,79.0,0.0],[1.0,68.0,1.0,60.0,1.0,304000.0,0.8,140.0,1.0,0.0,79.0,0.0],[0.0,84.0,1.0,40.0,1.0,235000.0,0.7,139.0,1.0,0.0,79.0,0.0],[1.0,115.0,0.0,25.0,1.0,181000.0,1.1,144.0,1.0,0.0,79.0,0.0],[0.0,66.0,1.0,45.0,0.0,249000.0,0.8,136.0,1.0,1.0,80.0,0.0],[0.0,897.0,1.0,45.0,0.0,297000.0,1.0,133.0,1.0,0.0,80.0,0.0],[0.0,582.0,0.0,60.0,0.0,263358.03,1.18,137.0,0.0,0.0,82.0,0.0],[0.0,144.0,1.0,38.0,1.0,327000.0,0.7,142.0,0.0,0.0,83.0,0.0],[1.0,133.0,0.0,60.0,1.0,219000.0,1.0,141.0,1.0,0.0,83.0,0.0],[1.0,514.0,1.0,25.0,1.0,254000.0,1.3,134.0,1.0,0.0,83.0,0.0],[1.0,59.0,0.0,60.0,0.0,255000.0,1.1,136.0,0.0,0.0,85.0,0.0],[1.0,156.0,1.0,25.0,1.0,318000.0,1.2,137.0,0.0,0.0,85.0,0.0],[1.0,61.0,1.0,40.0,0.0,221000.0,1.1,140.0,0.0,0.0,86.0,0.0],[1.0,305.0,0.0,25.0,0.0,298000.0,1.1,141.0,1.0,0.0,87.0,0.0],[0.0,582.0,0.0,45.0,1.0,263358.03,1.18,137.0,1.0,0.0,87.0,0.0],[0.0,898.0,0.0,25.0,0.0,149000.0,1.1,144.0,1.0,1.0,87.0,0.0],[0.0,5209.0,0.0,30.0,0.0,226000.0,1.0,140.0,1.0,1.0,87.0,0.0],[0.0,53.0,0.0,50.0,1.0,286000.0,2.3,143.0,0.0,0.0,87.0,0.0],[0.0,748.0,0.0,45.0,0.0,263000.0,1.3,137.0,1.0,0.0,88.0,0.0],[1.0,1876.0,1.0,35.0,0.0,226000.0,0.9,138.0,1.0,0.0,88.0,0.0],[0.0,936.0,0.0,38.0,0.0,304000.0,1.1,133.0,1.0,1.0,88.0,0.0],[0.0,292.0,1.0,35.0,0.0,850000.0,1.3,142.0,1.0,1.0,88.0,0.0],[0.0,60.0,0.0,35.0,0.0,228000.0,1.2,135.0,1.0,1.0,90.0,0.0],[0.0,369.0,1.0,25.0,0.0,252000.0,1.6,136.0,1.0,0.0,90.0,0.0],[1.0,754.0,1.0,40.0,1.0,328000.0,1.2,126.0,1.0,0.0,91.0,0.0],[1.0,400.0,0.0,40.0,0.0,164000.0,1.0,139.0,0.0,0.0,91.0,0.0],[1.0,96.0,1.0,60.0,1.0,271000.0,0.7,136.0,0.0,0.0,94.0,0.0],[1.0,102.0,0.0,60.0,0.0,507000.0,3.2,138.0,0.0,0.0,94.0,0.0],[1.0,113.0,1.0,60.0,1.0,203000.0,0.9,140.0,0.0,0.0,94.0,0.0],[1.0,737.0,0.0,60.0,1.0,210000.0,1.5,135.0,1.0,1.0,95.0,0.0],[1.0,68.0,1.0,38.0,1.0,162000.0,1.0,136.0,0.0,0.0,95.0,0.0],[0.0,96.0,1.0,38.0,0.0,228000.0,0.75,140.0,0.0,0.0,95.0,0.0],[1.0,582.0,0.0,30.0,1.0,127000.0,0.9,145.0,0.0,0.0,95.0,0.0],[1.0,358.0,0.0,50.0,0.0,237000.0,1.3,135.0,0.0,0.0,97.0,0.0],[1.0,200.0,1.0,60.0,0.0,300000.0,0.8,137.0,0.0,0.0,104.0,0.0],[0.0,248.0,0.0,30.0,1.0,267000.0,0.7,136.0,1.0,1.0,104.0,0.0],[1.0,270.0,1.0,35.0,0.0,227000.0,3.4,145.0,1.0,0.0,105.0,0.0],[1.0,1808.0,0.0,60.0,1.0,249000.0,0.7,138.0,1.0,1.0,106.0,0.0],[1.0,1082.0,1.0,45.0,0.0,250000.0,6.1,131.0,1.0,0.0,107.0,0.0],[0.0,719.0,0.0,40.0,1.0,263358.03,1.18,137.0,0.0,0.0,107.0,0.0],[0.0,193.0,0.0,60.0,1.0,295000.0,1.3,145.0,1.0,1.0,107.0,0.0],[0.0,4540.0,0.0,35.0,0.0,231000.0,1.18,137.0,1.0,1.0,107.0,0.0],[0.0,582.0,0.0,40.0,0.0,263358.03,1.18,137.0,1.0,0.0,107.0,0.0],[1.0,59.0,1.0,60.0,0.0,172000.0,0.9,137.0,0.0,0.0,107.0,0.0],[1.0,646.0,0.0,25.0,0.0,305000.0,2.1,130.0,1.0,0.0,108.0,0.0],[0.0,281.0,1.0,35.0,0.0,221000.0,1.0,136.0,0.0,0.0,108.0,0.0],[0.0,1548.0,0.0,30.0,1.0,211000.0,0.8,138.0,1.0,0.0,108.0,0.0],[1.0,291.0,0.0,35.0,0.0,348000.0,0.9,140.0,0.0,0.0,109.0,0.0],[0.0,482.0,1.0,30.0,0.0,329000.0,0.9,132.0,0.0,0.0,109.0,0.0],[1.0,84.0,0.0,40.0,1.0,229000.0,0.9,141.0,0.0,0.0,110.0,0.0],[0.0,185.0,0.0,30.0,0.0,266000.0,0.7,141.0,1.0,1.0,112.0,0.0],[0.0,132.0,0.0,30.0,0.0,218000.0,0.7,136.0,1.0,1.0,112.0,0.0],[0.0,1610.0,0.0,60.0,0.0,242000.0,1.0,137.0,1.0,0.0,113.0,0.0],[0.0,2261.0,0.0,35.0,1.0,228000.0,0.9,136.0,1.0,0.0,115.0,0.0],[0.0,30.0,1.0,60.0,1.0,244000.0,0.9,139.0,1.0,0.0,117.0,0.0],[0.0,115.0,0.0,45.0,1.0,184000.0,0.9,134.0,1.0,1.0,118.0,0.0],[0.0,1846.0,1.0,35.0,0.0,263358.03,1.18,137.0,1.0,1.0,119.0,0.0],[1.0,335.0,0.0,35.0,1.0,235000.0,0.8,136.0,0.0,0.0,120.0,0.0],[1.0,231.0,1.0,25.0,0.0,194000.0,1.7,140.0,1.0,0.0,120.0,0.0],[1.0,58.0,0.0,35.0,0.0,277000.0,1.4,136.0,0.0,0.0,120.0,0.0],[0.0,250.0,0.0,25.0,0.0,262000.0,1.0,136.0,1.0,1.0,120.0,0.0],[1.0,910.0,0.0,50.0,0.0,235000.0,1.3,134.0,1.0,0.0,121.0,0.0],[1.0,129.0,0.0,45.0,1.0,362000.0,1.1,139.0,1.0,1.0,121.0,0.0],[1.0,72.0,0.0,40.0,1.0,242000.0,1.2,134.0,1.0,0.0,121.0,0.0],[1.0,130.0,0.0,35.0,0.0,174000.0,0.8,139.0,1.0,1.0,121.0,0.0],[1.0,582.0,0.0,40.0,0.0,448000.0,0.9,137.0,1.0,1.0,123.0,0.0],[0.0,196.0,0.0,60.0,0.0,220000.0,0.7,133.0,1.0,1.0,134.0,0.0],[0.0,582.0,1.0,40.0,0.0,270000.0,1.0,138.0,0.0,0.0,140.0,0.0],[0.0,835.0,0.0,35.0,1.0,305000.0,0.8,133.0,0.0,0.0,145.0,0.0],[1.0,582.0,1.0,35.0,0.0,263358.03,1.5,136.0,1.0,1.0,145.0,0.0],[0.0,3966.0,0.0,40.0,0.0,325000.0,0.9,140.0,1.0,1.0,146.0,0.0],[1.0,171.0,0.0,60.0,1.0,176000.0,1.1,145.0,1.0,1.0,146.0,0.0],[1.0,115.0,0.0,20.0,0.0,189000.0,0.8,139.0,1.0,0.0,146.0,0.0],[0.0,198.0,1.0,35.0,1.0,281000.0,0.9,137.0,1.0,1.0,146.0,0.0],[1.0,95.0,0.0,60.0,0.0,337000.0,1.0,138.0,1.0,1.0,146.0,0.0],[0.0,1419.0,0.0,40.0,0.0,105000.0,1.0,135.0,1.0,1.0,147.0,0.0],[1.0,69.0,0.0,50.0,0.0,132000.0,1.0,140.0,0.0,0.0,147.0,0.0],[1.0,122.0,1.0,60.0,0.0,267000.0,1.2,145.0,1.0,0.0,147.0,0.0],[0.0,835.0,0.0,40.0,0.0,279000.0,0.7,140.0,1.0,1.0,147.0,0.0],[0.0,478.0,1.0,30.0,0.0,303000.0,0.9,136.0,1.0,0.0,148.0,0.0],[1.0,151.0,1.0,40.0,1.0,201000.0,1.0,136.0,0.0,0.0,172.0,0.0],[0.0,244.0,0.0,45.0,1.0,275000.0,0.9,140.0,0.0,0.0,174.0,0.0],[0.0,582.0,1.0,35.0,0.0,350000.0,2.1,134.0,1.0,0.0,174.0,0.0],[1.0,62.0,0.0,60.0,0.0,309000.0,1.5,135.0,0.0,0.0,174.0,0.0],[1.0,121.0,1.0,40.0,0.0,260000.0,0.7,130.0,1.0,0.0,175.0,0.0],[1.0,231.0,1.0,30.0,0.0,160000.0,1.18,142.0,1.0,1.0,180.0,0.0],[0.0,582.0,1.0,38.0,1.0,263358.03,1.18,137.0,0.0,0.0,185.0,0.0],[0.0,167.0,0.0,30.0,0.0,259000.0,0.8,138.0,0.0,0.0,186.0,0.0],[1.0,582.0,1.0,20.0,1.0,279000.0,1.0,134.0,0.0,0.0,186.0,0.0],[0.0,1211.0,1.0,35.0,0.0,263358.03,1.8,113.0,1.0,1.0,186.0,0.0],[1.0,1767.0,0.0,45.0,0.0,73000.0,0.7,137.0,1.0,0.0,186.0,0.0],[0.0,308.0,1.0,60.0,1.0,377000.0,1.0,136.0,1.0,0.0,186.0,0.0],[0.0,97.0,0.0,60.0,1.0,220000.0,0.9,138.0,1.0,0.0,186.0,0.0],[0.0,59.0,0.0,25.0,1.0,212000.0,3.5,136.0,1.0,1.0,187.0,0.0],[1.0,64.0,0.0,40.0,0.0,277000.0,0.7,137.0,1.0,1.0,187.0,0.0],[1.0,167.0,1.0,45.0,0.0,362000.0,1.0,136.0,0.0,0.0,187.0,0.0],[1.0,101.0,0.0,40.0,0.0,226000.0,0.8,141.0,0.0,0.0,187.0,0.0],[0.0,212.0,0.0,38.0,0.0,186000.0,0.9,136.0,1.0,0.0,187.0,0.0],[1.0,2281.0,1.0,40.0,0.0,283000.0,1.0,141.0,0.0,0.0,187.0,0.0],[0.0,972.0,1.0,35.0,1.0,268000.0,0.8,130.0,0.0,0.0,187.0,0.0],[0.0,212.0,1.0,17.0,1.0,389000.0,1.0,136.0,1.0,1.0,188.0,0.0],[0.0,582.0,0.0,62.0,1.0,147000.0,0.8,140.0,1.0,1.0,192.0,0.0],[0.0,224.0,0.0,50.0,0.0,481000.0,1.4,138.0,1.0,1.0,192.0,0.0],[1.0,135.0,0.0,35.0,1.0,290000.0,0.8,134.0,1.0,0.0,194.0,0.0],[0.0,582.0,0.0,35.0,1.0,203000.0,1.3,134.0,1.0,0.0,195.0,0.0],[0.0,1202.0,0.0,50.0,1.0,358000.0,0.9,141.0,0.0,0.0,196.0,0.0],[1.0,1021.0,1.0,35.0,0.0,271000.0,1.1,134.0,1.0,0.0,197.0,0.0],[0.0,582.0,1.0,35.0,1.0,371000.0,0.7,140.0,0.0,0.0,197.0,0.0],[0.0,118.0,0.0,50.0,0.0,194000.0,1.1,145.0,1.0,1.0,200.0,0.0],[1.0,86.0,0.0,35.0,0.0,365000.0,1.1,139.0,1.0,1.0,201.0,0.0],[0.0,582.0,0.0,25.0,0.0,130000.0,0.8,134.0,1.0,0.0,201.0,0.0],[0.0,582.0,1.0,25.0,0.0,504000.0,1.0,138.0,1.0,0.0,205.0,0.0],[0.0,675.0,1.0,60.0,0.0,265000.0,1.4,125.0,0.0,0.0,205.0,0.0],[1.0,57.0,0.0,25.0,0.0,189000.0,1.3,132.0,1.0,1.0,205.0,0.0],[1.0,2794.0,0.0,35.0,1.0,141000.0,1.0,140.0,1.0,0.0,206.0,0.0],[0.0,56.0,0.0,25.0,0.0,237000.0,5.0,130.0,0.0,0.0,207.0,0.0],[0.0,211.0,0.0,25.0,0.0,274000.0,1.2,134.0,0.0,0.0,207.0,0.0],[0.0,93.0,0.0,35.0,0.0,185000.0,1.1,134.0,1.0,1.0,208.0,0.0],[1.0,129.0,0.0,35.0,0.0,255000.0,0.9,137.0,1.0,0.0,209.0,0.0],[1.0,707.0,0.0,38.0,0.0,330000.0,1.4,137.0,1.0,1.0,209.0,0.0],[1.0,582.0,0.0,45.0,0.0,305000.0,1.1,137.0,1.0,1.0,209.0,0.0],[1.0,109.0,0.0,50.0,1.0,406000.0,1.1,137.0,1.0,0.0,209.0,0.0],[0.0,119.0,0.0,50.0,1.0,248000.0,1.1,148.0,1.0,0.0,209.0,0.0],[0.0,232.0,0.0,30.0,0.0,173000.0,1.2,132.0,1.0,0.0,210.0,0.0],[1.0,720.0,1.0,40.0,0.0,257000.0,1.0,136.0,0.0,0.0,210.0,0.0],[1.0,180.0,0.0,45.0,0.0,263358.03,1.18,137.0,1.0,1.0,211.0,0.0],[0.0,81.0,1.0,35.0,1.0,533000.0,1.3,139.0,0.0,0.0,212.0,0.0],[0.0,582.0,1.0,30.0,0.0,249000.0,1.3,136.0,1.0,1.0,212.0,0.0],[0.0,90.0,0.0,35.0,0.0,255000.0,1.1,136.0,1.0,1.0,212.0,0.0],[1.0,1185.0,0.0,40.0,1.0,220000.0,0.9,141.0,0.0,0.0,213.0,0.0],[0.0,582.0,1.0,38.0,0.0,264000.0,1.8,134.0,1.0,0.0,213.0,0.0],[1.0,80.0,1.0,38.0,0.0,282000.0,1.4,137.0,1.0,0.0,213.0,0.0],[0.0,143.0,0.0,25.0,0.0,246000.0,2.4,135.0,1.0,0.0,214.0,0.0],[0.0,624.0,0.0,35.0,0.0,301000.0,1.0,142.0,1.0,1.0,214.0,0.0],[0.0,207.0,1.0,40.0,0.0,223000.0,1.2,130.0,0.0,0.0,214.0,0.0],[0.0,2522.0,0.0,30.0,1.0,404000.0,0.5,139.0,0.0,0.0,214.0,0.0],[0.0,572.0,1.0,35.0,0.0,231000.0,0.8,143.0,0.0,0.0,215.0,0.0],[0.0,245.0,0.0,45.0,1.0,274000.0,1.0,133.0,1.0,0.0,215.0,0.0],[0.0,88.0,1.0,35.0,1.0,236000.0,1.2,132.0,0.0,0.0,215.0,0.0],[1.0,446.0,0.0,60.0,1.0,263358.03,1.0,139.0,1.0,0.0,215.0,0.0],[1.0,191.0,1.0,30.0,1.0,334000.0,1.0,142.0,1.0,1.0,216.0,0.0],[0.0,326.0,0.0,38.0,0.0,294000.0,1.7,139.0,0.0,0.0,220.0,0.0],[0.0,132.0,1.0,38.0,1.0,253000.0,1.0,139.0,1.0,0.0,230.0,0.0],[1.0,66.0,1.0,25.0,0.0,233000.0,0.8,135.0,1.0,0.0,230.0,0.0],[0.0,56.0,0.0,50.0,0.0,308000.0,0.7,135.0,1.0,1.0,231.0,0.0],[0.0,66.0,0.0,40.0,0.0,203000.0,1.0,138.0,1.0,0.0,233.0,0.0],[1.0,655.0,0.0,40.0,0.0,283000.0,0.7,133.0,0.0,0.0,233.0,0.0],[1.0,157.0,1.0,60.0,0.0,208000.0,1.0,140.0,0.0,0.0,237.0,0.0],[0.0,582.0,1.0,38.0,0.0,147000.0,1.2,141.0,1.0,0.0,237.0,0.0],[1.0,298.0,0.0,35.0,0.0,362000.0,0.9,140.0,1.0,1.0,240.0,0.0],[1.0,135.0,1.0,38.0,0.0,133000.0,1.7,140.0,1.0,0.0,244.0,0.0],[0.0,582.0,1.0,38.0,0.0,302000.0,0.9,140.0,0.0,0.0,244.0,0.0],[0.0,582.0,1.0,35.0,0.0,222000.0,1.0,132.0,1.0,0.0,244.0,0.0],[0.0,582.0,1.0,30.0,1.0,263358.03,1.6,130.0,1.0,1.0,244.0,0.0],[0.0,582.0,1.0,40.0,0.0,221000.0,0.9,134.0,0.0,0.0,244.0,0.0],[0.0,213.0,0.0,38.0,0.0,215000.0,1.2,133.0,0.0,0.0,245.0,0.0],[0.0,64.0,0.0,40.0,0.0,189000.0,0.7,140.0,1.0,0.0,245.0,0.0],[1.0,257.0,1.0,30.0,0.0,150000.0,1.0,137.0,1.0,1.0,245.0,0.0],[0.0,582.0,0.0,38.0,1.0,422000.0,0.8,137.0,0.0,0.0,245.0,0.0],[0.0,618.0,0.0,35.0,0.0,327000.0,1.1,142.0,0.0,0.0,245.0,0.0],[0.0,582.0,1.0,38.0,0.0,25100.0,1.1,140.0,1.0,0.0,246.0,0.0],[1.0,1051.0,1.0,30.0,0.0,232000.0,0.7,136.0,0.0,0.0,246.0,0.0],[0.0,84.0,1.0,38.0,0.0,451000.0,1.3,136.0,0.0,0.0,246.0,0.0],[0.0,2695.0,1.0,40.0,0.0,241000.0,1.0,137.0,1.0,0.0,247.0,0.0],[0.0,582.0,0.0,40.0,0.0,51000.0,2.7,136.0,1.0,1.0,250.0,0.0],[0.0,64.0,0.0,30.0,0.0,215000.0,3.8,128.0,1.0,1.0,250.0,0.0],[0.0,1688.0,0.0,38.0,0.0,263358.03,1.1,138.0,1.0,1.0,250.0,0.0],[1.0,54.0,0.0,40.0,0.0,279000.0,0.8,141.0,1.0,0.0,250.0,0.0],[1.0,170.0,1.0,40.0,0.0,336000.0,1.2,135.0,1.0,0.0,250.0,0.0],[0.0,253.0,0.0,35.0,0.0,279000.0,1.7,140.0,1.0,0.0,250.0,0.0],[0.0,582.0,1.0,55.0,0.0,543000.0,1.0,132.0,0.0,0.0,250.0,0.0],[0.0,892.0,1.0,35.0,0.0,263358.03,1.1,142.0,0.0,0.0,256.0,0.0],[1.0,337.0,0.0,38.0,0.0,390000.0,0.9,144.0,0.0,0.0,256.0,0.0],[0.0,615.0,1.0,55.0,0.0,222000.0,0.8,141.0,0.0,0.0,257.0,0.0],[0.0,320.0,0.0,35.0,0.0,133000.0,1.4,139.0,1.0,0.0,258.0,0.0],[0.0,190.0,1.0,38.0,0.0,382000.0,1.0,140.0,1.0,1.0,258.0,0.0],[1.0,103.0,1.0,35.0,0.0,179000.0,0.9,136.0,1.0,1.0,270.0,0.0],[0.0,61.0,1.0,38.0,1.0,155000.0,1.1,143.0,1.0,1.0,270.0,0.0],[0.0,1820.0,0.0,38.0,0.0,270000.0,1.2,139.0,0.0,0.0,271.0,0.0],[0.0,2060.0,1.0,60.0,0.0,742000.0,0.8,138.0,0.0,0.0,278.0,0.0],[0.0,2413.0,0.0,38.0,0.0,140000.0,1.4,140.0,1.0,1.0,280.0,0.0],[0.0,196.0,0.0,45.0,0.0,395000.0,1.6,136.0,1.0,1.0,285.0,0.0]],\"hovertemplate\":\"DEATH_EVENT=%{customdata[11]}<br>Age=%{x}<br>anaemia=%{customdata[0]}<br>creatinine_phosphokinase=%{customdata[1]}<br>diabetes=%{customdata[2]}<br>ejection_fraction=%{customdata[3]}<br>high_blood_pressure=%{customdata[4]}<br>platelets=%{customdata[5]}<br>serum_creatinine=%{customdata[6]}<br>serum_sodium=%{customdata[7]}<br>sex=%{customdata[8]}<br>smoking=%{customdata[9]}<br>time=%{customdata[10]}<extra></extra>\",\"legendgroup\":\"0\",\"marker\":{\"color\":\"#EF553B\"},\"name\":\"0\",\"offsetgroup\":\"0\",\"scalegroup\":\"x\",\"showlegend\":false,\"x\":[49.0,65.0,53.0,50.0,60.0,72.0,70.0,60.0,55.0,41.0,58.0,65.0,70.0,42.0,75.0,55.0,70.0,67.0,79.0,51.0,55.0,65.0,44.0,57.0,70.0,60.0,42.0,58.0,58.0,63.0,70.0,60.0,63.0,65.0,75.0,80.0,42.0,60.0,55.0,45.0,63.0,45.0,55.0,50.0,60.0,58.0,60.0,85.0,65.0,60.0,66.0,60.0,60.0,43.0,58.0,61.0,53.0,53.0,60.0,46.0,63.0,81.0,75.0,65.0,68.0,62.0,50.0,46.0,50.0,61.0,50.0,52.0,64.0,60.0,62.0,50.0,50.0,65.0,60.0,52.0,50.0,85.0,59.0,66.0,45.0,63.0,53.0,65.0,70.0,51.0,52.0,70.0,50.0,65.0,60.0,69.0,49.0,63.0,55.0,40.0,60.667,40.0,80.0,64.0,50.0,73.0,45.0,65.0,50.0,60.0,63.0,45.0,70.0,60.0,78.0,50.0,40.0,85.0,60.0,49.0,70.0,50.0,78.0,65.0,73.0,70.0,68.0,55.0,65.0,42.0,47.0,58.0,75.0,58.0,55.0,65.0,72.0,70.0,40.0,53.0,53.0,77.0,75.0,70.0,65.0,55.0,70.0,65.0,40.0,73.0,54.0,61.0,64.0,40.0,53.0,50.0,55.0,50.0,70.0,53.0,52.0,65.0,58.0,45.0,53.0,55.0,62.0,68.0,61.0,50.0,56.0,45.0,40.0,44.0,51.0,67.0,42.0,60.0,45.0,70.0,70.0,50.0,55.0,70.0,70.0,42.0,65.0,50.0,55.0,60.0,45.0,65.0,90.0,45.0,60.0,52.0,63.0,62.0,55.0,45.0,45.0,50.0],\"xaxis\":\"x2\",\"yaxis\":\"y2\",\"type\":\"violin\"}],                        {\"template\":{\"data\":{\"barpolar\":[{\"marker\":{\"line\":{\"color\":\"rgb(17,17,17)\",\"width\":0.5},\"pattern\":{\"fillmode\":\"overlay\",\"size\":10,\"solidity\":0.2}},\"type\":\"barpolar\"}],\"bar\":[{\"error_x\":{\"color\":\"#f2f5fa\"},\"error_y\":{\"color\":\"#f2f5fa\"},\"marker\":{\"line\":{\"color\":\"rgb(17,17,17)\",\"width\":0.5},\"pattern\":{\"fillmode\":\"overlay\",\"size\":10,\"solidity\":0.2}},\"type\":\"bar\"}],\"carpet\":[{\"aaxis\":{\"endlinecolor\":\"#A2B1C6\",\"gridcolor\":\"#506784\",\"linecolor\":\"#506784\",\"minorgridcolor\":\"#506784\",\"startlinecolor\":\"#A2B1C6\"},\"baxis\":{\"endlinecolor\":\"#A2B1C6\",\"gridcolor\":\"#506784\",\"linecolor\":\"#506784\",\"minorgridcolor\":\"#506784\",\"startlinecolor\":\"#A2B1C6\"},\"type\":\"carpet\"}],\"choropleth\":[{\"colorbar\":{\"outlinewidth\":0,\"ticks\":\"\"},\"type\":\"choropleth\"}],\"contourcarpet\":[{\"colorbar\":{\"outlinewidth\":0,\"ticks\":\"\"},\"type\":\"contourcarpet\"}],\"contour\":[{\"colorbar\":{\"outlinewidth\":0,\"ticks\":\"\"},\"colorscale\":[[0.0,\"#0d0887\"],[0.1111111111111111,\"#46039f\"],[0.2222222222222222,\"#7201a8\"],[0.3333333333333333,\"#9c179e\"],[0.4444444444444444,\"#bd3786\"],[0.5555555555555556,\"#d8576b\"],[0.6666666666666666,\"#ed7953\"],[0.7777777777777778,\"#fb9f3a\"],[0.8888888888888888,\"#fdca26\"],[1.0,\"#f0f921\"]],\"type\":\"contour\"}],\"heatmapgl\":[{\"colorbar\":{\"outlinewidth\":0,\"ticks\":\"\"},\"colorscale\":[[0.0,\"#0d0887\"],[0.1111111111111111,\"#46039f\"],[0.2222222222222222,\"#7201a8\"],[0.3333333333333333,\"#9c179e\"],[0.4444444444444444,\"#bd3786\"],[0.5555555555555556,\"#d8576b\"],[0.6666666666666666,\"#ed7953\"],[0.7777777777777778,\"#fb9f3a\"],[0.8888888888888888,\"#fdca26\"],[1.0,\"#f0f921\"]],\"type\":\"heatmapgl\"}],\"heatmap\":[{\"colorbar\":{\"outlinewidth\":0,\"ticks\":\"\"},\"colorscale\":[[0.0,\"#0d0887\"],[0.1111111111111111,\"#46039f\"],[0.2222222222222222,\"#7201a8\"],[0.3333333333333333,\"#9c179e\"],[0.4444444444444444,\"#bd3786\"],[0.5555555555555556,\"#d8576b\"],[0.6666666666666666,\"#ed7953\"],[0.7777777777777778,\"#fb9f3a\"],[0.8888888888888888,\"#fdca26\"],[1.0,\"#f0f921\"]],\"type\":\"heatmap\"}],\"histogram2dcontour\":[{\"colorbar\":{\"outlinewidth\":0,\"ticks\":\"\"},\"colorscale\":[[0.0,\"#0d0887\"],[0.1111111111111111,\"#46039f\"],[0.2222222222222222,\"#7201a8\"],[0.3333333333333333,\"#9c179e\"],[0.4444444444444444,\"#bd3786\"],[0.5555555555555556,\"#d8576b\"],[0.6666666666666666,\"#ed7953\"],[0.7777777777777778,\"#fb9f3a\"],[0.8888888888888888,\"#fdca26\"],[1.0,\"#f0f921\"]],\"type\":\"histogram2dcontour\"}],\"histogram2d\":[{\"colorbar\":{\"outlinewidth\":0,\"ticks\":\"\"},\"colorscale\":[[0.0,\"#0d0887\"],[0.1111111111111111,\"#46039f\"],[0.2222222222222222,\"#7201a8\"],[0.3333333333333333,\"#9c179e\"],[0.4444444444444444,\"#bd3786\"],[0.5555555555555556,\"#d8576b\"],[0.6666666666666666,\"#ed7953\"],[0.7777777777777778,\"#fb9f3a\"],[0.8888888888888888,\"#fdca26\"],[1.0,\"#f0f921\"]],\"type\":\"histogram2d\"}],\"histogram\":[{\"marker\":{\"pattern\":{\"fillmode\":\"overlay\",\"size\":10,\"solidity\":0.2}},\"type\":\"histogram\"}],\"mesh3d\":[{\"colorbar\":{\"outlinewidth\":0,\"ticks\":\"\"},\"type\":\"mesh3d\"}],\"parcoords\":[{\"line\":{\"colorbar\":{\"outlinewidth\":0,\"ticks\":\"\"}},\"type\":\"parcoords\"}],\"pie\":[{\"automargin\":true,\"type\":\"pie\"}],\"scatter3d\":[{\"line\":{\"colorbar\":{\"outlinewidth\":0,\"ticks\":\"\"}},\"marker\":{\"colorbar\":{\"outlinewidth\":0,\"ticks\":\"\"}},\"type\":\"scatter3d\"}],\"scattercarpet\":[{\"marker\":{\"colorbar\":{\"outlinewidth\":0,\"ticks\":\"\"}},\"type\":\"scattercarpet\"}],\"scattergeo\":[{\"marker\":{\"colorbar\":{\"outlinewidth\":0,\"ticks\":\"\"}},\"type\":\"scattergeo\"}],\"scattergl\":[{\"marker\":{\"line\":{\"color\":\"#283442\"}},\"type\":\"scattergl\"}],\"scattermapbox\":[{\"marker\":{\"colorbar\":{\"outlinewidth\":0,\"ticks\":\"\"}},\"type\":\"scattermapbox\"}],\"scatterpolargl\":[{\"marker\":{\"colorbar\":{\"outlinewidth\":0,\"ticks\":\"\"}},\"type\":\"scatterpolargl\"}],\"scatterpolar\":[{\"marker\":{\"colorbar\":{\"outlinewidth\":0,\"ticks\":\"\"}},\"type\":\"scatterpolar\"}],\"scatter\":[{\"marker\":{\"line\":{\"color\":\"#283442\"}},\"type\":\"scatter\"}],\"scatterternary\":[{\"marker\":{\"colorbar\":{\"outlinewidth\":0,\"ticks\":\"\"}},\"type\":\"scatterternary\"}],\"surface\":[{\"colorbar\":{\"outlinewidth\":0,\"ticks\":\"\"},\"colorscale\":[[0.0,\"#0d0887\"],[0.1111111111111111,\"#46039f\"],[0.2222222222222222,\"#7201a8\"],[0.3333333333333333,\"#9c179e\"],[0.4444444444444444,\"#bd3786\"],[0.5555555555555556,\"#d8576b\"],[0.6666666666666666,\"#ed7953\"],[0.7777777777777778,\"#fb9f3a\"],[0.8888888888888888,\"#fdca26\"],[1.0,\"#f0f921\"]],\"type\":\"surface\"}],\"table\":[{\"cells\":{\"fill\":{\"color\":\"#506784\"},\"line\":{\"color\":\"rgb(17,17,17)\"}},\"header\":{\"fill\":{\"color\":\"#2a3f5f\"},\"line\":{\"color\":\"rgb(17,17,17)\"}},\"type\":\"table\"}]},\"layout\":{\"annotationdefaults\":{\"arrowcolor\":\"#f2f5fa\",\"arrowhead\":0,\"arrowwidth\":1},\"autotypenumbers\":\"strict\",\"coloraxis\":{\"colorbar\":{\"outlinewidth\":0,\"ticks\":\"\"}},\"colorscale\":{\"diverging\":[[0,\"#8e0152\"],[0.1,\"#c51b7d\"],[0.2,\"#de77ae\"],[0.3,\"#f1b6da\"],[0.4,\"#fde0ef\"],[0.5,\"#f7f7f7\"],[0.6,\"#e6f5d0\"],[0.7,\"#b8e186\"],[0.8,\"#7fbc41\"],[0.9,\"#4d9221\"],[1,\"#276419\"]],\"sequential\":[[0.0,\"#0d0887\"],[0.1111111111111111,\"#46039f\"],[0.2222222222222222,\"#7201a8\"],[0.3333333333333333,\"#9c179e\"],[0.4444444444444444,\"#bd3786\"],[0.5555555555555556,\"#d8576b\"],[0.6666666666666666,\"#ed7953\"],[0.7777777777777778,\"#fb9f3a\"],[0.8888888888888888,\"#fdca26\"],[1.0,\"#f0f921\"]],\"sequentialminus\":[[0.0,\"#0d0887\"],[0.1111111111111111,\"#46039f\"],[0.2222222222222222,\"#7201a8\"],[0.3333333333333333,\"#9c179e\"],[0.4444444444444444,\"#bd3786\"],[0.5555555555555556,\"#d8576b\"],[0.6666666666666666,\"#ed7953\"],[0.7777777777777778,\"#fb9f3a\"],[0.8888888888888888,\"#fdca26\"],[1.0,\"#f0f921\"]]},\"colorway\":[\"#636efa\",\"#EF553B\",\"#00cc96\",\"#ab63fa\",\"#FFA15A\",\"#19d3f3\",\"#FF6692\",\"#B6E880\",\"#FF97FF\",\"#FECB52\"],\"font\":{\"color\":\"#f2f5fa\"},\"geo\":{\"bgcolor\":\"rgb(17,17,17)\",\"lakecolor\":\"rgb(17,17,17)\",\"landcolor\":\"rgb(17,17,17)\",\"showlakes\":true,\"showland\":true,\"subunitcolor\":\"#506784\"},\"hoverlabel\":{\"align\":\"left\"},\"hovermode\":\"closest\",\"mapbox\":{\"style\":\"dark\"},\"paper_bgcolor\":\"rgb(17,17,17)\",\"plot_bgcolor\":\"rgb(17,17,17)\",\"polar\":{\"angularaxis\":{\"gridcolor\":\"#506784\",\"linecolor\":\"#506784\",\"ticks\":\"\"},\"bgcolor\":\"rgb(17,17,17)\",\"radialaxis\":{\"gridcolor\":\"#506784\",\"linecolor\":\"#506784\",\"ticks\":\"\"}},\"scene\":{\"xaxis\":{\"backgroundcolor\":\"rgb(17,17,17)\",\"gridcolor\":\"#506784\",\"gridwidth\":2,\"linecolor\":\"#506784\",\"showbackground\":true,\"ticks\":\"\",\"zerolinecolor\":\"#C8D4E3\"},\"yaxis\":{\"backgroundcolor\":\"rgb(17,17,17)\",\"gridcolor\":\"#506784\",\"gridwidth\":2,\"linecolor\":\"#506784\",\"showbackground\":true,\"ticks\":\"\",\"zerolinecolor\":\"#C8D4E3\"},\"zaxis\":{\"backgroundcolor\":\"rgb(17,17,17)\",\"gridcolor\":\"#506784\",\"gridwidth\":2,\"linecolor\":\"#506784\",\"showbackground\":true,\"ticks\":\"\",\"zerolinecolor\":\"#C8D4E3\"}},\"shapedefaults\":{\"line\":{\"color\":\"#f2f5fa\"}},\"sliderdefaults\":{\"bgcolor\":\"#C8D4E3\",\"bordercolor\":\"rgb(17,17,17)\",\"borderwidth\":1,\"tickwidth\":0},\"ternary\":{\"aaxis\":{\"gridcolor\":\"#506784\",\"linecolor\":\"#506784\",\"ticks\":\"\"},\"baxis\":{\"gridcolor\":\"#506784\",\"linecolor\":\"#506784\",\"ticks\":\"\"},\"bgcolor\":\"rgb(17,17,17)\",\"caxis\":{\"gridcolor\":\"#506784\",\"linecolor\":\"#506784\",\"ticks\":\"\"}},\"title\":{\"x\":0.05},\"updatemenudefaults\":{\"bgcolor\":\"#506784\",\"borderwidth\":0},\"xaxis\":{\"automargin\":true,\"gridcolor\":\"#283442\",\"linecolor\":\"#506784\",\"ticks\":\"\",\"title\":{\"standoff\":15},\"zerolinecolor\":\"#283442\",\"zerolinewidth\":2},\"yaxis\":{\"automargin\":true,\"gridcolor\":\"#283442\",\"linecolor\":\"#506784\",\"ticks\":\"\",\"title\":{\"standoff\":15},\"zerolinecolor\":\"#283442\",\"zerolinewidth\":2}}},\"xaxis\":{\"anchor\":\"y\",\"domain\":[0.0,1.0],\"title\":{\"text\":\"Age\"}},\"yaxis\":{\"anchor\":\"x\",\"domain\":[0.0,0.7326],\"title\":{\"text\":\"count\"}},\"xaxis2\":{\"anchor\":\"y2\",\"domain\":[0.0,1.0],\"matches\":\"x\",\"showticklabels\":false,\"showgrid\":true},\"yaxis2\":{\"anchor\":\"x2\",\"domain\":[0.7426,1.0],\"matches\":\"y2\",\"showticklabels\":false,\"showline\":false,\"ticks\":\"\",\"showgrid\":false},\"legend\":{\"title\":{\"text\":\"DEATH_EVENT\"},\"tracegroupgap\":0},\"title\":{\"text\":\"Distribution of Age by DEATH_EVENT\"},\"barmode\":\"relative\"},                        {\"responsive\": true}                    ).then(function(){\n",
       "                            \n",
       "var gd = document.getElementById('491af22f-0b36-4bfa-9935-13e89693ad39');\n",
       "var x = new MutationObserver(function (mutations, observer) {{\n",
       "        var display = window.getComputedStyle(gd).display;\n",
       "        if (!display || display === 'none') {{\n",
       "            console.log([gd, 'removed!']);\n",
       "            Plotly.purge(gd);\n",
       "            observer.disconnect();\n",
       "        }}\n",
       "}});\n",
       "\n",
       "// Listen for the removal of the full notebook cells\n",
       "var notebookContainer = gd.closest('#notebook-container');\n",
       "if (notebookContainer) {{\n",
       "    x.observe(notebookContainer, {childList: true});\n",
       "}}\n",
       "\n",
       "// Listen for the clearing of the current output cell\n",
       "var outputEl = gd.closest('.output');\n",
       "if (outputEl) {{\n",
       "    x.observe(outputEl, {childList: true});\n",
       "}}\n",
       "\n",
       "                        })                };                });            </script>        </div>"
      ]
     },
     "metadata": {},
     "output_type": "display_data"
    }
   ],
   "source": [
    "# Distribution of age by death_event\n",
    "\n",
    "fig = px.histogram(dataset, \n",
    "                   x = 'age', \n",
    "                   color = 'DEATH_EVENT', \n",
    "                   marginal = 'violin', \n",
    "                   hover_data = dataset.columns,\n",
    "                   title = \"Distribution of Age by DEATH_EVENT\",\n",
    "                   labels = {'age': 'Age'},\n",
    "                   template = 'plotly_dark'\n",
    "                  )\n",
    "fig.show()"
   ]
  },
  {
   "cell_type": "markdown",
   "id": "6765a2b4",
   "metadata": {},
   "source": [
    "Wider sections of the violin plot represent a higher probability of observations having a given value, whereas the thinner sections represent a lower probability."
   ]
  },
  {
   "cell_type": "code",
   "execution_count": 34,
   "id": "32f44e10",
   "metadata": {},
   "outputs": [
    {
     "data": {
      "application/vnd.plotly.v1+json": {
       "config": {
        "plotlyServerURL": "https://plot.ly"
       },
       "data": [
        {
         "marker": {
          "color": "#4c78a8"
         },
         "opacity": 1,
         "type": "histogram",
         "x": [
          20,
          38,
          20,
          20,
          20,
          40,
          15,
          60,
          65,
          35,
          38,
          25,
          30,
          38,
          30,
          50,
          38,
          14,
          25,
          55,
          25,
          30,
          35,
          60,
          30,
          38,
          40,
          45,
          38,
          30,
          38,
          45,
          35,
          30,
          50,
          35,
          50,
          50,
          30,
          38,
          20,
          30,
          45,
          50,
          60,
          38,
          25,
          38,
          20,
          30,
          25,
          20,
          62,
          50,
          38,
          30,
          35,
          40,
          20,
          20,
          25,
          40,
          35,
          35,
          20,
          15,
          25,
          25,
          25,
          40,
          35,
          35,
          50,
          20,
          20,
          60,
          40,
          38,
          45,
          40,
          50,
          25,
          50,
          25,
          50,
          35,
          60,
          40,
          25,
          45,
          45,
          60,
          25,
          38,
          60,
          25,
          60,
          25,
          40,
          25,
          45,
          25,
          30,
          50,
          30,
          45,
          35,
          38,
          35,
          60,
          35,
          25,
          60,
          40,
          40,
          60,
          60,
          60,
          38,
          60,
          38,
          38,
          30,
          40,
          50,
          17,
          60,
          30,
          35,
          60,
          45,
          40,
          60,
          35,
          40,
          60,
          25,
          35,
          30,
          38,
          35,
          30,
          40,
          25,
          30,
          30,
          60,
          30,
          35,
          45,
          60,
          45,
          35,
          35,
          25,
          35,
          25,
          50,
          45,
          40,
          35,
          40,
          35,
          30,
          38,
          60,
          20,
          40,
          35,
          35,
          40,
          60,
          20,
          35,
          60,
          40,
          50,
          60,
          40,
          30,
          25,
          25,
          38,
          25,
          30,
          50,
          25,
          40,
          45,
          35,
          60,
          40,
          30,
          20,
          45,
          38,
          30,
          20,
          35,
          45,
          60,
          60,
          25,
          40,
          45,
          40,
          38,
          40,
          35,
          17,
          62,
          50,
          30,
          35,
          35,
          50,
          35,
          35,
          20,
          50,
          35,
          25,
          25,
          60,
          25,
          35,
          25,
          25,
          30,
          35,
          35,
          38,
          45,
          50,
          50,
          30,
          40,
          45,
          35,
          30,
          35,
          40,
          38,
          38,
          25,
          25,
          35,
          40,
          30,
          35,
          45,
          35,
          60,
          30,
          38,
          38,
          25,
          50,
          40,
          40,
          25,
          60,
          38,
          35,
          20,
          38,
          38,
          35,
          30,
          40,
          38,
          40,
          30,
          38,
          35,
          38,
          30,
          38,
          40,
          40,
          30,
          38,
          40,
          40,
          35,
          55,
          35,
          38,
          55,
          35,
          38,
          35,
          38,
          38,
          60,
          38,
          45
         ],
         "xbins": {
          "end": 80,
          "size": 2,
          "start": 14
         }
        }
       ],
       "layout": {
        "bargap": 0.05,
        "template": {
         "data": {
          "bar": [
           {
            "error_x": {
             "color": "#f2f5fa"
            },
            "error_y": {
             "color": "#f2f5fa"
            },
            "marker": {
             "line": {
              "color": "rgb(17,17,17)",
              "width": 0.5
             },
             "pattern": {
              "fillmode": "overlay",
              "size": 10,
              "solidity": 0.2
             }
            },
            "type": "bar"
           }
          ],
          "barpolar": [
           {
            "marker": {
             "line": {
              "color": "rgb(17,17,17)",
              "width": 0.5
             },
             "pattern": {
              "fillmode": "overlay",
              "size": 10,
              "solidity": 0.2
             }
            },
            "type": "barpolar"
           }
          ],
          "carpet": [
           {
            "aaxis": {
             "endlinecolor": "#A2B1C6",
             "gridcolor": "#506784",
             "linecolor": "#506784",
             "minorgridcolor": "#506784",
             "startlinecolor": "#A2B1C6"
            },
            "baxis": {
             "endlinecolor": "#A2B1C6",
             "gridcolor": "#506784",
             "linecolor": "#506784",
             "minorgridcolor": "#506784",
             "startlinecolor": "#A2B1C6"
            },
            "type": "carpet"
           }
          ],
          "choropleth": [
           {
            "colorbar": {
             "outlinewidth": 0,
             "ticks": ""
            },
            "type": "choropleth"
           }
          ],
          "contour": [
           {
            "colorbar": {
             "outlinewidth": 0,
             "ticks": ""
            },
            "colorscale": [
             [
              0,
              "#0d0887"
             ],
             [
              0.1111111111111111,
              "#46039f"
             ],
             [
              0.2222222222222222,
              "#7201a8"
             ],
             [
              0.3333333333333333,
              "#9c179e"
             ],
             [
              0.4444444444444444,
              "#bd3786"
             ],
             [
              0.5555555555555556,
              "#d8576b"
             ],
             [
              0.6666666666666666,
              "#ed7953"
             ],
             [
              0.7777777777777778,
              "#fb9f3a"
             ],
             [
              0.8888888888888888,
              "#fdca26"
             ],
             [
              1,
              "#f0f921"
             ]
            ],
            "type": "contour"
           }
          ],
          "contourcarpet": [
           {
            "colorbar": {
             "outlinewidth": 0,
             "ticks": ""
            },
            "type": "contourcarpet"
           }
          ],
          "heatmap": [
           {
            "colorbar": {
             "outlinewidth": 0,
             "ticks": ""
            },
            "colorscale": [
             [
              0,
              "#0d0887"
             ],
             [
              0.1111111111111111,
              "#46039f"
             ],
             [
              0.2222222222222222,
              "#7201a8"
             ],
             [
              0.3333333333333333,
              "#9c179e"
             ],
             [
              0.4444444444444444,
              "#bd3786"
             ],
             [
              0.5555555555555556,
              "#d8576b"
             ],
             [
              0.6666666666666666,
              "#ed7953"
             ],
             [
              0.7777777777777778,
              "#fb9f3a"
             ],
             [
              0.8888888888888888,
              "#fdca26"
             ],
             [
              1,
              "#f0f921"
             ]
            ],
            "type": "heatmap"
           }
          ],
          "heatmapgl": [
           {
            "colorbar": {
             "outlinewidth": 0,
             "ticks": ""
            },
            "colorscale": [
             [
              0,
              "#0d0887"
             ],
             [
              0.1111111111111111,
              "#46039f"
             ],
             [
              0.2222222222222222,
              "#7201a8"
             ],
             [
              0.3333333333333333,
              "#9c179e"
             ],
             [
              0.4444444444444444,
              "#bd3786"
             ],
             [
              0.5555555555555556,
              "#d8576b"
             ],
             [
              0.6666666666666666,
              "#ed7953"
             ],
             [
              0.7777777777777778,
              "#fb9f3a"
             ],
             [
              0.8888888888888888,
              "#fdca26"
             ],
             [
              1,
              "#f0f921"
             ]
            ],
            "type": "heatmapgl"
           }
          ],
          "histogram": [
           {
            "marker": {
             "pattern": {
              "fillmode": "overlay",
              "size": 10,
              "solidity": 0.2
             }
            },
            "type": "histogram"
           }
          ],
          "histogram2d": [
           {
            "colorbar": {
             "outlinewidth": 0,
             "ticks": ""
            },
            "colorscale": [
             [
              0,
              "#0d0887"
             ],
             [
              0.1111111111111111,
              "#46039f"
             ],
             [
              0.2222222222222222,
              "#7201a8"
             ],
             [
              0.3333333333333333,
              "#9c179e"
             ],
             [
              0.4444444444444444,
              "#bd3786"
             ],
             [
              0.5555555555555556,
              "#d8576b"
             ],
             [
              0.6666666666666666,
              "#ed7953"
             ],
             [
              0.7777777777777778,
              "#fb9f3a"
             ],
             [
              0.8888888888888888,
              "#fdca26"
             ],
             [
              1,
              "#f0f921"
             ]
            ],
            "type": "histogram2d"
           }
          ],
          "histogram2dcontour": [
           {
            "colorbar": {
             "outlinewidth": 0,
             "ticks": ""
            },
            "colorscale": [
             [
              0,
              "#0d0887"
             ],
             [
              0.1111111111111111,
              "#46039f"
             ],
             [
              0.2222222222222222,
              "#7201a8"
             ],
             [
              0.3333333333333333,
              "#9c179e"
             ],
             [
              0.4444444444444444,
              "#bd3786"
             ],
             [
              0.5555555555555556,
              "#d8576b"
             ],
             [
              0.6666666666666666,
              "#ed7953"
             ],
             [
              0.7777777777777778,
              "#fb9f3a"
             ],
             [
              0.8888888888888888,
              "#fdca26"
             ],
             [
              1,
              "#f0f921"
             ]
            ],
            "type": "histogram2dcontour"
           }
          ],
          "mesh3d": [
           {
            "colorbar": {
             "outlinewidth": 0,
             "ticks": ""
            },
            "type": "mesh3d"
           }
          ],
          "parcoords": [
           {
            "line": {
             "colorbar": {
              "outlinewidth": 0,
              "ticks": ""
             }
            },
            "type": "parcoords"
           }
          ],
          "pie": [
           {
            "automargin": true,
            "type": "pie"
           }
          ],
          "scatter": [
           {
            "marker": {
             "line": {
              "color": "#283442"
             }
            },
            "type": "scatter"
           }
          ],
          "scatter3d": [
           {
            "line": {
             "colorbar": {
              "outlinewidth": 0,
              "ticks": ""
             }
            },
            "marker": {
             "colorbar": {
              "outlinewidth": 0,
              "ticks": ""
             }
            },
            "type": "scatter3d"
           }
          ],
          "scattercarpet": [
           {
            "marker": {
             "colorbar": {
              "outlinewidth": 0,
              "ticks": ""
             }
            },
            "type": "scattercarpet"
           }
          ],
          "scattergeo": [
           {
            "marker": {
             "colorbar": {
              "outlinewidth": 0,
              "ticks": ""
             }
            },
            "type": "scattergeo"
           }
          ],
          "scattergl": [
           {
            "marker": {
             "line": {
              "color": "#283442"
             }
            },
            "type": "scattergl"
           }
          ],
          "scattermapbox": [
           {
            "marker": {
             "colorbar": {
              "outlinewidth": 0,
              "ticks": ""
             }
            },
            "type": "scattermapbox"
           }
          ],
          "scatterpolar": [
           {
            "marker": {
             "colorbar": {
              "outlinewidth": 0,
              "ticks": ""
             }
            },
            "type": "scatterpolar"
           }
          ],
          "scatterpolargl": [
           {
            "marker": {
             "colorbar": {
              "outlinewidth": 0,
              "ticks": ""
             }
            },
            "type": "scatterpolargl"
           }
          ],
          "scatterternary": [
           {
            "marker": {
             "colorbar": {
              "outlinewidth": 0,
              "ticks": ""
             }
            },
            "type": "scatterternary"
           }
          ],
          "surface": [
           {
            "colorbar": {
             "outlinewidth": 0,
             "ticks": ""
            },
            "colorscale": [
             [
              0,
              "#0d0887"
             ],
             [
              0.1111111111111111,
              "#46039f"
             ],
             [
              0.2222222222222222,
              "#7201a8"
             ],
             [
              0.3333333333333333,
              "#9c179e"
             ],
             [
              0.4444444444444444,
              "#bd3786"
             ],
             [
              0.5555555555555556,
              "#d8576b"
             ],
             [
              0.6666666666666666,
              "#ed7953"
             ],
             [
              0.7777777777777778,
              "#fb9f3a"
             ],
             [
              0.8888888888888888,
              "#fdca26"
             ],
             [
              1,
              "#f0f921"
             ]
            ],
            "type": "surface"
           }
          ],
          "table": [
           {
            "cells": {
             "fill": {
              "color": "#506784"
             },
             "line": {
              "color": "rgb(17,17,17)"
             }
            },
            "header": {
             "fill": {
              "color": "#2a3f5f"
             },
             "line": {
              "color": "rgb(17,17,17)"
             }
            },
            "type": "table"
           }
          ]
         },
         "layout": {
          "annotationdefaults": {
           "arrowcolor": "#f2f5fa",
           "arrowhead": 0,
           "arrowwidth": 1
          },
          "autotypenumbers": "strict",
          "coloraxis": {
           "colorbar": {
            "outlinewidth": 0,
            "ticks": ""
           }
          },
          "colorscale": {
           "diverging": [
            [
             0,
             "#8e0152"
            ],
            [
             0.1,
             "#c51b7d"
            ],
            [
             0.2,
             "#de77ae"
            ],
            [
             0.3,
             "#f1b6da"
            ],
            [
             0.4,
             "#fde0ef"
            ],
            [
             0.5,
             "#f7f7f7"
            ],
            [
             0.6,
             "#e6f5d0"
            ],
            [
             0.7,
             "#b8e186"
            ],
            [
             0.8,
             "#7fbc41"
            ],
            [
             0.9,
             "#4d9221"
            ],
            [
             1,
             "#276419"
            ]
           ],
           "sequential": [
            [
             0,
             "#0d0887"
            ],
            [
             0.1111111111111111,
             "#46039f"
            ],
            [
             0.2222222222222222,
             "#7201a8"
            ],
            [
             0.3333333333333333,
             "#9c179e"
            ],
            [
             0.4444444444444444,
             "#bd3786"
            ],
            [
             0.5555555555555556,
             "#d8576b"
            ],
            [
             0.6666666666666666,
             "#ed7953"
            ],
            [
             0.7777777777777778,
             "#fb9f3a"
            ],
            [
             0.8888888888888888,
             "#fdca26"
            ],
            [
             1,
             "#f0f921"
            ]
           ],
           "sequentialminus": [
            [
             0,
             "#0d0887"
            ],
            [
             0.1111111111111111,
             "#46039f"
            ],
            [
             0.2222222222222222,
             "#7201a8"
            ],
            [
             0.3333333333333333,
             "#9c179e"
            ],
            [
             0.4444444444444444,
             "#bd3786"
            ],
            [
             0.5555555555555556,
             "#d8576b"
            ],
            [
             0.6666666666666666,
             "#ed7953"
            ],
            [
             0.7777777777777778,
             "#fb9f3a"
            ],
            [
             0.8888888888888888,
             "#fdca26"
            ],
            [
             1,
             "#f0f921"
            ]
           ]
          },
          "colorway": [
           "#636efa",
           "#EF553B",
           "#00cc96",
           "#ab63fa",
           "#FFA15A",
           "#19d3f3",
           "#FF6692",
           "#B6E880",
           "#FF97FF",
           "#FECB52"
          ],
          "font": {
           "color": "#f2f5fa"
          },
          "geo": {
           "bgcolor": "rgb(17,17,17)",
           "lakecolor": "rgb(17,17,17)",
           "landcolor": "rgb(17,17,17)",
           "showlakes": true,
           "showland": true,
           "subunitcolor": "#506784"
          },
          "hoverlabel": {
           "align": "left"
          },
          "hovermode": "closest",
          "mapbox": {
           "style": "dark"
          },
          "paper_bgcolor": "rgb(17,17,17)",
          "plot_bgcolor": "rgb(17,17,17)",
          "polar": {
           "angularaxis": {
            "gridcolor": "#506784",
            "linecolor": "#506784",
            "ticks": ""
           },
           "bgcolor": "rgb(17,17,17)",
           "radialaxis": {
            "gridcolor": "#506784",
            "linecolor": "#506784",
            "ticks": ""
           }
          },
          "scene": {
           "xaxis": {
            "backgroundcolor": "rgb(17,17,17)",
            "gridcolor": "#506784",
            "gridwidth": 2,
            "linecolor": "#506784",
            "showbackground": true,
            "ticks": "",
            "zerolinecolor": "#C8D4E3"
           },
           "yaxis": {
            "backgroundcolor": "rgb(17,17,17)",
            "gridcolor": "#506784",
            "gridwidth": 2,
            "linecolor": "#506784",
            "showbackground": true,
            "ticks": "",
            "zerolinecolor": "#C8D4E3"
           },
           "zaxis": {
            "backgroundcolor": "rgb(17,17,17)",
            "gridcolor": "#506784",
            "gridwidth": 2,
            "linecolor": "#506784",
            "showbackground": true,
            "ticks": "",
            "zerolinecolor": "#C8D4E3"
           }
          },
          "shapedefaults": {
           "line": {
            "color": "#f2f5fa"
           }
          },
          "sliderdefaults": {
           "bgcolor": "#C8D4E3",
           "bordercolor": "rgb(17,17,17)",
           "borderwidth": 1,
           "tickwidth": 0
          },
          "ternary": {
           "aaxis": {
            "gridcolor": "#506784",
            "linecolor": "#506784",
            "ticks": ""
           },
           "baxis": {
            "gridcolor": "#506784",
            "linecolor": "#506784",
            "ticks": ""
           },
           "bgcolor": "rgb(17,17,17)",
           "caxis": {
            "gridcolor": "#506784",
            "linecolor": "#506784",
            "ticks": ""
           }
          },
          "title": {
           "x": 0.05
          },
          "updatemenudefaults": {
           "bgcolor": "#506784",
           "borderwidth": 0
          },
          "xaxis": {
           "automargin": true,
           "gridcolor": "#283442",
           "linecolor": "#506784",
           "ticks": "",
           "title": {
            "standoff": 15
           },
           "zerolinecolor": "#283442",
           "zerolinewidth": 2
          },
          "yaxis": {
           "automargin": true,
           "gridcolor": "#283442",
           "linecolor": "#506784",
           "ticks": "",
           "title": {
            "standoff": 15
           },
           "zerolinecolor": "#283442",
           "zerolinewidth": 2
          }
         }
        },
        "title": {
         "text": "Ejection Fraction Distribution"
        },
        "xaxis": {
         "showgrid": false,
         "title": {
          "text": "Ejection Fraction"
         }
        },
        "yaxis": {
         "showgrid": false,
         "title": {
          "text": "Count"
         }
        }
       }
      },
      "text/html": [
       "<div>                            <div id=\"de31b2f3-ebf8-46f4-b3b9-23e0ee860176\" class=\"plotly-graph-div\" style=\"height:525px; width:100%;\"></div>            <script type=\"text/javascript\">                require([\"plotly\"], function(Plotly) {                    window.PLOTLYENV=window.PLOTLYENV || {};                                    if (document.getElementById(\"de31b2f3-ebf8-46f4-b3b9-23e0ee860176\")) {                    Plotly.newPlot(                        \"de31b2f3-ebf8-46f4-b3b9-23e0ee860176\",                        [{\"marker\":{\"color\":\"#4c78a8\"},\"opacity\":1,\"x\":[20,38,20,20,20,40,15,60,65,35,38,25,30,38,30,50,38,14,25,55,25,30,35,60,30,38,40,45,38,30,38,45,35,30,50,35,50,50,30,38,20,30,45,50,60,38,25,38,20,30,25,20,62,50,38,30,35,40,20,20,25,40,35,35,20,15,25,25,25,40,35,35,50,20,20,60,40,38,45,40,50,25,50,25,50,35,60,40,25,45,45,60,25,38,60,25,60,25,40,25,45,25,30,50,30,45,35,38,35,60,35,25,60,40,40,60,60,60,38,60,38,38,30,40,50,17,60,30,35,60,45,40,60,35,40,60,25,35,30,38,35,30,40,25,30,30,60,30,35,45,60,45,35,35,25,35,25,50,45,40,35,40,35,30,38,60,20,40,35,35,40,60,20,35,60,40,50,60,40,30,25,25,38,25,30,50,25,40,45,35,60,40,30,20,45,38,30,20,35,45,60,60,25,40,45,40,38,40,35,17,62,50,30,35,35,50,35,35,20,50,35,25,25,60,25,35,25,25,30,35,35,38,45,50,50,30,40,45,35,30,35,40,38,38,25,25,35,40,30,35,45,35,60,30,38,38,25,50,40,40,25,60,38,35,20,38,38,35,30,40,38,40,30,38,35,38,30,38,40,40,30,38,40,40,35,55,35,38,55,35,38,35,38,38,60,38,45],\"xbins\":{\"end\":80,\"size\":2,\"start\":14},\"type\":\"histogram\"}],                        {\"template\":{\"data\":{\"barpolar\":[{\"marker\":{\"line\":{\"color\":\"rgb(17,17,17)\",\"width\":0.5},\"pattern\":{\"fillmode\":\"overlay\",\"size\":10,\"solidity\":0.2}},\"type\":\"barpolar\"}],\"bar\":[{\"error_x\":{\"color\":\"#f2f5fa\"},\"error_y\":{\"color\":\"#f2f5fa\"},\"marker\":{\"line\":{\"color\":\"rgb(17,17,17)\",\"width\":0.5},\"pattern\":{\"fillmode\":\"overlay\",\"size\":10,\"solidity\":0.2}},\"type\":\"bar\"}],\"carpet\":[{\"aaxis\":{\"endlinecolor\":\"#A2B1C6\",\"gridcolor\":\"#506784\",\"linecolor\":\"#506784\",\"minorgridcolor\":\"#506784\",\"startlinecolor\":\"#A2B1C6\"},\"baxis\":{\"endlinecolor\":\"#A2B1C6\",\"gridcolor\":\"#506784\",\"linecolor\":\"#506784\",\"minorgridcolor\":\"#506784\",\"startlinecolor\":\"#A2B1C6\"},\"type\":\"carpet\"}],\"choropleth\":[{\"colorbar\":{\"outlinewidth\":0,\"ticks\":\"\"},\"type\":\"choropleth\"}],\"contourcarpet\":[{\"colorbar\":{\"outlinewidth\":0,\"ticks\":\"\"},\"type\":\"contourcarpet\"}],\"contour\":[{\"colorbar\":{\"outlinewidth\":0,\"ticks\":\"\"},\"colorscale\":[[0.0,\"#0d0887\"],[0.1111111111111111,\"#46039f\"],[0.2222222222222222,\"#7201a8\"],[0.3333333333333333,\"#9c179e\"],[0.4444444444444444,\"#bd3786\"],[0.5555555555555556,\"#d8576b\"],[0.6666666666666666,\"#ed7953\"],[0.7777777777777778,\"#fb9f3a\"],[0.8888888888888888,\"#fdca26\"],[1.0,\"#f0f921\"]],\"type\":\"contour\"}],\"heatmapgl\":[{\"colorbar\":{\"outlinewidth\":0,\"ticks\":\"\"},\"colorscale\":[[0.0,\"#0d0887\"],[0.1111111111111111,\"#46039f\"],[0.2222222222222222,\"#7201a8\"],[0.3333333333333333,\"#9c179e\"],[0.4444444444444444,\"#bd3786\"],[0.5555555555555556,\"#d8576b\"],[0.6666666666666666,\"#ed7953\"],[0.7777777777777778,\"#fb9f3a\"],[0.8888888888888888,\"#fdca26\"],[1.0,\"#f0f921\"]],\"type\":\"heatmapgl\"}],\"heatmap\":[{\"colorbar\":{\"outlinewidth\":0,\"ticks\":\"\"},\"colorscale\":[[0.0,\"#0d0887\"],[0.1111111111111111,\"#46039f\"],[0.2222222222222222,\"#7201a8\"],[0.3333333333333333,\"#9c179e\"],[0.4444444444444444,\"#bd3786\"],[0.5555555555555556,\"#d8576b\"],[0.6666666666666666,\"#ed7953\"],[0.7777777777777778,\"#fb9f3a\"],[0.8888888888888888,\"#fdca26\"],[1.0,\"#f0f921\"]],\"type\":\"heatmap\"}],\"histogram2dcontour\":[{\"colorbar\":{\"outlinewidth\":0,\"ticks\":\"\"},\"colorscale\":[[0.0,\"#0d0887\"],[0.1111111111111111,\"#46039f\"],[0.2222222222222222,\"#7201a8\"],[0.3333333333333333,\"#9c179e\"],[0.4444444444444444,\"#bd3786\"],[0.5555555555555556,\"#d8576b\"],[0.6666666666666666,\"#ed7953\"],[0.7777777777777778,\"#fb9f3a\"],[0.8888888888888888,\"#fdca26\"],[1.0,\"#f0f921\"]],\"type\":\"histogram2dcontour\"}],\"histogram2d\":[{\"colorbar\":{\"outlinewidth\":0,\"ticks\":\"\"},\"colorscale\":[[0.0,\"#0d0887\"],[0.1111111111111111,\"#46039f\"],[0.2222222222222222,\"#7201a8\"],[0.3333333333333333,\"#9c179e\"],[0.4444444444444444,\"#bd3786\"],[0.5555555555555556,\"#d8576b\"],[0.6666666666666666,\"#ed7953\"],[0.7777777777777778,\"#fb9f3a\"],[0.8888888888888888,\"#fdca26\"],[1.0,\"#f0f921\"]],\"type\":\"histogram2d\"}],\"histogram\":[{\"marker\":{\"pattern\":{\"fillmode\":\"overlay\",\"size\":10,\"solidity\":0.2}},\"type\":\"histogram\"}],\"mesh3d\":[{\"colorbar\":{\"outlinewidth\":0,\"ticks\":\"\"},\"type\":\"mesh3d\"}],\"parcoords\":[{\"line\":{\"colorbar\":{\"outlinewidth\":0,\"ticks\":\"\"}},\"type\":\"parcoords\"}],\"pie\":[{\"automargin\":true,\"type\":\"pie\"}],\"scatter3d\":[{\"line\":{\"colorbar\":{\"outlinewidth\":0,\"ticks\":\"\"}},\"marker\":{\"colorbar\":{\"outlinewidth\":0,\"ticks\":\"\"}},\"type\":\"scatter3d\"}],\"scattercarpet\":[{\"marker\":{\"colorbar\":{\"outlinewidth\":0,\"ticks\":\"\"}},\"type\":\"scattercarpet\"}],\"scattergeo\":[{\"marker\":{\"colorbar\":{\"outlinewidth\":0,\"ticks\":\"\"}},\"type\":\"scattergeo\"}],\"scattergl\":[{\"marker\":{\"line\":{\"color\":\"#283442\"}},\"type\":\"scattergl\"}],\"scattermapbox\":[{\"marker\":{\"colorbar\":{\"outlinewidth\":0,\"ticks\":\"\"}},\"type\":\"scattermapbox\"}],\"scatterpolargl\":[{\"marker\":{\"colorbar\":{\"outlinewidth\":0,\"ticks\":\"\"}},\"type\":\"scatterpolargl\"}],\"scatterpolar\":[{\"marker\":{\"colorbar\":{\"outlinewidth\":0,\"ticks\":\"\"}},\"type\":\"scatterpolar\"}],\"scatter\":[{\"marker\":{\"line\":{\"color\":\"#283442\"}},\"type\":\"scatter\"}],\"scatterternary\":[{\"marker\":{\"colorbar\":{\"outlinewidth\":0,\"ticks\":\"\"}},\"type\":\"scatterternary\"}],\"surface\":[{\"colorbar\":{\"outlinewidth\":0,\"ticks\":\"\"},\"colorscale\":[[0.0,\"#0d0887\"],[0.1111111111111111,\"#46039f\"],[0.2222222222222222,\"#7201a8\"],[0.3333333333333333,\"#9c179e\"],[0.4444444444444444,\"#bd3786\"],[0.5555555555555556,\"#d8576b\"],[0.6666666666666666,\"#ed7953\"],[0.7777777777777778,\"#fb9f3a\"],[0.8888888888888888,\"#fdca26\"],[1.0,\"#f0f921\"]],\"type\":\"surface\"}],\"table\":[{\"cells\":{\"fill\":{\"color\":\"#506784\"},\"line\":{\"color\":\"rgb(17,17,17)\"}},\"header\":{\"fill\":{\"color\":\"#2a3f5f\"},\"line\":{\"color\":\"rgb(17,17,17)\"}},\"type\":\"table\"}]},\"layout\":{\"annotationdefaults\":{\"arrowcolor\":\"#f2f5fa\",\"arrowhead\":0,\"arrowwidth\":1},\"autotypenumbers\":\"strict\",\"coloraxis\":{\"colorbar\":{\"outlinewidth\":0,\"ticks\":\"\"}},\"colorscale\":{\"diverging\":[[0,\"#8e0152\"],[0.1,\"#c51b7d\"],[0.2,\"#de77ae\"],[0.3,\"#f1b6da\"],[0.4,\"#fde0ef\"],[0.5,\"#f7f7f7\"],[0.6,\"#e6f5d0\"],[0.7,\"#b8e186\"],[0.8,\"#7fbc41\"],[0.9,\"#4d9221\"],[1,\"#276419\"]],\"sequential\":[[0.0,\"#0d0887\"],[0.1111111111111111,\"#46039f\"],[0.2222222222222222,\"#7201a8\"],[0.3333333333333333,\"#9c179e\"],[0.4444444444444444,\"#bd3786\"],[0.5555555555555556,\"#d8576b\"],[0.6666666666666666,\"#ed7953\"],[0.7777777777777778,\"#fb9f3a\"],[0.8888888888888888,\"#fdca26\"],[1.0,\"#f0f921\"]],\"sequentialminus\":[[0.0,\"#0d0887\"],[0.1111111111111111,\"#46039f\"],[0.2222222222222222,\"#7201a8\"],[0.3333333333333333,\"#9c179e\"],[0.4444444444444444,\"#bd3786\"],[0.5555555555555556,\"#d8576b\"],[0.6666666666666666,\"#ed7953\"],[0.7777777777777778,\"#fb9f3a\"],[0.8888888888888888,\"#fdca26\"],[1.0,\"#f0f921\"]]},\"colorway\":[\"#636efa\",\"#EF553B\",\"#00cc96\",\"#ab63fa\",\"#FFA15A\",\"#19d3f3\",\"#FF6692\",\"#B6E880\",\"#FF97FF\",\"#FECB52\"],\"font\":{\"color\":\"#f2f5fa\"},\"geo\":{\"bgcolor\":\"rgb(17,17,17)\",\"lakecolor\":\"rgb(17,17,17)\",\"landcolor\":\"rgb(17,17,17)\",\"showlakes\":true,\"showland\":true,\"subunitcolor\":\"#506784\"},\"hoverlabel\":{\"align\":\"left\"},\"hovermode\":\"closest\",\"mapbox\":{\"style\":\"dark\"},\"paper_bgcolor\":\"rgb(17,17,17)\",\"plot_bgcolor\":\"rgb(17,17,17)\",\"polar\":{\"angularaxis\":{\"gridcolor\":\"#506784\",\"linecolor\":\"#506784\",\"ticks\":\"\"},\"bgcolor\":\"rgb(17,17,17)\",\"radialaxis\":{\"gridcolor\":\"#506784\",\"linecolor\":\"#506784\",\"ticks\":\"\"}},\"scene\":{\"xaxis\":{\"backgroundcolor\":\"rgb(17,17,17)\",\"gridcolor\":\"#506784\",\"gridwidth\":2,\"linecolor\":\"#506784\",\"showbackground\":true,\"ticks\":\"\",\"zerolinecolor\":\"#C8D4E3\"},\"yaxis\":{\"backgroundcolor\":\"rgb(17,17,17)\",\"gridcolor\":\"#506784\",\"gridwidth\":2,\"linecolor\":\"#506784\",\"showbackground\":true,\"ticks\":\"\",\"zerolinecolor\":\"#C8D4E3\"},\"zaxis\":{\"backgroundcolor\":\"rgb(17,17,17)\",\"gridcolor\":\"#506784\",\"gridwidth\":2,\"linecolor\":\"#506784\",\"showbackground\":true,\"ticks\":\"\",\"zerolinecolor\":\"#C8D4E3\"}},\"shapedefaults\":{\"line\":{\"color\":\"#f2f5fa\"}},\"sliderdefaults\":{\"bgcolor\":\"#C8D4E3\",\"bordercolor\":\"rgb(17,17,17)\",\"borderwidth\":1,\"tickwidth\":0},\"ternary\":{\"aaxis\":{\"gridcolor\":\"#506784\",\"linecolor\":\"#506784\",\"ticks\":\"\"},\"baxis\":{\"gridcolor\":\"#506784\",\"linecolor\":\"#506784\",\"ticks\":\"\"},\"bgcolor\":\"rgb(17,17,17)\",\"caxis\":{\"gridcolor\":\"#506784\",\"linecolor\":\"#506784\",\"ticks\":\"\"}},\"title\":{\"x\":0.05},\"updatemenudefaults\":{\"bgcolor\":\"#506784\",\"borderwidth\":0},\"xaxis\":{\"automargin\":true,\"gridcolor\":\"#283442\",\"linecolor\":\"#506784\",\"ticks\":\"\",\"title\":{\"standoff\":15},\"zerolinecolor\":\"#283442\",\"zerolinewidth\":2},\"yaxis\":{\"automargin\":true,\"gridcolor\":\"#283442\",\"linecolor\":\"#506784\",\"ticks\":\"\",\"title\":{\"standoff\":15},\"zerolinecolor\":\"#283442\",\"zerolinewidth\":2}}},\"title\":{\"text\":\"Ejection Fraction Distribution\"},\"xaxis\":{\"title\":{\"text\":\"Ejection Fraction\"},\"showgrid\":false},\"yaxis\":{\"title\":{\"text\":\"Count\"},\"showgrid\":false},\"bargap\":0.05},                        {\"responsive\": true}                    ).then(function(){\n",
       "                            \n",
       "var gd = document.getElementById('de31b2f3-ebf8-46f4-b3b9-23e0ee860176');\n",
       "var x = new MutationObserver(function (mutations, observer) {{\n",
       "        var display = window.getComputedStyle(gd).display;\n",
       "        if (!display || display === 'none') {{\n",
       "            console.log([gd, 'removed!']);\n",
       "            Plotly.purge(gd);\n",
       "            observer.disconnect();\n",
       "        }}\n",
       "}});\n",
       "\n",
       "// Listen for the removal of the full notebook cells\n",
       "var notebookContainer = gd.closest('#notebook-container');\n",
       "if (notebookContainer) {{\n",
       "    x.observe(notebookContainer, {childList: true});\n",
       "}}\n",
       "\n",
       "// Listen for the clearing of the current output cell\n",
       "var outputEl = gd.closest('.output');\n",
       "if (outputEl) {{\n",
       "    x.observe(outputEl, {childList: true});\n",
       "}}\n",
       "\n",
       "                        })                };                });            </script>        </div>"
      ]
     },
     "metadata": {},
     "output_type": "display_data"
    }
   ],
   "source": [
    "# Distribution of ejection_fraction\n",
    "\n",
    "fig = go.Figure()\n",
    "fig.add_trace(go.Histogram(\n",
    "    x = dataset['ejection_fraction'],\n",
    "    xbins = dict(\n",
    "        start = 14, \n",
    "        end = 80,\n",
    "        size = 2\n",
    "    ),\n",
    "    marker_color = '#4c78a8',\n",
    "    opacity = 1\n",
    "))\n",
    "\n",
    "fig.update_layout(\n",
    "    title_text = 'Ejection Fraction Distribution',\n",
    "    xaxis_title_text = 'Ejection Fraction',\n",
    "    yaxis_title_text = 'Count',\n",
    "    bargap = 0.05,\n",
    "    xaxis = {'showgrid': False},\n",
    "    yaxis = {'showgrid': False},\n",
    "    template = 'plotly_dark'\n",
    ")\n",
    "\n",
    "fig.show()"
   ]
  },
  {
   "cell_type": "code",
   "execution_count": 35,
   "id": "53c352e3",
   "metadata": {},
   "outputs": [
    {
     "data": {
      "application/vnd.plotly.v1+json": {
       "config": {
        "plotlyServerURL": "https://plot.ly"
       },
       "data": [
        {
         "alignmentgroup": "True",
         "bingroup": "x",
         "hovertemplate": "DEATH_EVENT=1<br>Ejection Fraction=%{x}<br>count=%{y}<extra></extra>",
         "legendgroup": "1",
         "marker": {
          "color": "#636efa",
          "pattern": {
           "shape": ""
          }
         },
         "name": "1",
         "offsetgroup": "1",
         "orientation": "v",
         "showlegend": true,
         "type": "histogram",
         "x": [
          20,
          38,
          20,
          20,
          20,
          40,
          15,
          60,
          65,
          35,
          38,
          25,
          30,
          38,
          50,
          38,
          14,
          25,
          55,
          30,
          35,
          30,
          38,
          40,
          45,
          38,
          30,
          38,
          45,
          35,
          50,
          35,
          50,
          50,
          38,
          20,
          30,
          45,
          60,
          38,
          25,
          38,
          20,
          30,
          25,
          20,
          62,
          50,
          38,
          30,
          20,
          20,
          25,
          40,
          35,
          20,
          15,
          25,
          25,
          25,
          35,
          20,
          20,
          25,
          25,
          25,
          30,
          60,
          60,
          38,
          40,
          17,
          38,
          25,
          30,
          45,
          35,
          30,
          38,
          20,
          25,
          25,
          38,
          25,
          30,
          50,
          25,
          20,
          45,
          30,
          20,
          30,
          25,
          25,
          20
         ],
         "xaxis": "x",
         "yaxis": "y"
        },
        {
         "alignmentgroup": "True",
         "customdata": [
          [
           75,
           0,
           582,
           0,
           1,
           265000,
           1.9,
           130,
           1,
           0,
           4,
           1
          ],
          [
           55,
           0,
           7861,
           0,
           0,
           263358.03,
           1.1,
           136,
           1,
           0,
           6,
           1
          ],
          [
           65,
           0,
           146,
           0,
           0,
           162000,
           1.3,
           129,
           1,
           1,
           7,
           1
          ],
          [
           50,
           1,
           111,
           0,
           0,
           210000,
           1.9,
           137,
           1,
           0,
           7,
           1
          ],
          [
           65,
           1,
           160,
           1,
           0,
           327000,
           2.7,
           116,
           0,
           0,
           8,
           1
          ],
          [
           90,
           1,
           47,
           0,
           1,
           204000,
           2.1,
           132,
           1,
           1,
           8,
           1
          ],
          [
           75,
           1,
           246,
           0,
           0,
           127000,
           1.2,
           137,
           1,
           0,
           10,
           1
          ],
          [
           60,
           1,
           315,
           1,
           0,
           454000,
           1.1,
           131,
           1,
           1,
           10,
           1
          ],
          [
           65,
           0,
           157,
           0,
           0,
           263358.03,
           1.5,
           138,
           0,
           0,
           10,
           1
          ],
          [
           80,
           1,
           123,
           0,
           1,
           388000,
           9.4,
           133,
           1,
           1,
           10,
           1
          ],
          [
           75,
           1,
           81,
           0,
           1,
           368000,
           4,
           131,
           1,
           1,
           10,
           1
          ],
          [
           62,
           0,
           231,
           0,
           1,
           253000,
           0.9,
           140,
           1,
           1,
           10,
           1
          ],
          [
           45,
           1,
           981,
           0,
           0,
           136000,
           1.1,
           137,
           1,
           0,
           11,
           1
          ],
          [
           50,
           1,
           168,
           0,
           1,
           276000,
           1.1,
           137,
           1,
           0,
           11,
           1
          ],
          [
           82,
           1,
           379,
           0,
           0,
           47000,
           1.3,
           136,
           1,
           0,
           13,
           1
          ],
          [
           87,
           1,
           149,
           0,
           0,
           262000,
           0.9,
           140,
           1,
           0,
           14,
           1
          ],
          [
           45,
           0,
           582,
           0,
           0,
           166000,
           0.8,
           127,
           1,
           0,
           14,
           1
          ],
          [
           70,
           1,
           125,
           0,
           1,
           237000,
           1,
           140,
           0,
           0,
           15,
           1
          ],
          [
           48,
           1,
           582,
           1,
           0,
           87000,
           1.9,
           121,
           0,
           0,
           15,
           1
          ],
          [
           65,
           1,
           128,
           1,
           1,
           297000,
           1.6,
           136,
           0,
           0,
           20,
           1
          ],
          [
           68,
           1,
           220,
           0,
           1,
           289000,
           0.9,
           140,
           1,
           1,
           20,
           1
          ],
          [
           75,
           0,
           582,
           1,
           1,
           263358.03,
           1.83,
           134,
           0,
           0,
           23,
           1
          ],
          [
           80,
           0,
           148,
           1,
           0,
           149000,
           1.9,
           144,
           1,
           1,
           23,
           1
          ],
          [
           95,
           1,
           112,
           0,
           1,
           196000,
           1,
           138,
           0,
           0,
           24,
           1
          ],
          [
           70,
           0,
           122,
           1,
           1,
           284000,
           1.3,
           136,
           1,
           1,
           26,
           1
          ],
          [
           58,
           1,
           60,
           0,
           0,
           153000,
           5.8,
           134,
           1,
           0,
           26,
           1
          ],
          [
           82,
           0,
           70,
           1,
           0,
           200000,
           1.2,
           132,
           1,
           1,
           26,
           1
          ],
          [
           94,
           0,
           582,
           1,
           1,
           263358.03,
           1.83,
           134,
           1,
           0,
           27,
           1
          ],
          [
           85,
           0,
           23,
           0,
           0,
           360000,
           3,
           132,
           1,
           0,
           28,
           1
          ],
          [
           50,
           1,
           249,
           1,
           1,
           319000,
           1,
           128,
           0,
           0,
           28,
           1
          ],
          [
           65,
           0,
           94,
           1,
           1,
           188000,
           1,
           140,
           1,
           0,
           29,
           1
          ],
          [
           69,
           0,
           582,
           1,
           0,
           228000,
           3.5,
           134,
           1,
           0,
           30,
           1
          ],
          [
           90,
           1,
           60,
           1,
           0,
           226000,
           1,
           134,
           1,
           0,
           30,
           1
          ],
          [
           82,
           1,
           855,
           1,
           1,
           321000,
           1,
           145,
           0,
           0,
           30,
           1
          ],
          [
           60,
           0,
           235,
           1,
           0,
           329000,
           3,
           142,
           0,
           0,
           30,
           1
          ],
          [
           70,
           0,
           582,
           0,
           1,
           263358.03,
           1.83,
           134,
           1,
           1,
           31,
           1
          ],
          [
           50,
           0,
           124,
           1,
           1,
           153000,
           1.2,
           136,
           0,
           1,
           32,
           1
          ],
          [
           70,
           0,
           571,
           1,
           1,
           185000,
           1.2,
           139,
           1,
           1,
           33,
           1
          ],
          [
           60,
           1,
           588,
           1,
           0,
           194000,
           1.1,
           142,
           0,
           0,
           33,
           1
          ],
          [
           50,
           0,
           582,
           1,
           0,
           310000,
           1.9,
           135,
           1,
           1,
           35,
           1
          ],
          [
           51,
           0,
           1380,
           0,
           1,
           271000,
           0.9,
           130,
           1,
           0,
           38,
           1
          ],
          [
           60,
           0,
           582,
           1,
           1,
           451000,
           0.6,
           138,
           1,
           1,
           40,
           1
          ],
          [
           80,
           1,
           553,
           0,
           1,
           140000,
           4.4,
           133,
           1,
           0,
           41,
           1
          ],
          [
           57,
           1,
           129,
           0,
           0,
           395000,
           1,
           140,
           0,
           0,
           42,
           1
          ],
          [
           68,
           1,
           577,
           0,
           1,
           166000,
           1,
           138,
           1,
           0,
           43,
           1
          ],
          [
           53,
           1,
           91,
           0,
           1,
           418000,
           1.4,
           139,
           0,
           0,
           43,
           1
          ],
          [
           60,
           0,
           3964,
           1,
           0,
           263358.03,
           6.8,
           146,
           0,
           0,
           43,
           1
          ],
          [
           70,
           1,
           69,
           1,
           1,
           351000,
           1,
           134,
           0,
           0,
           44,
           1
          ],
          [
           60,
           1,
           260,
           1,
           0,
           255000,
           2.2,
           132,
           0,
           1,
           45,
           1
          ],
          [
           95,
           1,
           371,
           0,
           0,
           461000,
           2,
           132,
           1,
           0,
           50,
           1
          ],
          [
           49,
           0,
           789,
           0,
           1,
           319000,
           1.1,
           136,
           1,
           1,
           55,
           1
          ],
          [
           72,
           0,
           364,
           1,
           1,
           254000,
           1.3,
           136,
           1,
           1,
           59,
           1
          ],
          [
           45,
           0,
           7702,
           1,
           1,
           390000,
           1,
           139,
           1,
           0,
           60,
           1
          ],
          [
           50,
           0,
           318,
           0,
           1,
           216000,
           2.3,
           131,
           0,
           0,
           60,
           1
          ],
          [
           45,
           0,
           582,
           0,
           0,
           385000,
           1,
           145,
           1,
           0,
           61,
           1
          ],
          [
           60,
           0,
           68,
           0,
           0,
           119000,
           2.9,
           127,
           1,
           1,
           64,
           1
          ],
          [
           42,
           1,
           250,
           1,
           0,
           213000,
           1.3,
           136,
           0,
           0,
           65,
           1
          ],
          [
           72,
           1,
           110,
           0,
           0,
           274000,
           1,
           140,
           1,
           1,
           65,
           1
          ],
          [
           70,
           0,
           161,
           0,
           0,
           244000,
           1.2,
           142,
           0,
           0,
           66,
           1
          ],
          [
           65,
           0,
           113,
           1,
           0,
           497000,
           1.83,
           135,
           1,
           0,
           67,
           1
          ],
          [
           85,
           0,
           5882,
           0,
           0,
           243000,
           1,
           132,
           1,
           1,
           72,
           1
          ],
          [
           69,
           0,
           582,
           0,
           0,
           266000,
           1.2,
           134,
           1,
           1,
           73,
           1
          ],
          [
           60,
           1,
           47,
           0,
           0,
           204000,
           0.7,
           139,
           1,
           1,
           73,
           1
          ],
          [
           60,
           1,
           76,
           1,
           0,
           196000,
           2.5,
           132,
           0,
           0,
           77,
           1
          ],
          [
           59,
           1,
           280,
           1,
           1,
           302000,
           1,
           141,
           0,
           0,
           78,
           1
          ],
          [
           60,
           1,
           154,
           0,
           0,
           210000,
           1.7,
           135,
           1,
           0,
           82,
           1
          ],
          [
           72,
           1,
           328,
           0,
           1,
           621000,
           1.7,
           138,
           0,
           1,
           88,
           1
          ],
          [
           85,
           0,
           129,
           0,
           0,
           306000,
           1.2,
           132,
           1,
           1,
           90,
           1
          ],
          [
           70,
           1,
           143,
           0,
           0,
           351000,
           1.3,
           137,
           0,
           0,
           90,
           1
          ],
          [
           86,
           0,
           582,
           0,
           0,
           263358.03,
           1.83,
           134,
           0,
           0,
           95,
           1
          ],
          [
           60,
           0,
           582,
           0,
           0,
           217000,
           3.7,
           134,
           1,
           0,
           96,
           1
          ],
          [
           46,
           0,
           168,
           1,
           1,
           271000,
           2.1,
           124,
           0,
           0,
           100,
           1
          ],
          [
           80,
           0,
           805,
           0,
           0,
           263358.03,
           1.1,
           134,
           1,
           0,
           109,
           1
          ],
          [
           72,
           1,
           943,
           0,
           1,
           338000,
           1.7,
           139,
           1,
           1,
           111,
           1
          ],
          [
           75,
           1,
           582,
           0,
           0,
           225000,
           1.83,
           134,
           1,
           0,
           113,
           1
          ],
          [
           72,
           0,
           233,
           0,
           1,
           235000,
           2.5,
           135,
           0,
           0,
           115,
           1
          ],
          [
           50,
           1,
           2334,
           1,
           0,
           75000,
           0.9,
           142,
           0,
           0,
           126,
           1
          ],
          [
           45,
           0,
           2442,
           1,
           0,
           334000,
           1.1,
           139,
           1,
           0,
           129,
           1
          ],
          [
           80,
           0,
           776,
           1,
           1,
           192000,
           1.3,
           135,
           0,
           0,
           130,
           1
          ],
          [
           59,
           0,
           66,
           1,
           0,
           70000,
           2.4,
           134,
           1,
           0,
           135,
           1
          ],
          [
           59,
           1,
           176,
           1,
           0,
           221000,
           1,
           136,
           1,
           1,
           150,
           1
          ],
          [
           65,
           0,
           395,
           1,
           0,
           265000,
           1.2,
           136,
           1,
           1,
           154,
           1
          ],
          [
           75,
           0,
           99,
           0,
           1,
           224000,
           2.5,
           134,
           1,
           0,
           162,
           1
          ],
          [
           58,
           1,
           145,
           0,
           0,
           219000,
           1.2,
           137,
           1,
           1,
           170,
           1
          ],
          [
           60.667,
           1,
           104,
           1,
           0,
           389000,
           1.5,
           136,
           1,
           0,
           171,
           1
          ],
          [
           50,
           0,
           582,
           0,
           0,
           153000,
           0.6,
           134,
           0,
           0,
           172,
           1
          ],
          [
           60,
           0,
           1896,
           1,
           0,
           365000,
           2.1,
           144,
           0,
           0,
           172,
           1
          ],
          [
           45,
           0,
           582,
           0,
           1,
           126000,
           1.6,
           135,
           1,
           0,
           180,
           1
          ],
          [
           77,
           1,
           418,
           0,
           0,
           223000,
           1.8,
           145,
           1,
           0,
           180,
           1
          ],
          [
           48,
           1,
           131,
           1,
           1,
           244000,
           1.6,
           130,
           0,
           0,
           193,
           1
          ],
          [
           73,
           0,
           582,
           0,
           0,
           263358.03,
           1.83,
           134,
           1,
           0,
           198,
           1
          ],
          [
           60,
           0,
           166,
           0,
           0,
           62000,
           1.7,
           127,
           0,
           0,
           207,
           1
          ],
          [
           55,
           0,
           2017,
           0,
           0,
           314000,
           1.1,
           138,
           1,
           0,
           214,
           1
          ],
          [
           65,
           1,
           258,
           1,
           0,
           198000,
           1.4,
           129,
           1,
           0,
           235,
           1
          ],
          [
           55,
           0,
           1199,
           0,
           0,
           263358.03,
           1.83,
           134,
           1,
           1,
           241,
           1
          ]
         ],
         "hovertemplate": "DEATH_EVENT=%{customdata[11]}<br>Ejection Fraction=%{x}<br>age=%{customdata[0]}<br>anaemia=%{customdata[1]}<br>creatinine_phosphokinase=%{customdata[2]}<br>diabetes=%{customdata[3]}<br>high_blood_pressure=%{customdata[4]}<br>platelets=%{customdata[5]}<br>serum_creatinine=%{customdata[6]}<br>serum_sodium=%{customdata[7]}<br>sex=%{customdata[8]}<br>smoking=%{customdata[9]}<br>time=%{customdata[10]}<extra></extra>",
         "legendgroup": "1",
         "marker": {
          "color": "#636efa"
         },
         "name": "1",
         "offsetgroup": "1",
         "scalegroup": "x",
         "showlegend": false,
         "type": "violin",
         "x": [
          20,
          38,
          20,
          20,
          20,
          40,
          15,
          60,
          65,
          35,
          38,
          25,
          30,
          38,
          50,
          38,
          14,
          25,
          55,
          30,
          35,
          30,
          38,
          40,
          45,
          38,
          30,
          38,
          45,
          35,
          50,
          35,
          50,
          50,
          38,
          20,
          30,
          45,
          60,
          38,
          25,
          38,
          20,
          30,
          25,
          20,
          62,
          50,
          38,
          30,
          20,
          20,
          25,
          40,
          35,
          20,
          15,
          25,
          25,
          25,
          35,
          20,
          20,
          25,
          25,
          25,
          30,
          60,
          60,
          38,
          40,
          17,
          38,
          25,
          30,
          45,
          35,
          30,
          38,
          20,
          25,
          25,
          38,
          25,
          30,
          50,
          25,
          20,
          45,
          30,
          20,
          30,
          25,
          25,
          20
         ],
         "xaxis": "x2",
         "yaxis": "y2"
        },
        {
         "alignmentgroup": "True",
         "bingroup": "x",
         "hovertemplate": "DEATH_EVENT=0<br>Ejection Fraction=%{x}<br>count=%{y}<extra></extra>",
         "legendgroup": "0",
         "marker": {
          "color": "#EF553B",
          "pattern": {
           "shape": ""
          }
         },
         "name": "0",
         "offsetgroup": "0",
         "orientation": "v",
         "showlegend": true,
         "type": "histogram",
         "x": [
          30,
          25,
          60,
          30,
          30,
          50,
          35,
          40,
          35,
          40,
          35,
          50,
          60,
          40,
          38,
          45,
          40,
          50,
          50,
          50,
          35,
          60,
          40,
          25,
          45,
          45,
          60,
          38,
          60,
          25,
          60,
          25,
          40,
          25,
          45,
          25,
          30,
          50,
          45,
          35,
          38,
          35,
          35,
          25,
          40,
          40,
          60,
          60,
          60,
          60,
          38,
          38,
          30,
          50,
          60,
          30,
          35,
          60,
          45,
          40,
          60,
          35,
          40,
          60,
          25,
          35,
          30,
          35,
          30,
          40,
          30,
          30,
          60,
          35,
          60,
          45,
          35,
          35,
          25,
          35,
          25,
          50,
          45,
          40,
          35,
          40,
          60,
          40,
          35,
          35,
          40,
          60,
          20,
          35,
          60,
          40,
          50,
          60,
          40,
          30,
          40,
          45,
          35,
          60,
          40,
          30,
          38,
          30,
          20,
          35,
          45,
          60,
          60,
          25,
          40,
          45,
          40,
          38,
          40,
          35,
          17,
          62,
          50,
          35,
          35,
          50,
          35,
          35,
          50,
          35,
          25,
          25,
          60,
          25,
          35,
          25,
          25,
          35,
          35,
          38,
          45,
          50,
          50,
          30,
          40,
          45,
          35,
          30,
          35,
          40,
          38,
          38,
          25,
          35,
          40,
          30,
          35,
          45,
          35,
          60,
          30,
          38,
          38,
          25,
          50,
          40,
          40,
          60,
          38,
          35,
          38,
          38,
          35,
          30,
          40,
          38,
          40,
          30,
          38,
          35,
          38,
          30,
          38,
          40,
          40,
          30,
          38,
          40,
          40,
          35,
          55,
          35,
          38,
          55,
          35,
          38,
          35,
          38,
          38,
          60,
          38,
          45
         ],
         "xaxis": "x",
         "yaxis": "y"
        },
        {
         "alignmentgroup": "True",
         "customdata": [
          [
           49,
           1,
           80,
           0,
           1,
           427000,
           1,
           138,
           0,
           0,
           12,
           0
          ],
          [
           65,
           1,
           52,
           0,
           1,
           276000,
           1.3,
           137,
           0,
           0,
           16,
           0
          ],
          [
           53,
           0,
           63,
           1,
           0,
           368000,
           0.8,
           135,
           1,
           0,
           22,
           0
          ],
          [
           50,
           1,
           159,
           1,
           0,
           302000,
           1.2,
           138,
           0,
           0,
           29,
           0
          ],
          [
           60,
           0,
           2656,
           1,
           0,
           305000,
           2.3,
           137,
           1,
           0,
           30,
           0
          ],
          [
           72,
           0,
           127,
           1,
           1,
           218000,
           1,
           134,
           1,
           0,
           33,
           0
          ],
          [
           70,
           1,
           75,
           0,
           0,
           223000,
           2.7,
           138,
           1,
           1,
           54,
           0
          ],
          [
           60,
           1,
           607,
           0,
           0,
           216000,
           0.6,
           138,
           1,
           1,
           54,
           0
          ],
          [
           55,
           0,
           109,
           0,
           0,
           254000,
           1.1,
           139,
           1,
           1,
           60,
           0
          ],
          [
           41,
           0,
           148,
           0,
           0,
           374000,
           0.8,
           140,
           1,
           1,
           68,
           0
          ],
          [
           58,
           0,
           582,
           1,
           0,
           122000,
           0.9,
           139,
           1,
           1,
           71,
           0
          ],
          [
           65,
           0,
           224,
           1,
           0,
           149000,
           1.3,
           137,
           1,
           1,
           72,
           0
          ],
          [
           70,
           0,
           92,
           0,
           1,
           317000,
           0.8,
           140,
           0,
           1,
           74,
           0
          ],
          [
           42,
           0,
           102,
           1,
           0,
           237000,
           1.2,
           140,
           1,
           0,
           74,
           0
          ],
          [
           75,
           1,
           203,
           1,
           1,
           283000,
           0.6,
           131,
           1,
           1,
           74,
           0
          ],
          [
           55,
           0,
           336,
           0,
           1,
           324000,
           0.9,
           140,
           0,
           0,
           74,
           0
          ],
          [
           70,
           0,
           69,
           0,
           0,
           293000,
           1.7,
           136,
           0,
           0,
           75,
           0
          ],
          [
           67,
           0,
           582,
           0,
           0,
           263358.03,
           1.18,
           137,
           1,
           1,
           76,
           0
          ],
          [
           79,
           1,
           55,
           0,
           1,
           172000,
           1.8,
           133,
           1,
           0,
           78,
           0
          ],
          [
           51,
           0,
           78,
           0,
           0,
           406000,
           0.7,
           140,
           1,
           0,
           79,
           0
          ],
          [
           55,
           0,
           47,
           0,
           1,
           173000,
           1.1,
           137,
           1,
           0,
           79,
           0
          ],
          [
           65,
           1,
           68,
           1,
           1,
           304000,
           0.8,
           140,
           1,
           0,
           79,
           0
          ],
          [
           44,
           0,
           84,
           1,
           1,
           235000,
           0.7,
           139,
           1,
           0,
           79,
           0
          ],
          [
           57,
           1,
           115,
           0,
           1,
           181000,
           1.1,
           144,
           1,
           0,
           79,
           0
          ],
          [
           70,
           0,
           66,
           1,
           0,
           249000,
           0.8,
           136,
           1,
           1,
           80,
           0
          ],
          [
           60,
           0,
           897,
           1,
           0,
           297000,
           1,
           133,
           1,
           0,
           80,
           0
          ],
          [
           42,
           0,
           582,
           0,
           0,
           263358.03,
           1.18,
           137,
           0,
           0,
           82,
           0
          ],
          [
           58,
           0,
           144,
           1,
           1,
           327000,
           0.7,
           142,
           0,
           0,
           83,
           0
          ],
          [
           58,
           1,
           133,
           0,
           1,
           219000,
           1,
           141,
           1,
           0,
           83,
           0
          ],
          [
           63,
           1,
           514,
           1,
           1,
           254000,
           1.3,
           134,
           1,
           0,
           83,
           0
          ],
          [
           70,
           1,
           59,
           0,
           0,
           255000,
           1.1,
           136,
           0,
           0,
           85,
           0
          ],
          [
           60,
           1,
           156,
           1,
           1,
           318000,
           1.2,
           137,
           0,
           0,
           85,
           0
          ],
          [
           63,
           1,
           61,
           1,
           0,
           221000,
           1.1,
           140,
           0,
           0,
           86,
           0
          ],
          [
           65,
           1,
           305,
           0,
           0,
           298000,
           1.1,
           141,
           1,
           0,
           87,
           0
          ],
          [
           75,
           0,
           582,
           0,
           1,
           263358.03,
           1.18,
           137,
           1,
           0,
           87,
           0
          ],
          [
           80,
           0,
           898,
           0,
           0,
           149000,
           1.1,
           144,
           1,
           1,
           87,
           0
          ],
          [
           42,
           0,
           5209,
           0,
           0,
           226000,
           1,
           140,
           1,
           1,
           87,
           0
          ],
          [
           60,
           0,
           53,
           0,
           1,
           286000,
           2.3,
           143,
           0,
           0,
           87,
           0
          ],
          [
           55,
           0,
           748,
           0,
           0,
           263000,
           1.3,
           137,
           1,
           0,
           88,
           0
          ],
          [
           45,
           1,
           1876,
           1,
           0,
           226000,
           0.9,
           138,
           1,
           0,
           88,
           0
          ],
          [
           63,
           0,
           936,
           0,
           0,
           304000,
           1.1,
           133,
           1,
           1,
           88,
           0
          ],
          [
           45,
           0,
           292,
           1,
           0,
           850000,
           1.3,
           142,
           1,
           1,
           88,
           0
          ],
          [
           55,
           0,
           60,
           0,
           0,
           228000,
           1.2,
           135,
           1,
           1,
           90,
           0
          ],
          [
           50,
           0,
           369,
           1,
           0,
           252000,
           1.6,
           136,
           1,
           0,
           90,
           0
          ],
          [
           60,
           1,
           754,
           1,
           1,
           328000,
           1.2,
           126,
           1,
           0,
           91,
           0
          ],
          [
           58,
           1,
           400,
           0,
           0,
           164000,
           1,
           139,
           0,
           0,
           91,
           0
          ],
          [
           60,
           1,
           96,
           1,
           1,
           271000,
           0.7,
           136,
           0,
           0,
           94,
           0
          ],
          [
           85,
           1,
           102,
           0,
           0,
           507000,
           3.2,
           138,
           0,
           0,
           94,
           0
          ],
          [
           65,
           1,
           113,
           1,
           1,
           203000,
           0.9,
           140,
           0,
           0,
           94,
           0
          ],
          [
           60,
           1,
           737,
           0,
           1,
           210000,
           1.5,
           135,
           1,
           1,
           95,
           0
          ],
          [
           66,
           1,
           68,
           1,
           1,
           162000,
           1,
           136,
           0,
           0,
           95,
           0
          ],
          [
           60,
           0,
           96,
           1,
           0,
           228000,
           0.75,
           140,
           0,
           0,
           95,
           0
          ],
          [
           60,
           1,
           582,
           0,
           1,
           127000,
           0.9,
           145,
           0,
           0,
           95,
           0
          ],
          [
           43,
           1,
           358,
           0,
           0,
           237000,
           1.3,
           135,
           0,
           0,
           97,
           0
          ],
          [
           58,
           1,
           200,
           1,
           0,
           300000,
           0.8,
           137,
           0,
           0,
           104,
           0
          ],
          [
           61,
           0,
           248,
           0,
           1,
           267000,
           0.7,
           136,
           1,
           1,
           104,
           0
          ],
          [
           53,
           1,
           270,
           1,
           0,
           227000,
           3.4,
           145,
           1,
           0,
           105,
           0
          ],
          [
           53,
           1,
           1808,
           0,
           1,
           249000,
           0.7,
           138,
           1,
           1,
           106,
           0
          ],
          [
           60,
           1,
           1082,
           1,
           0,
           250000,
           6.1,
           131,
           1,
           0,
           107,
           0
          ],
          [
           46,
           0,
           719,
           0,
           1,
           263358.03,
           1.18,
           137,
           0,
           0,
           107,
           0
          ],
          [
           63,
           0,
           193,
           0,
           1,
           295000,
           1.3,
           145,
           1,
           1,
           107,
           0
          ],
          [
           81,
           0,
           4540,
           0,
           0,
           231000,
           1.18,
           137,
           1,
           1,
           107,
           0
          ],
          [
           75,
           0,
           582,
           0,
           0,
           263358.03,
           1.18,
           137,
           1,
           0,
           107,
           0
          ],
          [
           65,
           1,
           59,
           1,
           0,
           172000,
           0.9,
           137,
           0,
           0,
           107,
           0
          ],
          [
           68,
           1,
           646,
           0,
           0,
           305000,
           2.1,
           130,
           1,
           0,
           108,
           0
          ],
          [
           62,
           0,
           281,
           1,
           0,
           221000,
           1,
           136,
           0,
           0,
           108,
           0
          ],
          [
           50,
           0,
           1548,
           0,
           1,
           211000,
           0.8,
           138,
           1,
           0,
           108,
           0
          ],
          [
           46,
           1,
           291,
           0,
           0,
           348000,
           0.9,
           140,
           0,
           0,
           109,
           0
          ],
          [
           50,
           0,
           482,
           1,
           0,
           329000,
           0.9,
           132,
           0,
           0,
           109,
           0
          ],
          [
           61,
           1,
           84,
           0,
           1,
           229000,
           0.9,
           141,
           0,
           0,
           110,
           0
          ],
          [
           50,
           0,
           185,
           0,
           0,
           266000,
           0.7,
           141,
           1,
           1,
           112,
           0
          ],
          [
           52,
           0,
           132,
           0,
           0,
           218000,
           0.7,
           136,
           1,
           1,
           112,
           0
          ],
          [
           64,
           0,
           1610,
           0,
           0,
           242000,
           1,
           137,
           1,
           0,
           113,
           0
          ],
          [
           60,
           0,
           2261,
           0,
           1,
           228000,
           0.9,
           136,
           1,
           0,
           115,
           0
          ],
          [
           62,
           0,
           30,
           1,
           1,
           244000,
           0.9,
           139,
           1,
           0,
           117,
           0
          ],
          [
           50,
           0,
           115,
           0,
           1,
           184000,
           0.9,
           134,
           1,
           1,
           118,
           0
          ],
          [
           50,
           0,
           1846,
           1,
           0,
           263358.03,
           1.18,
           137,
           1,
           1,
           119,
           0
          ],
          [
           65,
           1,
           335,
           0,
           1,
           235000,
           0.8,
           136,
           0,
           0,
           120,
           0
          ],
          [
           60,
           1,
           231,
           1,
           0,
           194000,
           1.7,
           140,
           1,
           0,
           120,
           0
          ],
          [
           52,
           1,
           58,
           0,
           0,
           277000,
           1.4,
           136,
           0,
           0,
           120,
           0
          ],
          [
           50,
           0,
           250,
           0,
           0,
           262000,
           1,
           136,
           1,
           1,
           120,
           0
          ],
          [
           85,
           1,
           910,
           0,
           0,
           235000,
           1.3,
           134,
           1,
           0,
           121,
           0
          ],
          [
           59,
           1,
           129,
           0,
           1,
           362000,
           1.1,
           139,
           1,
           1,
           121,
           0
          ],
          [
           66,
           1,
           72,
           0,
           1,
           242000,
           1.2,
           134,
           1,
           0,
           121,
           0
          ],
          [
           45,
           1,
           130,
           0,
           0,
           174000,
           0.8,
           139,
           1,
           1,
           121,
           0
          ],
          [
           63,
           1,
           582,
           0,
           0,
           448000,
           0.9,
           137,
           1,
           1,
           123,
           0
          ],
          [
           53,
           0,
           196,
           0,
           0,
           220000,
           0.7,
           133,
           1,
           1,
           134,
           0
          ],
          [
           65,
           0,
           582,
           1,
           0,
           270000,
           1,
           138,
           0,
           0,
           140,
           0
          ],
          [
           70,
           0,
           835,
           0,
           1,
           305000,
           0.8,
           133,
           0,
           0,
           145,
           0
          ],
          [
           51,
           1,
           582,
           1,
           0,
           263358.03,
           1.5,
           136,
           1,
           1,
           145,
           0
          ],
          [
           52,
           0,
           3966,
           0,
           0,
           325000,
           0.9,
           140,
           1,
           1,
           146,
           0
          ],
          [
           70,
           1,
           171,
           0,
           1,
           176000,
           1.1,
           145,
           1,
           1,
           146,
           0
          ],
          [
           50,
           1,
           115,
           0,
           0,
           189000,
           0.8,
           139,
           1,
           0,
           146,
           0
          ],
          [
           65,
           0,
           198,
           1,
           1,
           281000,
           0.9,
           137,
           1,
           1,
           146,
           0
          ],
          [
           60,
           1,
           95,
           0,
           0,
           337000,
           1,
           138,
           1,
           1,
           146,
           0
          ],
          [
           69,
           0,
           1419,
           0,
           0,
           105000,
           1,
           135,
           1,
           1,
           147,
           0
          ],
          [
           49,
           1,
           69,
           0,
           0,
           132000,
           1,
           140,
           0,
           0,
           147,
           0
          ],
          [
           63,
           1,
           122,
           1,
           0,
           267000,
           1.2,
           145,
           1,
           0,
           147,
           0
          ],
          [
           55,
           0,
           835,
           0,
           0,
           279000,
           0.7,
           140,
           1,
           1,
           147,
           0
          ],
          [
           40,
           0,
           478,
           1,
           0,
           303000,
           0.9,
           136,
           1,
           0,
           148,
           0
          ],
          [
           60.667,
           1,
           151,
           1,
           1,
           201000,
           1,
           136,
           0,
           0,
           172,
           0
          ],
          [
           40,
           0,
           244,
           0,
           1,
           275000,
           0.9,
           140,
           0,
           0,
           174,
           0
          ],
          [
           80,
           0,
           582,
           1,
           0,
           350000,
           2.1,
           134,
           1,
           0,
           174,
           0
          ],
          [
           64,
           1,
           62,
           0,
           0,
           309000,
           1.5,
           135,
           0,
           0,
           174,
           0
          ],
          [
           50,
           1,
           121,
           1,
           0,
           260000,
           0.7,
           130,
           1,
           0,
           175,
           0
          ],
          [
           73,
           1,
           231,
           1,
           0,
           160000,
           1.18,
           142,
           1,
           1,
           180,
           0
          ],
          [
           45,
           0,
           582,
           1,
           1,
           263358.03,
           1.18,
           137,
           0,
           0,
           185,
           0
          ],
          [
           65,
           0,
           167,
           0,
           0,
           259000,
           0.8,
           138,
           0,
           0,
           186,
           0
          ],
          [
           50,
           1,
           582,
           1,
           1,
           279000,
           1,
           134,
           0,
           0,
           186,
           0
          ],
          [
           60,
           0,
           1211,
           1,
           0,
           263358.03,
           1.8,
           113,
           1,
           1,
           186,
           0
          ],
          [
           63,
           1,
           1767,
           0,
           0,
           73000,
           0.7,
           137,
           1,
           0,
           186,
           0
          ],
          [
           45,
           0,
           308,
           1,
           1,
           377000,
           1,
           136,
           1,
           0,
           186,
           0
          ],
          [
           70,
           0,
           97,
           0,
           1,
           220000,
           0.9,
           138,
           1,
           0,
           186,
           0
          ],
          [
           60,
           0,
           59,
           0,
           1,
           212000,
           3.5,
           136,
           1,
           1,
           187,
           0
          ],
          [
           78,
           1,
           64,
           0,
           0,
           277000,
           0.7,
           137,
           1,
           1,
           187,
           0
          ],
          [
           50,
           1,
           167,
           1,
           0,
           362000,
           1,
           136,
           0,
           0,
           187,
           0
          ],
          [
           40,
           1,
           101,
           0,
           0,
           226000,
           0.8,
           141,
           0,
           0,
           187,
           0
          ],
          [
           85,
           0,
           212,
           0,
           0,
           186000,
           0.9,
           136,
           1,
           0,
           187,
           0
          ],
          [
           60,
           1,
           2281,
           1,
           0,
           283000,
           1,
           141,
           0,
           0,
           187,
           0
          ],
          [
           49,
           0,
           972,
           1,
           1,
           268000,
           0.8,
           130,
           0,
           0,
           187,
           0
          ],
          [
           70,
           0,
           212,
           1,
           1,
           389000,
           1,
           136,
           1,
           1,
           188,
           0
          ],
          [
           50,
           0,
           582,
           0,
           1,
           147000,
           0.8,
           140,
           1,
           1,
           192,
           0
          ],
          [
           78,
           0,
           224,
           0,
           0,
           481000,
           1.4,
           138,
           1,
           1,
           192,
           0
          ],
          [
           65,
           1,
           135,
           0,
           1,
           290000,
           0.8,
           134,
           1,
           0,
           194,
           0
          ],
          [
           73,
           0,
           582,
           0,
           1,
           203000,
           1.3,
           134,
           1,
           0,
           195,
           0
          ],
          [
           70,
           0,
           1202,
           0,
           1,
           358000,
           0.9,
           141,
           0,
           0,
           196,
           0
          ],
          [
           68,
           1,
           1021,
           1,
           0,
           271000,
           1.1,
           134,
           1,
           0,
           197,
           0
          ],
          [
           55,
           0,
           582,
           1,
           1,
           371000,
           0.7,
           140,
           0,
           0,
           197,
           0
          ],
          [
           65,
           0,
           118,
           0,
           0,
           194000,
           1.1,
           145,
           1,
           1,
           200,
           0
          ],
          [
           42,
           1,
           86,
           0,
           0,
           365000,
           1.1,
           139,
           1,
           1,
           201,
           0
          ],
          [
           47,
           0,
           582,
           0,
           0,
           130000,
           0.8,
           134,
           1,
           0,
           201,
           0
          ],
          [
           58,
           0,
           582,
           1,
           0,
           504000,
           1,
           138,
           1,
           0,
           205,
           0
          ],
          [
           75,
           0,
           675,
           1,
           0,
           265000,
           1.4,
           125,
           0,
           0,
           205,
           0
          ],
          [
           58,
           1,
           57,
           0,
           0,
           189000,
           1.3,
           132,
           1,
           1,
           205,
           0
          ],
          [
           55,
           1,
           2794,
           0,
           1,
           141000,
           1,
           140,
           1,
           0,
           206,
           0
          ],
          [
           65,
           0,
           56,
           0,
           0,
           237000,
           5,
           130,
           0,
           0,
           207,
           0
          ],
          [
           72,
           0,
           211,
           0,
           0,
           274000,
           1.2,
           134,
           0,
           0,
           207,
           0
          ],
          [
           70,
           0,
           93,
           0,
           0,
           185000,
           1.1,
           134,
           1,
           1,
           208,
           0
          ],
          [
           40,
           1,
           129,
           0,
           0,
           255000,
           0.9,
           137,
           1,
           0,
           209,
           0
          ],
          [
           53,
           1,
           707,
           0,
           0,
           330000,
           1.4,
           137,
           1,
           1,
           209,
           0
          ],
          [
           53,
           1,
           582,
           0,
           0,
           305000,
           1.1,
           137,
           1,
           1,
           209,
           0
          ],
          [
           77,
           1,
           109,
           0,
           1,
           406000,
           1.1,
           137,
           1,
           0,
           209,
           0
          ],
          [
           75,
           0,
           119,
           0,
           1,
           248000,
           1.1,
           148,
           1,
           0,
           209,
           0
          ],
          [
           70,
           0,
           232,
           0,
           0,
           173000,
           1.2,
           132,
           1,
           0,
           210,
           0
          ],
          [
           65,
           1,
           720,
           1,
           0,
           257000,
           1,
           136,
           0,
           0,
           210,
           0
          ],
          [
           55,
           1,
           180,
           0,
           0,
           263358.03,
           1.18,
           137,
           1,
           1,
           211,
           0
          ],
          [
           70,
           0,
           81,
           1,
           1,
           533000,
           1.3,
           139,
           0,
           0,
           212,
           0
          ],
          [
           65,
           0,
           582,
           1,
           0,
           249000,
           1.3,
           136,
           1,
           1,
           212,
           0
          ],
          [
           40,
           0,
           90,
           0,
           0,
           255000,
           1.1,
           136,
           1,
           1,
           212,
           0
          ],
          [
           73,
           1,
           1185,
           0,
           1,
           220000,
           0.9,
           141,
           0,
           0,
           213,
           0
          ],
          [
           54,
           0,
           582,
           1,
           0,
           264000,
           1.8,
           134,
           1,
           0,
           213,
           0
          ],
          [
           61,
           1,
           80,
           1,
           0,
           282000,
           1.4,
           137,
           1,
           0,
           213,
           0
          ],
          [
           64,
           0,
           143,
           0,
           0,
           246000,
           2.4,
           135,
           1,
           0,
           214,
           0
          ],
          [
           40,
           0,
           624,
           0,
           0,
           301000,
           1,
           142,
           1,
           1,
           214,
           0
          ],
          [
           53,
           0,
           207,
           1,
           0,
           223000,
           1.2,
           130,
           0,
           0,
           214,
           0
          ],
          [
           50,
           0,
           2522,
           0,
           1,
           404000,
           0.5,
           139,
           0,
           0,
           214,
           0
          ],
          [
           55,
           0,
           572,
           1,
           0,
           231000,
           0.8,
           143,
           0,
           0,
           215,
           0
          ],
          [
           50,
           0,
           245,
           0,
           1,
           274000,
           1,
           133,
           1,
           0,
           215,
           0
          ],
          [
           70,
           0,
           88,
           1,
           1,
           236000,
           1.2,
           132,
           0,
           0,
           215,
           0
          ],
          [
           53,
           1,
           446,
           0,
           1,
           263358.03,
           1,
           139,
           1,
           0,
           215,
           0
          ],
          [
           52,
           1,
           191,
           1,
           1,
           334000,
           1,
           142,
           1,
           1,
           216,
           0
          ],
          [
           65,
           0,
           326,
           0,
           0,
           294000,
           1.7,
           139,
           0,
           0,
           220,
           0
          ],
          [
           58,
           0,
           132,
           1,
           1,
           253000,
           1,
           139,
           1,
           0,
           230,
           0
          ],
          [
           45,
           1,
           66,
           1,
           0,
           233000,
           0.8,
           135,
           1,
           0,
           230,
           0
          ],
          [
           53,
           0,
           56,
           0,
           0,
           308000,
           0.7,
           135,
           1,
           1,
           231,
           0
          ],
          [
           55,
           0,
           66,
           0,
           0,
           203000,
           1,
           138,
           1,
           0,
           233,
           0
          ],
          [
           62,
           1,
           655,
           0,
           0,
           283000,
           0.7,
           133,
           0,
           0,
           233,
           0
          ],
          [
           68,
           1,
           157,
           1,
           0,
           208000,
           1,
           140,
           0,
           0,
           237,
           0
          ],
          [
           61,
           0,
           582,
           1,
           0,
           147000,
           1.2,
           141,
           1,
           0,
           237,
           0
          ],
          [
           50,
           1,
           298,
           0,
           0,
           362000,
           0.9,
           140,
           1,
           1,
           240,
           0
          ],
          [
           56,
           1,
           135,
           1,
           0,
           133000,
           1.7,
           140,
           1,
           0,
           244,
           0
          ],
          [
           45,
           0,
           582,
           1,
           0,
           302000,
           0.9,
           140,
           0,
           0,
           244,
           0
          ],
          [
           40,
           0,
           582,
           1,
           0,
           222000,
           1,
           132,
           1,
           0,
           244,
           0
          ],
          [
           44,
           0,
           582,
           1,
           1,
           263358.03,
           1.6,
           130,
           1,
           1,
           244,
           0
          ],
          [
           51,
           0,
           582,
           1,
           0,
           221000,
           0.9,
           134,
           0,
           0,
           244,
           0
          ],
          [
           67,
           0,
           213,
           0,
           0,
           215000,
           1.2,
           133,
           0,
           0,
           245,
           0
          ],
          [
           42,
           0,
           64,
           0,
           0,
           189000,
           0.7,
           140,
           1,
           0,
           245,
           0
          ],
          [
           60,
           1,
           257,
           1,
           0,
           150000,
           1,
           137,
           1,
           1,
           245,
           0
          ],
          [
           45,
           0,
           582,
           0,
           1,
           422000,
           0.8,
           137,
           0,
           0,
           245,
           0
          ],
          [
           70,
           0,
           618,
           0,
           0,
           327000,
           1.1,
           142,
           0,
           0,
           245,
           0
          ],
          [
           70,
           0,
           582,
           1,
           0,
           25100,
           1.1,
           140,
           1,
           0,
           246,
           0
          ],
          [
           50,
           1,
           1051,
           1,
           0,
           232000,
           0.7,
           136,
           0,
           0,
           246,
           0
          ],
          [
           55,
           0,
           84,
           1,
           0,
           451000,
           1.3,
           136,
           0,
           0,
           246,
           0
          ],
          [
           70,
           0,
           2695,
           1,
           0,
           241000,
           1,
           137,
           1,
           0,
           247,
           0
          ],
          [
           70,
           0,
           582,
           0,
           0,
           51000,
           2.7,
           136,
           1,
           1,
           250,
           0
          ],
          [
           42,
           0,
           64,
           0,
           0,
           215000,
           3.8,
           128,
           1,
           1,
           250,
           0
          ],
          [
           65,
           0,
           1688,
           0,
           0,
           263358.03,
           1.1,
           138,
           1,
           1,
           250,
           0
          ],
          [
           50,
           1,
           54,
           0,
           0,
           279000,
           0.8,
           141,
           1,
           0,
           250,
           0
          ],
          [
           55,
           1,
           170,
           1,
           0,
           336000,
           1.2,
           135,
           1,
           0,
           250,
           0
          ],
          [
           60,
           0,
           253,
           0,
           0,
           279000,
           1.7,
           140,
           1,
           0,
           250,
           0
          ],
          [
           45,
           0,
           582,
           1,
           0,
           543000,
           1,
           132,
           0,
           0,
           250,
           0
          ],
          [
           65,
           0,
           892,
           1,
           0,
           263358.03,
           1.1,
           142,
           0,
           0,
           256,
           0
          ],
          [
           90,
           1,
           337,
           0,
           0,
           390000,
           0.9,
           144,
           0,
           0,
           256,
           0
          ],
          [
           45,
           0,
           615,
           1,
           0,
           222000,
           0.8,
           141,
           0,
           0,
           257,
           0
          ],
          [
           60,
           0,
           320,
           0,
           0,
           133000,
           1.4,
           139,
           1,
           0,
           258,
           0
          ],
          [
           52,
           0,
           190,
           1,
           0,
           382000,
           1,
           140,
           1,
           1,
           258,
           0
          ],
          [
           63,
           1,
           103,
           1,
           0,
           179000,
           0.9,
           136,
           1,
           1,
           270,
           0
          ],
          [
           62,
           0,
           61,
           1,
           1,
           155000,
           1.1,
           143,
           1,
           1,
           270,
           0
          ],
          [
           55,
           0,
           1820,
           0,
           0,
           270000,
           1.2,
           139,
           0,
           0,
           271,
           0
          ],
          [
           45,
           0,
           2060,
           1,
           0,
           742000,
           0.8,
           138,
           0,
           0,
           278,
           0
          ],
          [
           45,
           0,
           2413,
           0,
           0,
           140000,
           1.4,
           140,
           1,
           1,
           280,
           0
          ],
          [
           50,
           0,
           196,
           0,
           0,
           395000,
           1.6,
           136,
           1,
           1,
           285,
           0
          ]
         ],
         "hovertemplate": "DEATH_EVENT=%{customdata[11]}<br>Ejection Fraction=%{x}<br>age=%{customdata[0]}<br>anaemia=%{customdata[1]}<br>creatinine_phosphokinase=%{customdata[2]}<br>diabetes=%{customdata[3]}<br>high_blood_pressure=%{customdata[4]}<br>platelets=%{customdata[5]}<br>serum_creatinine=%{customdata[6]}<br>serum_sodium=%{customdata[7]}<br>sex=%{customdata[8]}<br>smoking=%{customdata[9]}<br>time=%{customdata[10]}<extra></extra>",
         "legendgroup": "0",
         "marker": {
          "color": "#EF553B"
         },
         "name": "0",
         "offsetgroup": "0",
         "scalegroup": "x",
         "showlegend": false,
         "type": "violin",
         "x": [
          30,
          25,
          60,
          30,
          30,
          50,
          35,
          40,
          35,
          40,
          35,
          50,
          60,
          40,
          38,
          45,
          40,
          50,
          50,
          50,
          35,
          60,
          40,
          25,
          45,
          45,
          60,
          38,
          60,
          25,
          60,
          25,
          40,
          25,
          45,
          25,
          30,
          50,
          45,
          35,
          38,
          35,
          35,
          25,
          40,
          40,
          60,
          60,
          60,
          60,
          38,
          38,
          30,
          50,
          60,
          30,
          35,
          60,
          45,
          40,
          60,
          35,
          40,
          60,
          25,
          35,
          30,
          35,
          30,
          40,
          30,
          30,
          60,
          35,
          60,
          45,
          35,
          35,
          25,
          35,
          25,
          50,
          45,
          40,
          35,
          40,
          60,
          40,
          35,
          35,
          40,
          60,
          20,
          35,
          60,
          40,
          50,
          60,
          40,
          30,
          40,
          45,
          35,
          60,
          40,
          30,
          38,
          30,
          20,
          35,
          45,
          60,
          60,
          25,
          40,
          45,
          40,
          38,
          40,
          35,
          17,
          62,
          50,
          35,
          35,
          50,
          35,
          35,
          50,
          35,
          25,
          25,
          60,
          25,
          35,
          25,
          25,
          35,
          35,
          38,
          45,
          50,
          50,
          30,
          40,
          45,
          35,
          30,
          35,
          40,
          38,
          38,
          25,
          35,
          40,
          30,
          35,
          45,
          35,
          60,
          30,
          38,
          38,
          25,
          50,
          40,
          40,
          60,
          38,
          35,
          38,
          38,
          35,
          30,
          40,
          38,
          40,
          30,
          38,
          35,
          38,
          30,
          38,
          40,
          40,
          30,
          38,
          40,
          40,
          35,
          55,
          35,
          38,
          55,
          35,
          38,
          35,
          38,
          38,
          60,
          38,
          45
         ],
         "xaxis": "x2",
         "yaxis": "y2"
        }
       ],
       "layout": {
        "barmode": "relative",
        "legend": {
         "title": {
          "text": "DEATH_EVENT"
         },
         "tracegroupgap": 0
        },
        "template": {
         "data": {
          "bar": [
           {
            "error_x": {
             "color": "#f2f5fa"
            },
            "error_y": {
             "color": "#f2f5fa"
            },
            "marker": {
             "line": {
              "color": "rgb(17,17,17)",
              "width": 0.5
             },
             "pattern": {
              "fillmode": "overlay",
              "size": 10,
              "solidity": 0.2
             }
            },
            "type": "bar"
           }
          ],
          "barpolar": [
           {
            "marker": {
             "line": {
              "color": "rgb(17,17,17)",
              "width": 0.5
             },
             "pattern": {
              "fillmode": "overlay",
              "size": 10,
              "solidity": 0.2
             }
            },
            "type": "barpolar"
           }
          ],
          "carpet": [
           {
            "aaxis": {
             "endlinecolor": "#A2B1C6",
             "gridcolor": "#506784",
             "linecolor": "#506784",
             "minorgridcolor": "#506784",
             "startlinecolor": "#A2B1C6"
            },
            "baxis": {
             "endlinecolor": "#A2B1C6",
             "gridcolor": "#506784",
             "linecolor": "#506784",
             "minorgridcolor": "#506784",
             "startlinecolor": "#A2B1C6"
            },
            "type": "carpet"
           }
          ],
          "choropleth": [
           {
            "colorbar": {
             "outlinewidth": 0,
             "ticks": ""
            },
            "type": "choropleth"
           }
          ],
          "contour": [
           {
            "colorbar": {
             "outlinewidth": 0,
             "ticks": ""
            },
            "colorscale": [
             [
              0,
              "#0d0887"
             ],
             [
              0.1111111111111111,
              "#46039f"
             ],
             [
              0.2222222222222222,
              "#7201a8"
             ],
             [
              0.3333333333333333,
              "#9c179e"
             ],
             [
              0.4444444444444444,
              "#bd3786"
             ],
             [
              0.5555555555555556,
              "#d8576b"
             ],
             [
              0.6666666666666666,
              "#ed7953"
             ],
             [
              0.7777777777777778,
              "#fb9f3a"
             ],
             [
              0.8888888888888888,
              "#fdca26"
             ],
             [
              1,
              "#f0f921"
             ]
            ],
            "type": "contour"
           }
          ],
          "contourcarpet": [
           {
            "colorbar": {
             "outlinewidth": 0,
             "ticks": ""
            },
            "type": "contourcarpet"
           }
          ],
          "heatmap": [
           {
            "colorbar": {
             "outlinewidth": 0,
             "ticks": ""
            },
            "colorscale": [
             [
              0,
              "#0d0887"
             ],
             [
              0.1111111111111111,
              "#46039f"
             ],
             [
              0.2222222222222222,
              "#7201a8"
             ],
             [
              0.3333333333333333,
              "#9c179e"
             ],
             [
              0.4444444444444444,
              "#bd3786"
             ],
             [
              0.5555555555555556,
              "#d8576b"
             ],
             [
              0.6666666666666666,
              "#ed7953"
             ],
             [
              0.7777777777777778,
              "#fb9f3a"
             ],
             [
              0.8888888888888888,
              "#fdca26"
             ],
             [
              1,
              "#f0f921"
             ]
            ],
            "type": "heatmap"
           }
          ],
          "heatmapgl": [
           {
            "colorbar": {
             "outlinewidth": 0,
             "ticks": ""
            },
            "colorscale": [
             [
              0,
              "#0d0887"
             ],
             [
              0.1111111111111111,
              "#46039f"
             ],
             [
              0.2222222222222222,
              "#7201a8"
             ],
             [
              0.3333333333333333,
              "#9c179e"
             ],
             [
              0.4444444444444444,
              "#bd3786"
             ],
             [
              0.5555555555555556,
              "#d8576b"
             ],
             [
              0.6666666666666666,
              "#ed7953"
             ],
             [
              0.7777777777777778,
              "#fb9f3a"
             ],
             [
              0.8888888888888888,
              "#fdca26"
             ],
             [
              1,
              "#f0f921"
             ]
            ],
            "type": "heatmapgl"
           }
          ],
          "histogram": [
           {
            "marker": {
             "pattern": {
              "fillmode": "overlay",
              "size": 10,
              "solidity": 0.2
             }
            },
            "type": "histogram"
           }
          ],
          "histogram2d": [
           {
            "colorbar": {
             "outlinewidth": 0,
             "ticks": ""
            },
            "colorscale": [
             [
              0,
              "#0d0887"
             ],
             [
              0.1111111111111111,
              "#46039f"
             ],
             [
              0.2222222222222222,
              "#7201a8"
             ],
             [
              0.3333333333333333,
              "#9c179e"
             ],
             [
              0.4444444444444444,
              "#bd3786"
             ],
             [
              0.5555555555555556,
              "#d8576b"
             ],
             [
              0.6666666666666666,
              "#ed7953"
             ],
             [
              0.7777777777777778,
              "#fb9f3a"
             ],
             [
              0.8888888888888888,
              "#fdca26"
             ],
             [
              1,
              "#f0f921"
             ]
            ],
            "type": "histogram2d"
           }
          ],
          "histogram2dcontour": [
           {
            "colorbar": {
             "outlinewidth": 0,
             "ticks": ""
            },
            "colorscale": [
             [
              0,
              "#0d0887"
             ],
             [
              0.1111111111111111,
              "#46039f"
             ],
             [
              0.2222222222222222,
              "#7201a8"
             ],
             [
              0.3333333333333333,
              "#9c179e"
             ],
             [
              0.4444444444444444,
              "#bd3786"
             ],
             [
              0.5555555555555556,
              "#d8576b"
             ],
             [
              0.6666666666666666,
              "#ed7953"
             ],
             [
              0.7777777777777778,
              "#fb9f3a"
             ],
             [
              0.8888888888888888,
              "#fdca26"
             ],
             [
              1,
              "#f0f921"
             ]
            ],
            "type": "histogram2dcontour"
           }
          ],
          "mesh3d": [
           {
            "colorbar": {
             "outlinewidth": 0,
             "ticks": ""
            },
            "type": "mesh3d"
           }
          ],
          "parcoords": [
           {
            "line": {
             "colorbar": {
              "outlinewidth": 0,
              "ticks": ""
             }
            },
            "type": "parcoords"
           }
          ],
          "pie": [
           {
            "automargin": true,
            "type": "pie"
           }
          ],
          "scatter": [
           {
            "marker": {
             "line": {
              "color": "#283442"
             }
            },
            "type": "scatter"
           }
          ],
          "scatter3d": [
           {
            "line": {
             "colorbar": {
              "outlinewidth": 0,
              "ticks": ""
             }
            },
            "marker": {
             "colorbar": {
              "outlinewidth": 0,
              "ticks": ""
             }
            },
            "type": "scatter3d"
           }
          ],
          "scattercarpet": [
           {
            "marker": {
             "colorbar": {
              "outlinewidth": 0,
              "ticks": ""
             }
            },
            "type": "scattercarpet"
           }
          ],
          "scattergeo": [
           {
            "marker": {
             "colorbar": {
              "outlinewidth": 0,
              "ticks": ""
             }
            },
            "type": "scattergeo"
           }
          ],
          "scattergl": [
           {
            "marker": {
             "line": {
              "color": "#283442"
             }
            },
            "type": "scattergl"
           }
          ],
          "scattermapbox": [
           {
            "marker": {
             "colorbar": {
              "outlinewidth": 0,
              "ticks": ""
             }
            },
            "type": "scattermapbox"
           }
          ],
          "scatterpolar": [
           {
            "marker": {
             "colorbar": {
              "outlinewidth": 0,
              "ticks": ""
             }
            },
            "type": "scatterpolar"
           }
          ],
          "scatterpolargl": [
           {
            "marker": {
             "colorbar": {
              "outlinewidth": 0,
              "ticks": ""
             }
            },
            "type": "scatterpolargl"
           }
          ],
          "scatterternary": [
           {
            "marker": {
             "colorbar": {
              "outlinewidth": 0,
              "ticks": ""
             }
            },
            "type": "scatterternary"
           }
          ],
          "surface": [
           {
            "colorbar": {
             "outlinewidth": 0,
             "ticks": ""
            },
            "colorscale": [
             [
              0,
              "#0d0887"
             ],
             [
              0.1111111111111111,
              "#46039f"
             ],
             [
              0.2222222222222222,
              "#7201a8"
             ],
             [
              0.3333333333333333,
              "#9c179e"
             ],
             [
              0.4444444444444444,
              "#bd3786"
             ],
             [
              0.5555555555555556,
              "#d8576b"
             ],
             [
              0.6666666666666666,
              "#ed7953"
             ],
             [
              0.7777777777777778,
              "#fb9f3a"
             ],
             [
              0.8888888888888888,
              "#fdca26"
             ],
             [
              1,
              "#f0f921"
             ]
            ],
            "type": "surface"
           }
          ],
          "table": [
           {
            "cells": {
             "fill": {
              "color": "#506784"
             },
             "line": {
              "color": "rgb(17,17,17)"
             }
            },
            "header": {
             "fill": {
              "color": "#2a3f5f"
             },
             "line": {
              "color": "rgb(17,17,17)"
             }
            },
            "type": "table"
           }
          ]
         },
         "layout": {
          "annotationdefaults": {
           "arrowcolor": "#f2f5fa",
           "arrowhead": 0,
           "arrowwidth": 1
          },
          "autotypenumbers": "strict",
          "coloraxis": {
           "colorbar": {
            "outlinewidth": 0,
            "ticks": ""
           }
          },
          "colorscale": {
           "diverging": [
            [
             0,
             "#8e0152"
            ],
            [
             0.1,
             "#c51b7d"
            ],
            [
             0.2,
             "#de77ae"
            ],
            [
             0.3,
             "#f1b6da"
            ],
            [
             0.4,
             "#fde0ef"
            ],
            [
             0.5,
             "#f7f7f7"
            ],
            [
             0.6,
             "#e6f5d0"
            ],
            [
             0.7,
             "#b8e186"
            ],
            [
             0.8,
             "#7fbc41"
            ],
            [
             0.9,
             "#4d9221"
            ],
            [
             1,
             "#276419"
            ]
           ],
           "sequential": [
            [
             0,
             "#0d0887"
            ],
            [
             0.1111111111111111,
             "#46039f"
            ],
            [
             0.2222222222222222,
             "#7201a8"
            ],
            [
             0.3333333333333333,
             "#9c179e"
            ],
            [
             0.4444444444444444,
             "#bd3786"
            ],
            [
             0.5555555555555556,
             "#d8576b"
            ],
            [
             0.6666666666666666,
             "#ed7953"
            ],
            [
             0.7777777777777778,
             "#fb9f3a"
            ],
            [
             0.8888888888888888,
             "#fdca26"
            ],
            [
             1,
             "#f0f921"
            ]
           ],
           "sequentialminus": [
            [
             0,
             "#0d0887"
            ],
            [
             0.1111111111111111,
             "#46039f"
            ],
            [
             0.2222222222222222,
             "#7201a8"
            ],
            [
             0.3333333333333333,
             "#9c179e"
            ],
            [
             0.4444444444444444,
             "#bd3786"
            ],
            [
             0.5555555555555556,
             "#d8576b"
            ],
            [
             0.6666666666666666,
             "#ed7953"
            ],
            [
             0.7777777777777778,
             "#fb9f3a"
            ],
            [
             0.8888888888888888,
             "#fdca26"
            ],
            [
             1,
             "#f0f921"
            ]
           ]
          },
          "colorway": [
           "#636efa",
           "#EF553B",
           "#00cc96",
           "#ab63fa",
           "#FFA15A",
           "#19d3f3",
           "#FF6692",
           "#B6E880",
           "#FF97FF",
           "#FECB52"
          ],
          "font": {
           "color": "#f2f5fa"
          },
          "geo": {
           "bgcolor": "rgb(17,17,17)",
           "lakecolor": "rgb(17,17,17)",
           "landcolor": "rgb(17,17,17)",
           "showlakes": true,
           "showland": true,
           "subunitcolor": "#506784"
          },
          "hoverlabel": {
           "align": "left"
          },
          "hovermode": "closest",
          "mapbox": {
           "style": "dark"
          },
          "paper_bgcolor": "rgb(17,17,17)",
          "plot_bgcolor": "rgb(17,17,17)",
          "polar": {
           "angularaxis": {
            "gridcolor": "#506784",
            "linecolor": "#506784",
            "ticks": ""
           },
           "bgcolor": "rgb(17,17,17)",
           "radialaxis": {
            "gridcolor": "#506784",
            "linecolor": "#506784",
            "ticks": ""
           }
          },
          "scene": {
           "xaxis": {
            "backgroundcolor": "rgb(17,17,17)",
            "gridcolor": "#506784",
            "gridwidth": 2,
            "linecolor": "#506784",
            "showbackground": true,
            "ticks": "",
            "zerolinecolor": "#C8D4E3"
           },
           "yaxis": {
            "backgroundcolor": "rgb(17,17,17)",
            "gridcolor": "#506784",
            "gridwidth": 2,
            "linecolor": "#506784",
            "showbackground": true,
            "ticks": "",
            "zerolinecolor": "#C8D4E3"
           },
           "zaxis": {
            "backgroundcolor": "rgb(17,17,17)",
            "gridcolor": "#506784",
            "gridwidth": 2,
            "linecolor": "#506784",
            "showbackground": true,
            "ticks": "",
            "zerolinecolor": "#C8D4E3"
           }
          },
          "shapedefaults": {
           "line": {
            "color": "#f2f5fa"
           }
          },
          "sliderdefaults": {
           "bgcolor": "#C8D4E3",
           "bordercolor": "rgb(17,17,17)",
           "borderwidth": 1,
           "tickwidth": 0
          },
          "ternary": {
           "aaxis": {
            "gridcolor": "#506784",
            "linecolor": "#506784",
            "ticks": ""
           },
           "baxis": {
            "gridcolor": "#506784",
            "linecolor": "#506784",
            "ticks": ""
           },
           "bgcolor": "rgb(17,17,17)",
           "caxis": {
            "gridcolor": "#506784",
            "linecolor": "#506784",
            "ticks": ""
           }
          },
          "title": {
           "x": 0.05
          },
          "updatemenudefaults": {
           "bgcolor": "#506784",
           "borderwidth": 0
          },
          "xaxis": {
           "automargin": true,
           "gridcolor": "#283442",
           "linecolor": "#506784",
           "ticks": "",
           "title": {
            "standoff": 15
           },
           "zerolinecolor": "#283442",
           "zerolinewidth": 2
          },
          "yaxis": {
           "automargin": true,
           "gridcolor": "#283442",
           "linecolor": "#506784",
           "ticks": "",
           "title": {
            "standoff": 15
           },
           "zerolinecolor": "#283442",
           "zerolinewidth": 2
          }
         }
        },
        "title": {
         "text": "Distribution of Ejection Fraction by DEATH_EVENT"
        },
        "xaxis": {
         "anchor": "y",
         "domain": [
          0,
          1
         ],
         "title": {
          "text": "Ejection Fraction"
         }
        },
        "xaxis2": {
         "anchor": "y2",
         "domain": [
          0,
          1
         ],
         "matches": "x",
         "showgrid": true,
         "showticklabels": false
        },
        "yaxis": {
         "anchor": "x",
         "domain": [
          0,
          0.7326
         ],
         "title": {
          "text": "count"
         }
        },
        "yaxis2": {
         "anchor": "x2",
         "domain": [
          0.7426,
          1
         ],
         "matches": "y2",
         "showgrid": false,
         "showline": false,
         "showticklabels": false,
         "ticks": ""
        }
       }
      },
      "text/html": [
       "<div>                            <div id=\"725e183b-2045-47c8-9d00-e105102fa204\" class=\"plotly-graph-div\" style=\"height:525px; width:100%;\"></div>            <script type=\"text/javascript\">                require([\"plotly\"], function(Plotly) {                    window.PLOTLYENV=window.PLOTLYENV || {};                                    if (document.getElementById(\"725e183b-2045-47c8-9d00-e105102fa204\")) {                    Plotly.newPlot(                        \"725e183b-2045-47c8-9d00-e105102fa204\",                        [{\"alignmentgroup\":\"True\",\"bingroup\":\"x\",\"hovertemplate\":\"DEATH_EVENT=1<br>Ejection Fraction=%{x}<br>count=%{y}<extra></extra>\",\"legendgroup\":\"1\",\"marker\":{\"color\":\"#636efa\",\"pattern\":{\"shape\":\"\"}},\"name\":\"1\",\"offsetgroup\":\"1\",\"orientation\":\"v\",\"showlegend\":true,\"x\":[20,38,20,20,20,40,15,60,65,35,38,25,30,38,50,38,14,25,55,30,35,30,38,40,45,38,30,38,45,35,50,35,50,50,38,20,30,45,60,38,25,38,20,30,25,20,62,50,38,30,20,20,25,40,35,20,15,25,25,25,35,20,20,25,25,25,30,60,60,38,40,17,38,25,30,45,35,30,38,20,25,25,38,25,30,50,25,20,45,30,20,30,25,25,20],\"xaxis\":\"x\",\"yaxis\":\"y\",\"type\":\"histogram\"},{\"alignmentgroup\":\"True\",\"customdata\":[[75.0,0.0,582.0,0.0,1.0,265000.0,1.9,130.0,1.0,0.0,4.0,1.0],[55.0,0.0,7861.0,0.0,0.0,263358.03,1.1,136.0,1.0,0.0,6.0,1.0],[65.0,0.0,146.0,0.0,0.0,162000.0,1.3,129.0,1.0,1.0,7.0,1.0],[50.0,1.0,111.0,0.0,0.0,210000.0,1.9,137.0,1.0,0.0,7.0,1.0],[65.0,1.0,160.0,1.0,0.0,327000.0,2.7,116.0,0.0,0.0,8.0,1.0],[90.0,1.0,47.0,0.0,1.0,204000.0,2.1,132.0,1.0,1.0,8.0,1.0],[75.0,1.0,246.0,0.0,0.0,127000.0,1.2,137.0,1.0,0.0,10.0,1.0],[60.0,1.0,315.0,1.0,0.0,454000.0,1.1,131.0,1.0,1.0,10.0,1.0],[65.0,0.0,157.0,0.0,0.0,263358.03,1.5,138.0,0.0,0.0,10.0,1.0],[80.0,1.0,123.0,0.0,1.0,388000.0,9.4,133.0,1.0,1.0,10.0,1.0],[75.0,1.0,81.0,0.0,1.0,368000.0,4.0,131.0,1.0,1.0,10.0,1.0],[62.0,0.0,231.0,0.0,1.0,253000.0,0.9,140.0,1.0,1.0,10.0,1.0],[45.0,1.0,981.0,0.0,0.0,136000.0,1.1,137.0,1.0,0.0,11.0,1.0],[50.0,1.0,168.0,0.0,1.0,276000.0,1.1,137.0,1.0,0.0,11.0,1.0],[82.0,1.0,379.0,0.0,0.0,47000.0,1.3,136.0,1.0,0.0,13.0,1.0],[87.0,1.0,149.0,0.0,0.0,262000.0,0.9,140.0,1.0,0.0,14.0,1.0],[45.0,0.0,582.0,0.0,0.0,166000.0,0.8,127.0,1.0,0.0,14.0,1.0],[70.0,1.0,125.0,0.0,1.0,237000.0,1.0,140.0,0.0,0.0,15.0,1.0],[48.0,1.0,582.0,1.0,0.0,87000.0,1.9,121.0,0.0,0.0,15.0,1.0],[65.0,1.0,128.0,1.0,1.0,297000.0,1.6,136.0,0.0,0.0,20.0,1.0],[68.0,1.0,220.0,0.0,1.0,289000.0,0.9,140.0,1.0,1.0,20.0,1.0],[75.0,0.0,582.0,1.0,1.0,263358.03,1.83,134.0,0.0,0.0,23.0,1.0],[80.0,0.0,148.0,1.0,0.0,149000.0,1.9,144.0,1.0,1.0,23.0,1.0],[95.0,1.0,112.0,0.0,1.0,196000.0,1.0,138.0,0.0,0.0,24.0,1.0],[70.0,0.0,122.0,1.0,1.0,284000.0,1.3,136.0,1.0,1.0,26.0,1.0],[58.0,1.0,60.0,0.0,0.0,153000.0,5.8,134.0,1.0,0.0,26.0,1.0],[82.0,0.0,70.0,1.0,0.0,200000.0,1.2,132.0,1.0,1.0,26.0,1.0],[94.0,0.0,582.0,1.0,1.0,263358.03,1.83,134.0,1.0,0.0,27.0,1.0],[85.0,0.0,23.0,0.0,0.0,360000.0,3.0,132.0,1.0,0.0,28.0,1.0],[50.0,1.0,249.0,1.0,1.0,319000.0,1.0,128.0,0.0,0.0,28.0,1.0],[65.0,0.0,94.0,1.0,1.0,188000.0,1.0,140.0,1.0,0.0,29.0,1.0],[69.0,0.0,582.0,1.0,0.0,228000.0,3.5,134.0,1.0,0.0,30.0,1.0],[90.0,1.0,60.0,1.0,0.0,226000.0,1.0,134.0,1.0,0.0,30.0,1.0],[82.0,1.0,855.0,1.0,1.0,321000.0,1.0,145.0,0.0,0.0,30.0,1.0],[60.0,0.0,235.0,1.0,0.0,329000.0,3.0,142.0,0.0,0.0,30.0,1.0],[70.0,0.0,582.0,0.0,1.0,263358.03,1.83,134.0,1.0,1.0,31.0,1.0],[50.0,0.0,124.0,1.0,1.0,153000.0,1.2,136.0,0.0,1.0,32.0,1.0],[70.0,0.0,571.0,1.0,1.0,185000.0,1.2,139.0,1.0,1.0,33.0,1.0],[60.0,1.0,588.0,1.0,0.0,194000.0,1.1,142.0,0.0,0.0,33.0,1.0],[50.0,0.0,582.0,1.0,0.0,310000.0,1.9,135.0,1.0,1.0,35.0,1.0],[51.0,0.0,1380.0,0.0,1.0,271000.0,0.9,130.0,1.0,0.0,38.0,1.0],[60.0,0.0,582.0,1.0,1.0,451000.0,0.6,138.0,1.0,1.0,40.0,1.0],[80.0,1.0,553.0,0.0,1.0,140000.0,4.4,133.0,1.0,0.0,41.0,1.0],[57.0,1.0,129.0,0.0,0.0,395000.0,1.0,140.0,0.0,0.0,42.0,1.0],[68.0,1.0,577.0,0.0,1.0,166000.0,1.0,138.0,1.0,0.0,43.0,1.0],[53.0,1.0,91.0,0.0,1.0,418000.0,1.4,139.0,0.0,0.0,43.0,1.0],[60.0,0.0,3964.0,1.0,0.0,263358.03,6.8,146.0,0.0,0.0,43.0,1.0],[70.0,1.0,69.0,1.0,1.0,351000.0,1.0,134.0,0.0,0.0,44.0,1.0],[60.0,1.0,260.0,1.0,0.0,255000.0,2.2,132.0,0.0,1.0,45.0,1.0],[95.0,1.0,371.0,0.0,0.0,461000.0,2.0,132.0,1.0,0.0,50.0,1.0],[49.0,0.0,789.0,0.0,1.0,319000.0,1.1,136.0,1.0,1.0,55.0,1.0],[72.0,0.0,364.0,1.0,1.0,254000.0,1.3,136.0,1.0,1.0,59.0,1.0],[45.0,0.0,7702.0,1.0,1.0,390000.0,1.0,139.0,1.0,0.0,60.0,1.0],[50.0,0.0,318.0,0.0,1.0,216000.0,2.3,131.0,0.0,0.0,60.0,1.0],[45.0,0.0,582.0,0.0,0.0,385000.0,1.0,145.0,1.0,0.0,61.0,1.0],[60.0,0.0,68.0,0.0,0.0,119000.0,2.9,127.0,1.0,1.0,64.0,1.0],[42.0,1.0,250.0,1.0,0.0,213000.0,1.3,136.0,0.0,0.0,65.0,1.0],[72.0,1.0,110.0,0.0,0.0,274000.0,1.0,140.0,1.0,1.0,65.0,1.0],[70.0,0.0,161.0,0.0,0.0,244000.0,1.2,142.0,0.0,0.0,66.0,1.0],[65.0,0.0,113.0,1.0,0.0,497000.0,1.83,135.0,1.0,0.0,67.0,1.0],[85.0,0.0,5882.0,0.0,0.0,243000.0,1.0,132.0,1.0,1.0,72.0,1.0],[69.0,0.0,582.0,0.0,0.0,266000.0,1.2,134.0,1.0,1.0,73.0,1.0],[60.0,1.0,47.0,0.0,0.0,204000.0,0.7,139.0,1.0,1.0,73.0,1.0],[60.0,1.0,76.0,1.0,0.0,196000.0,2.5,132.0,0.0,0.0,77.0,1.0],[59.0,1.0,280.0,1.0,1.0,302000.0,1.0,141.0,0.0,0.0,78.0,1.0],[60.0,1.0,154.0,0.0,0.0,210000.0,1.7,135.0,1.0,0.0,82.0,1.0],[72.0,1.0,328.0,0.0,1.0,621000.0,1.7,138.0,0.0,1.0,88.0,1.0],[85.0,0.0,129.0,0.0,0.0,306000.0,1.2,132.0,1.0,1.0,90.0,1.0],[70.0,1.0,143.0,0.0,0.0,351000.0,1.3,137.0,0.0,0.0,90.0,1.0],[86.0,0.0,582.0,0.0,0.0,263358.03,1.83,134.0,0.0,0.0,95.0,1.0],[60.0,0.0,582.0,0.0,0.0,217000.0,3.7,134.0,1.0,0.0,96.0,1.0],[46.0,0.0,168.0,1.0,1.0,271000.0,2.1,124.0,0.0,0.0,100.0,1.0],[80.0,0.0,805.0,0.0,0.0,263358.03,1.1,134.0,1.0,0.0,109.0,1.0],[72.0,1.0,943.0,0.0,1.0,338000.0,1.7,139.0,1.0,1.0,111.0,1.0],[75.0,1.0,582.0,0.0,0.0,225000.0,1.83,134.0,1.0,0.0,113.0,1.0],[72.0,0.0,233.0,0.0,1.0,235000.0,2.5,135.0,0.0,0.0,115.0,1.0],[50.0,1.0,2334.0,1.0,0.0,75000.0,0.9,142.0,0.0,0.0,126.0,1.0],[45.0,0.0,2442.0,1.0,0.0,334000.0,1.1,139.0,1.0,0.0,129.0,1.0],[80.0,0.0,776.0,1.0,1.0,192000.0,1.3,135.0,0.0,0.0,130.0,1.0],[59.0,0.0,66.0,1.0,0.0,70000.0,2.4,134.0,1.0,0.0,135.0,1.0],[59.0,1.0,176.0,1.0,0.0,221000.0,1.0,136.0,1.0,1.0,150.0,1.0],[65.0,0.0,395.0,1.0,0.0,265000.0,1.2,136.0,1.0,1.0,154.0,1.0],[75.0,0.0,99.0,0.0,1.0,224000.0,2.5,134.0,1.0,0.0,162.0,1.0],[58.0,1.0,145.0,0.0,0.0,219000.0,1.2,137.0,1.0,1.0,170.0,1.0],[60.667,1.0,104.0,1.0,0.0,389000.0,1.5,136.0,1.0,0.0,171.0,1.0],[50.0,0.0,582.0,0.0,0.0,153000.0,0.6,134.0,0.0,0.0,172.0,1.0],[60.0,0.0,1896.0,1.0,0.0,365000.0,2.1,144.0,0.0,0.0,172.0,1.0],[45.0,0.0,582.0,0.0,1.0,126000.0,1.6,135.0,1.0,0.0,180.0,1.0],[77.0,1.0,418.0,0.0,0.0,223000.0,1.8,145.0,1.0,0.0,180.0,1.0],[48.0,1.0,131.0,1.0,1.0,244000.0,1.6,130.0,0.0,0.0,193.0,1.0],[73.0,0.0,582.0,0.0,0.0,263358.03,1.83,134.0,1.0,0.0,198.0,1.0],[60.0,0.0,166.0,0.0,0.0,62000.0,1.7,127.0,0.0,0.0,207.0,1.0],[55.0,0.0,2017.0,0.0,0.0,314000.0,1.1,138.0,1.0,0.0,214.0,1.0],[65.0,1.0,258.0,1.0,0.0,198000.0,1.4,129.0,1.0,0.0,235.0,1.0],[55.0,0.0,1199.0,0.0,0.0,263358.03,1.83,134.0,1.0,1.0,241.0,1.0]],\"hovertemplate\":\"DEATH_EVENT=%{customdata[11]}<br>Ejection Fraction=%{x}<br>age=%{customdata[0]}<br>anaemia=%{customdata[1]}<br>creatinine_phosphokinase=%{customdata[2]}<br>diabetes=%{customdata[3]}<br>high_blood_pressure=%{customdata[4]}<br>platelets=%{customdata[5]}<br>serum_creatinine=%{customdata[6]}<br>serum_sodium=%{customdata[7]}<br>sex=%{customdata[8]}<br>smoking=%{customdata[9]}<br>time=%{customdata[10]}<extra></extra>\",\"legendgroup\":\"1\",\"marker\":{\"color\":\"#636efa\"},\"name\":\"1\",\"offsetgroup\":\"1\",\"scalegroup\":\"x\",\"showlegend\":false,\"x\":[20,38,20,20,20,40,15,60,65,35,38,25,30,38,50,38,14,25,55,30,35,30,38,40,45,38,30,38,45,35,50,35,50,50,38,20,30,45,60,38,25,38,20,30,25,20,62,50,38,30,20,20,25,40,35,20,15,25,25,25,35,20,20,25,25,25,30,60,60,38,40,17,38,25,30,45,35,30,38,20,25,25,38,25,30,50,25,20,45,30,20,30,25,25,20],\"xaxis\":\"x2\",\"yaxis\":\"y2\",\"type\":\"violin\"},{\"alignmentgroup\":\"True\",\"bingroup\":\"x\",\"hovertemplate\":\"DEATH_EVENT=0<br>Ejection Fraction=%{x}<br>count=%{y}<extra></extra>\",\"legendgroup\":\"0\",\"marker\":{\"color\":\"#EF553B\",\"pattern\":{\"shape\":\"\"}},\"name\":\"0\",\"offsetgroup\":\"0\",\"orientation\":\"v\",\"showlegend\":true,\"x\":[30,25,60,30,30,50,35,40,35,40,35,50,60,40,38,45,40,50,50,50,35,60,40,25,45,45,60,38,60,25,60,25,40,25,45,25,30,50,45,35,38,35,35,25,40,40,60,60,60,60,38,38,30,50,60,30,35,60,45,40,60,35,40,60,25,35,30,35,30,40,30,30,60,35,60,45,35,35,25,35,25,50,45,40,35,40,60,40,35,35,40,60,20,35,60,40,50,60,40,30,40,45,35,60,40,30,38,30,20,35,45,60,60,25,40,45,40,38,40,35,17,62,50,35,35,50,35,35,50,35,25,25,60,25,35,25,25,35,35,38,45,50,50,30,40,45,35,30,35,40,38,38,25,35,40,30,35,45,35,60,30,38,38,25,50,40,40,60,38,35,38,38,35,30,40,38,40,30,38,35,38,30,38,40,40,30,38,40,40,35,55,35,38,55,35,38,35,38,38,60,38,45],\"xaxis\":\"x\",\"yaxis\":\"y\",\"type\":\"histogram\"},{\"alignmentgroup\":\"True\",\"customdata\":[[49.0,1.0,80.0,0.0,1.0,427000.0,1.0,138.0,0.0,0.0,12.0,0.0],[65.0,1.0,52.0,0.0,1.0,276000.0,1.3,137.0,0.0,0.0,16.0,0.0],[53.0,0.0,63.0,1.0,0.0,368000.0,0.8,135.0,1.0,0.0,22.0,0.0],[50.0,1.0,159.0,1.0,0.0,302000.0,1.2,138.0,0.0,0.0,29.0,0.0],[60.0,0.0,2656.0,1.0,0.0,305000.0,2.3,137.0,1.0,0.0,30.0,0.0],[72.0,0.0,127.0,1.0,1.0,218000.0,1.0,134.0,1.0,0.0,33.0,0.0],[70.0,1.0,75.0,0.0,0.0,223000.0,2.7,138.0,1.0,1.0,54.0,0.0],[60.0,1.0,607.0,0.0,0.0,216000.0,0.6,138.0,1.0,1.0,54.0,0.0],[55.0,0.0,109.0,0.0,0.0,254000.0,1.1,139.0,1.0,1.0,60.0,0.0],[41.0,0.0,148.0,0.0,0.0,374000.0,0.8,140.0,1.0,1.0,68.0,0.0],[58.0,0.0,582.0,1.0,0.0,122000.0,0.9,139.0,1.0,1.0,71.0,0.0],[65.0,0.0,224.0,1.0,0.0,149000.0,1.3,137.0,1.0,1.0,72.0,0.0],[70.0,0.0,92.0,0.0,1.0,317000.0,0.8,140.0,0.0,1.0,74.0,0.0],[42.0,0.0,102.0,1.0,0.0,237000.0,1.2,140.0,1.0,0.0,74.0,0.0],[75.0,1.0,203.0,1.0,1.0,283000.0,0.6,131.0,1.0,1.0,74.0,0.0],[55.0,0.0,336.0,0.0,1.0,324000.0,0.9,140.0,0.0,0.0,74.0,0.0],[70.0,0.0,69.0,0.0,0.0,293000.0,1.7,136.0,0.0,0.0,75.0,0.0],[67.0,0.0,582.0,0.0,0.0,263358.03,1.18,137.0,1.0,1.0,76.0,0.0],[79.0,1.0,55.0,0.0,1.0,172000.0,1.8,133.0,1.0,0.0,78.0,0.0],[51.0,0.0,78.0,0.0,0.0,406000.0,0.7,140.0,1.0,0.0,79.0,0.0],[55.0,0.0,47.0,0.0,1.0,173000.0,1.1,137.0,1.0,0.0,79.0,0.0],[65.0,1.0,68.0,1.0,1.0,304000.0,0.8,140.0,1.0,0.0,79.0,0.0],[44.0,0.0,84.0,1.0,1.0,235000.0,0.7,139.0,1.0,0.0,79.0,0.0],[57.0,1.0,115.0,0.0,1.0,181000.0,1.1,144.0,1.0,0.0,79.0,0.0],[70.0,0.0,66.0,1.0,0.0,249000.0,0.8,136.0,1.0,1.0,80.0,0.0],[60.0,0.0,897.0,1.0,0.0,297000.0,1.0,133.0,1.0,0.0,80.0,0.0],[42.0,0.0,582.0,0.0,0.0,263358.03,1.18,137.0,0.0,0.0,82.0,0.0],[58.0,0.0,144.0,1.0,1.0,327000.0,0.7,142.0,0.0,0.0,83.0,0.0],[58.0,1.0,133.0,0.0,1.0,219000.0,1.0,141.0,1.0,0.0,83.0,0.0],[63.0,1.0,514.0,1.0,1.0,254000.0,1.3,134.0,1.0,0.0,83.0,0.0],[70.0,1.0,59.0,0.0,0.0,255000.0,1.1,136.0,0.0,0.0,85.0,0.0],[60.0,1.0,156.0,1.0,1.0,318000.0,1.2,137.0,0.0,0.0,85.0,0.0],[63.0,1.0,61.0,1.0,0.0,221000.0,1.1,140.0,0.0,0.0,86.0,0.0],[65.0,1.0,305.0,0.0,0.0,298000.0,1.1,141.0,1.0,0.0,87.0,0.0],[75.0,0.0,582.0,0.0,1.0,263358.03,1.18,137.0,1.0,0.0,87.0,0.0],[80.0,0.0,898.0,0.0,0.0,149000.0,1.1,144.0,1.0,1.0,87.0,0.0],[42.0,0.0,5209.0,0.0,0.0,226000.0,1.0,140.0,1.0,1.0,87.0,0.0],[60.0,0.0,53.0,0.0,1.0,286000.0,2.3,143.0,0.0,0.0,87.0,0.0],[55.0,0.0,748.0,0.0,0.0,263000.0,1.3,137.0,1.0,0.0,88.0,0.0],[45.0,1.0,1876.0,1.0,0.0,226000.0,0.9,138.0,1.0,0.0,88.0,0.0],[63.0,0.0,936.0,0.0,0.0,304000.0,1.1,133.0,1.0,1.0,88.0,0.0],[45.0,0.0,292.0,1.0,0.0,850000.0,1.3,142.0,1.0,1.0,88.0,0.0],[55.0,0.0,60.0,0.0,0.0,228000.0,1.2,135.0,1.0,1.0,90.0,0.0],[50.0,0.0,369.0,1.0,0.0,252000.0,1.6,136.0,1.0,0.0,90.0,0.0],[60.0,1.0,754.0,1.0,1.0,328000.0,1.2,126.0,1.0,0.0,91.0,0.0],[58.0,1.0,400.0,0.0,0.0,164000.0,1.0,139.0,0.0,0.0,91.0,0.0],[60.0,1.0,96.0,1.0,1.0,271000.0,0.7,136.0,0.0,0.0,94.0,0.0],[85.0,1.0,102.0,0.0,0.0,507000.0,3.2,138.0,0.0,0.0,94.0,0.0],[65.0,1.0,113.0,1.0,1.0,203000.0,0.9,140.0,0.0,0.0,94.0,0.0],[60.0,1.0,737.0,0.0,1.0,210000.0,1.5,135.0,1.0,1.0,95.0,0.0],[66.0,1.0,68.0,1.0,1.0,162000.0,1.0,136.0,0.0,0.0,95.0,0.0],[60.0,0.0,96.0,1.0,0.0,228000.0,0.75,140.0,0.0,0.0,95.0,0.0],[60.0,1.0,582.0,0.0,1.0,127000.0,0.9,145.0,0.0,0.0,95.0,0.0],[43.0,1.0,358.0,0.0,0.0,237000.0,1.3,135.0,0.0,0.0,97.0,0.0],[58.0,1.0,200.0,1.0,0.0,300000.0,0.8,137.0,0.0,0.0,104.0,0.0],[61.0,0.0,248.0,0.0,1.0,267000.0,0.7,136.0,1.0,1.0,104.0,0.0],[53.0,1.0,270.0,1.0,0.0,227000.0,3.4,145.0,1.0,0.0,105.0,0.0],[53.0,1.0,1808.0,0.0,1.0,249000.0,0.7,138.0,1.0,1.0,106.0,0.0],[60.0,1.0,1082.0,1.0,0.0,250000.0,6.1,131.0,1.0,0.0,107.0,0.0],[46.0,0.0,719.0,0.0,1.0,263358.03,1.18,137.0,0.0,0.0,107.0,0.0],[63.0,0.0,193.0,0.0,1.0,295000.0,1.3,145.0,1.0,1.0,107.0,0.0],[81.0,0.0,4540.0,0.0,0.0,231000.0,1.18,137.0,1.0,1.0,107.0,0.0],[75.0,0.0,582.0,0.0,0.0,263358.03,1.18,137.0,1.0,0.0,107.0,0.0],[65.0,1.0,59.0,1.0,0.0,172000.0,0.9,137.0,0.0,0.0,107.0,0.0],[68.0,1.0,646.0,0.0,0.0,305000.0,2.1,130.0,1.0,0.0,108.0,0.0],[62.0,0.0,281.0,1.0,0.0,221000.0,1.0,136.0,0.0,0.0,108.0,0.0],[50.0,0.0,1548.0,0.0,1.0,211000.0,0.8,138.0,1.0,0.0,108.0,0.0],[46.0,1.0,291.0,0.0,0.0,348000.0,0.9,140.0,0.0,0.0,109.0,0.0],[50.0,0.0,482.0,1.0,0.0,329000.0,0.9,132.0,0.0,0.0,109.0,0.0],[61.0,1.0,84.0,0.0,1.0,229000.0,0.9,141.0,0.0,0.0,110.0,0.0],[50.0,0.0,185.0,0.0,0.0,266000.0,0.7,141.0,1.0,1.0,112.0,0.0],[52.0,0.0,132.0,0.0,0.0,218000.0,0.7,136.0,1.0,1.0,112.0,0.0],[64.0,0.0,1610.0,0.0,0.0,242000.0,1.0,137.0,1.0,0.0,113.0,0.0],[60.0,0.0,2261.0,0.0,1.0,228000.0,0.9,136.0,1.0,0.0,115.0,0.0],[62.0,0.0,30.0,1.0,1.0,244000.0,0.9,139.0,1.0,0.0,117.0,0.0],[50.0,0.0,115.0,0.0,1.0,184000.0,0.9,134.0,1.0,1.0,118.0,0.0],[50.0,0.0,1846.0,1.0,0.0,263358.03,1.18,137.0,1.0,1.0,119.0,0.0],[65.0,1.0,335.0,0.0,1.0,235000.0,0.8,136.0,0.0,0.0,120.0,0.0],[60.0,1.0,231.0,1.0,0.0,194000.0,1.7,140.0,1.0,0.0,120.0,0.0],[52.0,1.0,58.0,0.0,0.0,277000.0,1.4,136.0,0.0,0.0,120.0,0.0],[50.0,0.0,250.0,0.0,0.0,262000.0,1.0,136.0,1.0,1.0,120.0,0.0],[85.0,1.0,910.0,0.0,0.0,235000.0,1.3,134.0,1.0,0.0,121.0,0.0],[59.0,1.0,129.0,0.0,1.0,362000.0,1.1,139.0,1.0,1.0,121.0,0.0],[66.0,1.0,72.0,0.0,1.0,242000.0,1.2,134.0,1.0,0.0,121.0,0.0],[45.0,1.0,130.0,0.0,0.0,174000.0,0.8,139.0,1.0,1.0,121.0,0.0],[63.0,1.0,582.0,0.0,0.0,448000.0,0.9,137.0,1.0,1.0,123.0,0.0],[53.0,0.0,196.0,0.0,0.0,220000.0,0.7,133.0,1.0,1.0,134.0,0.0],[65.0,0.0,582.0,1.0,0.0,270000.0,1.0,138.0,0.0,0.0,140.0,0.0],[70.0,0.0,835.0,0.0,1.0,305000.0,0.8,133.0,0.0,0.0,145.0,0.0],[51.0,1.0,582.0,1.0,0.0,263358.03,1.5,136.0,1.0,1.0,145.0,0.0],[52.0,0.0,3966.0,0.0,0.0,325000.0,0.9,140.0,1.0,1.0,146.0,0.0],[70.0,1.0,171.0,0.0,1.0,176000.0,1.1,145.0,1.0,1.0,146.0,0.0],[50.0,1.0,115.0,0.0,0.0,189000.0,0.8,139.0,1.0,0.0,146.0,0.0],[65.0,0.0,198.0,1.0,1.0,281000.0,0.9,137.0,1.0,1.0,146.0,0.0],[60.0,1.0,95.0,0.0,0.0,337000.0,1.0,138.0,1.0,1.0,146.0,0.0],[69.0,0.0,1419.0,0.0,0.0,105000.0,1.0,135.0,1.0,1.0,147.0,0.0],[49.0,1.0,69.0,0.0,0.0,132000.0,1.0,140.0,0.0,0.0,147.0,0.0],[63.0,1.0,122.0,1.0,0.0,267000.0,1.2,145.0,1.0,0.0,147.0,0.0],[55.0,0.0,835.0,0.0,0.0,279000.0,0.7,140.0,1.0,1.0,147.0,0.0],[40.0,0.0,478.0,1.0,0.0,303000.0,0.9,136.0,1.0,0.0,148.0,0.0],[60.667,1.0,151.0,1.0,1.0,201000.0,1.0,136.0,0.0,0.0,172.0,0.0],[40.0,0.0,244.0,0.0,1.0,275000.0,0.9,140.0,0.0,0.0,174.0,0.0],[80.0,0.0,582.0,1.0,0.0,350000.0,2.1,134.0,1.0,0.0,174.0,0.0],[64.0,1.0,62.0,0.0,0.0,309000.0,1.5,135.0,0.0,0.0,174.0,0.0],[50.0,1.0,121.0,1.0,0.0,260000.0,0.7,130.0,1.0,0.0,175.0,0.0],[73.0,1.0,231.0,1.0,0.0,160000.0,1.18,142.0,1.0,1.0,180.0,0.0],[45.0,0.0,582.0,1.0,1.0,263358.03,1.18,137.0,0.0,0.0,185.0,0.0],[65.0,0.0,167.0,0.0,0.0,259000.0,0.8,138.0,0.0,0.0,186.0,0.0],[50.0,1.0,582.0,1.0,1.0,279000.0,1.0,134.0,0.0,0.0,186.0,0.0],[60.0,0.0,1211.0,1.0,0.0,263358.03,1.8,113.0,1.0,1.0,186.0,0.0],[63.0,1.0,1767.0,0.0,0.0,73000.0,0.7,137.0,1.0,0.0,186.0,0.0],[45.0,0.0,308.0,1.0,1.0,377000.0,1.0,136.0,1.0,0.0,186.0,0.0],[70.0,0.0,97.0,0.0,1.0,220000.0,0.9,138.0,1.0,0.0,186.0,0.0],[60.0,0.0,59.0,0.0,1.0,212000.0,3.5,136.0,1.0,1.0,187.0,0.0],[78.0,1.0,64.0,0.0,0.0,277000.0,0.7,137.0,1.0,1.0,187.0,0.0],[50.0,1.0,167.0,1.0,0.0,362000.0,1.0,136.0,0.0,0.0,187.0,0.0],[40.0,1.0,101.0,0.0,0.0,226000.0,0.8,141.0,0.0,0.0,187.0,0.0],[85.0,0.0,212.0,0.0,0.0,186000.0,0.9,136.0,1.0,0.0,187.0,0.0],[60.0,1.0,2281.0,1.0,0.0,283000.0,1.0,141.0,0.0,0.0,187.0,0.0],[49.0,0.0,972.0,1.0,1.0,268000.0,0.8,130.0,0.0,0.0,187.0,0.0],[70.0,0.0,212.0,1.0,1.0,389000.0,1.0,136.0,1.0,1.0,188.0,0.0],[50.0,0.0,582.0,0.0,1.0,147000.0,0.8,140.0,1.0,1.0,192.0,0.0],[78.0,0.0,224.0,0.0,0.0,481000.0,1.4,138.0,1.0,1.0,192.0,0.0],[65.0,1.0,135.0,0.0,1.0,290000.0,0.8,134.0,1.0,0.0,194.0,0.0],[73.0,0.0,582.0,0.0,1.0,203000.0,1.3,134.0,1.0,0.0,195.0,0.0],[70.0,0.0,1202.0,0.0,1.0,358000.0,0.9,141.0,0.0,0.0,196.0,0.0],[68.0,1.0,1021.0,1.0,0.0,271000.0,1.1,134.0,1.0,0.0,197.0,0.0],[55.0,0.0,582.0,1.0,1.0,371000.0,0.7,140.0,0.0,0.0,197.0,0.0],[65.0,0.0,118.0,0.0,0.0,194000.0,1.1,145.0,1.0,1.0,200.0,0.0],[42.0,1.0,86.0,0.0,0.0,365000.0,1.1,139.0,1.0,1.0,201.0,0.0],[47.0,0.0,582.0,0.0,0.0,130000.0,0.8,134.0,1.0,0.0,201.0,0.0],[58.0,0.0,582.0,1.0,0.0,504000.0,1.0,138.0,1.0,0.0,205.0,0.0],[75.0,0.0,675.0,1.0,0.0,265000.0,1.4,125.0,0.0,0.0,205.0,0.0],[58.0,1.0,57.0,0.0,0.0,189000.0,1.3,132.0,1.0,1.0,205.0,0.0],[55.0,1.0,2794.0,0.0,1.0,141000.0,1.0,140.0,1.0,0.0,206.0,0.0],[65.0,0.0,56.0,0.0,0.0,237000.0,5.0,130.0,0.0,0.0,207.0,0.0],[72.0,0.0,211.0,0.0,0.0,274000.0,1.2,134.0,0.0,0.0,207.0,0.0],[70.0,0.0,93.0,0.0,0.0,185000.0,1.1,134.0,1.0,1.0,208.0,0.0],[40.0,1.0,129.0,0.0,0.0,255000.0,0.9,137.0,1.0,0.0,209.0,0.0],[53.0,1.0,707.0,0.0,0.0,330000.0,1.4,137.0,1.0,1.0,209.0,0.0],[53.0,1.0,582.0,0.0,0.0,305000.0,1.1,137.0,1.0,1.0,209.0,0.0],[77.0,1.0,109.0,0.0,1.0,406000.0,1.1,137.0,1.0,0.0,209.0,0.0],[75.0,0.0,119.0,0.0,1.0,248000.0,1.1,148.0,1.0,0.0,209.0,0.0],[70.0,0.0,232.0,0.0,0.0,173000.0,1.2,132.0,1.0,0.0,210.0,0.0],[65.0,1.0,720.0,1.0,0.0,257000.0,1.0,136.0,0.0,0.0,210.0,0.0],[55.0,1.0,180.0,0.0,0.0,263358.03,1.18,137.0,1.0,1.0,211.0,0.0],[70.0,0.0,81.0,1.0,1.0,533000.0,1.3,139.0,0.0,0.0,212.0,0.0],[65.0,0.0,582.0,1.0,0.0,249000.0,1.3,136.0,1.0,1.0,212.0,0.0],[40.0,0.0,90.0,0.0,0.0,255000.0,1.1,136.0,1.0,1.0,212.0,0.0],[73.0,1.0,1185.0,0.0,1.0,220000.0,0.9,141.0,0.0,0.0,213.0,0.0],[54.0,0.0,582.0,1.0,0.0,264000.0,1.8,134.0,1.0,0.0,213.0,0.0],[61.0,1.0,80.0,1.0,0.0,282000.0,1.4,137.0,1.0,0.0,213.0,0.0],[64.0,0.0,143.0,0.0,0.0,246000.0,2.4,135.0,1.0,0.0,214.0,0.0],[40.0,0.0,624.0,0.0,0.0,301000.0,1.0,142.0,1.0,1.0,214.0,0.0],[53.0,0.0,207.0,1.0,0.0,223000.0,1.2,130.0,0.0,0.0,214.0,0.0],[50.0,0.0,2522.0,0.0,1.0,404000.0,0.5,139.0,0.0,0.0,214.0,0.0],[55.0,0.0,572.0,1.0,0.0,231000.0,0.8,143.0,0.0,0.0,215.0,0.0],[50.0,0.0,245.0,0.0,1.0,274000.0,1.0,133.0,1.0,0.0,215.0,0.0],[70.0,0.0,88.0,1.0,1.0,236000.0,1.2,132.0,0.0,0.0,215.0,0.0],[53.0,1.0,446.0,0.0,1.0,263358.03,1.0,139.0,1.0,0.0,215.0,0.0],[52.0,1.0,191.0,1.0,1.0,334000.0,1.0,142.0,1.0,1.0,216.0,0.0],[65.0,0.0,326.0,0.0,0.0,294000.0,1.7,139.0,0.0,0.0,220.0,0.0],[58.0,0.0,132.0,1.0,1.0,253000.0,1.0,139.0,1.0,0.0,230.0,0.0],[45.0,1.0,66.0,1.0,0.0,233000.0,0.8,135.0,1.0,0.0,230.0,0.0],[53.0,0.0,56.0,0.0,0.0,308000.0,0.7,135.0,1.0,1.0,231.0,0.0],[55.0,0.0,66.0,0.0,0.0,203000.0,1.0,138.0,1.0,0.0,233.0,0.0],[62.0,1.0,655.0,0.0,0.0,283000.0,0.7,133.0,0.0,0.0,233.0,0.0],[68.0,1.0,157.0,1.0,0.0,208000.0,1.0,140.0,0.0,0.0,237.0,0.0],[61.0,0.0,582.0,1.0,0.0,147000.0,1.2,141.0,1.0,0.0,237.0,0.0],[50.0,1.0,298.0,0.0,0.0,362000.0,0.9,140.0,1.0,1.0,240.0,0.0],[56.0,1.0,135.0,1.0,0.0,133000.0,1.7,140.0,1.0,0.0,244.0,0.0],[45.0,0.0,582.0,1.0,0.0,302000.0,0.9,140.0,0.0,0.0,244.0,0.0],[40.0,0.0,582.0,1.0,0.0,222000.0,1.0,132.0,1.0,0.0,244.0,0.0],[44.0,0.0,582.0,1.0,1.0,263358.03,1.6,130.0,1.0,1.0,244.0,0.0],[51.0,0.0,582.0,1.0,0.0,221000.0,0.9,134.0,0.0,0.0,244.0,0.0],[67.0,0.0,213.0,0.0,0.0,215000.0,1.2,133.0,0.0,0.0,245.0,0.0],[42.0,0.0,64.0,0.0,0.0,189000.0,0.7,140.0,1.0,0.0,245.0,0.0],[60.0,1.0,257.0,1.0,0.0,150000.0,1.0,137.0,1.0,1.0,245.0,0.0],[45.0,0.0,582.0,0.0,1.0,422000.0,0.8,137.0,0.0,0.0,245.0,0.0],[70.0,0.0,618.0,0.0,0.0,327000.0,1.1,142.0,0.0,0.0,245.0,0.0],[70.0,0.0,582.0,1.0,0.0,25100.0,1.1,140.0,1.0,0.0,246.0,0.0],[50.0,1.0,1051.0,1.0,0.0,232000.0,0.7,136.0,0.0,0.0,246.0,0.0],[55.0,0.0,84.0,1.0,0.0,451000.0,1.3,136.0,0.0,0.0,246.0,0.0],[70.0,0.0,2695.0,1.0,0.0,241000.0,1.0,137.0,1.0,0.0,247.0,0.0],[70.0,0.0,582.0,0.0,0.0,51000.0,2.7,136.0,1.0,1.0,250.0,0.0],[42.0,0.0,64.0,0.0,0.0,215000.0,3.8,128.0,1.0,1.0,250.0,0.0],[65.0,0.0,1688.0,0.0,0.0,263358.03,1.1,138.0,1.0,1.0,250.0,0.0],[50.0,1.0,54.0,0.0,0.0,279000.0,0.8,141.0,1.0,0.0,250.0,0.0],[55.0,1.0,170.0,1.0,0.0,336000.0,1.2,135.0,1.0,0.0,250.0,0.0],[60.0,0.0,253.0,0.0,0.0,279000.0,1.7,140.0,1.0,0.0,250.0,0.0],[45.0,0.0,582.0,1.0,0.0,543000.0,1.0,132.0,0.0,0.0,250.0,0.0],[65.0,0.0,892.0,1.0,0.0,263358.03,1.1,142.0,0.0,0.0,256.0,0.0],[90.0,1.0,337.0,0.0,0.0,390000.0,0.9,144.0,0.0,0.0,256.0,0.0],[45.0,0.0,615.0,1.0,0.0,222000.0,0.8,141.0,0.0,0.0,257.0,0.0],[60.0,0.0,320.0,0.0,0.0,133000.0,1.4,139.0,1.0,0.0,258.0,0.0],[52.0,0.0,190.0,1.0,0.0,382000.0,1.0,140.0,1.0,1.0,258.0,0.0],[63.0,1.0,103.0,1.0,0.0,179000.0,0.9,136.0,1.0,1.0,270.0,0.0],[62.0,0.0,61.0,1.0,1.0,155000.0,1.1,143.0,1.0,1.0,270.0,0.0],[55.0,0.0,1820.0,0.0,0.0,270000.0,1.2,139.0,0.0,0.0,271.0,0.0],[45.0,0.0,2060.0,1.0,0.0,742000.0,0.8,138.0,0.0,0.0,278.0,0.0],[45.0,0.0,2413.0,0.0,0.0,140000.0,1.4,140.0,1.0,1.0,280.0,0.0],[50.0,0.0,196.0,0.0,0.0,395000.0,1.6,136.0,1.0,1.0,285.0,0.0]],\"hovertemplate\":\"DEATH_EVENT=%{customdata[11]}<br>Ejection Fraction=%{x}<br>age=%{customdata[0]}<br>anaemia=%{customdata[1]}<br>creatinine_phosphokinase=%{customdata[2]}<br>diabetes=%{customdata[3]}<br>high_blood_pressure=%{customdata[4]}<br>platelets=%{customdata[5]}<br>serum_creatinine=%{customdata[6]}<br>serum_sodium=%{customdata[7]}<br>sex=%{customdata[8]}<br>smoking=%{customdata[9]}<br>time=%{customdata[10]}<extra></extra>\",\"legendgroup\":\"0\",\"marker\":{\"color\":\"#EF553B\"},\"name\":\"0\",\"offsetgroup\":\"0\",\"scalegroup\":\"x\",\"showlegend\":false,\"x\":[30,25,60,30,30,50,35,40,35,40,35,50,60,40,38,45,40,50,50,50,35,60,40,25,45,45,60,38,60,25,60,25,40,25,45,25,30,50,45,35,38,35,35,25,40,40,60,60,60,60,38,38,30,50,60,30,35,60,45,40,60,35,40,60,25,35,30,35,30,40,30,30,60,35,60,45,35,35,25,35,25,50,45,40,35,40,60,40,35,35,40,60,20,35,60,40,50,60,40,30,40,45,35,60,40,30,38,30,20,35,45,60,60,25,40,45,40,38,40,35,17,62,50,35,35,50,35,35,50,35,25,25,60,25,35,25,25,35,35,38,45,50,50,30,40,45,35,30,35,40,38,38,25,35,40,30,35,45,35,60,30,38,38,25,50,40,40,60,38,35,38,38,35,30,40,38,40,30,38,35,38,30,38,40,40,30,38,40,40,35,55,35,38,55,35,38,35,38,38,60,38,45],\"xaxis\":\"x2\",\"yaxis\":\"y2\",\"type\":\"violin\"}],                        {\"template\":{\"data\":{\"barpolar\":[{\"marker\":{\"line\":{\"color\":\"rgb(17,17,17)\",\"width\":0.5},\"pattern\":{\"fillmode\":\"overlay\",\"size\":10,\"solidity\":0.2}},\"type\":\"barpolar\"}],\"bar\":[{\"error_x\":{\"color\":\"#f2f5fa\"},\"error_y\":{\"color\":\"#f2f5fa\"},\"marker\":{\"line\":{\"color\":\"rgb(17,17,17)\",\"width\":0.5},\"pattern\":{\"fillmode\":\"overlay\",\"size\":10,\"solidity\":0.2}},\"type\":\"bar\"}],\"carpet\":[{\"aaxis\":{\"endlinecolor\":\"#A2B1C6\",\"gridcolor\":\"#506784\",\"linecolor\":\"#506784\",\"minorgridcolor\":\"#506784\",\"startlinecolor\":\"#A2B1C6\"},\"baxis\":{\"endlinecolor\":\"#A2B1C6\",\"gridcolor\":\"#506784\",\"linecolor\":\"#506784\",\"minorgridcolor\":\"#506784\",\"startlinecolor\":\"#A2B1C6\"},\"type\":\"carpet\"}],\"choropleth\":[{\"colorbar\":{\"outlinewidth\":0,\"ticks\":\"\"},\"type\":\"choropleth\"}],\"contourcarpet\":[{\"colorbar\":{\"outlinewidth\":0,\"ticks\":\"\"},\"type\":\"contourcarpet\"}],\"contour\":[{\"colorbar\":{\"outlinewidth\":0,\"ticks\":\"\"},\"colorscale\":[[0.0,\"#0d0887\"],[0.1111111111111111,\"#46039f\"],[0.2222222222222222,\"#7201a8\"],[0.3333333333333333,\"#9c179e\"],[0.4444444444444444,\"#bd3786\"],[0.5555555555555556,\"#d8576b\"],[0.6666666666666666,\"#ed7953\"],[0.7777777777777778,\"#fb9f3a\"],[0.8888888888888888,\"#fdca26\"],[1.0,\"#f0f921\"]],\"type\":\"contour\"}],\"heatmapgl\":[{\"colorbar\":{\"outlinewidth\":0,\"ticks\":\"\"},\"colorscale\":[[0.0,\"#0d0887\"],[0.1111111111111111,\"#46039f\"],[0.2222222222222222,\"#7201a8\"],[0.3333333333333333,\"#9c179e\"],[0.4444444444444444,\"#bd3786\"],[0.5555555555555556,\"#d8576b\"],[0.6666666666666666,\"#ed7953\"],[0.7777777777777778,\"#fb9f3a\"],[0.8888888888888888,\"#fdca26\"],[1.0,\"#f0f921\"]],\"type\":\"heatmapgl\"}],\"heatmap\":[{\"colorbar\":{\"outlinewidth\":0,\"ticks\":\"\"},\"colorscale\":[[0.0,\"#0d0887\"],[0.1111111111111111,\"#46039f\"],[0.2222222222222222,\"#7201a8\"],[0.3333333333333333,\"#9c179e\"],[0.4444444444444444,\"#bd3786\"],[0.5555555555555556,\"#d8576b\"],[0.6666666666666666,\"#ed7953\"],[0.7777777777777778,\"#fb9f3a\"],[0.8888888888888888,\"#fdca26\"],[1.0,\"#f0f921\"]],\"type\":\"heatmap\"}],\"histogram2dcontour\":[{\"colorbar\":{\"outlinewidth\":0,\"ticks\":\"\"},\"colorscale\":[[0.0,\"#0d0887\"],[0.1111111111111111,\"#46039f\"],[0.2222222222222222,\"#7201a8\"],[0.3333333333333333,\"#9c179e\"],[0.4444444444444444,\"#bd3786\"],[0.5555555555555556,\"#d8576b\"],[0.6666666666666666,\"#ed7953\"],[0.7777777777777778,\"#fb9f3a\"],[0.8888888888888888,\"#fdca26\"],[1.0,\"#f0f921\"]],\"type\":\"histogram2dcontour\"}],\"histogram2d\":[{\"colorbar\":{\"outlinewidth\":0,\"ticks\":\"\"},\"colorscale\":[[0.0,\"#0d0887\"],[0.1111111111111111,\"#46039f\"],[0.2222222222222222,\"#7201a8\"],[0.3333333333333333,\"#9c179e\"],[0.4444444444444444,\"#bd3786\"],[0.5555555555555556,\"#d8576b\"],[0.6666666666666666,\"#ed7953\"],[0.7777777777777778,\"#fb9f3a\"],[0.8888888888888888,\"#fdca26\"],[1.0,\"#f0f921\"]],\"type\":\"histogram2d\"}],\"histogram\":[{\"marker\":{\"pattern\":{\"fillmode\":\"overlay\",\"size\":10,\"solidity\":0.2}},\"type\":\"histogram\"}],\"mesh3d\":[{\"colorbar\":{\"outlinewidth\":0,\"ticks\":\"\"},\"type\":\"mesh3d\"}],\"parcoords\":[{\"line\":{\"colorbar\":{\"outlinewidth\":0,\"ticks\":\"\"}},\"type\":\"parcoords\"}],\"pie\":[{\"automargin\":true,\"type\":\"pie\"}],\"scatter3d\":[{\"line\":{\"colorbar\":{\"outlinewidth\":0,\"ticks\":\"\"}},\"marker\":{\"colorbar\":{\"outlinewidth\":0,\"ticks\":\"\"}},\"type\":\"scatter3d\"}],\"scattercarpet\":[{\"marker\":{\"colorbar\":{\"outlinewidth\":0,\"ticks\":\"\"}},\"type\":\"scattercarpet\"}],\"scattergeo\":[{\"marker\":{\"colorbar\":{\"outlinewidth\":0,\"ticks\":\"\"}},\"type\":\"scattergeo\"}],\"scattergl\":[{\"marker\":{\"line\":{\"color\":\"#283442\"}},\"type\":\"scattergl\"}],\"scattermapbox\":[{\"marker\":{\"colorbar\":{\"outlinewidth\":0,\"ticks\":\"\"}},\"type\":\"scattermapbox\"}],\"scatterpolargl\":[{\"marker\":{\"colorbar\":{\"outlinewidth\":0,\"ticks\":\"\"}},\"type\":\"scatterpolargl\"}],\"scatterpolar\":[{\"marker\":{\"colorbar\":{\"outlinewidth\":0,\"ticks\":\"\"}},\"type\":\"scatterpolar\"}],\"scatter\":[{\"marker\":{\"line\":{\"color\":\"#283442\"}},\"type\":\"scatter\"}],\"scatterternary\":[{\"marker\":{\"colorbar\":{\"outlinewidth\":0,\"ticks\":\"\"}},\"type\":\"scatterternary\"}],\"surface\":[{\"colorbar\":{\"outlinewidth\":0,\"ticks\":\"\"},\"colorscale\":[[0.0,\"#0d0887\"],[0.1111111111111111,\"#46039f\"],[0.2222222222222222,\"#7201a8\"],[0.3333333333333333,\"#9c179e\"],[0.4444444444444444,\"#bd3786\"],[0.5555555555555556,\"#d8576b\"],[0.6666666666666666,\"#ed7953\"],[0.7777777777777778,\"#fb9f3a\"],[0.8888888888888888,\"#fdca26\"],[1.0,\"#f0f921\"]],\"type\":\"surface\"}],\"table\":[{\"cells\":{\"fill\":{\"color\":\"#506784\"},\"line\":{\"color\":\"rgb(17,17,17)\"}},\"header\":{\"fill\":{\"color\":\"#2a3f5f\"},\"line\":{\"color\":\"rgb(17,17,17)\"}},\"type\":\"table\"}]},\"layout\":{\"annotationdefaults\":{\"arrowcolor\":\"#f2f5fa\",\"arrowhead\":0,\"arrowwidth\":1},\"autotypenumbers\":\"strict\",\"coloraxis\":{\"colorbar\":{\"outlinewidth\":0,\"ticks\":\"\"}},\"colorscale\":{\"diverging\":[[0,\"#8e0152\"],[0.1,\"#c51b7d\"],[0.2,\"#de77ae\"],[0.3,\"#f1b6da\"],[0.4,\"#fde0ef\"],[0.5,\"#f7f7f7\"],[0.6,\"#e6f5d0\"],[0.7,\"#b8e186\"],[0.8,\"#7fbc41\"],[0.9,\"#4d9221\"],[1,\"#276419\"]],\"sequential\":[[0.0,\"#0d0887\"],[0.1111111111111111,\"#46039f\"],[0.2222222222222222,\"#7201a8\"],[0.3333333333333333,\"#9c179e\"],[0.4444444444444444,\"#bd3786\"],[0.5555555555555556,\"#d8576b\"],[0.6666666666666666,\"#ed7953\"],[0.7777777777777778,\"#fb9f3a\"],[0.8888888888888888,\"#fdca26\"],[1.0,\"#f0f921\"]],\"sequentialminus\":[[0.0,\"#0d0887\"],[0.1111111111111111,\"#46039f\"],[0.2222222222222222,\"#7201a8\"],[0.3333333333333333,\"#9c179e\"],[0.4444444444444444,\"#bd3786\"],[0.5555555555555556,\"#d8576b\"],[0.6666666666666666,\"#ed7953\"],[0.7777777777777778,\"#fb9f3a\"],[0.8888888888888888,\"#fdca26\"],[1.0,\"#f0f921\"]]},\"colorway\":[\"#636efa\",\"#EF553B\",\"#00cc96\",\"#ab63fa\",\"#FFA15A\",\"#19d3f3\",\"#FF6692\",\"#B6E880\",\"#FF97FF\",\"#FECB52\"],\"font\":{\"color\":\"#f2f5fa\"},\"geo\":{\"bgcolor\":\"rgb(17,17,17)\",\"lakecolor\":\"rgb(17,17,17)\",\"landcolor\":\"rgb(17,17,17)\",\"showlakes\":true,\"showland\":true,\"subunitcolor\":\"#506784\"},\"hoverlabel\":{\"align\":\"left\"},\"hovermode\":\"closest\",\"mapbox\":{\"style\":\"dark\"},\"paper_bgcolor\":\"rgb(17,17,17)\",\"plot_bgcolor\":\"rgb(17,17,17)\",\"polar\":{\"angularaxis\":{\"gridcolor\":\"#506784\",\"linecolor\":\"#506784\",\"ticks\":\"\"},\"bgcolor\":\"rgb(17,17,17)\",\"radialaxis\":{\"gridcolor\":\"#506784\",\"linecolor\":\"#506784\",\"ticks\":\"\"}},\"scene\":{\"xaxis\":{\"backgroundcolor\":\"rgb(17,17,17)\",\"gridcolor\":\"#506784\",\"gridwidth\":2,\"linecolor\":\"#506784\",\"showbackground\":true,\"ticks\":\"\",\"zerolinecolor\":\"#C8D4E3\"},\"yaxis\":{\"backgroundcolor\":\"rgb(17,17,17)\",\"gridcolor\":\"#506784\",\"gridwidth\":2,\"linecolor\":\"#506784\",\"showbackground\":true,\"ticks\":\"\",\"zerolinecolor\":\"#C8D4E3\"},\"zaxis\":{\"backgroundcolor\":\"rgb(17,17,17)\",\"gridcolor\":\"#506784\",\"gridwidth\":2,\"linecolor\":\"#506784\",\"showbackground\":true,\"ticks\":\"\",\"zerolinecolor\":\"#C8D4E3\"}},\"shapedefaults\":{\"line\":{\"color\":\"#f2f5fa\"}},\"sliderdefaults\":{\"bgcolor\":\"#C8D4E3\",\"bordercolor\":\"rgb(17,17,17)\",\"borderwidth\":1,\"tickwidth\":0},\"ternary\":{\"aaxis\":{\"gridcolor\":\"#506784\",\"linecolor\":\"#506784\",\"ticks\":\"\"},\"baxis\":{\"gridcolor\":\"#506784\",\"linecolor\":\"#506784\",\"ticks\":\"\"},\"bgcolor\":\"rgb(17,17,17)\",\"caxis\":{\"gridcolor\":\"#506784\",\"linecolor\":\"#506784\",\"ticks\":\"\"}},\"title\":{\"x\":0.05},\"updatemenudefaults\":{\"bgcolor\":\"#506784\",\"borderwidth\":0},\"xaxis\":{\"automargin\":true,\"gridcolor\":\"#283442\",\"linecolor\":\"#506784\",\"ticks\":\"\",\"title\":{\"standoff\":15},\"zerolinecolor\":\"#283442\",\"zerolinewidth\":2},\"yaxis\":{\"automargin\":true,\"gridcolor\":\"#283442\",\"linecolor\":\"#506784\",\"ticks\":\"\",\"title\":{\"standoff\":15},\"zerolinecolor\":\"#283442\",\"zerolinewidth\":2}}},\"xaxis\":{\"anchor\":\"y\",\"domain\":[0.0,1.0],\"title\":{\"text\":\"Ejection Fraction\"}},\"yaxis\":{\"anchor\":\"x\",\"domain\":[0.0,0.7326],\"title\":{\"text\":\"count\"}},\"xaxis2\":{\"anchor\":\"y2\",\"domain\":[0.0,1.0],\"matches\":\"x\",\"showticklabels\":false,\"showgrid\":true},\"yaxis2\":{\"anchor\":\"x2\",\"domain\":[0.7426,1.0],\"matches\":\"y2\",\"showticklabels\":false,\"showline\":false,\"ticks\":\"\",\"showgrid\":false},\"legend\":{\"title\":{\"text\":\"DEATH_EVENT\"},\"tracegroupgap\":0},\"title\":{\"text\":\"Distribution of Ejection Fraction by DEATH_EVENT\"},\"barmode\":\"relative\"},                        {\"responsive\": true}                    ).then(function(){\n",
       "                            \n",
       "var gd = document.getElementById('725e183b-2045-47c8-9d00-e105102fa204');\n",
       "var x = new MutationObserver(function (mutations, observer) {{\n",
       "        var display = window.getComputedStyle(gd).display;\n",
       "        if (!display || display === 'none') {{\n",
       "            console.log([gd, 'removed!']);\n",
       "            Plotly.purge(gd);\n",
       "            observer.disconnect();\n",
       "        }}\n",
       "}});\n",
       "\n",
       "// Listen for the removal of the full notebook cells\n",
       "var notebookContainer = gd.closest('#notebook-container');\n",
       "if (notebookContainer) {{\n",
       "    x.observe(notebookContainer, {childList: true});\n",
       "}}\n",
       "\n",
       "// Listen for the clearing of the current output cell\n",
       "var outputEl = gd.closest('.output');\n",
       "if (outputEl) {{\n",
       "    x.observe(outputEl, {childList: true});\n",
       "}}\n",
       "\n",
       "                        })                };                });            </script>        </div>"
      ]
     },
     "metadata": {},
     "output_type": "display_data"
    }
   ],
   "source": [
    "# Distribution of ejection_fraction by death_event\n",
    "\n",
    "fig = px.histogram(dataset, \n",
    "                   x = 'ejection_fraction', \n",
    "                   color = 'DEATH_EVENT',\n",
    "                   marginal = 'violin',\n",
    "                   hover_data = dataset.columns,\n",
    "                   title = 'Distribution of Ejection Fraction by DEATH_EVENT',\n",
    "                   labels = {'ejection_fraction': 'Ejection Fraction'},\n",
    "                   template = 'plotly_dark'\n",
    "                  )\n",
    "fig.show()"
   ]
  },
  {
   "cell_type": "code",
   "execution_count": 36,
   "id": "c5aa063b",
   "metadata": {},
   "outputs": [
    {
     "data": {
      "application/vnd.plotly.v1+json": {
       "config": {
        "plotlyServerURL": "https://plot.ly"
       },
       "data": [
        {
         "marker": {
          "color": "#797ef6"
         },
         "opacity": 1,
         "type": "histogram",
         "x": [
          1.9,
          1.1,
          1.3,
          1.9,
          2.7,
          2.1,
          1.2,
          1.1,
          1.5,
          9.4,
          4,
          0.9,
          1.1,
          1.1,
          1,
          1.3,
          0.9,
          0.8,
          1,
          1.9,
          1.3,
          1.6,
          0.9,
          0.8,
          1.83,
          1.9,
          1,
          1.3,
          5.8,
          1.2,
          1.83,
          3,
          1,
          1.2,
          1,
          3.5,
          1,
          1,
          2.3,
          3,
          1.83,
          1.2,
          1.2,
          1,
          1.1,
          1.9,
          0.9,
          0.6,
          4.4,
          1,
          1,
          1.4,
          6.8,
          1,
          2.2,
          2,
          2.7,
          0.6,
          1.1,
          1.3,
          1,
          2.3,
          1.1,
          1,
          2.9,
          1.3,
          1,
          1.2,
          1.83,
          0.8,
          0.9,
          1,
          1.3,
          1.2,
          0.7,
          0.8,
          1.2,
          0.6,
          0.9,
          1.7,
          1.18,
          2.5,
          1.8,
          1,
          0.7,
          1.1,
          0.8,
          0.7,
          1.1,
          0.8,
          1,
          1.18,
          1.7,
          0.7,
          1,
          1.3,
          1.1,
          1.2,
          1.1,
          1.1,
          1.18,
          1.1,
          1,
          2.3,
          1.7,
          1.3,
          0.9,
          1.1,
          1.3,
          1.2,
          1.2,
          1.6,
          1.3,
          1.2,
          1,
          0.7,
          3.2,
          0.9,
          1.83,
          1.5,
          1,
          0.75,
          0.9,
          3.7,
          1.3,
          2.1,
          0.8,
          0.7,
          3.4,
          0.7,
          6.1,
          1.18,
          1.3,
          1.18,
          1.18,
          0.9,
          2.1,
          1,
          0.8,
          1.1,
          0.9,
          0.9,
          0.9,
          1.7,
          0.7,
          0.7,
          1,
          1.83,
          0.9,
          2.5,
          0.9,
          0.9,
          1.18,
          0.8,
          1.7,
          1.4,
          1,
          1.3,
          1.1,
          1.2,
          0.8,
          0.9,
          0.9,
          1.1,
          1.3,
          0.7,
          2.4,
          1,
          0.8,
          1.5,
          0.9,
          1.1,
          0.8,
          0.9,
          1,
          1,
          1,
          1.2,
          0.7,
          0.9,
          1,
          1.2,
          2.5,
          1.2,
          1.5,
          0.6,
          2.1,
          1,
          0.9,
          2.1,
          1.5,
          0.7,
          1.18,
          1.6,
          1.8,
          1.18,
          0.8,
          1,
          1.8,
          0.7,
          1,
          0.9,
          3.5,
          0.7,
          1,
          0.8,
          0.9,
          1,
          0.8,
          1,
          0.8,
          1.4,
          1.6,
          0.8,
          1.3,
          0.9,
          1.1,
          0.7,
          1.83,
          1.1,
          1.1,
          0.8,
          1,
          1.4,
          1.3,
          1,
          5,
          1.2,
          1.7,
          1.1,
          0.9,
          1.4,
          1.1,
          1.1,
          1.1,
          1.2,
          1,
          1.18,
          1.3,
          1.3,
          1.1,
          0.9,
          1.8,
          1.4,
          1.1,
          2.4,
          1,
          1.2,
          0.5,
          0.8,
          1,
          1.2,
          1,
          1,
          1.7,
          1,
          0.8,
          0.7,
          1,
          0.7,
          1.4,
          1,
          1.2,
          0.9,
          1.83,
          1.7,
          0.9,
          1,
          1.6,
          0.9,
          1.2,
          0.7,
          1,
          0.8,
          1.1,
          1.1,
          0.7,
          1.3,
          1,
          2.7,
          3.8,
          1.1,
          0.8,
          1.2,
          1.7,
          1,
          1.1,
          0.9,
          0.8,
          1.4,
          1,
          0.9,
          1.1,
          1.2,
          0.8,
          1.4,
          1.6
         ],
         "xbins": {
          "end": 9.4,
          "size": 0.2,
          "start": 0.5
         }
        }
       ],
       "layout": {
        "bargap": 0.05,
        "template": {
         "data": {
          "bar": [
           {
            "error_x": {
             "color": "#f2f5fa"
            },
            "error_y": {
             "color": "#f2f5fa"
            },
            "marker": {
             "line": {
              "color": "rgb(17,17,17)",
              "width": 0.5
             },
             "pattern": {
              "fillmode": "overlay",
              "size": 10,
              "solidity": 0.2
             }
            },
            "type": "bar"
           }
          ],
          "barpolar": [
           {
            "marker": {
             "line": {
              "color": "rgb(17,17,17)",
              "width": 0.5
             },
             "pattern": {
              "fillmode": "overlay",
              "size": 10,
              "solidity": 0.2
             }
            },
            "type": "barpolar"
           }
          ],
          "carpet": [
           {
            "aaxis": {
             "endlinecolor": "#A2B1C6",
             "gridcolor": "#506784",
             "linecolor": "#506784",
             "minorgridcolor": "#506784",
             "startlinecolor": "#A2B1C6"
            },
            "baxis": {
             "endlinecolor": "#A2B1C6",
             "gridcolor": "#506784",
             "linecolor": "#506784",
             "minorgridcolor": "#506784",
             "startlinecolor": "#A2B1C6"
            },
            "type": "carpet"
           }
          ],
          "choropleth": [
           {
            "colorbar": {
             "outlinewidth": 0,
             "ticks": ""
            },
            "type": "choropleth"
           }
          ],
          "contour": [
           {
            "colorbar": {
             "outlinewidth": 0,
             "ticks": ""
            },
            "colorscale": [
             [
              0,
              "#0d0887"
             ],
             [
              0.1111111111111111,
              "#46039f"
             ],
             [
              0.2222222222222222,
              "#7201a8"
             ],
             [
              0.3333333333333333,
              "#9c179e"
             ],
             [
              0.4444444444444444,
              "#bd3786"
             ],
             [
              0.5555555555555556,
              "#d8576b"
             ],
             [
              0.6666666666666666,
              "#ed7953"
             ],
             [
              0.7777777777777778,
              "#fb9f3a"
             ],
             [
              0.8888888888888888,
              "#fdca26"
             ],
             [
              1,
              "#f0f921"
             ]
            ],
            "type": "contour"
           }
          ],
          "contourcarpet": [
           {
            "colorbar": {
             "outlinewidth": 0,
             "ticks": ""
            },
            "type": "contourcarpet"
           }
          ],
          "heatmap": [
           {
            "colorbar": {
             "outlinewidth": 0,
             "ticks": ""
            },
            "colorscale": [
             [
              0,
              "#0d0887"
             ],
             [
              0.1111111111111111,
              "#46039f"
             ],
             [
              0.2222222222222222,
              "#7201a8"
             ],
             [
              0.3333333333333333,
              "#9c179e"
             ],
             [
              0.4444444444444444,
              "#bd3786"
             ],
             [
              0.5555555555555556,
              "#d8576b"
             ],
             [
              0.6666666666666666,
              "#ed7953"
             ],
             [
              0.7777777777777778,
              "#fb9f3a"
             ],
             [
              0.8888888888888888,
              "#fdca26"
             ],
             [
              1,
              "#f0f921"
             ]
            ],
            "type": "heatmap"
           }
          ],
          "heatmapgl": [
           {
            "colorbar": {
             "outlinewidth": 0,
             "ticks": ""
            },
            "colorscale": [
             [
              0,
              "#0d0887"
             ],
             [
              0.1111111111111111,
              "#46039f"
             ],
             [
              0.2222222222222222,
              "#7201a8"
             ],
             [
              0.3333333333333333,
              "#9c179e"
             ],
             [
              0.4444444444444444,
              "#bd3786"
             ],
             [
              0.5555555555555556,
              "#d8576b"
             ],
             [
              0.6666666666666666,
              "#ed7953"
             ],
             [
              0.7777777777777778,
              "#fb9f3a"
             ],
             [
              0.8888888888888888,
              "#fdca26"
             ],
             [
              1,
              "#f0f921"
             ]
            ],
            "type": "heatmapgl"
           }
          ],
          "histogram": [
           {
            "marker": {
             "pattern": {
              "fillmode": "overlay",
              "size": 10,
              "solidity": 0.2
             }
            },
            "type": "histogram"
           }
          ],
          "histogram2d": [
           {
            "colorbar": {
             "outlinewidth": 0,
             "ticks": ""
            },
            "colorscale": [
             [
              0,
              "#0d0887"
             ],
             [
              0.1111111111111111,
              "#46039f"
             ],
             [
              0.2222222222222222,
              "#7201a8"
             ],
             [
              0.3333333333333333,
              "#9c179e"
             ],
             [
              0.4444444444444444,
              "#bd3786"
             ],
             [
              0.5555555555555556,
              "#d8576b"
             ],
             [
              0.6666666666666666,
              "#ed7953"
             ],
             [
              0.7777777777777778,
              "#fb9f3a"
             ],
             [
              0.8888888888888888,
              "#fdca26"
             ],
             [
              1,
              "#f0f921"
             ]
            ],
            "type": "histogram2d"
           }
          ],
          "histogram2dcontour": [
           {
            "colorbar": {
             "outlinewidth": 0,
             "ticks": ""
            },
            "colorscale": [
             [
              0,
              "#0d0887"
             ],
             [
              0.1111111111111111,
              "#46039f"
             ],
             [
              0.2222222222222222,
              "#7201a8"
             ],
             [
              0.3333333333333333,
              "#9c179e"
             ],
             [
              0.4444444444444444,
              "#bd3786"
             ],
             [
              0.5555555555555556,
              "#d8576b"
             ],
             [
              0.6666666666666666,
              "#ed7953"
             ],
             [
              0.7777777777777778,
              "#fb9f3a"
             ],
             [
              0.8888888888888888,
              "#fdca26"
             ],
             [
              1,
              "#f0f921"
             ]
            ],
            "type": "histogram2dcontour"
           }
          ],
          "mesh3d": [
           {
            "colorbar": {
             "outlinewidth": 0,
             "ticks": ""
            },
            "type": "mesh3d"
           }
          ],
          "parcoords": [
           {
            "line": {
             "colorbar": {
              "outlinewidth": 0,
              "ticks": ""
             }
            },
            "type": "parcoords"
           }
          ],
          "pie": [
           {
            "automargin": true,
            "type": "pie"
           }
          ],
          "scatter": [
           {
            "marker": {
             "line": {
              "color": "#283442"
             }
            },
            "type": "scatter"
           }
          ],
          "scatter3d": [
           {
            "line": {
             "colorbar": {
              "outlinewidth": 0,
              "ticks": ""
             }
            },
            "marker": {
             "colorbar": {
              "outlinewidth": 0,
              "ticks": ""
             }
            },
            "type": "scatter3d"
           }
          ],
          "scattercarpet": [
           {
            "marker": {
             "colorbar": {
              "outlinewidth": 0,
              "ticks": ""
             }
            },
            "type": "scattercarpet"
           }
          ],
          "scattergeo": [
           {
            "marker": {
             "colorbar": {
              "outlinewidth": 0,
              "ticks": ""
             }
            },
            "type": "scattergeo"
           }
          ],
          "scattergl": [
           {
            "marker": {
             "line": {
              "color": "#283442"
             }
            },
            "type": "scattergl"
           }
          ],
          "scattermapbox": [
           {
            "marker": {
             "colorbar": {
              "outlinewidth": 0,
              "ticks": ""
             }
            },
            "type": "scattermapbox"
           }
          ],
          "scatterpolar": [
           {
            "marker": {
             "colorbar": {
              "outlinewidth": 0,
              "ticks": ""
             }
            },
            "type": "scatterpolar"
           }
          ],
          "scatterpolargl": [
           {
            "marker": {
             "colorbar": {
              "outlinewidth": 0,
              "ticks": ""
             }
            },
            "type": "scatterpolargl"
           }
          ],
          "scatterternary": [
           {
            "marker": {
             "colorbar": {
              "outlinewidth": 0,
              "ticks": ""
             }
            },
            "type": "scatterternary"
           }
          ],
          "surface": [
           {
            "colorbar": {
             "outlinewidth": 0,
             "ticks": ""
            },
            "colorscale": [
             [
              0,
              "#0d0887"
             ],
             [
              0.1111111111111111,
              "#46039f"
             ],
             [
              0.2222222222222222,
              "#7201a8"
             ],
             [
              0.3333333333333333,
              "#9c179e"
             ],
             [
              0.4444444444444444,
              "#bd3786"
             ],
             [
              0.5555555555555556,
              "#d8576b"
             ],
             [
              0.6666666666666666,
              "#ed7953"
             ],
             [
              0.7777777777777778,
              "#fb9f3a"
             ],
             [
              0.8888888888888888,
              "#fdca26"
             ],
             [
              1,
              "#f0f921"
             ]
            ],
            "type": "surface"
           }
          ],
          "table": [
           {
            "cells": {
             "fill": {
              "color": "#506784"
             },
             "line": {
              "color": "rgb(17,17,17)"
             }
            },
            "header": {
             "fill": {
              "color": "#2a3f5f"
             },
             "line": {
              "color": "rgb(17,17,17)"
             }
            },
            "type": "table"
           }
          ]
         },
         "layout": {
          "annotationdefaults": {
           "arrowcolor": "#f2f5fa",
           "arrowhead": 0,
           "arrowwidth": 1
          },
          "autotypenumbers": "strict",
          "coloraxis": {
           "colorbar": {
            "outlinewidth": 0,
            "ticks": ""
           }
          },
          "colorscale": {
           "diverging": [
            [
             0,
             "#8e0152"
            ],
            [
             0.1,
             "#c51b7d"
            ],
            [
             0.2,
             "#de77ae"
            ],
            [
             0.3,
             "#f1b6da"
            ],
            [
             0.4,
             "#fde0ef"
            ],
            [
             0.5,
             "#f7f7f7"
            ],
            [
             0.6,
             "#e6f5d0"
            ],
            [
             0.7,
             "#b8e186"
            ],
            [
             0.8,
             "#7fbc41"
            ],
            [
             0.9,
             "#4d9221"
            ],
            [
             1,
             "#276419"
            ]
           ],
           "sequential": [
            [
             0,
             "#0d0887"
            ],
            [
             0.1111111111111111,
             "#46039f"
            ],
            [
             0.2222222222222222,
             "#7201a8"
            ],
            [
             0.3333333333333333,
             "#9c179e"
            ],
            [
             0.4444444444444444,
             "#bd3786"
            ],
            [
             0.5555555555555556,
             "#d8576b"
            ],
            [
             0.6666666666666666,
             "#ed7953"
            ],
            [
             0.7777777777777778,
             "#fb9f3a"
            ],
            [
             0.8888888888888888,
             "#fdca26"
            ],
            [
             1,
             "#f0f921"
            ]
           ],
           "sequentialminus": [
            [
             0,
             "#0d0887"
            ],
            [
             0.1111111111111111,
             "#46039f"
            ],
            [
             0.2222222222222222,
             "#7201a8"
            ],
            [
             0.3333333333333333,
             "#9c179e"
            ],
            [
             0.4444444444444444,
             "#bd3786"
            ],
            [
             0.5555555555555556,
             "#d8576b"
            ],
            [
             0.6666666666666666,
             "#ed7953"
            ],
            [
             0.7777777777777778,
             "#fb9f3a"
            ],
            [
             0.8888888888888888,
             "#fdca26"
            ],
            [
             1,
             "#f0f921"
            ]
           ]
          },
          "colorway": [
           "#636efa",
           "#EF553B",
           "#00cc96",
           "#ab63fa",
           "#FFA15A",
           "#19d3f3",
           "#FF6692",
           "#B6E880",
           "#FF97FF",
           "#FECB52"
          ],
          "font": {
           "color": "#f2f5fa"
          },
          "geo": {
           "bgcolor": "rgb(17,17,17)",
           "lakecolor": "rgb(17,17,17)",
           "landcolor": "rgb(17,17,17)",
           "showlakes": true,
           "showland": true,
           "subunitcolor": "#506784"
          },
          "hoverlabel": {
           "align": "left"
          },
          "hovermode": "closest",
          "mapbox": {
           "style": "dark"
          },
          "paper_bgcolor": "rgb(17,17,17)",
          "plot_bgcolor": "rgb(17,17,17)",
          "polar": {
           "angularaxis": {
            "gridcolor": "#506784",
            "linecolor": "#506784",
            "ticks": ""
           },
           "bgcolor": "rgb(17,17,17)",
           "radialaxis": {
            "gridcolor": "#506784",
            "linecolor": "#506784",
            "ticks": ""
           }
          },
          "scene": {
           "xaxis": {
            "backgroundcolor": "rgb(17,17,17)",
            "gridcolor": "#506784",
            "gridwidth": 2,
            "linecolor": "#506784",
            "showbackground": true,
            "ticks": "",
            "zerolinecolor": "#C8D4E3"
           },
           "yaxis": {
            "backgroundcolor": "rgb(17,17,17)",
            "gridcolor": "#506784",
            "gridwidth": 2,
            "linecolor": "#506784",
            "showbackground": true,
            "ticks": "",
            "zerolinecolor": "#C8D4E3"
           },
           "zaxis": {
            "backgroundcolor": "rgb(17,17,17)",
            "gridcolor": "#506784",
            "gridwidth": 2,
            "linecolor": "#506784",
            "showbackground": true,
            "ticks": "",
            "zerolinecolor": "#C8D4E3"
           }
          },
          "shapedefaults": {
           "line": {
            "color": "#f2f5fa"
           }
          },
          "sliderdefaults": {
           "bgcolor": "#C8D4E3",
           "bordercolor": "rgb(17,17,17)",
           "borderwidth": 1,
           "tickwidth": 0
          },
          "ternary": {
           "aaxis": {
            "gridcolor": "#506784",
            "linecolor": "#506784",
            "ticks": ""
           },
           "baxis": {
            "gridcolor": "#506784",
            "linecolor": "#506784",
            "ticks": ""
           },
           "bgcolor": "rgb(17,17,17)",
           "caxis": {
            "gridcolor": "#506784",
            "linecolor": "#506784",
            "ticks": ""
           }
          },
          "title": {
           "x": 0.05
          },
          "updatemenudefaults": {
           "bgcolor": "#506784",
           "borderwidth": 0
          },
          "xaxis": {
           "automargin": true,
           "gridcolor": "#283442",
           "linecolor": "#506784",
           "ticks": "",
           "title": {
            "standoff": 15
           },
           "zerolinecolor": "#283442",
           "zerolinewidth": 2
          },
          "yaxis": {
           "automargin": true,
           "gridcolor": "#283442",
           "linecolor": "#506784",
           "ticks": "",
           "title": {
            "standoff": 15
           },
           "zerolinecolor": "#283442",
           "zerolinewidth": 2
          }
         }
        },
        "title": {
         "text": "Serum Creatinine Distribution"
        },
        "xaxis": {
         "showgrid": false,
         "title": {
          "text": "Serum Creatinine"
         }
        },
        "yaxis": {
         "showgrid": false,
         "title": {
          "text": "Count"
         }
        }
       }
      },
      "text/html": [
       "<div>                            <div id=\"7b104463-aaac-4810-b855-66eefde8907b\" class=\"plotly-graph-div\" style=\"height:525px; width:100%;\"></div>            <script type=\"text/javascript\">                require([\"plotly\"], function(Plotly) {                    window.PLOTLYENV=window.PLOTLYENV || {};                                    if (document.getElementById(\"7b104463-aaac-4810-b855-66eefde8907b\")) {                    Plotly.newPlot(                        \"7b104463-aaac-4810-b855-66eefde8907b\",                        [{\"marker\":{\"color\":\"#797ef6\"},\"opacity\":1,\"x\":[1.9,1.1,1.3,1.9,2.7,2.1,1.2,1.1,1.5,9.4,4.0,0.9,1.1,1.1,1.0,1.3,0.9,0.8,1.0,1.9,1.3,1.6,0.9,0.8,1.83,1.9,1.0,1.3,5.8,1.2,1.83,3.0,1.0,1.2,1.0,3.5,1.0,1.0,2.3,3.0,1.83,1.2,1.2,1.0,1.1,1.9,0.9,0.6,4.4,1.0,1.0,1.4,6.8,1.0,2.2,2.0,2.7,0.6,1.1,1.3,1.0,2.3,1.1,1.0,2.9,1.3,1.0,1.2,1.83,0.8,0.9,1.0,1.3,1.2,0.7,0.8,1.2,0.6,0.9,1.7,1.18,2.5,1.8,1.0,0.7,1.1,0.8,0.7,1.1,0.8,1.0,1.18,1.7,0.7,1.0,1.3,1.1,1.2,1.1,1.1,1.18,1.1,1.0,2.3,1.7,1.3,0.9,1.1,1.3,1.2,1.2,1.6,1.3,1.2,1.0,0.7,3.2,0.9,1.83,1.5,1.0,0.75,0.9,3.7,1.3,2.1,0.8,0.7,3.4,0.7,6.1,1.18,1.3,1.18,1.18,0.9,2.1,1.0,0.8,1.1,0.9,0.9,0.9,1.7,0.7,0.7,1.0,1.83,0.9,2.5,0.9,0.9,1.18,0.8,1.7,1.4,1.0,1.3,1.1,1.2,0.8,0.9,0.9,1.1,1.3,0.7,2.4,1.0,0.8,1.5,0.9,1.1,0.8,0.9,1.0,1.0,1.0,1.2,0.7,0.9,1.0,1.2,2.5,1.2,1.5,0.6,2.1,1.0,0.9,2.1,1.5,0.7,1.18,1.6,1.8,1.18,0.8,1.0,1.8,0.7,1.0,0.9,3.5,0.7,1.0,0.8,0.9,1.0,0.8,1.0,0.8,1.4,1.6,0.8,1.3,0.9,1.1,0.7,1.83,1.1,1.1,0.8,1.0,1.4,1.3,1.0,5.0,1.2,1.7,1.1,0.9,1.4,1.1,1.1,1.1,1.2,1.0,1.18,1.3,1.3,1.1,0.9,1.8,1.4,1.1,2.4,1.0,1.2,0.5,0.8,1.0,1.2,1.0,1.0,1.7,1.0,0.8,0.7,1.0,0.7,1.4,1.0,1.2,0.9,1.83,1.7,0.9,1.0,1.6,0.9,1.2,0.7,1.0,0.8,1.1,1.1,0.7,1.3,1.0,2.7,3.8,1.1,0.8,1.2,1.7,1.0,1.1,0.9,0.8,1.4,1.0,0.9,1.1,1.2,0.8,1.4,1.6],\"xbins\":{\"end\":9.4,\"size\":0.2,\"start\":0.5},\"type\":\"histogram\"}],                        {\"template\":{\"data\":{\"barpolar\":[{\"marker\":{\"line\":{\"color\":\"rgb(17,17,17)\",\"width\":0.5},\"pattern\":{\"fillmode\":\"overlay\",\"size\":10,\"solidity\":0.2}},\"type\":\"barpolar\"}],\"bar\":[{\"error_x\":{\"color\":\"#f2f5fa\"},\"error_y\":{\"color\":\"#f2f5fa\"},\"marker\":{\"line\":{\"color\":\"rgb(17,17,17)\",\"width\":0.5},\"pattern\":{\"fillmode\":\"overlay\",\"size\":10,\"solidity\":0.2}},\"type\":\"bar\"}],\"carpet\":[{\"aaxis\":{\"endlinecolor\":\"#A2B1C6\",\"gridcolor\":\"#506784\",\"linecolor\":\"#506784\",\"minorgridcolor\":\"#506784\",\"startlinecolor\":\"#A2B1C6\"},\"baxis\":{\"endlinecolor\":\"#A2B1C6\",\"gridcolor\":\"#506784\",\"linecolor\":\"#506784\",\"minorgridcolor\":\"#506784\",\"startlinecolor\":\"#A2B1C6\"},\"type\":\"carpet\"}],\"choropleth\":[{\"colorbar\":{\"outlinewidth\":0,\"ticks\":\"\"},\"type\":\"choropleth\"}],\"contourcarpet\":[{\"colorbar\":{\"outlinewidth\":0,\"ticks\":\"\"},\"type\":\"contourcarpet\"}],\"contour\":[{\"colorbar\":{\"outlinewidth\":0,\"ticks\":\"\"},\"colorscale\":[[0.0,\"#0d0887\"],[0.1111111111111111,\"#46039f\"],[0.2222222222222222,\"#7201a8\"],[0.3333333333333333,\"#9c179e\"],[0.4444444444444444,\"#bd3786\"],[0.5555555555555556,\"#d8576b\"],[0.6666666666666666,\"#ed7953\"],[0.7777777777777778,\"#fb9f3a\"],[0.8888888888888888,\"#fdca26\"],[1.0,\"#f0f921\"]],\"type\":\"contour\"}],\"heatmapgl\":[{\"colorbar\":{\"outlinewidth\":0,\"ticks\":\"\"},\"colorscale\":[[0.0,\"#0d0887\"],[0.1111111111111111,\"#46039f\"],[0.2222222222222222,\"#7201a8\"],[0.3333333333333333,\"#9c179e\"],[0.4444444444444444,\"#bd3786\"],[0.5555555555555556,\"#d8576b\"],[0.6666666666666666,\"#ed7953\"],[0.7777777777777778,\"#fb9f3a\"],[0.8888888888888888,\"#fdca26\"],[1.0,\"#f0f921\"]],\"type\":\"heatmapgl\"}],\"heatmap\":[{\"colorbar\":{\"outlinewidth\":0,\"ticks\":\"\"},\"colorscale\":[[0.0,\"#0d0887\"],[0.1111111111111111,\"#46039f\"],[0.2222222222222222,\"#7201a8\"],[0.3333333333333333,\"#9c179e\"],[0.4444444444444444,\"#bd3786\"],[0.5555555555555556,\"#d8576b\"],[0.6666666666666666,\"#ed7953\"],[0.7777777777777778,\"#fb9f3a\"],[0.8888888888888888,\"#fdca26\"],[1.0,\"#f0f921\"]],\"type\":\"heatmap\"}],\"histogram2dcontour\":[{\"colorbar\":{\"outlinewidth\":0,\"ticks\":\"\"},\"colorscale\":[[0.0,\"#0d0887\"],[0.1111111111111111,\"#46039f\"],[0.2222222222222222,\"#7201a8\"],[0.3333333333333333,\"#9c179e\"],[0.4444444444444444,\"#bd3786\"],[0.5555555555555556,\"#d8576b\"],[0.6666666666666666,\"#ed7953\"],[0.7777777777777778,\"#fb9f3a\"],[0.8888888888888888,\"#fdca26\"],[1.0,\"#f0f921\"]],\"type\":\"histogram2dcontour\"}],\"histogram2d\":[{\"colorbar\":{\"outlinewidth\":0,\"ticks\":\"\"},\"colorscale\":[[0.0,\"#0d0887\"],[0.1111111111111111,\"#46039f\"],[0.2222222222222222,\"#7201a8\"],[0.3333333333333333,\"#9c179e\"],[0.4444444444444444,\"#bd3786\"],[0.5555555555555556,\"#d8576b\"],[0.6666666666666666,\"#ed7953\"],[0.7777777777777778,\"#fb9f3a\"],[0.8888888888888888,\"#fdca26\"],[1.0,\"#f0f921\"]],\"type\":\"histogram2d\"}],\"histogram\":[{\"marker\":{\"pattern\":{\"fillmode\":\"overlay\",\"size\":10,\"solidity\":0.2}},\"type\":\"histogram\"}],\"mesh3d\":[{\"colorbar\":{\"outlinewidth\":0,\"ticks\":\"\"},\"type\":\"mesh3d\"}],\"parcoords\":[{\"line\":{\"colorbar\":{\"outlinewidth\":0,\"ticks\":\"\"}},\"type\":\"parcoords\"}],\"pie\":[{\"automargin\":true,\"type\":\"pie\"}],\"scatter3d\":[{\"line\":{\"colorbar\":{\"outlinewidth\":0,\"ticks\":\"\"}},\"marker\":{\"colorbar\":{\"outlinewidth\":0,\"ticks\":\"\"}},\"type\":\"scatter3d\"}],\"scattercarpet\":[{\"marker\":{\"colorbar\":{\"outlinewidth\":0,\"ticks\":\"\"}},\"type\":\"scattercarpet\"}],\"scattergeo\":[{\"marker\":{\"colorbar\":{\"outlinewidth\":0,\"ticks\":\"\"}},\"type\":\"scattergeo\"}],\"scattergl\":[{\"marker\":{\"line\":{\"color\":\"#283442\"}},\"type\":\"scattergl\"}],\"scattermapbox\":[{\"marker\":{\"colorbar\":{\"outlinewidth\":0,\"ticks\":\"\"}},\"type\":\"scattermapbox\"}],\"scatterpolargl\":[{\"marker\":{\"colorbar\":{\"outlinewidth\":0,\"ticks\":\"\"}},\"type\":\"scatterpolargl\"}],\"scatterpolar\":[{\"marker\":{\"colorbar\":{\"outlinewidth\":0,\"ticks\":\"\"}},\"type\":\"scatterpolar\"}],\"scatter\":[{\"marker\":{\"line\":{\"color\":\"#283442\"}},\"type\":\"scatter\"}],\"scatterternary\":[{\"marker\":{\"colorbar\":{\"outlinewidth\":0,\"ticks\":\"\"}},\"type\":\"scatterternary\"}],\"surface\":[{\"colorbar\":{\"outlinewidth\":0,\"ticks\":\"\"},\"colorscale\":[[0.0,\"#0d0887\"],[0.1111111111111111,\"#46039f\"],[0.2222222222222222,\"#7201a8\"],[0.3333333333333333,\"#9c179e\"],[0.4444444444444444,\"#bd3786\"],[0.5555555555555556,\"#d8576b\"],[0.6666666666666666,\"#ed7953\"],[0.7777777777777778,\"#fb9f3a\"],[0.8888888888888888,\"#fdca26\"],[1.0,\"#f0f921\"]],\"type\":\"surface\"}],\"table\":[{\"cells\":{\"fill\":{\"color\":\"#506784\"},\"line\":{\"color\":\"rgb(17,17,17)\"}},\"header\":{\"fill\":{\"color\":\"#2a3f5f\"},\"line\":{\"color\":\"rgb(17,17,17)\"}},\"type\":\"table\"}]},\"layout\":{\"annotationdefaults\":{\"arrowcolor\":\"#f2f5fa\",\"arrowhead\":0,\"arrowwidth\":1},\"autotypenumbers\":\"strict\",\"coloraxis\":{\"colorbar\":{\"outlinewidth\":0,\"ticks\":\"\"}},\"colorscale\":{\"diverging\":[[0,\"#8e0152\"],[0.1,\"#c51b7d\"],[0.2,\"#de77ae\"],[0.3,\"#f1b6da\"],[0.4,\"#fde0ef\"],[0.5,\"#f7f7f7\"],[0.6,\"#e6f5d0\"],[0.7,\"#b8e186\"],[0.8,\"#7fbc41\"],[0.9,\"#4d9221\"],[1,\"#276419\"]],\"sequential\":[[0.0,\"#0d0887\"],[0.1111111111111111,\"#46039f\"],[0.2222222222222222,\"#7201a8\"],[0.3333333333333333,\"#9c179e\"],[0.4444444444444444,\"#bd3786\"],[0.5555555555555556,\"#d8576b\"],[0.6666666666666666,\"#ed7953\"],[0.7777777777777778,\"#fb9f3a\"],[0.8888888888888888,\"#fdca26\"],[1.0,\"#f0f921\"]],\"sequentialminus\":[[0.0,\"#0d0887\"],[0.1111111111111111,\"#46039f\"],[0.2222222222222222,\"#7201a8\"],[0.3333333333333333,\"#9c179e\"],[0.4444444444444444,\"#bd3786\"],[0.5555555555555556,\"#d8576b\"],[0.6666666666666666,\"#ed7953\"],[0.7777777777777778,\"#fb9f3a\"],[0.8888888888888888,\"#fdca26\"],[1.0,\"#f0f921\"]]},\"colorway\":[\"#636efa\",\"#EF553B\",\"#00cc96\",\"#ab63fa\",\"#FFA15A\",\"#19d3f3\",\"#FF6692\",\"#B6E880\",\"#FF97FF\",\"#FECB52\"],\"font\":{\"color\":\"#f2f5fa\"},\"geo\":{\"bgcolor\":\"rgb(17,17,17)\",\"lakecolor\":\"rgb(17,17,17)\",\"landcolor\":\"rgb(17,17,17)\",\"showlakes\":true,\"showland\":true,\"subunitcolor\":\"#506784\"},\"hoverlabel\":{\"align\":\"left\"},\"hovermode\":\"closest\",\"mapbox\":{\"style\":\"dark\"},\"paper_bgcolor\":\"rgb(17,17,17)\",\"plot_bgcolor\":\"rgb(17,17,17)\",\"polar\":{\"angularaxis\":{\"gridcolor\":\"#506784\",\"linecolor\":\"#506784\",\"ticks\":\"\"},\"bgcolor\":\"rgb(17,17,17)\",\"radialaxis\":{\"gridcolor\":\"#506784\",\"linecolor\":\"#506784\",\"ticks\":\"\"}},\"scene\":{\"xaxis\":{\"backgroundcolor\":\"rgb(17,17,17)\",\"gridcolor\":\"#506784\",\"gridwidth\":2,\"linecolor\":\"#506784\",\"showbackground\":true,\"ticks\":\"\",\"zerolinecolor\":\"#C8D4E3\"},\"yaxis\":{\"backgroundcolor\":\"rgb(17,17,17)\",\"gridcolor\":\"#506784\",\"gridwidth\":2,\"linecolor\":\"#506784\",\"showbackground\":true,\"ticks\":\"\",\"zerolinecolor\":\"#C8D4E3\"},\"zaxis\":{\"backgroundcolor\":\"rgb(17,17,17)\",\"gridcolor\":\"#506784\",\"gridwidth\":2,\"linecolor\":\"#506784\",\"showbackground\":true,\"ticks\":\"\",\"zerolinecolor\":\"#C8D4E3\"}},\"shapedefaults\":{\"line\":{\"color\":\"#f2f5fa\"}},\"sliderdefaults\":{\"bgcolor\":\"#C8D4E3\",\"bordercolor\":\"rgb(17,17,17)\",\"borderwidth\":1,\"tickwidth\":0},\"ternary\":{\"aaxis\":{\"gridcolor\":\"#506784\",\"linecolor\":\"#506784\",\"ticks\":\"\"},\"baxis\":{\"gridcolor\":\"#506784\",\"linecolor\":\"#506784\",\"ticks\":\"\"},\"bgcolor\":\"rgb(17,17,17)\",\"caxis\":{\"gridcolor\":\"#506784\",\"linecolor\":\"#506784\",\"ticks\":\"\"}},\"title\":{\"x\":0.05},\"updatemenudefaults\":{\"bgcolor\":\"#506784\",\"borderwidth\":0},\"xaxis\":{\"automargin\":true,\"gridcolor\":\"#283442\",\"linecolor\":\"#506784\",\"ticks\":\"\",\"title\":{\"standoff\":15},\"zerolinecolor\":\"#283442\",\"zerolinewidth\":2},\"yaxis\":{\"automargin\":true,\"gridcolor\":\"#283442\",\"linecolor\":\"#506784\",\"ticks\":\"\",\"title\":{\"standoff\":15},\"zerolinecolor\":\"#283442\",\"zerolinewidth\":2}}},\"title\":{\"text\":\"Serum Creatinine Distribution\"},\"xaxis\":{\"title\":{\"text\":\"Serum Creatinine\"},\"showgrid\":false},\"yaxis\":{\"title\":{\"text\":\"Count\"},\"showgrid\":false},\"bargap\":0.05},                        {\"responsive\": true}                    ).then(function(){\n",
       "                            \n",
       "var gd = document.getElementById('7b104463-aaac-4810-b855-66eefde8907b');\n",
       "var x = new MutationObserver(function (mutations, observer) {{\n",
       "        var display = window.getComputedStyle(gd).display;\n",
       "        if (!display || display === 'none') {{\n",
       "            console.log([gd, 'removed!']);\n",
       "            Plotly.purge(gd);\n",
       "            observer.disconnect();\n",
       "        }}\n",
       "}});\n",
       "\n",
       "// Listen for the removal of the full notebook cells\n",
       "var notebookContainer = gd.closest('#notebook-container');\n",
       "if (notebookContainer) {{\n",
       "    x.observe(notebookContainer, {childList: true});\n",
       "}}\n",
       "\n",
       "// Listen for the clearing of the current output cell\n",
       "var outputEl = gd.closest('.output');\n",
       "if (outputEl) {{\n",
       "    x.observe(outputEl, {childList: true});\n",
       "}}\n",
       "\n",
       "                        })                };                });            </script>        </div>"
      ]
     },
     "metadata": {},
     "output_type": "display_data"
    }
   ],
   "source": [
    "# Distribution of serum_creatinine\n",
    "\n",
    "fig = go.Figure()\n",
    "fig.add_trace(go.Histogram(\n",
    "    x = dataset['serum_creatinine'],\n",
    "    xbins = dict(\n",
    "        start = 0.5,\n",
    "        end = 9.4,\n",
    "        size = 0.2\n",
    "    ),\n",
    "    marker_color = '#797ef6',\n",
    "    opacity = 1\n",
    "))\n",
    "\n",
    "fig.update_layout(\n",
    "    title_text = 'Serum Creatinine Distribution',\n",
    "    xaxis_title_text = 'Serum Creatinine',\n",
    "    yaxis_title_text = 'Count',\n",
    "    bargap = 0.05,\n",
    "    xaxis = {'showgrid': False},\n",
    "    yaxis = {'showgrid': False},\n",
    "    template = 'plotly_dark'\n",
    ")\n",
    "\n",
    "fig.show()"
   ]
  },
  {
   "cell_type": "code",
   "execution_count": 37,
   "id": "aed46b76",
   "metadata": {},
   "outputs": [
    {
     "data": {
      "application/vnd.plotly.v1+json": {
       "config": {
        "plotlyServerURL": "https://plot.ly"
       },
       "data": [
        {
         "alignmentgroup": "True",
         "bingroup": "x",
         "hovertemplate": "DEATH_EVENT=1<br>Serum Creatinine=%{x}<br>count=%{y}<extra></extra>",
         "legendgroup": "1",
         "marker": {
          "color": "#636efa",
          "pattern": {
           "shape": ""
          }
         },
         "name": "1",
         "offsetgroup": "1",
         "orientation": "v",
         "showlegend": true,
         "type": "histogram",
         "x": [
          1.9,
          1.1,
          1.3,
          1.9,
          2.7,
          2.1,
          1.2,
          1.1,
          1.5,
          9.4,
          4,
          0.9,
          1.1,
          1.1,
          1.3,
          0.9,
          0.8,
          1,
          1.9,
          1.6,
          0.9,
          1.83,
          1.9,
          1,
          1.3,
          5.8,
          1.2,
          1.83,
          3,
          1,
          1,
          3.5,
          1,
          1,
          3,
          1.83,
          1.2,
          1.2,
          1.1,
          1.9,
          0.9,
          0.6,
          4.4,
          1,
          1,
          1.4,
          6.8,
          1,
          2.2,
          2,
          1.1,
          1.3,
          1,
          2.3,
          1,
          2.9,
          1.3,
          1,
          1.2,
          1.83,
          1,
          1.2,
          0.7,
          2.5,
          1,
          1.7,
          1.7,
          1.2,
          1.3,
          1.83,
          3.7,
          2.1,
          1.1,
          1.7,
          1.83,
          2.5,
          0.9,
          1.1,
          1.3,
          2.4,
          1,
          1.2,
          2.5,
          1.2,
          1.5,
          0.6,
          2.1,
          1.6,
          1.8,
          1.6,
          1.83,
          1.7,
          1.1,
          1.4,
          1.83
         ],
         "xaxis": "x",
         "yaxis": "y"
        },
        {
         "alignmentgroup": "True",
         "customdata": [
          [
           75,
           0,
           582,
           0,
           20,
           1,
           265000,
           130,
           1,
           0,
           4,
           1
          ],
          [
           55,
           0,
           7861,
           0,
           38,
           0,
           263358.03,
           136,
           1,
           0,
           6,
           1
          ],
          [
           65,
           0,
           146,
           0,
           20,
           0,
           162000,
           129,
           1,
           1,
           7,
           1
          ],
          [
           50,
           1,
           111,
           0,
           20,
           0,
           210000,
           137,
           1,
           0,
           7,
           1
          ],
          [
           65,
           1,
           160,
           1,
           20,
           0,
           327000,
           116,
           0,
           0,
           8,
           1
          ],
          [
           90,
           1,
           47,
           0,
           40,
           1,
           204000,
           132,
           1,
           1,
           8,
           1
          ],
          [
           75,
           1,
           246,
           0,
           15,
           0,
           127000,
           137,
           1,
           0,
           10,
           1
          ],
          [
           60,
           1,
           315,
           1,
           60,
           0,
           454000,
           131,
           1,
           1,
           10,
           1
          ],
          [
           65,
           0,
           157,
           0,
           65,
           0,
           263358.03,
           138,
           0,
           0,
           10,
           1
          ],
          [
           80,
           1,
           123,
           0,
           35,
           1,
           388000,
           133,
           1,
           1,
           10,
           1
          ],
          [
           75,
           1,
           81,
           0,
           38,
           1,
           368000,
           131,
           1,
           1,
           10,
           1
          ],
          [
           62,
           0,
           231,
           0,
           25,
           1,
           253000,
           140,
           1,
           1,
           10,
           1
          ],
          [
           45,
           1,
           981,
           0,
           30,
           0,
           136000,
           137,
           1,
           0,
           11,
           1
          ],
          [
           50,
           1,
           168,
           0,
           38,
           1,
           276000,
           137,
           1,
           0,
           11,
           1
          ],
          [
           82,
           1,
           379,
           0,
           50,
           0,
           47000,
           136,
           1,
           0,
           13,
           1
          ],
          [
           87,
           1,
           149,
           0,
           38,
           0,
           262000,
           140,
           1,
           0,
           14,
           1
          ],
          [
           45,
           0,
           582,
           0,
           14,
           0,
           166000,
           127,
           1,
           0,
           14,
           1
          ],
          [
           70,
           1,
           125,
           0,
           25,
           1,
           237000,
           140,
           0,
           0,
           15,
           1
          ],
          [
           48,
           1,
           582,
           1,
           55,
           0,
           87000,
           121,
           0,
           0,
           15,
           1
          ],
          [
           65,
           1,
           128,
           1,
           30,
           1,
           297000,
           136,
           0,
           0,
           20,
           1
          ],
          [
           68,
           1,
           220,
           0,
           35,
           1,
           289000,
           140,
           1,
           1,
           20,
           1
          ],
          [
           75,
           0,
           582,
           1,
           30,
           1,
           263358.03,
           134,
           0,
           0,
           23,
           1
          ],
          [
           80,
           0,
           148,
           1,
           38,
           0,
           149000,
           144,
           1,
           1,
           23,
           1
          ],
          [
           95,
           1,
           112,
           0,
           40,
           1,
           196000,
           138,
           0,
           0,
           24,
           1
          ],
          [
           70,
           0,
           122,
           1,
           45,
           1,
           284000,
           136,
           1,
           1,
           26,
           1
          ],
          [
           58,
           1,
           60,
           0,
           38,
           0,
           153000,
           134,
           1,
           0,
           26,
           1
          ],
          [
           82,
           0,
           70,
           1,
           30,
           0,
           200000,
           132,
           1,
           1,
           26,
           1
          ],
          [
           94,
           0,
           582,
           1,
           38,
           1,
           263358.03,
           134,
           1,
           0,
           27,
           1
          ],
          [
           85,
           0,
           23,
           0,
           45,
           0,
           360000,
           132,
           1,
           0,
           28,
           1
          ],
          [
           50,
           1,
           249,
           1,
           35,
           1,
           319000,
           128,
           0,
           0,
           28,
           1
          ],
          [
           65,
           0,
           94,
           1,
           50,
           1,
           188000,
           140,
           1,
           0,
           29,
           1
          ],
          [
           69,
           0,
           582,
           1,
           35,
           0,
           228000,
           134,
           1,
           0,
           30,
           1
          ],
          [
           90,
           1,
           60,
           1,
           50,
           0,
           226000,
           134,
           1,
           0,
           30,
           1
          ],
          [
           82,
           1,
           855,
           1,
           50,
           1,
           321000,
           145,
           0,
           0,
           30,
           1
          ],
          [
           60,
           0,
           235,
           1,
           38,
           0,
           329000,
           142,
           0,
           0,
           30,
           1
          ],
          [
           70,
           0,
           582,
           0,
           20,
           1,
           263358.03,
           134,
           1,
           1,
           31,
           1
          ],
          [
           50,
           0,
           124,
           1,
           30,
           1,
           153000,
           136,
           0,
           1,
           32,
           1
          ],
          [
           70,
           0,
           571,
           1,
           45,
           1,
           185000,
           139,
           1,
           1,
           33,
           1
          ],
          [
           60,
           1,
           588,
           1,
           60,
           0,
           194000,
           142,
           0,
           0,
           33,
           1
          ],
          [
           50,
           0,
           582,
           1,
           38,
           0,
           310000,
           135,
           1,
           1,
           35,
           1
          ],
          [
           51,
           0,
           1380,
           0,
           25,
           1,
           271000,
           130,
           1,
           0,
           38,
           1
          ],
          [
           60,
           0,
           582,
           1,
           38,
           1,
           451000,
           138,
           1,
           1,
           40,
           1
          ],
          [
           80,
           1,
           553,
           0,
           20,
           1,
           140000,
           133,
           1,
           0,
           41,
           1
          ],
          [
           57,
           1,
           129,
           0,
           30,
           0,
           395000,
           140,
           0,
           0,
           42,
           1
          ],
          [
           68,
           1,
           577,
           0,
           25,
           1,
           166000,
           138,
           1,
           0,
           43,
           1
          ],
          [
           53,
           1,
           91,
           0,
           20,
           1,
           418000,
           139,
           0,
           0,
           43,
           1
          ],
          [
           60,
           0,
           3964,
           1,
           62,
           0,
           263358.03,
           146,
           0,
           0,
           43,
           1
          ],
          [
           70,
           1,
           69,
           1,
           50,
           1,
           351000,
           134,
           0,
           0,
           44,
           1
          ],
          [
           60,
           1,
           260,
           1,
           38,
           0,
           255000,
           132,
           0,
           1,
           45,
           1
          ],
          [
           95,
           1,
           371,
           0,
           30,
           0,
           461000,
           132,
           1,
           0,
           50,
           1
          ],
          [
           49,
           0,
           789,
           0,
           20,
           1,
           319000,
           136,
           1,
           1,
           55,
           1
          ],
          [
           72,
           0,
           364,
           1,
           20,
           1,
           254000,
           136,
           1,
           1,
           59,
           1
          ],
          [
           45,
           0,
           7702,
           1,
           25,
           1,
           390000,
           139,
           1,
           0,
           60,
           1
          ],
          [
           50,
           0,
           318,
           0,
           40,
           1,
           216000,
           131,
           0,
           0,
           60,
           1
          ],
          [
           45,
           0,
           582,
           0,
           35,
           0,
           385000,
           145,
           1,
           0,
           61,
           1
          ],
          [
           60,
           0,
           68,
           0,
           20,
           0,
           119000,
           127,
           1,
           1,
           64,
           1
          ],
          [
           42,
           1,
           250,
           1,
           15,
           0,
           213000,
           136,
           0,
           0,
           65,
           1
          ],
          [
           72,
           1,
           110,
           0,
           25,
           0,
           274000,
           140,
           1,
           1,
           65,
           1
          ],
          [
           70,
           0,
           161,
           0,
           25,
           0,
           244000,
           142,
           0,
           0,
           66,
           1
          ],
          [
           65,
           0,
           113,
           1,
           25,
           0,
           497000,
           135,
           1,
           0,
           67,
           1
          ],
          [
           85,
           0,
           5882,
           0,
           35,
           0,
           243000,
           132,
           1,
           1,
           72,
           1
          ],
          [
           69,
           0,
           582,
           0,
           20,
           0,
           266000,
           134,
           1,
           1,
           73,
           1
          ],
          [
           60,
           1,
           47,
           0,
           20,
           0,
           204000,
           139,
           1,
           1,
           73,
           1
          ],
          [
           60,
           1,
           76,
           1,
           25,
           0,
           196000,
           132,
           0,
           0,
           77,
           1
          ],
          [
           59,
           1,
           280,
           1,
           25,
           1,
           302000,
           141,
           0,
           0,
           78,
           1
          ],
          [
           60,
           1,
           154,
           0,
           25,
           0,
           210000,
           135,
           1,
           0,
           82,
           1
          ],
          [
           72,
           1,
           328,
           0,
           30,
           1,
           621000,
           138,
           0,
           1,
           88,
           1
          ],
          [
           85,
           0,
           129,
           0,
           60,
           0,
           306000,
           132,
           1,
           1,
           90,
           1
          ],
          [
           70,
           1,
           143,
           0,
           60,
           0,
           351000,
           137,
           0,
           0,
           90,
           1
          ],
          [
           86,
           0,
           582,
           0,
           38,
           0,
           263358.03,
           134,
           0,
           0,
           95,
           1
          ],
          [
           60,
           0,
           582,
           0,
           40,
           0,
           217000,
           134,
           1,
           0,
           96,
           1
          ],
          [
           46,
           0,
           168,
           1,
           17,
           1,
           271000,
           124,
           0,
           0,
           100,
           1
          ],
          [
           80,
           0,
           805,
           0,
           38,
           0,
           263358.03,
           134,
           1,
           0,
           109,
           1
          ],
          [
           72,
           1,
           943,
           0,
           25,
           1,
           338000,
           139,
           1,
           1,
           111,
           1
          ],
          [
           75,
           1,
           582,
           0,
           30,
           0,
           225000,
           134,
           1,
           0,
           113,
           1
          ],
          [
           72,
           0,
           233,
           0,
           45,
           1,
           235000,
           135,
           0,
           0,
           115,
           1
          ],
          [
           50,
           1,
           2334,
           1,
           35,
           0,
           75000,
           142,
           0,
           0,
           126,
           1
          ],
          [
           45,
           0,
           2442,
           1,
           30,
           0,
           334000,
           139,
           1,
           0,
           129,
           1
          ],
          [
           80,
           0,
           776,
           1,
           38,
           1,
           192000,
           135,
           0,
           0,
           130,
           1
          ],
          [
           59,
           0,
           66,
           1,
           20,
           0,
           70000,
           134,
           1,
           0,
           135,
           1
          ],
          [
           59,
           1,
           176,
           1,
           25,
           0,
           221000,
           136,
           1,
           1,
           150,
           1
          ],
          [
           65,
           0,
           395,
           1,
           25,
           0,
           265000,
           136,
           1,
           1,
           154,
           1
          ],
          [
           75,
           0,
           99,
           0,
           38,
           1,
           224000,
           134,
           1,
           0,
           162,
           1
          ],
          [
           58,
           1,
           145,
           0,
           25,
           0,
           219000,
           137,
           1,
           1,
           170,
           1
          ],
          [
           60.667,
           1,
           104,
           1,
           30,
           0,
           389000,
           136,
           1,
           0,
           171,
           1
          ],
          [
           50,
           0,
           582,
           0,
           50,
           0,
           153000,
           134,
           0,
           0,
           172,
           1
          ],
          [
           60,
           0,
           1896,
           1,
           25,
           0,
           365000,
           144,
           0,
           0,
           172,
           1
          ],
          [
           45,
           0,
           582,
           0,
           20,
           1,
           126000,
           135,
           1,
           0,
           180,
           1
          ],
          [
           77,
           1,
           418,
           0,
           45,
           0,
           223000,
           145,
           1,
           0,
           180,
           1
          ],
          [
           48,
           1,
           131,
           1,
           30,
           1,
           244000,
           130,
           0,
           0,
           193,
           1
          ],
          [
           73,
           0,
           582,
           0,
           20,
           0,
           263358.03,
           134,
           1,
           0,
           198,
           1
          ],
          [
           60,
           0,
           166,
           0,
           30,
           0,
           62000,
           127,
           0,
           0,
           207,
           1
          ],
          [
           55,
           0,
           2017,
           0,
           25,
           0,
           314000,
           138,
           1,
           0,
           214,
           1
          ],
          [
           65,
           1,
           258,
           1,
           25,
           0,
           198000,
           129,
           1,
           0,
           235,
           1
          ],
          [
           55,
           0,
           1199,
           0,
           20,
           0,
           263358.03,
           134,
           1,
           1,
           241,
           1
          ]
         ],
         "hovertemplate": "DEATH_EVENT=%{customdata[11]}<br>Serum Creatinine=%{x}<br>age=%{customdata[0]}<br>anaemia=%{customdata[1]}<br>creatinine_phosphokinase=%{customdata[2]}<br>diabetes=%{customdata[3]}<br>ejection_fraction=%{customdata[4]}<br>high_blood_pressure=%{customdata[5]}<br>platelets=%{customdata[6]}<br>serum_sodium=%{customdata[7]}<br>sex=%{customdata[8]}<br>smoking=%{customdata[9]}<br>time=%{customdata[10]}<extra></extra>",
         "legendgroup": "1",
         "marker": {
          "color": "#636efa"
         },
         "name": "1",
         "offsetgroup": "1",
         "scalegroup": "x",
         "showlegend": false,
         "type": "violin",
         "x": [
          1.9,
          1.1,
          1.3,
          1.9,
          2.7,
          2.1,
          1.2,
          1.1,
          1.5,
          9.4,
          4,
          0.9,
          1.1,
          1.1,
          1.3,
          0.9,
          0.8,
          1,
          1.9,
          1.6,
          0.9,
          1.83,
          1.9,
          1,
          1.3,
          5.8,
          1.2,
          1.83,
          3,
          1,
          1,
          3.5,
          1,
          1,
          3,
          1.83,
          1.2,
          1.2,
          1.1,
          1.9,
          0.9,
          0.6,
          4.4,
          1,
          1,
          1.4,
          6.8,
          1,
          2.2,
          2,
          1.1,
          1.3,
          1,
          2.3,
          1,
          2.9,
          1.3,
          1,
          1.2,
          1.83,
          1,
          1.2,
          0.7,
          2.5,
          1,
          1.7,
          1.7,
          1.2,
          1.3,
          1.83,
          3.7,
          2.1,
          1.1,
          1.7,
          1.83,
          2.5,
          0.9,
          1.1,
          1.3,
          2.4,
          1,
          1.2,
          2.5,
          1.2,
          1.5,
          0.6,
          2.1,
          1.6,
          1.8,
          1.6,
          1.83,
          1.7,
          1.1,
          1.4,
          1.83
         ],
         "xaxis": "x2",
         "yaxis": "y2"
        },
        {
         "alignmentgroup": "True",
         "bingroup": "x",
         "hovertemplate": "DEATH_EVENT=0<br>Serum Creatinine=%{x}<br>count=%{y}<extra></extra>",
         "legendgroup": "0",
         "marker": {
          "color": "#EF553B",
          "pattern": {
           "shape": ""
          }
         },
         "name": "0",
         "offsetgroup": "0",
         "orientation": "v",
         "showlegend": true,
         "type": "histogram",
         "x": [
          1,
          1.3,
          0.8,
          1.2,
          2.3,
          1,
          2.7,
          0.6,
          1.1,
          0.8,
          0.9,
          1.3,
          0.8,
          1.2,
          0.6,
          0.9,
          1.7,
          1.18,
          1.8,
          0.7,
          1.1,
          0.8,
          0.7,
          1.1,
          0.8,
          1,
          1.18,
          0.7,
          1,
          1.3,
          1.1,
          1.2,
          1.1,
          1.1,
          1.18,
          1.1,
          1,
          2.3,
          1.3,
          0.9,
          1.1,
          1.3,
          1.2,
          1.6,
          1.2,
          1,
          0.7,
          3.2,
          0.9,
          1.5,
          1,
          0.75,
          0.9,
          1.3,
          0.8,
          0.7,
          3.4,
          0.7,
          6.1,
          1.18,
          1.3,
          1.18,
          1.18,
          0.9,
          2.1,
          1,
          0.8,
          0.9,
          0.9,
          0.9,
          0.7,
          0.7,
          1,
          0.9,
          0.9,
          0.9,
          1.18,
          0.8,
          1.7,
          1.4,
          1,
          1.3,
          1.1,
          1.2,
          0.8,
          0.9,
          0.7,
          1,
          0.8,
          1.5,
          0.9,
          1.1,
          0.8,
          0.9,
          1,
          1,
          1,
          1.2,
          0.7,
          0.9,
          1,
          0.9,
          2.1,
          1.5,
          0.7,
          1.18,
          1.18,
          0.8,
          1,
          1.8,
          0.7,
          1,
          0.9,
          3.5,
          0.7,
          1,
          0.8,
          0.9,
          1,
          0.8,
          1,
          0.8,
          1.4,
          0.8,
          1.3,
          0.9,
          1.1,
          0.7,
          1.1,
          1.1,
          0.8,
          1,
          1.4,
          1.3,
          1,
          5,
          1.2,
          1.1,
          0.9,
          1.4,
          1.1,
          1.1,
          1.1,
          1.2,
          1,
          1.18,
          1.3,
          1.3,
          1.1,
          0.9,
          1.8,
          1.4,
          2.4,
          1,
          1.2,
          0.5,
          0.8,
          1,
          1.2,
          1,
          1,
          1.7,
          1,
          0.8,
          0.7,
          1,
          0.7,
          1,
          1.2,
          0.9,
          1.7,
          0.9,
          1,
          1.6,
          0.9,
          1.2,
          0.7,
          1,
          0.8,
          1.1,
          1.1,
          0.7,
          1.3,
          1,
          2.7,
          3.8,
          1.1,
          0.8,
          1.2,
          1.7,
          1,
          1.1,
          0.9,
          0.8,
          1.4,
          1,
          0.9,
          1.1,
          1.2,
          0.8,
          1.4,
          1.6
         ],
         "xaxis": "x",
         "yaxis": "y"
        },
        {
         "alignmentgroup": "True",
         "customdata": [
          [
           49,
           1,
           80,
           0,
           30,
           1,
           427000,
           138,
           0,
           0,
           12,
           0
          ],
          [
           65,
           1,
           52,
           0,
           25,
           1,
           276000,
           137,
           0,
           0,
           16,
           0
          ],
          [
           53,
           0,
           63,
           1,
           60,
           0,
           368000,
           135,
           1,
           0,
           22,
           0
          ],
          [
           50,
           1,
           159,
           1,
           30,
           0,
           302000,
           138,
           0,
           0,
           29,
           0
          ],
          [
           60,
           0,
           2656,
           1,
           30,
           0,
           305000,
           137,
           1,
           0,
           30,
           0
          ],
          [
           72,
           0,
           127,
           1,
           50,
           1,
           218000,
           134,
           1,
           0,
           33,
           0
          ],
          [
           70,
           1,
           75,
           0,
           35,
           0,
           223000,
           138,
           1,
           1,
           54,
           0
          ],
          [
           60,
           1,
           607,
           0,
           40,
           0,
           216000,
           138,
           1,
           1,
           54,
           0
          ],
          [
           55,
           0,
           109,
           0,
           35,
           0,
           254000,
           139,
           1,
           1,
           60,
           0
          ],
          [
           41,
           0,
           148,
           0,
           40,
           0,
           374000,
           140,
           1,
           1,
           68,
           0
          ],
          [
           58,
           0,
           582,
           1,
           35,
           0,
           122000,
           139,
           1,
           1,
           71,
           0
          ],
          [
           65,
           0,
           224,
           1,
           50,
           0,
           149000,
           137,
           1,
           1,
           72,
           0
          ],
          [
           70,
           0,
           92,
           0,
           60,
           1,
           317000,
           140,
           0,
           1,
           74,
           0
          ],
          [
           42,
           0,
           102,
           1,
           40,
           0,
           237000,
           140,
           1,
           0,
           74,
           0
          ],
          [
           75,
           1,
           203,
           1,
           38,
           1,
           283000,
           131,
           1,
           1,
           74,
           0
          ],
          [
           55,
           0,
           336,
           0,
           45,
           1,
           324000,
           140,
           0,
           0,
           74,
           0
          ],
          [
           70,
           0,
           69,
           0,
           40,
           0,
           293000,
           136,
           0,
           0,
           75,
           0
          ],
          [
           67,
           0,
           582,
           0,
           50,
           0,
           263358.03,
           137,
           1,
           1,
           76,
           0
          ],
          [
           79,
           1,
           55,
           0,
           50,
           1,
           172000,
           133,
           1,
           0,
           78,
           0
          ],
          [
           51,
           0,
           78,
           0,
           50,
           0,
           406000,
           140,
           1,
           0,
           79,
           0
          ],
          [
           55,
           0,
           47,
           0,
           35,
           1,
           173000,
           137,
           1,
           0,
           79,
           0
          ],
          [
           65,
           1,
           68,
           1,
           60,
           1,
           304000,
           140,
           1,
           0,
           79,
           0
          ],
          [
           44,
           0,
           84,
           1,
           40,
           1,
           235000,
           139,
           1,
           0,
           79,
           0
          ],
          [
           57,
           1,
           115,
           0,
           25,
           1,
           181000,
           144,
           1,
           0,
           79,
           0
          ],
          [
           70,
           0,
           66,
           1,
           45,
           0,
           249000,
           136,
           1,
           1,
           80,
           0
          ],
          [
           60,
           0,
           897,
           1,
           45,
           0,
           297000,
           133,
           1,
           0,
           80,
           0
          ],
          [
           42,
           0,
           582,
           0,
           60,
           0,
           263358.03,
           137,
           0,
           0,
           82,
           0
          ],
          [
           58,
           0,
           144,
           1,
           38,
           1,
           327000,
           142,
           0,
           0,
           83,
           0
          ],
          [
           58,
           1,
           133,
           0,
           60,
           1,
           219000,
           141,
           1,
           0,
           83,
           0
          ],
          [
           63,
           1,
           514,
           1,
           25,
           1,
           254000,
           134,
           1,
           0,
           83,
           0
          ],
          [
           70,
           1,
           59,
           0,
           60,
           0,
           255000,
           136,
           0,
           0,
           85,
           0
          ],
          [
           60,
           1,
           156,
           1,
           25,
           1,
           318000,
           137,
           0,
           0,
           85,
           0
          ],
          [
           63,
           1,
           61,
           1,
           40,
           0,
           221000,
           140,
           0,
           0,
           86,
           0
          ],
          [
           65,
           1,
           305,
           0,
           25,
           0,
           298000,
           141,
           1,
           0,
           87,
           0
          ],
          [
           75,
           0,
           582,
           0,
           45,
           1,
           263358.03,
           137,
           1,
           0,
           87,
           0
          ],
          [
           80,
           0,
           898,
           0,
           25,
           0,
           149000,
           144,
           1,
           1,
           87,
           0
          ],
          [
           42,
           0,
           5209,
           0,
           30,
           0,
           226000,
           140,
           1,
           1,
           87,
           0
          ],
          [
           60,
           0,
           53,
           0,
           50,
           1,
           286000,
           143,
           0,
           0,
           87,
           0
          ],
          [
           55,
           0,
           748,
           0,
           45,
           0,
           263000,
           137,
           1,
           0,
           88,
           0
          ],
          [
           45,
           1,
           1876,
           1,
           35,
           0,
           226000,
           138,
           1,
           0,
           88,
           0
          ],
          [
           63,
           0,
           936,
           0,
           38,
           0,
           304000,
           133,
           1,
           1,
           88,
           0
          ],
          [
           45,
           0,
           292,
           1,
           35,
           0,
           850000,
           142,
           1,
           1,
           88,
           0
          ],
          [
           55,
           0,
           60,
           0,
           35,
           0,
           228000,
           135,
           1,
           1,
           90,
           0
          ],
          [
           50,
           0,
           369,
           1,
           25,
           0,
           252000,
           136,
           1,
           0,
           90,
           0
          ],
          [
           60,
           1,
           754,
           1,
           40,
           1,
           328000,
           126,
           1,
           0,
           91,
           0
          ],
          [
           58,
           1,
           400,
           0,
           40,
           0,
           164000,
           139,
           0,
           0,
           91,
           0
          ],
          [
           60,
           1,
           96,
           1,
           60,
           1,
           271000,
           136,
           0,
           0,
           94,
           0
          ],
          [
           85,
           1,
           102,
           0,
           60,
           0,
           507000,
           138,
           0,
           0,
           94,
           0
          ],
          [
           65,
           1,
           113,
           1,
           60,
           1,
           203000,
           140,
           0,
           0,
           94,
           0
          ],
          [
           60,
           1,
           737,
           0,
           60,
           1,
           210000,
           135,
           1,
           1,
           95,
           0
          ],
          [
           66,
           1,
           68,
           1,
           38,
           1,
           162000,
           136,
           0,
           0,
           95,
           0
          ],
          [
           60,
           0,
           96,
           1,
           38,
           0,
           228000,
           140,
           0,
           0,
           95,
           0
          ],
          [
           60,
           1,
           582,
           0,
           30,
           1,
           127000,
           145,
           0,
           0,
           95,
           0
          ],
          [
           43,
           1,
           358,
           0,
           50,
           0,
           237000,
           135,
           0,
           0,
           97,
           0
          ],
          [
           58,
           1,
           200,
           1,
           60,
           0,
           300000,
           137,
           0,
           0,
           104,
           0
          ],
          [
           61,
           0,
           248,
           0,
           30,
           1,
           267000,
           136,
           1,
           1,
           104,
           0
          ],
          [
           53,
           1,
           270,
           1,
           35,
           0,
           227000,
           145,
           1,
           0,
           105,
           0
          ],
          [
           53,
           1,
           1808,
           0,
           60,
           1,
           249000,
           138,
           1,
           1,
           106,
           0
          ],
          [
           60,
           1,
           1082,
           1,
           45,
           0,
           250000,
           131,
           1,
           0,
           107,
           0
          ],
          [
           46,
           0,
           719,
           0,
           40,
           1,
           263358.03,
           137,
           0,
           0,
           107,
           0
          ],
          [
           63,
           0,
           193,
           0,
           60,
           1,
           295000,
           145,
           1,
           1,
           107,
           0
          ],
          [
           81,
           0,
           4540,
           0,
           35,
           0,
           231000,
           137,
           1,
           1,
           107,
           0
          ],
          [
           75,
           0,
           582,
           0,
           40,
           0,
           263358.03,
           137,
           1,
           0,
           107,
           0
          ],
          [
           65,
           1,
           59,
           1,
           60,
           0,
           172000,
           137,
           0,
           0,
           107,
           0
          ],
          [
           68,
           1,
           646,
           0,
           25,
           0,
           305000,
           130,
           1,
           0,
           108,
           0
          ],
          [
           62,
           0,
           281,
           1,
           35,
           0,
           221000,
           136,
           0,
           0,
           108,
           0
          ],
          [
           50,
           0,
           1548,
           0,
           30,
           1,
           211000,
           138,
           1,
           0,
           108,
           0
          ],
          [
           46,
           1,
           291,
           0,
           35,
           0,
           348000,
           140,
           0,
           0,
           109,
           0
          ],
          [
           50,
           0,
           482,
           1,
           30,
           0,
           329000,
           132,
           0,
           0,
           109,
           0
          ],
          [
           61,
           1,
           84,
           0,
           40,
           1,
           229000,
           141,
           0,
           0,
           110,
           0
          ],
          [
           50,
           0,
           185,
           0,
           30,
           0,
           266000,
           141,
           1,
           1,
           112,
           0
          ],
          [
           52,
           0,
           132,
           0,
           30,
           0,
           218000,
           136,
           1,
           1,
           112,
           0
          ],
          [
           64,
           0,
           1610,
           0,
           60,
           0,
           242000,
           137,
           1,
           0,
           113,
           0
          ],
          [
           60,
           0,
           2261,
           0,
           35,
           1,
           228000,
           136,
           1,
           0,
           115,
           0
          ],
          [
           62,
           0,
           30,
           1,
           60,
           1,
           244000,
           139,
           1,
           0,
           117,
           0
          ],
          [
           50,
           0,
           115,
           0,
           45,
           1,
           184000,
           134,
           1,
           1,
           118,
           0
          ],
          [
           50,
           0,
           1846,
           1,
           35,
           0,
           263358.03,
           137,
           1,
           1,
           119,
           0
          ],
          [
           65,
           1,
           335,
           0,
           35,
           1,
           235000,
           136,
           0,
           0,
           120,
           0
          ],
          [
           60,
           1,
           231,
           1,
           25,
           0,
           194000,
           140,
           1,
           0,
           120,
           0
          ],
          [
           52,
           1,
           58,
           0,
           35,
           0,
           277000,
           136,
           0,
           0,
           120,
           0
          ],
          [
           50,
           0,
           250,
           0,
           25,
           0,
           262000,
           136,
           1,
           1,
           120,
           0
          ],
          [
           85,
           1,
           910,
           0,
           50,
           0,
           235000,
           134,
           1,
           0,
           121,
           0
          ],
          [
           59,
           1,
           129,
           0,
           45,
           1,
           362000,
           139,
           1,
           1,
           121,
           0
          ],
          [
           66,
           1,
           72,
           0,
           40,
           1,
           242000,
           134,
           1,
           0,
           121,
           0
          ],
          [
           45,
           1,
           130,
           0,
           35,
           0,
           174000,
           139,
           1,
           1,
           121,
           0
          ],
          [
           63,
           1,
           582,
           0,
           40,
           0,
           448000,
           137,
           1,
           1,
           123,
           0
          ],
          [
           53,
           0,
           196,
           0,
           60,
           0,
           220000,
           133,
           1,
           1,
           134,
           0
          ],
          [
           65,
           0,
           582,
           1,
           40,
           0,
           270000,
           138,
           0,
           0,
           140,
           0
          ],
          [
           70,
           0,
           835,
           0,
           35,
           1,
           305000,
           133,
           0,
           0,
           145,
           0
          ],
          [
           51,
           1,
           582,
           1,
           35,
           0,
           263358.03,
           136,
           1,
           1,
           145,
           0
          ],
          [
           52,
           0,
           3966,
           0,
           40,
           0,
           325000,
           140,
           1,
           1,
           146,
           0
          ],
          [
           70,
           1,
           171,
           0,
           60,
           1,
           176000,
           145,
           1,
           1,
           146,
           0
          ],
          [
           50,
           1,
           115,
           0,
           20,
           0,
           189000,
           139,
           1,
           0,
           146,
           0
          ],
          [
           65,
           0,
           198,
           1,
           35,
           1,
           281000,
           137,
           1,
           1,
           146,
           0
          ],
          [
           60,
           1,
           95,
           0,
           60,
           0,
           337000,
           138,
           1,
           1,
           146,
           0
          ],
          [
           69,
           0,
           1419,
           0,
           40,
           0,
           105000,
           135,
           1,
           1,
           147,
           0
          ],
          [
           49,
           1,
           69,
           0,
           50,
           0,
           132000,
           140,
           0,
           0,
           147,
           0
          ],
          [
           63,
           1,
           122,
           1,
           60,
           0,
           267000,
           145,
           1,
           0,
           147,
           0
          ],
          [
           55,
           0,
           835,
           0,
           40,
           0,
           279000,
           140,
           1,
           1,
           147,
           0
          ],
          [
           40,
           0,
           478,
           1,
           30,
           0,
           303000,
           136,
           1,
           0,
           148,
           0
          ],
          [
           60.667,
           1,
           151,
           1,
           40,
           1,
           201000,
           136,
           0,
           0,
           172,
           0
          ],
          [
           40,
           0,
           244,
           0,
           45,
           1,
           275000,
           140,
           0,
           0,
           174,
           0
          ],
          [
           80,
           0,
           582,
           1,
           35,
           0,
           350000,
           134,
           1,
           0,
           174,
           0
          ],
          [
           64,
           1,
           62,
           0,
           60,
           0,
           309000,
           135,
           0,
           0,
           174,
           0
          ],
          [
           50,
           1,
           121,
           1,
           40,
           0,
           260000,
           130,
           1,
           0,
           175,
           0
          ],
          [
           73,
           1,
           231,
           1,
           30,
           0,
           160000,
           142,
           1,
           1,
           180,
           0
          ],
          [
           45,
           0,
           582,
           1,
           38,
           1,
           263358.03,
           137,
           0,
           0,
           185,
           0
          ],
          [
           65,
           0,
           167,
           0,
           30,
           0,
           259000,
           138,
           0,
           0,
           186,
           0
          ],
          [
           50,
           1,
           582,
           1,
           20,
           1,
           279000,
           134,
           0,
           0,
           186,
           0
          ],
          [
           60,
           0,
           1211,
           1,
           35,
           0,
           263358.03,
           113,
           1,
           1,
           186,
           0
          ],
          [
           63,
           1,
           1767,
           0,
           45,
           0,
           73000,
           137,
           1,
           0,
           186,
           0
          ],
          [
           45,
           0,
           308,
           1,
           60,
           1,
           377000,
           136,
           1,
           0,
           186,
           0
          ],
          [
           70,
           0,
           97,
           0,
           60,
           1,
           220000,
           138,
           1,
           0,
           186,
           0
          ],
          [
           60,
           0,
           59,
           0,
           25,
           1,
           212000,
           136,
           1,
           1,
           187,
           0
          ],
          [
           78,
           1,
           64,
           0,
           40,
           0,
           277000,
           137,
           1,
           1,
           187,
           0
          ],
          [
           50,
           1,
           167,
           1,
           45,
           0,
           362000,
           136,
           0,
           0,
           187,
           0
          ],
          [
           40,
           1,
           101,
           0,
           40,
           0,
           226000,
           141,
           0,
           0,
           187,
           0
          ],
          [
           85,
           0,
           212,
           0,
           38,
           0,
           186000,
           136,
           1,
           0,
           187,
           0
          ],
          [
           60,
           1,
           2281,
           1,
           40,
           0,
           283000,
           141,
           0,
           0,
           187,
           0
          ],
          [
           49,
           0,
           972,
           1,
           35,
           1,
           268000,
           130,
           0,
           0,
           187,
           0
          ],
          [
           70,
           0,
           212,
           1,
           17,
           1,
           389000,
           136,
           1,
           1,
           188,
           0
          ],
          [
           50,
           0,
           582,
           0,
           62,
           1,
           147000,
           140,
           1,
           1,
           192,
           0
          ],
          [
           78,
           0,
           224,
           0,
           50,
           0,
           481000,
           138,
           1,
           1,
           192,
           0
          ],
          [
           65,
           1,
           135,
           0,
           35,
           1,
           290000,
           134,
           1,
           0,
           194,
           0
          ],
          [
           73,
           0,
           582,
           0,
           35,
           1,
           203000,
           134,
           1,
           0,
           195,
           0
          ],
          [
           70,
           0,
           1202,
           0,
           50,
           1,
           358000,
           141,
           0,
           0,
           196,
           0
          ],
          [
           68,
           1,
           1021,
           1,
           35,
           0,
           271000,
           134,
           1,
           0,
           197,
           0
          ],
          [
           55,
           0,
           582,
           1,
           35,
           1,
           371000,
           140,
           0,
           0,
           197,
           0
          ],
          [
           65,
           0,
           118,
           0,
           50,
           0,
           194000,
           145,
           1,
           1,
           200,
           0
          ],
          [
           42,
           1,
           86,
           0,
           35,
           0,
           365000,
           139,
           1,
           1,
           201,
           0
          ],
          [
           47,
           0,
           582,
           0,
           25,
           0,
           130000,
           134,
           1,
           0,
           201,
           0
          ],
          [
           58,
           0,
           582,
           1,
           25,
           0,
           504000,
           138,
           1,
           0,
           205,
           0
          ],
          [
           75,
           0,
           675,
           1,
           60,
           0,
           265000,
           125,
           0,
           0,
           205,
           0
          ],
          [
           58,
           1,
           57,
           0,
           25,
           0,
           189000,
           132,
           1,
           1,
           205,
           0
          ],
          [
           55,
           1,
           2794,
           0,
           35,
           1,
           141000,
           140,
           1,
           0,
           206,
           0
          ],
          [
           65,
           0,
           56,
           0,
           25,
           0,
           237000,
           130,
           0,
           0,
           207,
           0
          ],
          [
           72,
           0,
           211,
           0,
           25,
           0,
           274000,
           134,
           0,
           0,
           207,
           0
          ],
          [
           70,
           0,
           93,
           0,
           35,
           0,
           185000,
           134,
           1,
           1,
           208,
           0
          ],
          [
           40,
           1,
           129,
           0,
           35,
           0,
           255000,
           137,
           1,
           0,
           209,
           0
          ],
          [
           53,
           1,
           707,
           0,
           38,
           0,
           330000,
           137,
           1,
           1,
           209,
           0
          ],
          [
           53,
           1,
           582,
           0,
           45,
           0,
           305000,
           137,
           1,
           1,
           209,
           0
          ],
          [
           77,
           1,
           109,
           0,
           50,
           1,
           406000,
           137,
           1,
           0,
           209,
           0
          ],
          [
           75,
           0,
           119,
           0,
           50,
           1,
           248000,
           148,
           1,
           0,
           209,
           0
          ],
          [
           70,
           0,
           232,
           0,
           30,
           0,
           173000,
           132,
           1,
           0,
           210,
           0
          ],
          [
           65,
           1,
           720,
           1,
           40,
           0,
           257000,
           136,
           0,
           0,
           210,
           0
          ],
          [
           55,
           1,
           180,
           0,
           45,
           0,
           263358.03,
           137,
           1,
           1,
           211,
           0
          ],
          [
           70,
           0,
           81,
           1,
           35,
           1,
           533000,
           139,
           0,
           0,
           212,
           0
          ],
          [
           65,
           0,
           582,
           1,
           30,
           0,
           249000,
           136,
           1,
           1,
           212,
           0
          ],
          [
           40,
           0,
           90,
           0,
           35,
           0,
           255000,
           136,
           1,
           1,
           212,
           0
          ],
          [
           73,
           1,
           1185,
           0,
           40,
           1,
           220000,
           141,
           0,
           0,
           213,
           0
          ],
          [
           54,
           0,
           582,
           1,
           38,
           0,
           264000,
           134,
           1,
           0,
           213,
           0
          ],
          [
           61,
           1,
           80,
           1,
           38,
           0,
           282000,
           137,
           1,
           0,
           213,
           0
          ],
          [
           64,
           0,
           143,
           0,
           25,
           0,
           246000,
           135,
           1,
           0,
           214,
           0
          ],
          [
           40,
           0,
           624,
           0,
           35,
           0,
           301000,
           142,
           1,
           1,
           214,
           0
          ],
          [
           53,
           0,
           207,
           1,
           40,
           0,
           223000,
           130,
           0,
           0,
           214,
           0
          ],
          [
           50,
           0,
           2522,
           0,
           30,
           1,
           404000,
           139,
           0,
           0,
           214,
           0
          ],
          [
           55,
           0,
           572,
           1,
           35,
           0,
           231000,
           143,
           0,
           0,
           215,
           0
          ],
          [
           50,
           0,
           245,
           0,
           45,
           1,
           274000,
           133,
           1,
           0,
           215,
           0
          ],
          [
           70,
           0,
           88,
           1,
           35,
           1,
           236000,
           132,
           0,
           0,
           215,
           0
          ],
          [
           53,
           1,
           446,
           0,
           60,
           1,
           263358.03,
           139,
           1,
           0,
           215,
           0
          ],
          [
           52,
           1,
           191,
           1,
           30,
           1,
           334000,
           142,
           1,
           1,
           216,
           0
          ],
          [
           65,
           0,
           326,
           0,
           38,
           0,
           294000,
           139,
           0,
           0,
           220,
           0
          ],
          [
           58,
           0,
           132,
           1,
           38,
           1,
           253000,
           139,
           1,
           0,
           230,
           0
          ],
          [
           45,
           1,
           66,
           1,
           25,
           0,
           233000,
           135,
           1,
           0,
           230,
           0
          ],
          [
           53,
           0,
           56,
           0,
           50,
           0,
           308000,
           135,
           1,
           1,
           231,
           0
          ],
          [
           55,
           0,
           66,
           0,
           40,
           0,
           203000,
           138,
           1,
           0,
           233,
           0
          ],
          [
           62,
           1,
           655,
           0,
           40,
           0,
           283000,
           133,
           0,
           0,
           233,
           0
          ],
          [
           68,
           1,
           157,
           1,
           60,
           0,
           208000,
           140,
           0,
           0,
           237,
           0
          ],
          [
           61,
           0,
           582,
           1,
           38,
           0,
           147000,
           141,
           1,
           0,
           237,
           0
          ],
          [
           50,
           1,
           298,
           0,
           35,
           0,
           362000,
           140,
           1,
           1,
           240,
           0
          ],
          [
           56,
           1,
           135,
           1,
           38,
           0,
           133000,
           140,
           1,
           0,
           244,
           0
          ],
          [
           45,
           0,
           582,
           1,
           38,
           0,
           302000,
           140,
           0,
           0,
           244,
           0
          ],
          [
           40,
           0,
           582,
           1,
           35,
           0,
           222000,
           132,
           1,
           0,
           244,
           0
          ],
          [
           44,
           0,
           582,
           1,
           30,
           1,
           263358.03,
           130,
           1,
           1,
           244,
           0
          ],
          [
           51,
           0,
           582,
           1,
           40,
           0,
           221000,
           134,
           0,
           0,
           244,
           0
          ],
          [
           67,
           0,
           213,
           0,
           38,
           0,
           215000,
           133,
           0,
           0,
           245,
           0
          ],
          [
           42,
           0,
           64,
           0,
           40,
           0,
           189000,
           140,
           1,
           0,
           245,
           0
          ],
          [
           60,
           1,
           257,
           1,
           30,
           0,
           150000,
           137,
           1,
           1,
           245,
           0
          ],
          [
           45,
           0,
           582,
           0,
           38,
           1,
           422000,
           137,
           0,
           0,
           245,
           0
          ],
          [
           70,
           0,
           618,
           0,
           35,
           0,
           327000,
           142,
           0,
           0,
           245,
           0
          ],
          [
           70,
           0,
           582,
           1,
           38,
           0,
           25100,
           140,
           1,
           0,
           246,
           0
          ],
          [
           50,
           1,
           1051,
           1,
           30,
           0,
           232000,
           136,
           0,
           0,
           246,
           0
          ],
          [
           55,
           0,
           84,
           1,
           38,
           0,
           451000,
           136,
           0,
           0,
           246,
           0
          ],
          [
           70,
           0,
           2695,
           1,
           40,
           0,
           241000,
           137,
           1,
           0,
           247,
           0
          ],
          [
           70,
           0,
           582,
           0,
           40,
           0,
           51000,
           136,
           1,
           1,
           250,
           0
          ],
          [
           42,
           0,
           64,
           0,
           30,
           0,
           215000,
           128,
           1,
           1,
           250,
           0
          ],
          [
           65,
           0,
           1688,
           0,
           38,
           0,
           263358.03,
           138,
           1,
           1,
           250,
           0
          ],
          [
           50,
           1,
           54,
           0,
           40,
           0,
           279000,
           141,
           1,
           0,
           250,
           0
          ],
          [
           55,
           1,
           170,
           1,
           40,
           0,
           336000,
           135,
           1,
           0,
           250,
           0
          ],
          [
           60,
           0,
           253,
           0,
           35,
           0,
           279000,
           140,
           1,
           0,
           250,
           0
          ],
          [
           45,
           0,
           582,
           1,
           55,
           0,
           543000,
           132,
           0,
           0,
           250,
           0
          ],
          [
           65,
           0,
           892,
           1,
           35,
           0,
           263358.03,
           142,
           0,
           0,
           256,
           0
          ],
          [
           90,
           1,
           337,
           0,
           38,
           0,
           390000,
           144,
           0,
           0,
           256,
           0
          ],
          [
           45,
           0,
           615,
           1,
           55,
           0,
           222000,
           141,
           0,
           0,
           257,
           0
          ],
          [
           60,
           0,
           320,
           0,
           35,
           0,
           133000,
           139,
           1,
           0,
           258,
           0
          ],
          [
           52,
           0,
           190,
           1,
           38,
           0,
           382000,
           140,
           1,
           1,
           258,
           0
          ],
          [
           63,
           1,
           103,
           1,
           35,
           0,
           179000,
           136,
           1,
           1,
           270,
           0
          ],
          [
           62,
           0,
           61,
           1,
           38,
           1,
           155000,
           143,
           1,
           1,
           270,
           0
          ],
          [
           55,
           0,
           1820,
           0,
           38,
           0,
           270000,
           139,
           0,
           0,
           271,
           0
          ],
          [
           45,
           0,
           2060,
           1,
           60,
           0,
           742000,
           138,
           0,
           0,
           278,
           0
          ],
          [
           45,
           0,
           2413,
           0,
           38,
           0,
           140000,
           140,
           1,
           1,
           280,
           0
          ],
          [
           50,
           0,
           196,
           0,
           45,
           0,
           395000,
           136,
           1,
           1,
           285,
           0
          ]
         ],
         "hovertemplate": "DEATH_EVENT=%{customdata[11]}<br>Serum Creatinine=%{x}<br>age=%{customdata[0]}<br>anaemia=%{customdata[1]}<br>creatinine_phosphokinase=%{customdata[2]}<br>diabetes=%{customdata[3]}<br>ejection_fraction=%{customdata[4]}<br>high_blood_pressure=%{customdata[5]}<br>platelets=%{customdata[6]}<br>serum_sodium=%{customdata[7]}<br>sex=%{customdata[8]}<br>smoking=%{customdata[9]}<br>time=%{customdata[10]}<extra></extra>",
         "legendgroup": "0",
         "marker": {
          "color": "#EF553B"
         },
         "name": "0",
         "offsetgroup": "0",
         "scalegroup": "x",
         "showlegend": false,
         "type": "violin",
         "x": [
          1,
          1.3,
          0.8,
          1.2,
          2.3,
          1,
          2.7,
          0.6,
          1.1,
          0.8,
          0.9,
          1.3,
          0.8,
          1.2,
          0.6,
          0.9,
          1.7,
          1.18,
          1.8,
          0.7,
          1.1,
          0.8,
          0.7,
          1.1,
          0.8,
          1,
          1.18,
          0.7,
          1,
          1.3,
          1.1,
          1.2,
          1.1,
          1.1,
          1.18,
          1.1,
          1,
          2.3,
          1.3,
          0.9,
          1.1,
          1.3,
          1.2,
          1.6,
          1.2,
          1,
          0.7,
          3.2,
          0.9,
          1.5,
          1,
          0.75,
          0.9,
          1.3,
          0.8,
          0.7,
          3.4,
          0.7,
          6.1,
          1.18,
          1.3,
          1.18,
          1.18,
          0.9,
          2.1,
          1,
          0.8,
          0.9,
          0.9,
          0.9,
          0.7,
          0.7,
          1,
          0.9,
          0.9,
          0.9,
          1.18,
          0.8,
          1.7,
          1.4,
          1,
          1.3,
          1.1,
          1.2,
          0.8,
          0.9,
          0.7,
          1,
          0.8,
          1.5,
          0.9,
          1.1,
          0.8,
          0.9,
          1,
          1,
          1,
          1.2,
          0.7,
          0.9,
          1,
          0.9,
          2.1,
          1.5,
          0.7,
          1.18,
          1.18,
          0.8,
          1,
          1.8,
          0.7,
          1,
          0.9,
          3.5,
          0.7,
          1,
          0.8,
          0.9,
          1,
          0.8,
          1,
          0.8,
          1.4,
          0.8,
          1.3,
          0.9,
          1.1,
          0.7,
          1.1,
          1.1,
          0.8,
          1,
          1.4,
          1.3,
          1,
          5,
          1.2,
          1.1,
          0.9,
          1.4,
          1.1,
          1.1,
          1.1,
          1.2,
          1,
          1.18,
          1.3,
          1.3,
          1.1,
          0.9,
          1.8,
          1.4,
          2.4,
          1,
          1.2,
          0.5,
          0.8,
          1,
          1.2,
          1,
          1,
          1.7,
          1,
          0.8,
          0.7,
          1,
          0.7,
          1,
          1.2,
          0.9,
          1.7,
          0.9,
          1,
          1.6,
          0.9,
          1.2,
          0.7,
          1,
          0.8,
          1.1,
          1.1,
          0.7,
          1.3,
          1,
          2.7,
          3.8,
          1.1,
          0.8,
          1.2,
          1.7,
          1,
          1.1,
          0.9,
          0.8,
          1.4,
          1,
          0.9,
          1.1,
          1.2,
          0.8,
          1.4,
          1.6
         ],
         "xaxis": "x2",
         "yaxis": "y2"
        }
       ],
       "layout": {
        "barmode": "relative",
        "legend": {
         "title": {
          "text": "DEATH_EVENT"
         },
         "tracegroupgap": 0
        },
        "template": {
         "data": {
          "bar": [
           {
            "error_x": {
             "color": "#f2f5fa"
            },
            "error_y": {
             "color": "#f2f5fa"
            },
            "marker": {
             "line": {
              "color": "rgb(17,17,17)",
              "width": 0.5
             },
             "pattern": {
              "fillmode": "overlay",
              "size": 10,
              "solidity": 0.2
             }
            },
            "type": "bar"
           }
          ],
          "barpolar": [
           {
            "marker": {
             "line": {
              "color": "rgb(17,17,17)",
              "width": 0.5
             },
             "pattern": {
              "fillmode": "overlay",
              "size": 10,
              "solidity": 0.2
             }
            },
            "type": "barpolar"
           }
          ],
          "carpet": [
           {
            "aaxis": {
             "endlinecolor": "#A2B1C6",
             "gridcolor": "#506784",
             "linecolor": "#506784",
             "minorgridcolor": "#506784",
             "startlinecolor": "#A2B1C6"
            },
            "baxis": {
             "endlinecolor": "#A2B1C6",
             "gridcolor": "#506784",
             "linecolor": "#506784",
             "minorgridcolor": "#506784",
             "startlinecolor": "#A2B1C6"
            },
            "type": "carpet"
           }
          ],
          "choropleth": [
           {
            "colorbar": {
             "outlinewidth": 0,
             "ticks": ""
            },
            "type": "choropleth"
           }
          ],
          "contour": [
           {
            "colorbar": {
             "outlinewidth": 0,
             "ticks": ""
            },
            "colorscale": [
             [
              0,
              "#0d0887"
             ],
             [
              0.1111111111111111,
              "#46039f"
             ],
             [
              0.2222222222222222,
              "#7201a8"
             ],
             [
              0.3333333333333333,
              "#9c179e"
             ],
             [
              0.4444444444444444,
              "#bd3786"
             ],
             [
              0.5555555555555556,
              "#d8576b"
             ],
             [
              0.6666666666666666,
              "#ed7953"
             ],
             [
              0.7777777777777778,
              "#fb9f3a"
             ],
             [
              0.8888888888888888,
              "#fdca26"
             ],
             [
              1,
              "#f0f921"
             ]
            ],
            "type": "contour"
           }
          ],
          "contourcarpet": [
           {
            "colorbar": {
             "outlinewidth": 0,
             "ticks": ""
            },
            "type": "contourcarpet"
           }
          ],
          "heatmap": [
           {
            "colorbar": {
             "outlinewidth": 0,
             "ticks": ""
            },
            "colorscale": [
             [
              0,
              "#0d0887"
             ],
             [
              0.1111111111111111,
              "#46039f"
             ],
             [
              0.2222222222222222,
              "#7201a8"
             ],
             [
              0.3333333333333333,
              "#9c179e"
             ],
             [
              0.4444444444444444,
              "#bd3786"
             ],
             [
              0.5555555555555556,
              "#d8576b"
             ],
             [
              0.6666666666666666,
              "#ed7953"
             ],
             [
              0.7777777777777778,
              "#fb9f3a"
             ],
             [
              0.8888888888888888,
              "#fdca26"
             ],
             [
              1,
              "#f0f921"
             ]
            ],
            "type": "heatmap"
           }
          ],
          "heatmapgl": [
           {
            "colorbar": {
             "outlinewidth": 0,
             "ticks": ""
            },
            "colorscale": [
             [
              0,
              "#0d0887"
             ],
             [
              0.1111111111111111,
              "#46039f"
             ],
             [
              0.2222222222222222,
              "#7201a8"
             ],
             [
              0.3333333333333333,
              "#9c179e"
             ],
             [
              0.4444444444444444,
              "#bd3786"
             ],
             [
              0.5555555555555556,
              "#d8576b"
             ],
             [
              0.6666666666666666,
              "#ed7953"
             ],
             [
              0.7777777777777778,
              "#fb9f3a"
             ],
             [
              0.8888888888888888,
              "#fdca26"
             ],
             [
              1,
              "#f0f921"
             ]
            ],
            "type": "heatmapgl"
           }
          ],
          "histogram": [
           {
            "marker": {
             "pattern": {
              "fillmode": "overlay",
              "size": 10,
              "solidity": 0.2
             }
            },
            "type": "histogram"
           }
          ],
          "histogram2d": [
           {
            "colorbar": {
             "outlinewidth": 0,
             "ticks": ""
            },
            "colorscale": [
             [
              0,
              "#0d0887"
             ],
             [
              0.1111111111111111,
              "#46039f"
             ],
             [
              0.2222222222222222,
              "#7201a8"
             ],
             [
              0.3333333333333333,
              "#9c179e"
             ],
             [
              0.4444444444444444,
              "#bd3786"
             ],
             [
              0.5555555555555556,
              "#d8576b"
             ],
             [
              0.6666666666666666,
              "#ed7953"
             ],
             [
              0.7777777777777778,
              "#fb9f3a"
             ],
             [
              0.8888888888888888,
              "#fdca26"
             ],
             [
              1,
              "#f0f921"
             ]
            ],
            "type": "histogram2d"
           }
          ],
          "histogram2dcontour": [
           {
            "colorbar": {
             "outlinewidth": 0,
             "ticks": ""
            },
            "colorscale": [
             [
              0,
              "#0d0887"
             ],
             [
              0.1111111111111111,
              "#46039f"
             ],
             [
              0.2222222222222222,
              "#7201a8"
             ],
             [
              0.3333333333333333,
              "#9c179e"
             ],
             [
              0.4444444444444444,
              "#bd3786"
             ],
             [
              0.5555555555555556,
              "#d8576b"
             ],
             [
              0.6666666666666666,
              "#ed7953"
             ],
             [
              0.7777777777777778,
              "#fb9f3a"
             ],
             [
              0.8888888888888888,
              "#fdca26"
             ],
             [
              1,
              "#f0f921"
             ]
            ],
            "type": "histogram2dcontour"
           }
          ],
          "mesh3d": [
           {
            "colorbar": {
             "outlinewidth": 0,
             "ticks": ""
            },
            "type": "mesh3d"
           }
          ],
          "parcoords": [
           {
            "line": {
             "colorbar": {
              "outlinewidth": 0,
              "ticks": ""
             }
            },
            "type": "parcoords"
           }
          ],
          "pie": [
           {
            "automargin": true,
            "type": "pie"
           }
          ],
          "scatter": [
           {
            "marker": {
             "line": {
              "color": "#283442"
             }
            },
            "type": "scatter"
           }
          ],
          "scatter3d": [
           {
            "line": {
             "colorbar": {
              "outlinewidth": 0,
              "ticks": ""
             }
            },
            "marker": {
             "colorbar": {
              "outlinewidth": 0,
              "ticks": ""
             }
            },
            "type": "scatter3d"
           }
          ],
          "scattercarpet": [
           {
            "marker": {
             "colorbar": {
              "outlinewidth": 0,
              "ticks": ""
             }
            },
            "type": "scattercarpet"
           }
          ],
          "scattergeo": [
           {
            "marker": {
             "colorbar": {
              "outlinewidth": 0,
              "ticks": ""
             }
            },
            "type": "scattergeo"
           }
          ],
          "scattergl": [
           {
            "marker": {
             "line": {
              "color": "#283442"
             }
            },
            "type": "scattergl"
           }
          ],
          "scattermapbox": [
           {
            "marker": {
             "colorbar": {
              "outlinewidth": 0,
              "ticks": ""
             }
            },
            "type": "scattermapbox"
           }
          ],
          "scatterpolar": [
           {
            "marker": {
             "colorbar": {
              "outlinewidth": 0,
              "ticks": ""
             }
            },
            "type": "scatterpolar"
           }
          ],
          "scatterpolargl": [
           {
            "marker": {
             "colorbar": {
              "outlinewidth": 0,
              "ticks": ""
             }
            },
            "type": "scatterpolargl"
           }
          ],
          "scatterternary": [
           {
            "marker": {
             "colorbar": {
              "outlinewidth": 0,
              "ticks": ""
             }
            },
            "type": "scatterternary"
           }
          ],
          "surface": [
           {
            "colorbar": {
             "outlinewidth": 0,
             "ticks": ""
            },
            "colorscale": [
             [
              0,
              "#0d0887"
             ],
             [
              0.1111111111111111,
              "#46039f"
             ],
             [
              0.2222222222222222,
              "#7201a8"
             ],
             [
              0.3333333333333333,
              "#9c179e"
             ],
             [
              0.4444444444444444,
              "#bd3786"
             ],
             [
              0.5555555555555556,
              "#d8576b"
             ],
             [
              0.6666666666666666,
              "#ed7953"
             ],
             [
              0.7777777777777778,
              "#fb9f3a"
             ],
             [
              0.8888888888888888,
              "#fdca26"
             ],
             [
              1,
              "#f0f921"
             ]
            ],
            "type": "surface"
           }
          ],
          "table": [
           {
            "cells": {
             "fill": {
              "color": "#506784"
             },
             "line": {
              "color": "rgb(17,17,17)"
             }
            },
            "header": {
             "fill": {
              "color": "#2a3f5f"
             },
             "line": {
              "color": "rgb(17,17,17)"
             }
            },
            "type": "table"
           }
          ]
         },
         "layout": {
          "annotationdefaults": {
           "arrowcolor": "#f2f5fa",
           "arrowhead": 0,
           "arrowwidth": 1
          },
          "autotypenumbers": "strict",
          "coloraxis": {
           "colorbar": {
            "outlinewidth": 0,
            "ticks": ""
           }
          },
          "colorscale": {
           "diverging": [
            [
             0,
             "#8e0152"
            ],
            [
             0.1,
             "#c51b7d"
            ],
            [
             0.2,
             "#de77ae"
            ],
            [
             0.3,
             "#f1b6da"
            ],
            [
             0.4,
             "#fde0ef"
            ],
            [
             0.5,
             "#f7f7f7"
            ],
            [
             0.6,
             "#e6f5d0"
            ],
            [
             0.7,
             "#b8e186"
            ],
            [
             0.8,
             "#7fbc41"
            ],
            [
             0.9,
             "#4d9221"
            ],
            [
             1,
             "#276419"
            ]
           ],
           "sequential": [
            [
             0,
             "#0d0887"
            ],
            [
             0.1111111111111111,
             "#46039f"
            ],
            [
             0.2222222222222222,
             "#7201a8"
            ],
            [
             0.3333333333333333,
             "#9c179e"
            ],
            [
             0.4444444444444444,
             "#bd3786"
            ],
            [
             0.5555555555555556,
             "#d8576b"
            ],
            [
             0.6666666666666666,
             "#ed7953"
            ],
            [
             0.7777777777777778,
             "#fb9f3a"
            ],
            [
             0.8888888888888888,
             "#fdca26"
            ],
            [
             1,
             "#f0f921"
            ]
           ],
           "sequentialminus": [
            [
             0,
             "#0d0887"
            ],
            [
             0.1111111111111111,
             "#46039f"
            ],
            [
             0.2222222222222222,
             "#7201a8"
            ],
            [
             0.3333333333333333,
             "#9c179e"
            ],
            [
             0.4444444444444444,
             "#bd3786"
            ],
            [
             0.5555555555555556,
             "#d8576b"
            ],
            [
             0.6666666666666666,
             "#ed7953"
            ],
            [
             0.7777777777777778,
             "#fb9f3a"
            ],
            [
             0.8888888888888888,
             "#fdca26"
            ],
            [
             1,
             "#f0f921"
            ]
           ]
          },
          "colorway": [
           "#636efa",
           "#EF553B",
           "#00cc96",
           "#ab63fa",
           "#FFA15A",
           "#19d3f3",
           "#FF6692",
           "#B6E880",
           "#FF97FF",
           "#FECB52"
          ],
          "font": {
           "color": "#f2f5fa"
          },
          "geo": {
           "bgcolor": "rgb(17,17,17)",
           "lakecolor": "rgb(17,17,17)",
           "landcolor": "rgb(17,17,17)",
           "showlakes": true,
           "showland": true,
           "subunitcolor": "#506784"
          },
          "hoverlabel": {
           "align": "left"
          },
          "hovermode": "closest",
          "mapbox": {
           "style": "dark"
          },
          "paper_bgcolor": "rgb(17,17,17)",
          "plot_bgcolor": "rgb(17,17,17)",
          "polar": {
           "angularaxis": {
            "gridcolor": "#506784",
            "linecolor": "#506784",
            "ticks": ""
           },
           "bgcolor": "rgb(17,17,17)",
           "radialaxis": {
            "gridcolor": "#506784",
            "linecolor": "#506784",
            "ticks": ""
           }
          },
          "scene": {
           "xaxis": {
            "backgroundcolor": "rgb(17,17,17)",
            "gridcolor": "#506784",
            "gridwidth": 2,
            "linecolor": "#506784",
            "showbackground": true,
            "ticks": "",
            "zerolinecolor": "#C8D4E3"
           },
           "yaxis": {
            "backgroundcolor": "rgb(17,17,17)",
            "gridcolor": "#506784",
            "gridwidth": 2,
            "linecolor": "#506784",
            "showbackground": true,
            "ticks": "",
            "zerolinecolor": "#C8D4E3"
           },
           "zaxis": {
            "backgroundcolor": "rgb(17,17,17)",
            "gridcolor": "#506784",
            "gridwidth": 2,
            "linecolor": "#506784",
            "showbackground": true,
            "ticks": "",
            "zerolinecolor": "#C8D4E3"
           }
          },
          "shapedefaults": {
           "line": {
            "color": "#f2f5fa"
           }
          },
          "sliderdefaults": {
           "bgcolor": "#C8D4E3",
           "bordercolor": "rgb(17,17,17)",
           "borderwidth": 1,
           "tickwidth": 0
          },
          "ternary": {
           "aaxis": {
            "gridcolor": "#506784",
            "linecolor": "#506784",
            "ticks": ""
           },
           "baxis": {
            "gridcolor": "#506784",
            "linecolor": "#506784",
            "ticks": ""
           },
           "bgcolor": "rgb(17,17,17)",
           "caxis": {
            "gridcolor": "#506784",
            "linecolor": "#506784",
            "ticks": ""
           }
          },
          "title": {
           "x": 0.05
          },
          "updatemenudefaults": {
           "bgcolor": "#506784",
           "borderwidth": 0
          },
          "xaxis": {
           "automargin": true,
           "gridcolor": "#283442",
           "linecolor": "#506784",
           "ticks": "",
           "title": {
            "standoff": 15
           },
           "zerolinecolor": "#283442",
           "zerolinewidth": 2
          },
          "yaxis": {
           "automargin": true,
           "gridcolor": "#283442",
           "linecolor": "#506784",
           "ticks": "",
           "title": {
            "standoff": 15
           },
           "zerolinecolor": "#283442",
           "zerolinewidth": 2
          }
         }
        },
        "title": {
         "text": "Distribution of Serum Creatinine by DEATH_EVENT"
        },
        "xaxis": {
         "anchor": "y",
         "domain": [
          0,
          1
         ],
         "title": {
          "text": "Serum Creatinine"
         }
        },
        "xaxis2": {
         "anchor": "y2",
         "domain": [
          0,
          1
         ],
         "matches": "x",
         "showgrid": true,
         "showticklabels": false
        },
        "yaxis": {
         "anchor": "x",
         "domain": [
          0,
          0.7326
         ],
         "title": {
          "text": "count"
         }
        },
        "yaxis2": {
         "anchor": "x2",
         "domain": [
          0.7426,
          1
         ],
         "matches": "y2",
         "showgrid": false,
         "showline": false,
         "showticklabels": false,
         "ticks": ""
        }
       }
      },
      "text/html": [
       "<div>                            <div id=\"5737b8ad-0f13-439e-aa5c-d7edb68bf1aa\" class=\"plotly-graph-div\" style=\"height:525px; width:100%;\"></div>            <script type=\"text/javascript\">                require([\"plotly\"], function(Plotly) {                    window.PLOTLYENV=window.PLOTLYENV || {};                                    if (document.getElementById(\"5737b8ad-0f13-439e-aa5c-d7edb68bf1aa\")) {                    Plotly.newPlot(                        \"5737b8ad-0f13-439e-aa5c-d7edb68bf1aa\",                        [{\"alignmentgroup\":\"True\",\"bingroup\":\"x\",\"hovertemplate\":\"DEATH_EVENT=1<br>Serum Creatinine=%{x}<br>count=%{y}<extra></extra>\",\"legendgroup\":\"1\",\"marker\":{\"color\":\"#636efa\",\"pattern\":{\"shape\":\"\"}},\"name\":\"1\",\"offsetgroup\":\"1\",\"orientation\":\"v\",\"showlegend\":true,\"x\":[1.9,1.1,1.3,1.9,2.7,2.1,1.2,1.1,1.5,9.4,4.0,0.9,1.1,1.1,1.3,0.9,0.8,1.0,1.9,1.6,0.9,1.83,1.9,1.0,1.3,5.8,1.2,1.83,3.0,1.0,1.0,3.5,1.0,1.0,3.0,1.83,1.2,1.2,1.1,1.9,0.9,0.6,4.4,1.0,1.0,1.4,6.8,1.0,2.2,2.0,1.1,1.3,1.0,2.3,1.0,2.9,1.3,1.0,1.2,1.83,1.0,1.2,0.7,2.5,1.0,1.7,1.7,1.2,1.3,1.83,3.7,2.1,1.1,1.7,1.83,2.5,0.9,1.1,1.3,2.4,1.0,1.2,2.5,1.2,1.5,0.6,2.1,1.6,1.8,1.6,1.83,1.7,1.1,1.4,1.83],\"xaxis\":\"x\",\"yaxis\":\"y\",\"type\":\"histogram\"},{\"alignmentgroup\":\"True\",\"customdata\":[[75.0,0.0,582.0,0.0,20.0,1.0,265000.0,130.0,1.0,0.0,4.0,1.0],[55.0,0.0,7861.0,0.0,38.0,0.0,263358.03,136.0,1.0,0.0,6.0,1.0],[65.0,0.0,146.0,0.0,20.0,0.0,162000.0,129.0,1.0,1.0,7.0,1.0],[50.0,1.0,111.0,0.0,20.0,0.0,210000.0,137.0,1.0,0.0,7.0,1.0],[65.0,1.0,160.0,1.0,20.0,0.0,327000.0,116.0,0.0,0.0,8.0,1.0],[90.0,1.0,47.0,0.0,40.0,1.0,204000.0,132.0,1.0,1.0,8.0,1.0],[75.0,1.0,246.0,0.0,15.0,0.0,127000.0,137.0,1.0,0.0,10.0,1.0],[60.0,1.0,315.0,1.0,60.0,0.0,454000.0,131.0,1.0,1.0,10.0,1.0],[65.0,0.0,157.0,0.0,65.0,0.0,263358.03,138.0,0.0,0.0,10.0,1.0],[80.0,1.0,123.0,0.0,35.0,1.0,388000.0,133.0,1.0,1.0,10.0,1.0],[75.0,1.0,81.0,0.0,38.0,1.0,368000.0,131.0,1.0,1.0,10.0,1.0],[62.0,0.0,231.0,0.0,25.0,1.0,253000.0,140.0,1.0,1.0,10.0,1.0],[45.0,1.0,981.0,0.0,30.0,0.0,136000.0,137.0,1.0,0.0,11.0,1.0],[50.0,1.0,168.0,0.0,38.0,1.0,276000.0,137.0,1.0,0.0,11.0,1.0],[82.0,1.0,379.0,0.0,50.0,0.0,47000.0,136.0,1.0,0.0,13.0,1.0],[87.0,1.0,149.0,0.0,38.0,0.0,262000.0,140.0,1.0,0.0,14.0,1.0],[45.0,0.0,582.0,0.0,14.0,0.0,166000.0,127.0,1.0,0.0,14.0,1.0],[70.0,1.0,125.0,0.0,25.0,1.0,237000.0,140.0,0.0,0.0,15.0,1.0],[48.0,1.0,582.0,1.0,55.0,0.0,87000.0,121.0,0.0,0.0,15.0,1.0],[65.0,1.0,128.0,1.0,30.0,1.0,297000.0,136.0,0.0,0.0,20.0,1.0],[68.0,1.0,220.0,0.0,35.0,1.0,289000.0,140.0,1.0,1.0,20.0,1.0],[75.0,0.0,582.0,1.0,30.0,1.0,263358.03,134.0,0.0,0.0,23.0,1.0],[80.0,0.0,148.0,1.0,38.0,0.0,149000.0,144.0,1.0,1.0,23.0,1.0],[95.0,1.0,112.0,0.0,40.0,1.0,196000.0,138.0,0.0,0.0,24.0,1.0],[70.0,0.0,122.0,1.0,45.0,1.0,284000.0,136.0,1.0,1.0,26.0,1.0],[58.0,1.0,60.0,0.0,38.0,0.0,153000.0,134.0,1.0,0.0,26.0,1.0],[82.0,0.0,70.0,1.0,30.0,0.0,200000.0,132.0,1.0,1.0,26.0,1.0],[94.0,0.0,582.0,1.0,38.0,1.0,263358.03,134.0,1.0,0.0,27.0,1.0],[85.0,0.0,23.0,0.0,45.0,0.0,360000.0,132.0,1.0,0.0,28.0,1.0],[50.0,1.0,249.0,1.0,35.0,1.0,319000.0,128.0,0.0,0.0,28.0,1.0],[65.0,0.0,94.0,1.0,50.0,1.0,188000.0,140.0,1.0,0.0,29.0,1.0],[69.0,0.0,582.0,1.0,35.0,0.0,228000.0,134.0,1.0,0.0,30.0,1.0],[90.0,1.0,60.0,1.0,50.0,0.0,226000.0,134.0,1.0,0.0,30.0,1.0],[82.0,1.0,855.0,1.0,50.0,1.0,321000.0,145.0,0.0,0.0,30.0,1.0],[60.0,0.0,235.0,1.0,38.0,0.0,329000.0,142.0,0.0,0.0,30.0,1.0],[70.0,0.0,582.0,0.0,20.0,1.0,263358.03,134.0,1.0,1.0,31.0,1.0],[50.0,0.0,124.0,1.0,30.0,1.0,153000.0,136.0,0.0,1.0,32.0,1.0],[70.0,0.0,571.0,1.0,45.0,1.0,185000.0,139.0,1.0,1.0,33.0,1.0],[60.0,1.0,588.0,1.0,60.0,0.0,194000.0,142.0,0.0,0.0,33.0,1.0],[50.0,0.0,582.0,1.0,38.0,0.0,310000.0,135.0,1.0,1.0,35.0,1.0],[51.0,0.0,1380.0,0.0,25.0,1.0,271000.0,130.0,1.0,0.0,38.0,1.0],[60.0,0.0,582.0,1.0,38.0,1.0,451000.0,138.0,1.0,1.0,40.0,1.0],[80.0,1.0,553.0,0.0,20.0,1.0,140000.0,133.0,1.0,0.0,41.0,1.0],[57.0,1.0,129.0,0.0,30.0,0.0,395000.0,140.0,0.0,0.0,42.0,1.0],[68.0,1.0,577.0,0.0,25.0,1.0,166000.0,138.0,1.0,0.0,43.0,1.0],[53.0,1.0,91.0,0.0,20.0,1.0,418000.0,139.0,0.0,0.0,43.0,1.0],[60.0,0.0,3964.0,1.0,62.0,0.0,263358.03,146.0,0.0,0.0,43.0,1.0],[70.0,1.0,69.0,1.0,50.0,1.0,351000.0,134.0,0.0,0.0,44.0,1.0],[60.0,1.0,260.0,1.0,38.0,0.0,255000.0,132.0,0.0,1.0,45.0,1.0],[95.0,1.0,371.0,0.0,30.0,0.0,461000.0,132.0,1.0,0.0,50.0,1.0],[49.0,0.0,789.0,0.0,20.0,1.0,319000.0,136.0,1.0,1.0,55.0,1.0],[72.0,0.0,364.0,1.0,20.0,1.0,254000.0,136.0,1.0,1.0,59.0,1.0],[45.0,0.0,7702.0,1.0,25.0,1.0,390000.0,139.0,1.0,0.0,60.0,1.0],[50.0,0.0,318.0,0.0,40.0,1.0,216000.0,131.0,0.0,0.0,60.0,1.0],[45.0,0.0,582.0,0.0,35.0,0.0,385000.0,145.0,1.0,0.0,61.0,1.0],[60.0,0.0,68.0,0.0,20.0,0.0,119000.0,127.0,1.0,1.0,64.0,1.0],[42.0,1.0,250.0,1.0,15.0,0.0,213000.0,136.0,0.0,0.0,65.0,1.0],[72.0,1.0,110.0,0.0,25.0,0.0,274000.0,140.0,1.0,1.0,65.0,1.0],[70.0,0.0,161.0,0.0,25.0,0.0,244000.0,142.0,0.0,0.0,66.0,1.0],[65.0,0.0,113.0,1.0,25.0,0.0,497000.0,135.0,1.0,0.0,67.0,1.0],[85.0,0.0,5882.0,0.0,35.0,0.0,243000.0,132.0,1.0,1.0,72.0,1.0],[69.0,0.0,582.0,0.0,20.0,0.0,266000.0,134.0,1.0,1.0,73.0,1.0],[60.0,1.0,47.0,0.0,20.0,0.0,204000.0,139.0,1.0,1.0,73.0,1.0],[60.0,1.0,76.0,1.0,25.0,0.0,196000.0,132.0,0.0,0.0,77.0,1.0],[59.0,1.0,280.0,1.0,25.0,1.0,302000.0,141.0,0.0,0.0,78.0,1.0],[60.0,1.0,154.0,0.0,25.0,0.0,210000.0,135.0,1.0,0.0,82.0,1.0],[72.0,1.0,328.0,0.0,30.0,1.0,621000.0,138.0,0.0,1.0,88.0,1.0],[85.0,0.0,129.0,0.0,60.0,0.0,306000.0,132.0,1.0,1.0,90.0,1.0],[70.0,1.0,143.0,0.0,60.0,0.0,351000.0,137.0,0.0,0.0,90.0,1.0],[86.0,0.0,582.0,0.0,38.0,0.0,263358.03,134.0,0.0,0.0,95.0,1.0],[60.0,0.0,582.0,0.0,40.0,0.0,217000.0,134.0,1.0,0.0,96.0,1.0],[46.0,0.0,168.0,1.0,17.0,1.0,271000.0,124.0,0.0,0.0,100.0,1.0],[80.0,0.0,805.0,0.0,38.0,0.0,263358.03,134.0,1.0,0.0,109.0,1.0],[72.0,1.0,943.0,0.0,25.0,1.0,338000.0,139.0,1.0,1.0,111.0,1.0],[75.0,1.0,582.0,0.0,30.0,0.0,225000.0,134.0,1.0,0.0,113.0,1.0],[72.0,0.0,233.0,0.0,45.0,1.0,235000.0,135.0,0.0,0.0,115.0,1.0],[50.0,1.0,2334.0,1.0,35.0,0.0,75000.0,142.0,0.0,0.0,126.0,1.0],[45.0,0.0,2442.0,1.0,30.0,0.0,334000.0,139.0,1.0,0.0,129.0,1.0],[80.0,0.0,776.0,1.0,38.0,1.0,192000.0,135.0,0.0,0.0,130.0,1.0],[59.0,0.0,66.0,1.0,20.0,0.0,70000.0,134.0,1.0,0.0,135.0,1.0],[59.0,1.0,176.0,1.0,25.0,0.0,221000.0,136.0,1.0,1.0,150.0,1.0],[65.0,0.0,395.0,1.0,25.0,0.0,265000.0,136.0,1.0,1.0,154.0,1.0],[75.0,0.0,99.0,0.0,38.0,1.0,224000.0,134.0,1.0,0.0,162.0,1.0],[58.0,1.0,145.0,0.0,25.0,0.0,219000.0,137.0,1.0,1.0,170.0,1.0],[60.667,1.0,104.0,1.0,30.0,0.0,389000.0,136.0,1.0,0.0,171.0,1.0],[50.0,0.0,582.0,0.0,50.0,0.0,153000.0,134.0,0.0,0.0,172.0,1.0],[60.0,0.0,1896.0,1.0,25.0,0.0,365000.0,144.0,0.0,0.0,172.0,1.0],[45.0,0.0,582.0,0.0,20.0,1.0,126000.0,135.0,1.0,0.0,180.0,1.0],[77.0,1.0,418.0,0.0,45.0,0.0,223000.0,145.0,1.0,0.0,180.0,1.0],[48.0,1.0,131.0,1.0,30.0,1.0,244000.0,130.0,0.0,0.0,193.0,1.0],[73.0,0.0,582.0,0.0,20.0,0.0,263358.03,134.0,1.0,0.0,198.0,1.0],[60.0,0.0,166.0,0.0,30.0,0.0,62000.0,127.0,0.0,0.0,207.0,1.0],[55.0,0.0,2017.0,0.0,25.0,0.0,314000.0,138.0,1.0,0.0,214.0,1.0],[65.0,1.0,258.0,1.0,25.0,0.0,198000.0,129.0,1.0,0.0,235.0,1.0],[55.0,0.0,1199.0,0.0,20.0,0.0,263358.03,134.0,1.0,1.0,241.0,1.0]],\"hovertemplate\":\"DEATH_EVENT=%{customdata[11]}<br>Serum Creatinine=%{x}<br>age=%{customdata[0]}<br>anaemia=%{customdata[1]}<br>creatinine_phosphokinase=%{customdata[2]}<br>diabetes=%{customdata[3]}<br>ejection_fraction=%{customdata[4]}<br>high_blood_pressure=%{customdata[5]}<br>platelets=%{customdata[6]}<br>serum_sodium=%{customdata[7]}<br>sex=%{customdata[8]}<br>smoking=%{customdata[9]}<br>time=%{customdata[10]}<extra></extra>\",\"legendgroup\":\"1\",\"marker\":{\"color\":\"#636efa\"},\"name\":\"1\",\"offsetgroup\":\"1\",\"scalegroup\":\"x\",\"showlegend\":false,\"x\":[1.9,1.1,1.3,1.9,2.7,2.1,1.2,1.1,1.5,9.4,4.0,0.9,1.1,1.1,1.3,0.9,0.8,1.0,1.9,1.6,0.9,1.83,1.9,1.0,1.3,5.8,1.2,1.83,3.0,1.0,1.0,3.5,1.0,1.0,3.0,1.83,1.2,1.2,1.1,1.9,0.9,0.6,4.4,1.0,1.0,1.4,6.8,1.0,2.2,2.0,1.1,1.3,1.0,2.3,1.0,2.9,1.3,1.0,1.2,1.83,1.0,1.2,0.7,2.5,1.0,1.7,1.7,1.2,1.3,1.83,3.7,2.1,1.1,1.7,1.83,2.5,0.9,1.1,1.3,2.4,1.0,1.2,2.5,1.2,1.5,0.6,2.1,1.6,1.8,1.6,1.83,1.7,1.1,1.4,1.83],\"xaxis\":\"x2\",\"yaxis\":\"y2\",\"type\":\"violin\"},{\"alignmentgroup\":\"True\",\"bingroup\":\"x\",\"hovertemplate\":\"DEATH_EVENT=0<br>Serum Creatinine=%{x}<br>count=%{y}<extra></extra>\",\"legendgroup\":\"0\",\"marker\":{\"color\":\"#EF553B\",\"pattern\":{\"shape\":\"\"}},\"name\":\"0\",\"offsetgroup\":\"0\",\"orientation\":\"v\",\"showlegend\":true,\"x\":[1.0,1.3,0.8,1.2,2.3,1.0,2.7,0.6,1.1,0.8,0.9,1.3,0.8,1.2,0.6,0.9,1.7,1.18,1.8,0.7,1.1,0.8,0.7,1.1,0.8,1.0,1.18,0.7,1.0,1.3,1.1,1.2,1.1,1.1,1.18,1.1,1.0,2.3,1.3,0.9,1.1,1.3,1.2,1.6,1.2,1.0,0.7,3.2,0.9,1.5,1.0,0.75,0.9,1.3,0.8,0.7,3.4,0.7,6.1,1.18,1.3,1.18,1.18,0.9,2.1,1.0,0.8,0.9,0.9,0.9,0.7,0.7,1.0,0.9,0.9,0.9,1.18,0.8,1.7,1.4,1.0,1.3,1.1,1.2,0.8,0.9,0.7,1.0,0.8,1.5,0.9,1.1,0.8,0.9,1.0,1.0,1.0,1.2,0.7,0.9,1.0,0.9,2.1,1.5,0.7,1.18,1.18,0.8,1.0,1.8,0.7,1.0,0.9,3.5,0.7,1.0,0.8,0.9,1.0,0.8,1.0,0.8,1.4,0.8,1.3,0.9,1.1,0.7,1.1,1.1,0.8,1.0,1.4,1.3,1.0,5.0,1.2,1.1,0.9,1.4,1.1,1.1,1.1,1.2,1.0,1.18,1.3,1.3,1.1,0.9,1.8,1.4,2.4,1.0,1.2,0.5,0.8,1.0,1.2,1.0,1.0,1.7,1.0,0.8,0.7,1.0,0.7,1.0,1.2,0.9,1.7,0.9,1.0,1.6,0.9,1.2,0.7,1.0,0.8,1.1,1.1,0.7,1.3,1.0,2.7,3.8,1.1,0.8,1.2,1.7,1.0,1.1,0.9,0.8,1.4,1.0,0.9,1.1,1.2,0.8,1.4,1.6],\"xaxis\":\"x\",\"yaxis\":\"y\",\"type\":\"histogram\"},{\"alignmentgroup\":\"True\",\"customdata\":[[49.0,1.0,80.0,0.0,30.0,1.0,427000.0,138.0,0.0,0.0,12.0,0.0],[65.0,1.0,52.0,0.0,25.0,1.0,276000.0,137.0,0.0,0.0,16.0,0.0],[53.0,0.0,63.0,1.0,60.0,0.0,368000.0,135.0,1.0,0.0,22.0,0.0],[50.0,1.0,159.0,1.0,30.0,0.0,302000.0,138.0,0.0,0.0,29.0,0.0],[60.0,0.0,2656.0,1.0,30.0,0.0,305000.0,137.0,1.0,0.0,30.0,0.0],[72.0,0.0,127.0,1.0,50.0,1.0,218000.0,134.0,1.0,0.0,33.0,0.0],[70.0,1.0,75.0,0.0,35.0,0.0,223000.0,138.0,1.0,1.0,54.0,0.0],[60.0,1.0,607.0,0.0,40.0,0.0,216000.0,138.0,1.0,1.0,54.0,0.0],[55.0,0.0,109.0,0.0,35.0,0.0,254000.0,139.0,1.0,1.0,60.0,0.0],[41.0,0.0,148.0,0.0,40.0,0.0,374000.0,140.0,1.0,1.0,68.0,0.0],[58.0,0.0,582.0,1.0,35.0,0.0,122000.0,139.0,1.0,1.0,71.0,0.0],[65.0,0.0,224.0,1.0,50.0,0.0,149000.0,137.0,1.0,1.0,72.0,0.0],[70.0,0.0,92.0,0.0,60.0,1.0,317000.0,140.0,0.0,1.0,74.0,0.0],[42.0,0.0,102.0,1.0,40.0,0.0,237000.0,140.0,1.0,0.0,74.0,0.0],[75.0,1.0,203.0,1.0,38.0,1.0,283000.0,131.0,1.0,1.0,74.0,0.0],[55.0,0.0,336.0,0.0,45.0,1.0,324000.0,140.0,0.0,0.0,74.0,0.0],[70.0,0.0,69.0,0.0,40.0,0.0,293000.0,136.0,0.0,0.0,75.0,0.0],[67.0,0.0,582.0,0.0,50.0,0.0,263358.03,137.0,1.0,1.0,76.0,0.0],[79.0,1.0,55.0,0.0,50.0,1.0,172000.0,133.0,1.0,0.0,78.0,0.0],[51.0,0.0,78.0,0.0,50.0,0.0,406000.0,140.0,1.0,0.0,79.0,0.0],[55.0,0.0,47.0,0.0,35.0,1.0,173000.0,137.0,1.0,0.0,79.0,0.0],[65.0,1.0,68.0,1.0,60.0,1.0,304000.0,140.0,1.0,0.0,79.0,0.0],[44.0,0.0,84.0,1.0,40.0,1.0,235000.0,139.0,1.0,0.0,79.0,0.0],[57.0,1.0,115.0,0.0,25.0,1.0,181000.0,144.0,1.0,0.0,79.0,0.0],[70.0,0.0,66.0,1.0,45.0,0.0,249000.0,136.0,1.0,1.0,80.0,0.0],[60.0,0.0,897.0,1.0,45.0,0.0,297000.0,133.0,1.0,0.0,80.0,0.0],[42.0,0.0,582.0,0.0,60.0,0.0,263358.03,137.0,0.0,0.0,82.0,0.0],[58.0,0.0,144.0,1.0,38.0,1.0,327000.0,142.0,0.0,0.0,83.0,0.0],[58.0,1.0,133.0,0.0,60.0,1.0,219000.0,141.0,1.0,0.0,83.0,0.0],[63.0,1.0,514.0,1.0,25.0,1.0,254000.0,134.0,1.0,0.0,83.0,0.0],[70.0,1.0,59.0,0.0,60.0,0.0,255000.0,136.0,0.0,0.0,85.0,0.0],[60.0,1.0,156.0,1.0,25.0,1.0,318000.0,137.0,0.0,0.0,85.0,0.0],[63.0,1.0,61.0,1.0,40.0,0.0,221000.0,140.0,0.0,0.0,86.0,0.0],[65.0,1.0,305.0,0.0,25.0,0.0,298000.0,141.0,1.0,0.0,87.0,0.0],[75.0,0.0,582.0,0.0,45.0,1.0,263358.03,137.0,1.0,0.0,87.0,0.0],[80.0,0.0,898.0,0.0,25.0,0.0,149000.0,144.0,1.0,1.0,87.0,0.0],[42.0,0.0,5209.0,0.0,30.0,0.0,226000.0,140.0,1.0,1.0,87.0,0.0],[60.0,0.0,53.0,0.0,50.0,1.0,286000.0,143.0,0.0,0.0,87.0,0.0],[55.0,0.0,748.0,0.0,45.0,0.0,263000.0,137.0,1.0,0.0,88.0,0.0],[45.0,1.0,1876.0,1.0,35.0,0.0,226000.0,138.0,1.0,0.0,88.0,0.0],[63.0,0.0,936.0,0.0,38.0,0.0,304000.0,133.0,1.0,1.0,88.0,0.0],[45.0,0.0,292.0,1.0,35.0,0.0,850000.0,142.0,1.0,1.0,88.0,0.0],[55.0,0.0,60.0,0.0,35.0,0.0,228000.0,135.0,1.0,1.0,90.0,0.0],[50.0,0.0,369.0,1.0,25.0,0.0,252000.0,136.0,1.0,0.0,90.0,0.0],[60.0,1.0,754.0,1.0,40.0,1.0,328000.0,126.0,1.0,0.0,91.0,0.0],[58.0,1.0,400.0,0.0,40.0,0.0,164000.0,139.0,0.0,0.0,91.0,0.0],[60.0,1.0,96.0,1.0,60.0,1.0,271000.0,136.0,0.0,0.0,94.0,0.0],[85.0,1.0,102.0,0.0,60.0,0.0,507000.0,138.0,0.0,0.0,94.0,0.0],[65.0,1.0,113.0,1.0,60.0,1.0,203000.0,140.0,0.0,0.0,94.0,0.0],[60.0,1.0,737.0,0.0,60.0,1.0,210000.0,135.0,1.0,1.0,95.0,0.0],[66.0,1.0,68.0,1.0,38.0,1.0,162000.0,136.0,0.0,0.0,95.0,0.0],[60.0,0.0,96.0,1.0,38.0,0.0,228000.0,140.0,0.0,0.0,95.0,0.0],[60.0,1.0,582.0,0.0,30.0,1.0,127000.0,145.0,0.0,0.0,95.0,0.0],[43.0,1.0,358.0,0.0,50.0,0.0,237000.0,135.0,0.0,0.0,97.0,0.0],[58.0,1.0,200.0,1.0,60.0,0.0,300000.0,137.0,0.0,0.0,104.0,0.0],[61.0,0.0,248.0,0.0,30.0,1.0,267000.0,136.0,1.0,1.0,104.0,0.0],[53.0,1.0,270.0,1.0,35.0,0.0,227000.0,145.0,1.0,0.0,105.0,0.0],[53.0,1.0,1808.0,0.0,60.0,1.0,249000.0,138.0,1.0,1.0,106.0,0.0],[60.0,1.0,1082.0,1.0,45.0,0.0,250000.0,131.0,1.0,0.0,107.0,0.0],[46.0,0.0,719.0,0.0,40.0,1.0,263358.03,137.0,0.0,0.0,107.0,0.0],[63.0,0.0,193.0,0.0,60.0,1.0,295000.0,145.0,1.0,1.0,107.0,0.0],[81.0,0.0,4540.0,0.0,35.0,0.0,231000.0,137.0,1.0,1.0,107.0,0.0],[75.0,0.0,582.0,0.0,40.0,0.0,263358.03,137.0,1.0,0.0,107.0,0.0],[65.0,1.0,59.0,1.0,60.0,0.0,172000.0,137.0,0.0,0.0,107.0,0.0],[68.0,1.0,646.0,0.0,25.0,0.0,305000.0,130.0,1.0,0.0,108.0,0.0],[62.0,0.0,281.0,1.0,35.0,0.0,221000.0,136.0,0.0,0.0,108.0,0.0],[50.0,0.0,1548.0,0.0,30.0,1.0,211000.0,138.0,1.0,0.0,108.0,0.0],[46.0,1.0,291.0,0.0,35.0,0.0,348000.0,140.0,0.0,0.0,109.0,0.0],[50.0,0.0,482.0,1.0,30.0,0.0,329000.0,132.0,0.0,0.0,109.0,0.0],[61.0,1.0,84.0,0.0,40.0,1.0,229000.0,141.0,0.0,0.0,110.0,0.0],[50.0,0.0,185.0,0.0,30.0,0.0,266000.0,141.0,1.0,1.0,112.0,0.0],[52.0,0.0,132.0,0.0,30.0,0.0,218000.0,136.0,1.0,1.0,112.0,0.0],[64.0,0.0,1610.0,0.0,60.0,0.0,242000.0,137.0,1.0,0.0,113.0,0.0],[60.0,0.0,2261.0,0.0,35.0,1.0,228000.0,136.0,1.0,0.0,115.0,0.0],[62.0,0.0,30.0,1.0,60.0,1.0,244000.0,139.0,1.0,0.0,117.0,0.0],[50.0,0.0,115.0,0.0,45.0,1.0,184000.0,134.0,1.0,1.0,118.0,0.0],[50.0,0.0,1846.0,1.0,35.0,0.0,263358.03,137.0,1.0,1.0,119.0,0.0],[65.0,1.0,335.0,0.0,35.0,1.0,235000.0,136.0,0.0,0.0,120.0,0.0],[60.0,1.0,231.0,1.0,25.0,0.0,194000.0,140.0,1.0,0.0,120.0,0.0],[52.0,1.0,58.0,0.0,35.0,0.0,277000.0,136.0,0.0,0.0,120.0,0.0],[50.0,0.0,250.0,0.0,25.0,0.0,262000.0,136.0,1.0,1.0,120.0,0.0],[85.0,1.0,910.0,0.0,50.0,0.0,235000.0,134.0,1.0,0.0,121.0,0.0],[59.0,1.0,129.0,0.0,45.0,1.0,362000.0,139.0,1.0,1.0,121.0,0.0],[66.0,1.0,72.0,0.0,40.0,1.0,242000.0,134.0,1.0,0.0,121.0,0.0],[45.0,1.0,130.0,0.0,35.0,0.0,174000.0,139.0,1.0,1.0,121.0,0.0],[63.0,1.0,582.0,0.0,40.0,0.0,448000.0,137.0,1.0,1.0,123.0,0.0],[53.0,0.0,196.0,0.0,60.0,0.0,220000.0,133.0,1.0,1.0,134.0,0.0],[65.0,0.0,582.0,1.0,40.0,0.0,270000.0,138.0,0.0,0.0,140.0,0.0],[70.0,0.0,835.0,0.0,35.0,1.0,305000.0,133.0,0.0,0.0,145.0,0.0],[51.0,1.0,582.0,1.0,35.0,0.0,263358.03,136.0,1.0,1.0,145.0,0.0],[52.0,0.0,3966.0,0.0,40.0,0.0,325000.0,140.0,1.0,1.0,146.0,0.0],[70.0,1.0,171.0,0.0,60.0,1.0,176000.0,145.0,1.0,1.0,146.0,0.0],[50.0,1.0,115.0,0.0,20.0,0.0,189000.0,139.0,1.0,0.0,146.0,0.0],[65.0,0.0,198.0,1.0,35.0,1.0,281000.0,137.0,1.0,1.0,146.0,0.0],[60.0,1.0,95.0,0.0,60.0,0.0,337000.0,138.0,1.0,1.0,146.0,0.0],[69.0,0.0,1419.0,0.0,40.0,0.0,105000.0,135.0,1.0,1.0,147.0,0.0],[49.0,1.0,69.0,0.0,50.0,0.0,132000.0,140.0,0.0,0.0,147.0,0.0],[63.0,1.0,122.0,1.0,60.0,0.0,267000.0,145.0,1.0,0.0,147.0,0.0],[55.0,0.0,835.0,0.0,40.0,0.0,279000.0,140.0,1.0,1.0,147.0,0.0],[40.0,0.0,478.0,1.0,30.0,0.0,303000.0,136.0,1.0,0.0,148.0,0.0],[60.667,1.0,151.0,1.0,40.0,1.0,201000.0,136.0,0.0,0.0,172.0,0.0],[40.0,0.0,244.0,0.0,45.0,1.0,275000.0,140.0,0.0,0.0,174.0,0.0],[80.0,0.0,582.0,1.0,35.0,0.0,350000.0,134.0,1.0,0.0,174.0,0.0],[64.0,1.0,62.0,0.0,60.0,0.0,309000.0,135.0,0.0,0.0,174.0,0.0],[50.0,1.0,121.0,1.0,40.0,0.0,260000.0,130.0,1.0,0.0,175.0,0.0],[73.0,1.0,231.0,1.0,30.0,0.0,160000.0,142.0,1.0,1.0,180.0,0.0],[45.0,0.0,582.0,1.0,38.0,1.0,263358.03,137.0,0.0,0.0,185.0,0.0],[65.0,0.0,167.0,0.0,30.0,0.0,259000.0,138.0,0.0,0.0,186.0,0.0],[50.0,1.0,582.0,1.0,20.0,1.0,279000.0,134.0,0.0,0.0,186.0,0.0],[60.0,0.0,1211.0,1.0,35.0,0.0,263358.03,113.0,1.0,1.0,186.0,0.0],[63.0,1.0,1767.0,0.0,45.0,0.0,73000.0,137.0,1.0,0.0,186.0,0.0],[45.0,0.0,308.0,1.0,60.0,1.0,377000.0,136.0,1.0,0.0,186.0,0.0],[70.0,0.0,97.0,0.0,60.0,1.0,220000.0,138.0,1.0,0.0,186.0,0.0],[60.0,0.0,59.0,0.0,25.0,1.0,212000.0,136.0,1.0,1.0,187.0,0.0],[78.0,1.0,64.0,0.0,40.0,0.0,277000.0,137.0,1.0,1.0,187.0,0.0],[50.0,1.0,167.0,1.0,45.0,0.0,362000.0,136.0,0.0,0.0,187.0,0.0],[40.0,1.0,101.0,0.0,40.0,0.0,226000.0,141.0,0.0,0.0,187.0,0.0],[85.0,0.0,212.0,0.0,38.0,0.0,186000.0,136.0,1.0,0.0,187.0,0.0],[60.0,1.0,2281.0,1.0,40.0,0.0,283000.0,141.0,0.0,0.0,187.0,0.0],[49.0,0.0,972.0,1.0,35.0,1.0,268000.0,130.0,0.0,0.0,187.0,0.0],[70.0,0.0,212.0,1.0,17.0,1.0,389000.0,136.0,1.0,1.0,188.0,0.0],[50.0,0.0,582.0,0.0,62.0,1.0,147000.0,140.0,1.0,1.0,192.0,0.0],[78.0,0.0,224.0,0.0,50.0,0.0,481000.0,138.0,1.0,1.0,192.0,0.0],[65.0,1.0,135.0,0.0,35.0,1.0,290000.0,134.0,1.0,0.0,194.0,0.0],[73.0,0.0,582.0,0.0,35.0,1.0,203000.0,134.0,1.0,0.0,195.0,0.0],[70.0,0.0,1202.0,0.0,50.0,1.0,358000.0,141.0,0.0,0.0,196.0,0.0],[68.0,1.0,1021.0,1.0,35.0,0.0,271000.0,134.0,1.0,0.0,197.0,0.0],[55.0,0.0,582.0,1.0,35.0,1.0,371000.0,140.0,0.0,0.0,197.0,0.0],[65.0,0.0,118.0,0.0,50.0,0.0,194000.0,145.0,1.0,1.0,200.0,0.0],[42.0,1.0,86.0,0.0,35.0,0.0,365000.0,139.0,1.0,1.0,201.0,0.0],[47.0,0.0,582.0,0.0,25.0,0.0,130000.0,134.0,1.0,0.0,201.0,0.0],[58.0,0.0,582.0,1.0,25.0,0.0,504000.0,138.0,1.0,0.0,205.0,0.0],[75.0,0.0,675.0,1.0,60.0,0.0,265000.0,125.0,0.0,0.0,205.0,0.0],[58.0,1.0,57.0,0.0,25.0,0.0,189000.0,132.0,1.0,1.0,205.0,0.0],[55.0,1.0,2794.0,0.0,35.0,1.0,141000.0,140.0,1.0,0.0,206.0,0.0],[65.0,0.0,56.0,0.0,25.0,0.0,237000.0,130.0,0.0,0.0,207.0,0.0],[72.0,0.0,211.0,0.0,25.0,0.0,274000.0,134.0,0.0,0.0,207.0,0.0],[70.0,0.0,93.0,0.0,35.0,0.0,185000.0,134.0,1.0,1.0,208.0,0.0],[40.0,1.0,129.0,0.0,35.0,0.0,255000.0,137.0,1.0,0.0,209.0,0.0],[53.0,1.0,707.0,0.0,38.0,0.0,330000.0,137.0,1.0,1.0,209.0,0.0],[53.0,1.0,582.0,0.0,45.0,0.0,305000.0,137.0,1.0,1.0,209.0,0.0],[77.0,1.0,109.0,0.0,50.0,1.0,406000.0,137.0,1.0,0.0,209.0,0.0],[75.0,0.0,119.0,0.0,50.0,1.0,248000.0,148.0,1.0,0.0,209.0,0.0],[70.0,0.0,232.0,0.0,30.0,0.0,173000.0,132.0,1.0,0.0,210.0,0.0],[65.0,1.0,720.0,1.0,40.0,0.0,257000.0,136.0,0.0,0.0,210.0,0.0],[55.0,1.0,180.0,0.0,45.0,0.0,263358.03,137.0,1.0,1.0,211.0,0.0],[70.0,0.0,81.0,1.0,35.0,1.0,533000.0,139.0,0.0,0.0,212.0,0.0],[65.0,0.0,582.0,1.0,30.0,0.0,249000.0,136.0,1.0,1.0,212.0,0.0],[40.0,0.0,90.0,0.0,35.0,0.0,255000.0,136.0,1.0,1.0,212.0,0.0],[73.0,1.0,1185.0,0.0,40.0,1.0,220000.0,141.0,0.0,0.0,213.0,0.0],[54.0,0.0,582.0,1.0,38.0,0.0,264000.0,134.0,1.0,0.0,213.0,0.0],[61.0,1.0,80.0,1.0,38.0,0.0,282000.0,137.0,1.0,0.0,213.0,0.0],[64.0,0.0,143.0,0.0,25.0,0.0,246000.0,135.0,1.0,0.0,214.0,0.0],[40.0,0.0,624.0,0.0,35.0,0.0,301000.0,142.0,1.0,1.0,214.0,0.0],[53.0,0.0,207.0,1.0,40.0,0.0,223000.0,130.0,0.0,0.0,214.0,0.0],[50.0,0.0,2522.0,0.0,30.0,1.0,404000.0,139.0,0.0,0.0,214.0,0.0],[55.0,0.0,572.0,1.0,35.0,0.0,231000.0,143.0,0.0,0.0,215.0,0.0],[50.0,0.0,245.0,0.0,45.0,1.0,274000.0,133.0,1.0,0.0,215.0,0.0],[70.0,0.0,88.0,1.0,35.0,1.0,236000.0,132.0,0.0,0.0,215.0,0.0],[53.0,1.0,446.0,0.0,60.0,1.0,263358.03,139.0,1.0,0.0,215.0,0.0],[52.0,1.0,191.0,1.0,30.0,1.0,334000.0,142.0,1.0,1.0,216.0,0.0],[65.0,0.0,326.0,0.0,38.0,0.0,294000.0,139.0,0.0,0.0,220.0,0.0],[58.0,0.0,132.0,1.0,38.0,1.0,253000.0,139.0,1.0,0.0,230.0,0.0],[45.0,1.0,66.0,1.0,25.0,0.0,233000.0,135.0,1.0,0.0,230.0,0.0],[53.0,0.0,56.0,0.0,50.0,0.0,308000.0,135.0,1.0,1.0,231.0,0.0],[55.0,0.0,66.0,0.0,40.0,0.0,203000.0,138.0,1.0,0.0,233.0,0.0],[62.0,1.0,655.0,0.0,40.0,0.0,283000.0,133.0,0.0,0.0,233.0,0.0],[68.0,1.0,157.0,1.0,60.0,0.0,208000.0,140.0,0.0,0.0,237.0,0.0],[61.0,0.0,582.0,1.0,38.0,0.0,147000.0,141.0,1.0,0.0,237.0,0.0],[50.0,1.0,298.0,0.0,35.0,0.0,362000.0,140.0,1.0,1.0,240.0,0.0],[56.0,1.0,135.0,1.0,38.0,0.0,133000.0,140.0,1.0,0.0,244.0,0.0],[45.0,0.0,582.0,1.0,38.0,0.0,302000.0,140.0,0.0,0.0,244.0,0.0],[40.0,0.0,582.0,1.0,35.0,0.0,222000.0,132.0,1.0,0.0,244.0,0.0],[44.0,0.0,582.0,1.0,30.0,1.0,263358.03,130.0,1.0,1.0,244.0,0.0],[51.0,0.0,582.0,1.0,40.0,0.0,221000.0,134.0,0.0,0.0,244.0,0.0],[67.0,0.0,213.0,0.0,38.0,0.0,215000.0,133.0,0.0,0.0,245.0,0.0],[42.0,0.0,64.0,0.0,40.0,0.0,189000.0,140.0,1.0,0.0,245.0,0.0],[60.0,1.0,257.0,1.0,30.0,0.0,150000.0,137.0,1.0,1.0,245.0,0.0],[45.0,0.0,582.0,0.0,38.0,1.0,422000.0,137.0,0.0,0.0,245.0,0.0],[70.0,0.0,618.0,0.0,35.0,0.0,327000.0,142.0,0.0,0.0,245.0,0.0],[70.0,0.0,582.0,1.0,38.0,0.0,25100.0,140.0,1.0,0.0,246.0,0.0],[50.0,1.0,1051.0,1.0,30.0,0.0,232000.0,136.0,0.0,0.0,246.0,0.0],[55.0,0.0,84.0,1.0,38.0,0.0,451000.0,136.0,0.0,0.0,246.0,0.0],[70.0,0.0,2695.0,1.0,40.0,0.0,241000.0,137.0,1.0,0.0,247.0,0.0],[70.0,0.0,582.0,0.0,40.0,0.0,51000.0,136.0,1.0,1.0,250.0,0.0],[42.0,0.0,64.0,0.0,30.0,0.0,215000.0,128.0,1.0,1.0,250.0,0.0],[65.0,0.0,1688.0,0.0,38.0,0.0,263358.03,138.0,1.0,1.0,250.0,0.0],[50.0,1.0,54.0,0.0,40.0,0.0,279000.0,141.0,1.0,0.0,250.0,0.0],[55.0,1.0,170.0,1.0,40.0,0.0,336000.0,135.0,1.0,0.0,250.0,0.0],[60.0,0.0,253.0,0.0,35.0,0.0,279000.0,140.0,1.0,0.0,250.0,0.0],[45.0,0.0,582.0,1.0,55.0,0.0,543000.0,132.0,0.0,0.0,250.0,0.0],[65.0,0.0,892.0,1.0,35.0,0.0,263358.03,142.0,0.0,0.0,256.0,0.0],[90.0,1.0,337.0,0.0,38.0,0.0,390000.0,144.0,0.0,0.0,256.0,0.0],[45.0,0.0,615.0,1.0,55.0,0.0,222000.0,141.0,0.0,0.0,257.0,0.0],[60.0,0.0,320.0,0.0,35.0,0.0,133000.0,139.0,1.0,0.0,258.0,0.0],[52.0,0.0,190.0,1.0,38.0,0.0,382000.0,140.0,1.0,1.0,258.0,0.0],[63.0,1.0,103.0,1.0,35.0,0.0,179000.0,136.0,1.0,1.0,270.0,0.0],[62.0,0.0,61.0,1.0,38.0,1.0,155000.0,143.0,1.0,1.0,270.0,0.0],[55.0,0.0,1820.0,0.0,38.0,0.0,270000.0,139.0,0.0,0.0,271.0,0.0],[45.0,0.0,2060.0,1.0,60.0,0.0,742000.0,138.0,0.0,0.0,278.0,0.0],[45.0,0.0,2413.0,0.0,38.0,0.0,140000.0,140.0,1.0,1.0,280.0,0.0],[50.0,0.0,196.0,0.0,45.0,0.0,395000.0,136.0,1.0,1.0,285.0,0.0]],\"hovertemplate\":\"DEATH_EVENT=%{customdata[11]}<br>Serum Creatinine=%{x}<br>age=%{customdata[0]}<br>anaemia=%{customdata[1]}<br>creatinine_phosphokinase=%{customdata[2]}<br>diabetes=%{customdata[3]}<br>ejection_fraction=%{customdata[4]}<br>high_blood_pressure=%{customdata[5]}<br>platelets=%{customdata[6]}<br>serum_sodium=%{customdata[7]}<br>sex=%{customdata[8]}<br>smoking=%{customdata[9]}<br>time=%{customdata[10]}<extra></extra>\",\"legendgroup\":\"0\",\"marker\":{\"color\":\"#EF553B\"},\"name\":\"0\",\"offsetgroup\":\"0\",\"scalegroup\":\"x\",\"showlegend\":false,\"x\":[1.0,1.3,0.8,1.2,2.3,1.0,2.7,0.6,1.1,0.8,0.9,1.3,0.8,1.2,0.6,0.9,1.7,1.18,1.8,0.7,1.1,0.8,0.7,1.1,0.8,1.0,1.18,0.7,1.0,1.3,1.1,1.2,1.1,1.1,1.18,1.1,1.0,2.3,1.3,0.9,1.1,1.3,1.2,1.6,1.2,1.0,0.7,3.2,0.9,1.5,1.0,0.75,0.9,1.3,0.8,0.7,3.4,0.7,6.1,1.18,1.3,1.18,1.18,0.9,2.1,1.0,0.8,0.9,0.9,0.9,0.7,0.7,1.0,0.9,0.9,0.9,1.18,0.8,1.7,1.4,1.0,1.3,1.1,1.2,0.8,0.9,0.7,1.0,0.8,1.5,0.9,1.1,0.8,0.9,1.0,1.0,1.0,1.2,0.7,0.9,1.0,0.9,2.1,1.5,0.7,1.18,1.18,0.8,1.0,1.8,0.7,1.0,0.9,3.5,0.7,1.0,0.8,0.9,1.0,0.8,1.0,0.8,1.4,0.8,1.3,0.9,1.1,0.7,1.1,1.1,0.8,1.0,1.4,1.3,1.0,5.0,1.2,1.1,0.9,1.4,1.1,1.1,1.1,1.2,1.0,1.18,1.3,1.3,1.1,0.9,1.8,1.4,2.4,1.0,1.2,0.5,0.8,1.0,1.2,1.0,1.0,1.7,1.0,0.8,0.7,1.0,0.7,1.0,1.2,0.9,1.7,0.9,1.0,1.6,0.9,1.2,0.7,1.0,0.8,1.1,1.1,0.7,1.3,1.0,2.7,3.8,1.1,0.8,1.2,1.7,1.0,1.1,0.9,0.8,1.4,1.0,0.9,1.1,1.2,0.8,1.4,1.6],\"xaxis\":\"x2\",\"yaxis\":\"y2\",\"type\":\"violin\"}],                        {\"template\":{\"data\":{\"barpolar\":[{\"marker\":{\"line\":{\"color\":\"rgb(17,17,17)\",\"width\":0.5},\"pattern\":{\"fillmode\":\"overlay\",\"size\":10,\"solidity\":0.2}},\"type\":\"barpolar\"}],\"bar\":[{\"error_x\":{\"color\":\"#f2f5fa\"},\"error_y\":{\"color\":\"#f2f5fa\"},\"marker\":{\"line\":{\"color\":\"rgb(17,17,17)\",\"width\":0.5},\"pattern\":{\"fillmode\":\"overlay\",\"size\":10,\"solidity\":0.2}},\"type\":\"bar\"}],\"carpet\":[{\"aaxis\":{\"endlinecolor\":\"#A2B1C6\",\"gridcolor\":\"#506784\",\"linecolor\":\"#506784\",\"minorgridcolor\":\"#506784\",\"startlinecolor\":\"#A2B1C6\"},\"baxis\":{\"endlinecolor\":\"#A2B1C6\",\"gridcolor\":\"#506784\",\"linecolor\":\"#506784\",\"minorgridcolor\":\"#506784\",\"startlinecolor\":\"#A2B1C6\"},\"type\":\"carpet\"}],\"choropleth\":[{\"colorbar\":{\"outlinewidth\":0,\"ticks\":\"\"},\"type\":\"choropleth\"}],\"contourcarpet\":[{\"colorbar\":{\"outlinewidth\":0,\"ticks\":\"\"},\"type\":\"contourcarpet\"}],\"contour\":[{\"colorbar\":{\"outlinewidth\":0,\"ticks\":\"\"},\"colorscale\":[[0.0,\"#0d0887\"],[0.1111111111111111,\"#46039f\"],[0.2222222222222222,\"#7201a8\"],[0.3333333333333333,\"#9c179e\"],[0.4444444444444444,\"#bd3786\"],[0.5555555555555556,\"#d8576b\"],[0.6666666666666666,\"#ed7953\"],[0.7777777777777778,\"#fb9f3a\"],[0.8888888888888888,\"#fdca26\"],[1.0,\"#f0f921\"]],\"type\":\"contour\"}],\"heatmapgl\":[{\"colorbar\":{\"outlinewidth\":0,\"ticks\":\"\"},\"colorscale\":[[0.0,\"#0d0887\"],[0.1111111111111111,\"#46039f\"],[0.2222222222222222,\"#7201a8\"],[0.3333333333333333,\"#9c179e\"],[0.4444444444444444,\"#bd3786\"],[0.5555555555555556,\"#d8576b\"],[0.6666666666666666,\"#ed7953\"],[0.7777777777777778,\"#fb9f3a\"],[0.8888888888888888,\"#fdca26\"],[1.0,\"#f0f921\"]],\"type\":\"heatmapgl\"}],\"heatmap\":[{\"colorbar\":{\"outlinewidth\":0,\"ticks\":\"\"},\"colorscale\":[[0.0,\"#0d0887\"],[0.1111111111111111,\"#46039f\"],[0.2222222222222222,\"#7201a8\"],[0.3333333333333333,\"#9c179e\"],[0.4444444444444444,\"#bd3786\"],[0.5555555555555556,\"#d8576b\"],[0.6666666666666666,\"#ed7953\"],[0.7777777777777778,\"#fb9f3a\"],[0.8888888888888888,\"#fdca26\"],[1.0,\"#f0f921\"]],\"type\":\"heatmap\"}],\"histogram2dcontour\":[{\"colorbar\":{\"outlinewidth\":0,\"ticks\":\"\"},\"colorscale\":[[0.0,\"#0d0887\"],[0.1111111111111111,\"#46039f\"],[0.2222222222222222,\"#7201a8\"],[0.3333333333333333,\"#9c179e\"],[0.4444444444444444,\"#bd3786\"],[0.5555555555555556,\"#d8576b\"],[0.6666666666666666,\"#ed7953\"],[0.7777777777777778,\"#fb9f3a\"],[0.8888888888888888,\"#fdca26\"],[1.0,\"#f0f921\"]],\"type\":\"histogram2dcontour\"}],\"histogram2d\":[{\"colorbar\":{\"outlinewidth\":0,\"ticks\":\"\"},\"colorscale\":[[0.0,\"#0d0887\"],[0.1111111111111111,\"#46039f\"],[0.2222222222222222,\"#7201a8\"],[0.3333333333333333,\"#9c179e\"],[0.4444444444444444,\"#bd3786\"],[0.5555555555555556,\"#d8576b\"],[0.6666666666666666,\"#ed7953\"],[0.7777777777777778,\"#fb9f3a\"],[0.8888888888888888,\"#fdca26\"],[1.0,\"#f0f921\"]],\"type\":\"histogram2d\"}],\"histogram\":[{\"marker\":{\"pattern\":{\"fillmode\":\"overlay\",\"size\":10,\"solidity\":0.2}},\"type\":\"histogram\"}],\"mesh3d\":[{\"colorbar\":{\"outlinewidth\":0,\"ticks\":\"\"},\"type\":\"mesh3d\"}],\"parcoords\":[{\"line\":{\"colorbar\":{\"outlinewidth\":0,\"ticks\":\"\"}},\"type\":\"parcoords\"}],\"pie\":[{\"automargin\":true,\"type\":\"pie\"}],\"scatter3d\":[{\"line\":{\"colorbar\":{\"outlinewidth\":0,\"ticks\":\"\"}},\"marker\":{\"colorbar\":{\"outlinewidth\":0,\"ticks\":\"\"}},\"type\":\"scatter3d\"}],\"scattercarpet\":[{\"marker\":{\"colorbar\":{\"outlinewidth\":0,\"ticks\":\"\"}},\"type\":\"scattercarpet\"}],\"scattergeo\":[{\"marker\":{\"colorbar\":{\"outlinewidth\":0,\"ticks\":\"\"}},\"type\":\"scattergeo\"}],\"scattergl\":[{\"marker\":{\"line\":{\"color\":\"#283442\"}},\"type\":\"scattergl\"}],\"scattermapbox\":[{\"marker\":{\"colorbar\":{\"outlinewidth\":0,\"ticks\":\"\"}},\"type\":\"scattermapbox\"}],\"scatterpolargl\":[{\"marker\":{\"colorbar\":{\"outlinewidth\":0,\"ticks\":\"\"}},\"type\":\"scatterpolargl\"}],\"scatterpolar\":[{\"marker\":{\"colorbar\":{\"outlinewidth\":0,\"ticks\":\"\"}},\"type\":\"scatterpolar\"}],\"scatter\":[{\"marker\":{\"line\":{\"color\":\"#283442\"}},\"type\":\"scatter\"}],\"scatterternary\":[{\"marker\":{\"colorbar\":{\"outlinewidth\":0,\"ticks\":\"\"}},\"type\":\"scatterternary\"}],\"surface\":[{\"colorbar\":{\"outlinewidth\":0,\"ticks\":\"\"},\"colorscale\":[[0.0,\"#0d0887\"],[0.1111111111111111,\"#46039f\"],[0.2222222222222222,\"#7201a8\"],[0.3333333333333333,\"#9c179e\"],[0.4444444444444444,\"#bd3786\"],[0.5555555555555556,\"#d8576b\"],[0.6666666666666666,\"#ed7953\"],[0.7777777777777778,\"#fb9f3a\"],[0.8888888888888888,\"#fdca26\"],[1.0,\"#f0f921\"]],\"type\":\"surface\"}],\"table\":[{\"cells\":{\"fill\":{\"color\":\"#506784\"},\"line\":{\"color\":\"rgb(17,17,17)\"}},\"header\":{\"fill\":{\"color\":\"#2a3f5f\"},\"line\":{\"color\":\"rgb(17,17,17)\"}},\"type\":\"table\"}]},\"layout\":{\"annotationdefaults\":{\"arrowcolor\":\"#f2f5fa\",\"arrowhead\":0,\"arrowwidth\":1},\"autotypenumbers\":\"strict\",\"coloraxis\":{\"colorbar\":{\"outlinewidth\":0,\"ticks\":\"\"}},\"colorscale\":{\"diverging\":[[0,\"#8e0152\"],[0.1,\"#c51b7d\"],[0.2,\"#de77ae\"],[0.3,\"#f1b6da\"],[0.4,\"#fde0ef\"],[0.5,\"#f7f7f7\"],[0.6,\"#e6f5d0\"],[0.7,\"#b8e186\"],[0.8,\"#7fbc41\"],[0.9,\"#4d9221\"],[1,\"#276419\"]],\"sequential\":[[0.0,\"#0d0887\"],[0.1111111111111111,\"#46039f\"],[0.2222222222222222,\"#7201a8\"],[0.3333333333333333,\"#9c179e\"],[0.4444444444444444,\"#bd3786\"],[0.5555555555555556,\"#d8576b\"],[0.6666666666666666,\"#ed7953\"],[0.7777777777777778,\"#fb9f3a\"],[0.8888888888888888,\"#fdca26\"],[1.0,\"#f0f921\"]],\"sequentialminus\":[[0.0,\"#0d0887\"],[0.1111111111111111,\"#46039f\"],[0.2222222222222222,\"#7201a8\"],[0.3333333333333333,\"#9c179e\"],[0.4444444444444444,\"#bd3786\"],[0.5555555555555556,\"#d8576b\"],[0.6666666666666666,\"#ed7953\"],[0.7777777777777778,\"#fb9f3a\"],[0.8888888888888888,\"#fdca26\"],[1.0,\"#f0f921\"]]},\"colorway\":[\"#636efa\",\"#EF553B\",\"#00cc96\",\"#ab63fa\",\"#FFA15A\",\"#19d3f3\",\"#FF6692\",\"#B6E880\",\"#FF97FF\",\"#FECB52\"],\"font\":{\"color\":\"#f2f5fa\"},\"geo\":{\"bgcolor\":\"rgb(17,17,17)\",\"lakecolor\":\"rgb(17,17,17)\",\"landcolor\":\"rgb(17,17,17)\",\"showlakes\":true,\"showland\":true,\"subunitcolor\":\"#506784\"},\"hoverlabel\":{\"align\":\"left\"},\"hovermode\":\"closest\",\"mapbox\":{\"style\":\"dark\"},\"paper_bgcolor\":\"rgb(17,17,17)\",\"plot_bgcolor\":\"rgb(17,17,17)\",\"polar\":{\"angularaxis\":{\"gridcolor\":\"#506784\",\"linecolor\":\"#506784\",\"ticks\":\"\"},\"bgcolor\":\"rgb(17,17,17)\",\"radialaxis\":{\"gridcolor\":\"#506784\",\"linecolor\":\"#506784\",\"ticks\":\"\"}},\"scene\":{\"xaxis\":{\"backgroundcolor\":\"rgb(17,17,17)\",\"gridcolor\":\"#506784\",\"gridwidth\":2,\"linecolor\":\"#506784\",\"showbackground\":true,\"ticks\":\"\",\"zerolinecolor\":\"#C8D4E3\"},\"yaxis\":{\"backgroundcolor\":\"rgb(17,17,17)\",\"gridcolor\":\"#506784\",\"gridwidth\":2,\"linecolor\":\"#506784\",\"showbackground\":true,\"ticks\":\"\",\"zerolinecolor\":\"#C8D4E3\"},\"zaxis\":{\"backgroundcolor\":\"rgb(17,17,17)\",\"gridcolor\":\"#506784\",\"gridwidth\":2,\"linecolor\":\"#506784\",\"showbackground\":true,\"ticks\":\"\",\"zerolinecolor\":\"#C8D4E3\"}},\"shapedefaults\":{\"line\":{\"color\":\"#f2f5fa\"}},\"sliderdefaults\":{\"bgcolor\":\"#C8D4E3\",\"bordercolor\":\"rgb(17,17,17)\",\"borderwidth\":1,\"tickwidth\":0},\"ternary\":{\"aaxis\":{\"gridcolor\":\"#506784\",\"linecolor\":\"#506784\",\"ticks\":\"\"},\"baxis\":{\"gridcolor\":\"#506784\",\"linecolor\":\"#506784\",\"ticks\":\"\"},\"bgcolor\":\"rgb(17,17,17)\",\"caxis\":{\"gridcolor\":\"#506784\",\"linecolor\":\"#506784\",\"ticks\":\"\"}},\"title\":{\"x\":0.05},\"updatemenudefaults\":{\"bgcolor\":\"#506784\",\"borderwidth\":0},\"xaxis\":{\"automargin\":true,\"gridcolor\":\"#283442\",\"linecolor\":\"#506784\",\"ticks\":\"\",\"title\":{\"standoff\":15},\"zerolinecolor\":\"#283442\",\"zerolinewidth\":2},\"yaxis\":{\"automargin\":true,\"gridcolor\":\"#283442\",\"linecolor\":\"#506784\",\"ticks\":\"\",\"title\":{\"standoff\":15},\"zerolinecolor\":\"#283442\",\"zerolinewidth\":2}}},\"xaxis\":{\"anchor\":\"y\",\"domain\":[0.0,1.0],\"title\":{\"text\":\"Serum Creatinine\"}},\"yaxis\":{\"anchor\":\"x\",\"domain\":[0.0,0.7326],\"title\":{\"text\":\"count\"}},\"xaxis2\":{\"anchor\":\"y2\",\"domain\":[0.0,1.0],\"matches\":\"x\",\"showticklabels\":false,\"showgrid\":true},\"yaxis2\":{\"anchor\":\"x2\",\"domain\":[0.7426,1.0],\"matches\":\"y2\",\"showticklabels\":false,\"showline\":false,\"ticks\":\"\",\"showgrid\":false},\"legend\":{\"title\":{\"text\":\"DEATH_EVENT\"},\"tracegroupgap\":0},\"title\":{\"text\":\"Distribution of Serum Creatinine by DEATH_EVENT\"},\"barmode\":\"relative\"},                        {\"responsive\": true}                    ).then(function(){\n",
       "                            \n",
       "var gd = document.getElementById('5737b8ad-0f13-439e-aa5c-d7edb68bf1aa');\n",
       "var x = new MutationObserver(function (mutations, observer) {{\n",
       "        var display = window.getComputedStyle(gd).display;\n",
       "        if (!display || display === 'none') {{\n",
       "            console.log([gd, 'removed!']);\n",
       "            Plotly.purge(gd);\n",
       "            observer.disconnect();\n",
       "        }}\n",
       "}});\n",
       "\n",
       "// Listen for the removal of the full notebook cells\n",
       "var notebookContainer = gd.closest('#notebook-container');\n",
       "if (notebookContainer) {{\n",
       "    x.observe(notebookContainer, {childList: true});\n",
       "}}\n",
       "\n",
       "// Listen for the clearing of the current output cell\n",
       "var outputEl = gd.closest('.output');\n",
       "if (outputEl) {{\n",
       "    x.observe(outputEl, {childList: true});\n",
       "}}\n",
       "\n",
       "                        })                };                });            </script>        </div>"
      ]
     },
     "metadata": {},
     "output_type": "display_data"
    }
   ],
   "source": [
    "# Distribution of serum_creatinine by death_event\n",
    "\n",
    "fig = px.histogram(dataset, \n",
    "                   x = 'serum_creatinine',\n",
    "                   color = 'DEATH_EVENT',\n",
    "                   marginal = 'violin',\n",
    "                   hover_data = dataset.columns,\n",
    "                   title = 'Distribution of Serum Creatinine by DEATH_EVENT',\n",
    "                   labels = {'serum_creatinine': 'Serum Creatinine'},\n",
    "                   template = 'plotly_dark'\n",
    "                  )\n",
    "fig.show()"
   ]
  },
  {
   "cell_type": "code",
   "execution_count": 42,
   "id": "98b88d01",
   "metadata": {},
   "outputs": [
    {
     "data": {
      "application/vnd.plotly.v1+json": {
       "config": {
        "plotlyServerURL": "https://plot.ly"
       },
       "data": [
        {
         "domain": {
          "x": [
           0,
           0.45
          ],
          "y": [
           0,
           1
          ]
         },
         "hole": 0.4,
         "hoverinfo": "label+percent",
         "labels": [
          "Male",
          "Female"
         ],
         "name": "Gender",
         "type": "pie",
         "values": [
          194,
          103
         ]
        },
        {
         "domain": {
          "x": [
           0.55,
           1
          ],
          "y": [
           0,
           1
          ]
         },
         "hole": 0.4,
         "hoverinfo": "label+percent",
         "labels": [
          "Male - Survived",
          "Male - Died",
          "Female - Survived",
          "Female - Died"
         ],
         "name": "Gender by Death Event",
         "type": "pie",
         "values": [
          132,
          62,
          70,
          33
         ]
        }
       ],
       "layout": {
        "annotations": [
         {
          "font": {
           "size": 10
          },
          "showarrow": false,
          "text": "Gender",
          "x": 0.19,
          "y": 0.5
         },
         {
          "font": {
           "size": 9
          },
          "showarrow": false,
          "text": "Gender by Death Event",
          "x": 0.84,
          "y": 0.5
         }
        ],
        "autosize": false,
        "height": 500,
        "paper_bgcolor": "white",
        "template": {
         "data": {
          "bar": [
           {
            "error_x": {
             "color": "#2a3f5f"
            },
            "error_y": {
             "color": "#2a3f5f"
            },
            "marker": {
             "line": {
              "color": "#E5ECF6",
              "width": 0.5
             },
             "pattern": {
              "fillmode": "overlay",
              "size": 10,
              "solidity": 0.2
             }
            },
            "type": "bar"
           }
          ],
          "barpolar": [
           {
            "marker": {
             "line": {
              "color": "#E5ECF6",
              "width": 0.5
             },
             "pattern": {
              "fillmode": "overlay",
              "size": 10,
              "solidity": 0.2
             }
            },
            "type": "barpolar"
           }
          ],
          "carpet": [
           {
            "aaxis": {
             "endlinecolor": "#2a3f5f",
             "gridcolor": "white",
             "linecolor": "white",
             "minorgridcolor": "white",
             "startlinecolor": "#2a3f5f"
            },
            "baxis": {
             "endlinecolor": "#2a3f5f",
             "gridcolor": "white",
             "linecolor": "white",
             "minorgridcolor": "white",
             "startlinecolor": "#2a3f5f"
            },
            "type": "carpet"
           }
          ],
          "choropleth": [
           {
            "colorbar": {
             "outlinewidth": 0,
             "ticks": ""
            },
            "type": "choropleth"
           }
          ],
          "contour": [
           {
            "colorbar": {
             "outlinewidth": 0,
             "ticks": ""
            },
            "colorscale": [
             [
              0,
              "#0d0887"
             ],
             [
              0.1111111111111111,
              "#46039f"
             ],
             [
              0.2222222222222222,
              "#7201a8"
             ],
             [
              0.3333333333333333,
              "#9c179e"
             ],
             [
              0.4444444444444444,
              "#bd3786"
             ],
             [
              0.5555555555555556,
              "#d8576b"
             ],
             [
              0.6666666666666666,
              "#ed7953"
             ],
             [
              0.7777777777777778,
              "#fb9f3a"
             ],
             [
              0.8888888888888888,
              "#fdca26"
             ],
             [
              1,
              "#f0f921"
             ]
            ],
            "type": "contour"
           }
          ],
          "contourcarpet": [
           {
            "colorbar": {
             "outlinewidth": 0,
             "ticks": ""
            },
            "type": "contourcarpet"
           }
          ],
          "heatmap": [
           {
            "colorbar": {
             "outlinewidth": 0,
             "ticks": ""
            },
            "colorscale": [
             [
              0,
              "#0d0887"
             ],
             [
              0.1111111111111111,
              "#46039f"
             ],
             [
              0.2222222222222222,
              "#7201a8"
             ],
             [
              0.3333333333333333,
              "#9c179e"
             ],
             [
              0.4444444444444444,
              "#bd3786"
             ],
             [
              0.5555555555555556,
              "#d8576b"
             ],
             [
              0.6666666666666666,
              "#ed7953"
             ],
             [
              0.7777777777777778,
              "#fb9f3a"
             ],
             [
              0.8888888888888888,
              "#fdca26"
             ],
             [
              1,
              "#f0f921"
             ]
            ],
            "type": "heatmap"
           }
          ],
          "heatmapgl": [
           {
            "colorbar": {
             "outlinewidth": 0,
             "ticks": ""
            },
            "colorscale": [
             [
              0,
              "#0d0887"
             ],
             [
              0.1111111111111111,
              "#46039f"
             ],
             [
              0.2222222222222222,
              "#7201a8"
             ],
             [
              0.3333333333333333,
              "#9c179e"
             ],
             [
              0.4444444444444444,
              "#bd3786"
             ],
             [
              0.5555555555555556,
              "#d8576b"
             ],
             [
              0.6666666666666666,
              "#ed7953"
             ],
             [
              0.7777777777777778,
              "#fb9f3a"
             ],
             [
              0.8888888888888888,
              "#fdca26"
             ],
             [
              1,
              "#f0f921"
             ]
            ],
            "type": "heatmapgl"
           }
          ],
          "histogram": [
           {
            "marker": {
             "pattern": {
              "fillmode": "overlay",
              "size": 10,
              "solidity": 0.2
             }
            },
            "type": "histogram"
           }
          ],
          "histogram2d": [
           {
            "colorbar": {
             "outlinewidth": 0,
             "ticks": ""
            },
            "colorscale": [
             [
              0,
              "#0d0887"
             ],
             [
              0.1111111111111111,
              "#46039f"
             ],
             [
              0.2222222222222222,
              "#7201a8"
             ],
             [
              0.3333333333333333,
              "#9c179e"
             ],
             [
              0.4444444444444444,
              "#bd3786"
             ],
             [
              0.5555555555555556,
              "#d8576b"
             ],
             [
              0.6666666666666666,
              "#ed7953"
             ],
             [
              0.7777777777777778,
              "#fb9f3a"
             ],
             [
              0.8888888888888888,
              "#fdca26"
             ],
             [
              1,
              "#f0f921"
             ]
            ],
            "type": "histogram2d"
           }
          ],
          "histogram2dcontour": [
           {
            "colorbar": {
             "outlinewidth": 0,
             "ticks": ""
            },
            "colorscale": [
             [
              0,
              "#0d0887"
             ],
             [
              0.1111111111111111,
              "#46039f"
             ],
             [
              0.2222222222222222,
              "#7201a8"
             ],
             [
              0.3333333333333333,
              "#9c179e"
             ],
             [
              0.4444444444444444,
              "#bd3786"
             ],
             [
              0.5555555555555556,
              "#d8576b"
             ],
             [
              0.6666666666666666,
              "#ed7953"
             ],
             [
              0.7777777777777778,
              "#fb9f3a"
             ],
             [
              0.8888888888888888,
              "#fdca26"
             ],
             [
              1,
              "#f0f921"
             ]
            ],
            "type": "histogram2dcontour"
           }
          ],
          "mesh3d": [
           {
            "colorbar": {
             "outlinewidth": 0,
             "ticks": ""
            },
            "type": "mesh3d"
           }
          ],
          "parcoords": [
           {
            "line": {
             "colorbar": {
              "outlinewidth": 0,
              "ticks": ""
             }
            },
            "type": "parcoords"
           }
          ],
          "pie": [
           {
            "automargin": true,
            "type": "pie"
           }
          ],
          "scatter": [
           {
            "fillpattern": {
             "fillmode": "overlay",
             "size": 10,
             "solidity": 0.2
            },
            "type": "scatter"
           }
          ],
          "scatter3d": [
           {
            "line": {
             "colorbar": {
              "outlinewidth": 0,
              "ticks": ""
             }
            },
            "marker": {
             "colorbar": {
              "outlinewidth": 0,
              "ticks": ""
             }
            },
            "type": "scatter3d"
           }
          ],
          "scattercarpet": [
           {
            "marker": {
             "colorbar": {
              "outlinewidth": 0,
              "ticks": ""
             }
            },
            "type": "scattercarpet"
           }
          ],
          "scattergeo": [
           {
            "marker": {
             "colorbar": {
              "outlinewidth": 0,
              "ticks": ""
             }
            },
            "type": "scattergeo"
           }
          ],
          "scattergl": [
           {
            "marker": {
             "colorbar": {
              "outlinewidth": 0,
              "ticks": ""
             }
            },
            "type": "scattergl"
           }
          ],
          "scattermapbox": [
           {
            "marker": {
             "colorbar": {
              "outlinewidth": 0,
              "ticks": ""
             }
            },
            "type": "scattermapbox"
           }
          ],
          "scatterpolar": [
           {
            "marker": {
             "colorbar": {
              "outlinewidth": 0,
              "ticks": ""
             }
            },
            "type": "scatterpolar"
           }
          ],
          "scatterpolargl": [
           {
            "marker": {
             "colorbar": {
              "outlinewidth": 0,
              "ticks": ""
             }
            },
            "type": "scatterpolargl"
           }
          ],
          "scatterternary": [
           {
            "marker": {
             "colorbar": {
              "outlinewidth": 0,
              "ticks": ""
             }
            },
            "type": "scatterternary"
           }
          ],
          "surface": [
           {
            "colorbar": {
             "outlinewidth": 0,
             "ticks": ""
            },
            "colorscale": [
             [
              0,
              "#0d0887"
             ],
             [
              0.1111111111111111,
              "#46039f"
             ],
             [
              0.2222222222222222,
              "#7201a8"
             ],
             [
              0.3333333333333333,
              "#9c179e"
             ],
             [
              0.4444444444444444,
              "#bd3786"
             ],
             [
              0.5555555555555556,
              "#d8576b"
             ],
             [
              0.6666666666666666,
              "#ed7953"
             ],
             [
              0.7777777777777778,
              "#fb9f3a"
             ],
             [
              0.8888888888888888,
              "#fdca26"
             ],
             [
              1,
              "#f0f921"
             ]
            ],
            "type": "surface"
           }
          ],
          "table": [
           {
            "cells": {
             "fill": {
              "color": "#EBF0F8"
             },
             "line": {
              "color": "white"
             }
            },
            "header": {
             "fill": {
              "color": "#C8D4E3"
             },
             "line": {
              "color": "white"
             }
            },
            "type": "table"
           }
          ]
         },
         "layout": {
          "annotationdefaults": {
           "arrowcolor": "#2a3f5f",
           "arrowhead": 0,
           "arrowwidth": 1
          },
          "autotypenumbers": "strict",
          "coloraxis": {
           "colorbar": {
            "outlinewidth": 0,
            "ticks": ""
           }
          },
          "colorscale": {
           "diverging": [
            [
             0,
             "#8e0152"
            ],
            [
             0.1,
             "#c51b7d"
            ],
            [
             0.2,
             "#de77ae"
            ],
            [
             0.3,
             "#f1b6da"
            ],
            [
             0.4,
             "#fde0ef"
            ],
            [
             0.5,
             "#f7f7f7"
            ],
            [
             0.6,
             "#e6f5d0"
            ],
            [
             0.7,
             "#b8e186"
            ],
            [
             0.8,
             "#7fbc41"
            ],
            [
             0.9,
             "#4d9221"
            ],
            [
             1,
             "#276419"
            ]
           ],
           "sequential": [
            [
             0,
             "#0d0887"
            ],
            [
             0.1111111111111111,
             "#46039f"
            ],
            [
             0.2222222222222222,
             "#7201a8"
            ],
            [
             0.3333333333333333,
             "#9c179e"
            ],
            [
             0.4444444444444444,
             "#bd3786"
            ],
            [
             0.5555555555555556,
             "#d8576b"
            ],
            [
             0.6666666666666666,
             "#ed7953"
            ],
            [
             0.7777777777777778,
             "#fb9f3a"
            ],
            [
             0.8888888888888888,
             "#fdca26"
            ],
            [
             1,
             "#f0f921"
            ]
           ],
           "sequentialminus": [
            [
             0,
             "#0d0887"
            ],
            [
             0.1111111111111111,
             "#46039f"
            ],
            [
             0.2222222222222222,
             "#7201a8"
            ],
            [
             0.3333333333333333,
             "#9c179e"
            ],
            [
             0.4444444444444444,
             "#bd3786"
            ],
            [
             0.5555555555555556,
             "#d8576b"
            ],
            [
             0.6666666666666666,
             "#ed7953"
            ],
            [
             0.7777777777777778,
             "#fb9f3a"
            ],
            [
             0.8888888888888888,
             "#fdca26"
            ],
            [
             1,
             "#f0f921"
            ]
           ]
          },
          "colorway": [
           "#636efa",
           "#EF553B",
           "#00cc96",
           "#ab63fa",
           "#FFA15A",
           "#19d3f3",
           "#FF6692",
           "#B6E880",
           "#FF97FF",
           "#FECB52"
          ],
          "font": {
           "color": "#2a3f5f"
          },
          "geo": {
           "bgcolor": "white",
           "lakecolor": "white",
           "landcolor": "#E5ECF6",
           "showlakes": true,
           "showland": true,
           "subunitcolor": "white"
          },
          "hoverlabel": {
           "align": "left"
          },
          "hovermode": "closest",
          "mapbox": {
           "style": "light"
          },
          "paper_bgcolor": "white",
          "plot_bgcolor": "#E5ECF6",
          "polar": {
           "angularaxis": {
            "gridcolor": "white",
            "linecolor": "white",
            "ticks": ""
           },
           "bgcolor": "#E5ECF6",
           "radialaxis": {
            "gridcolor": "white",
            "linecolor": "white",
            "ticks": ""
           }
          },
          "scene": {
           "xaxis": {
            "backgroundcolor": "#E5ECF6",
            "gridcolor": "white",
            "gridwidth": 2,
            "linecolor": "white",
            "showbackground": true,
            "ticks": "",
            "zerolinecolor": "white"
           },
           "yaxis": {
            "backgroundcolor": "#E5ECF6",
            "gridcolor": "white",
            "gridwidth": 2,
            "linecolor": "white",
            "showbackground": true,
            "ticks": "",
            "zerolinecolor": "white"
           },
           "zaxis": {
            "backgroundcolor": "#E5ECF6",
            "gridcolor": "white",
            "gridwidth": 2,
            "linecolor": "white",
            "showbackground": true,
            "ticks": "",
            "zerolinecolor": "white"
           }
          },
          "shapedefaults": {
           "line": {
            "color": "#2a3f5f"
           }
          },
          "ternary": {
           "aaxis": {
            "gridcolor": "white",
            "linecolor": "white",
            "ticks": ""
           },
           "baxis": {
            "gridcolor": "white",
            "linecolor": "white",
            "ticks": ""
           },
           "bgcolor": "#E5ECF6",
           "caxis": {
            "gridcolor": "white",
            "linecolor": "white",
            "ticks": ""
           }
          },
          "title": {
           "x": 0.05
          },
          "xaxis": {
           "automargin": true,
           "gridcolor": "white",
           "linecolor": "white",
           "ticks": "",
           "title": {
            "standoff": 15
           },
           "zerolinecolor": "white",
           "zerolinewidth": 2
          },
          "yaxis": {
           "automargin": true,
           "gridcolor": "white",
           "linecolor": "white",
           "ticks": "",
           "title": {
            "standoff": 15
           },
           "zerolinecolor": "white",
           "zerolinewidth": 2
          }
         }
        },
        "title": {
         "text": "Gender Distribution"
        },
        "width": 1200
       }
      },
      "text/html": [
       "<div>                            <div id=\"f3c783c0-2c56-41eb-9a6b-35ceb08a6375\" class=\"plotly-graph-div\" style=\"height:500px; width:1200px;\"></div>            <script type=\"text/javascript\">                require([\"plotly\"], function(Plotly) {                    window.PLOTLYENV=window.PLOTLYENV || {};                                    if (document.getElementById(\"f3c783c0-2c56-41eb-9a6b-35ceb08a6375\")) {                    Plotly.newPlot(                        \"f3c783c0-2c56-41eb-9a6b-35ceb08a6375\",                        [{\"labels\":[\"Male\",\"Female\"],\"name\":\"Gender\",\"values\":[194,103],\"type\":\"pie\",\"domain\":{\"x\":[0.0,0.45],\"y\":[0.0,1.0]},\"hole\":0.4,\"hoverinfo\":\"label+percent\"},{\"labels\":[\"Male - Survived\",\"Male - Died\",\"Female - Survived\",\"Female - Died\"],\"name\":\"Gender by Death Event\",\"values\":[132,62,70,33],\"type\":\"pie\",\"domain\":{\"x\":[0.55,1.0],\"y\":[0.0,1.0]},\"hole\":0.4,\"hoverinfo\":\"label+percent\"}],                        {\"template\":{\"data\":{\"histogram2dcontour\":[{\"type\":\"histogram2dcontour\",\"colorbar\":{\"outlinewidth\":0,\"ticks\":\"\"},\"colorscale\":[[0.0,\"#0d0887\"],[0.1111111111111111,\"#46039f\"],[0.2222222222222222,\"#7201a8\"],[0.3333333333333333,\"#9c179e\"],[0.4444444444444444,\"#bd3786\"],[0.5555555555555556,\"#d8576b\"],[0.6666666666666666,\"#ed7953\"],[0.7777777777777778,\"#fb9f3a\"],[0.8888888888888888,\"#fdca26\"],[1.0,\"#f0f921\"]]}],\"choropleth\":[{\"type\":\"choropleth\",\"colorbar\":{\"outlinewidth\":0,\"ticks\":\"\"}}],\"histogram2d\":[{\"type\":\"histogram2d\",\"colorbar\":{\"outlinewidth\":0,\"ticks\":\"\"},\"colorscale\":[[0.0,\"#0d0887\"],[0.1111111111111111,\"#46039f\"],[0.2222222222222222,\"#7201a8\"],[0.3333333333333333,\"#9c179e\"],[0.4444444444444444,\"#bd3786\"],[0.5555555555555556,\"#d8576b\"],[0.6666666666666666,\"#ed7953\"],[0.7777777777777778,\"#fb9f3a\"],[0.8888888888888888,\"#fdca26\"],[1.0,\"#f0f921\"]]}],\"heatmap\":[{\"type\":\"heatmap\",\"colorbar\":{\"outlinewidth\":0,\"ticks\":\"\"},\"colorscale\":[[0.0,\"#0d0887\"],[0.1111111111111111,\"#46039f\"],[0.2222222222222222,\"#7201a8\"],[0.3333333333333333,\"#9c179e\"],[0.4444444444444444,\"#bd3786\"],[0.5555555555555556,\"#d8576b\"],[0.6666666666666666,\"#ed7953\"],[0.7777777777777778,\"#fb9f3a\"],[0.8888888888888888,\"#fdca26\"],[1.0,\"#f0f921\"]]}],\"heatmapgl\":[{\"type\":\"heatmapgl\",\"colorbar\":{\"outlinewidth\":0,\"ticks\":\"\"},\"colorscale\":[[0.0,\"#0d0887\"],[0.1111111111111111,\"#46039f\"],[0.2222222222222222,\"#7201a8\"],[0.3333333333333333,\"#9c179e\"],[0.4444444444444444,\"#bd3786\"],[0.5555555555555556,\"#d8576b\"],[0.6666666666666666,\"#ed7953\"],[0.7777777777777778,\"#fb9f3a\"],[0.8888888888888888,\"#fdca26\"],[1.0,\"#f0f921\"]]}],\"contourcarpet\":[{\"type\":\"contourcarpet\",\"colorbar\":{\"outlinewidth\":0,\"ticks\":\"\"}}],\"contour\":[{\"type\":\"contour\",\"colorbar\":{\"outlinewidth\":0,\"ticks\":\"\"},\"colorscale\":[[0.0,\"#0d0887\"],[0.1111111111111111,\"#46039f\"],[0.2222222222222222,\"#7201a8\"],[0.3333333333333333,\"#9c179e\"],[0.4444444444444444,\"#bd3786\"],[0.5555555555555556,\"#d8576b\"],[0.6666666666666666,\"#ed7953\"],[0.7777777777777778,\"#fb9f3a\"],[0.8888888888888888,\"#fdca26\"],[1.0,\"#f0f921\"]]}],\"surface\":[{\"type\":\"surface\",\"colorbar\":{\"outlinewidth\":0,\"ticks\":\"\"},\"colorscale\":[[0.0,\"#0d0887\"],[0.1111111111111111,\"#46039f\"],[0.2222222222222222,\"#7201a8\"],[0.3333333333333333,\"#9c179e\"],[0.4444444444444444,\"#bd3786\"],[0.5555555555555556,\"#d8576b\"],[0.6666666666666666,\"#ed7953\"],[0.7777777777777778,\"#fb9f3a\"],[0.8888888888888888,\"#fdca26\"],[1.0,\"#f0f921\"]]}],\"mesh3d\":[{\"type\":\"mesh3d\",\"colorbar\":{\"outlinewidth\":0,\"ticks\":\"\"}}],\"scatter\":[{\"fillpattern\":{\"fillmode\":\"overlay\",\"size\":10,\"solidity\":0.2},\"type\":\"scatter\"}],\"parcoords\":[{\"type\":\"parcoords\",\"line\":{\"colorbar\":{\"outlinewidth\":0,\"ticks\":\"\"}}}],\"scatterpolargl\":[{\"type\":\"scatterpolargl\",\"marker\":{\"colorbar\":{\"outlinewidth\":0,\"ticks\":\"\"}}}],\"bar\":[{\"error_x\":{\"color\":\"#2a3f5f\"},\"error_y\":{\"color\":\"#2a3f5f\"},\"marker\":{\"line\":{\"color\":\"#E5ECF6\",\"width\":0.5},\"pattern\":{\"fillmode\":\"overlay\",\"size\":10,\"solidity\":0.2}},\"type\":\"bar\"}],\"scattergeo\":[{\"type\":\"scattergeo\",\"marker\":{\"colorbar\":{\"outlinewidth\":0,\"ticks\":\"\"}}}],\"scatterpolar\":[{\"type\":\"scatterpolar\",\"marker\":{\"colorbar\":{\"outlinewidth\":0,\"ticks\":\"\"}}}],\"histogram\":[{\"marker\":{\"pattern\":{\"fillmode\":\"overlay\",\"size\":10,\"solidity\":0.2}},\"type\":\"histogram\"}],\"scattergl\":[{\"type\":\"scattergl\",\"marker\":{\"colorbar\":{\"outlinewidth\":0,\"ticks\":\"\"}}}],\"scatter3d\":[{\"type\":\"scatter3d\",\"line\":{\"colorbar\":{\"outlinewidth\":0,\"ticks\":\"\"}},\"marker\":{\"colorbar\":{\"outlinewidth\":0,\"ticks\":\"\"}}}],\"scattermapbox\":[{\"type\":\"scattermapbox\",\"marker\":{\"colorbar\":{\"outlinewidth\":0,\"ticks\":\"\"}}}],\"scatterternary\":[{\"type\":\"scatterternary\",\"marker\":{\"colorbar\":{\"outlinewidth\":0,\"ticks\":\"\"}}}],\"scattercarpet\":[{\"type\":\"scattercarpet\",\"marker\":{\"colorbar\":{\"outlinewidth\":0,\"ticks\":\"\"}}}],\"carpet\":[{\"aaxis\":{\"endlinecolor\":\"#2a3f5f\",\"gridcolor\":\"white\",\"linecolor\":\"white\",\"minorgridcolor\":\"white\",\"startlinecolor\":\"#2a3f5f\"},\"baxis\":{\"endlinecolor\":\"#2a3f5f\",\"gridcolor\":\"white\",\"linecolor\":\"white\",\"minorgridcolor\":\"white\",\"startlinecolor\":\"#2a3f5f\"},\"type\":\"carpet\"}],\"table\":[{\"cells\":{\"fill\":{\"color\":\"#EBF0F8\"},\"line\":{\"color\":\"white\"}},\"header\":{\"fill\":{\"color\":\"#C8D4E3\"},\"line\":{\"color\":\"white\"}},\"type\":\"table\"}],\"barpolar\":[{\"marker\":{\"line\":{\"color\":\"#E5ECF6\",\"width\":0.5},\"pattern\":{\"fillmode\":\"overlay\",\"size\":10,\"solidity\":0.2}},\"type\":\"barpolar\"}],\"pie\":[{\"automargin\":true,\"type\":\"pie\"}]},\"layout\":{\"autotypenumbers\":\"strict\",\"colorway\":[\"#636efa\",\"#EF553B\",\"#00cc96\",\"#ab63fa\",\"#FFA15A\",\"#19d3f3\",\"#FF6692\",\"#B6E880\",\"#FF97FF\",\"#FECB52\"],\"font\":{\"color\":\"#2a3f5f\"},\"hovermode\":\"closest\",\"hoverlabel\":{\"align\":\"left\"},\"paper_bgcolor\":\"white\",\"plot_bgcolor\":\"#E5ECF6\",\"polar\":{\"bgcolor\":\"#E5ECF6\",\"angularaxis\":{\"gridcolor\":\"white\",\"linecolor\":\"white\",\"ticks\":\"\"},\"radialaxis\":{\"gridcolor\":\"white\",\"linecolor\":\"white\",\"ticks\":\"\"}},\"ternary\":{\"bgcolor\":\"#E5ECF6\",\"aaxis\":{\"gridcolor\":\"white\",\"linecolor\":\"white\",\"ticks\":\"\"},\"baxis\":{\"gridcolor\":\"white\",\"linecolor\":\"white\",\"ticks\":\"\"},\"caxis\":{\"gridcolor\":\"white\",\"linecolor\":\"white\",\"ticks\":\"\"}},\"coloraxis\":{\"colorbar\":{\"outlinewidth\":0,\"ticks\":\"\"}},\"colorscale\":{\"sequential\":[[0.0,\"#0d0887\"],[0.1111111111111111,\"#46039f\"],[0.2222222222222222,\"#7201a8\"],[0.3333333333333333,\"#9c179e\"],[0.4444444444444444,\"#bd3786\"],[0.5555555555555556,\"#d8576b\"],[0.6666666666666666,\"#ed7953\"],[0.7777777777777778,\"#fb9f3a\"],[0.8888888888888888,\"#fdca26\"],[1.0,\"#f0f921\"]],\"sequentialminus\":[[0.0,\"#0d0887\"],[0.1111111111111111,\"#46039f\"],[0.2222222222222222,\"#7201a8\"],[0.3333333333333333,\"#9c179e\"],[0.4444444444444444,\"#bd3786\"],[0.5555555555555556,\"#d8576b\"],[0.6666666666666666,\"#ed7953\"],[0.7777777777777778,\"#fb9f3a\"],[0.8888888888888888,\"#fdca26\"],[1.0,\"#f0f921\"]],\"diverging\":[[0,\"#8e0152\"],[0.1,\"#c51b7d\"],[0.2,\"#de77ae\"],[0.3,\"#f1b6da\"],[0.4,\"#fde0ef\"],[0.5,\"#f7f7f7\"],[0.6,\"#e6f5d0\"],[0.7,\"#b8e186\"],[0.8,\"#7fbc41\"],[0.9,\"#4d9221\"],[1,\"#276419\"]]},\"xaxis\":{\"gridcolor\":\"white\",\"linecolor\":\"white\",\"ticks\":\"\",\"title\":{\"standoff\":15},\"zerolinecolor\":\"white\",\"automargin\":true,\"zerolinewidth\":2},\"yaxis\":{\"gridcolor\":\"white\",\"linecolor\":\"white\",\"ticks\":\"\",\"title\":{\"standoff\":15},\"zerolinecolor\":\"white\",\"automargin\":true,\"zerolinewidth\":2},\"scene\":{\"xaxis\":{\"backgroundcolor\":\"#E5ECF6\",\"gridcolor\":\"white\",\"linecolor\":\"white\",\"showbackground\":true,\"ticks\":\"\",\"zerolinecolor\":\"white\",\"gridwidth\":2},\"yaxis\":{\"backgroundcolor\":\"#E5ECF6\",\"gridcolor\":\"white\",\"linecolor\":\"white\",\"showbackground\":true,\"ticks\":\"\",\"zerolinecolor\":\"white\",\"gridwidth\":2},\"zaxis\":{\"backgroundcolor\":\"#E5ECF6\",\"gridcolor\":\"white\",\"linecolor\":\"white\",\"showbackground\":true,\"ticks\":\"\",\"zerolinecolor\":\"white\",\"gridwidth\":2}},\"shapedefaults\":{\"line\":{\"color\":\"#2a3f5f\"}},\"annotationdefaults\":{\"arrowcolor\":\"#2a3f5f\",\"arrowhead\":0,\"arrowwidth\":1},\"geo\":{\"bgcolor\":\"white\",\"landcolor\":\"#E5ECF6\",\"subunitcolor\":\"white\",\"showland\":true,\"showlakes\":true,\"lakecolor\":\"white\"},\"title\":{\"x\":0.05},\"mapbox\":{\"style\":\"light\"}}},\"title\":{\"text\":\"Gender Distribution\"},\"annotations\":[{\"showarrow\":false,\"text\":\"Gender\",\"x\":0.19,\"y\":0.5,\"font\":{\"size\":10}},{\"showarrow\":false,\"text\":\"Gender by Death Event\",\"x\":0.84,\"y\":0.5,\"font\":{\"size\":9}}],\"autosize\":false,\"width\":1200,\"height\":500,\"paper_bgcolor\":\"white\"},                        {\"responsive\": true}                    ).then(function(){\n",
       "                            \n",
       "var gd = document.getElementById('f3c783c0-2c56-41eb-9a6b-35ceb08a6375');\n",
       "var x = new MutationObserver(function (mutations, observer) {{\n",
       "        var display = window.getComputedStyle(gd).display;\n",
       "        if (!display || display === 'none') {{\n",
       "            console.log([gd, 'removed!']);\n",
       "            Plotly.purge(gd);\n",
       "            observer.disconnect();\n",
       "        }}\n",
       "}});\n",
       "\n",
       "// Listen for the removal of the full notebook cells\n",
       "var notebookContainer = gd.closest('#notebook-container');\n",
       "if (notebookContainer) {{\n",
       "    x.observe(notebookContainer, {childList: true});\n",
       "}}\n",
       "\n",
       "// Listen for the clearing of the current output cell\n",
       "var outputEl = gd.closest('.output');\n",
       "if (outputEl) {{\n",
       "    x.observe(outputEl, {childList: true});\n",
       "}}\n",
       "\n",
       "                        })                };                });            </script>        </div>"
      ]
     },
     "metadata": {},
     "output_type": "display_data"
    }
   ],
   "source": [
    "# Gender Distribution\n",
    "\n",
    "d1 = dataset[(dataset['DEATH_EVENT']==0) & (dataset['sex'] == 1)]\n",
    "d2 = dataset[(dataset['DEATH_EVENT']==1) & (dataset['sex'] == 1)]\n",
    "d3 = dataset[(dataset['DEATH_EVENT']==0) & (dataset['sex'] == 0)]\n",
    "d4 = dataset[(dataset['DEATH_EVENT']==1) & (dataset['sex'] == 0)]\n",
    "\n",
    "label_1 = ['Male', 'Female']\n",
    "label_2 = ['Male - Survived', 'Male - Died', 'Female - Survived', 'Female - Died']\n",
    "\n",
    "values_1 = [(len(d1) + len(d2)), (len(d3) + len(d4))]\n",
    "values_2 = [len(d1), len(d2), len(d3), len(d4)]\n",
    "\n",
    "# subplots: domain type for pie subplot\n",
    "fig = make_subplots(rows = 1, cols = 2, specs = [[{'type': 'domain'}, {'type': 'domain'}]])\n",
    "fig.add_trace(go.Pie(labels = label_1, values = values_1, name = 'Gender'), 1, 1)\n",
    "fig.add_trace(go.Pie(labels = label_2, values = values_2, name = 'Gender by Death Event'), 1, 2)\n",
    "\n",
    "# create donut pie chart\n",
    "fig.update_traces(hole = 0.4, hoverinfo = 'label+percent')\n",
    "\n",
    "fig.update_layout(\n",
    "    title_text = 'Gender Distribution',\n",
    "    # annotate center of donut\n",
    "    annotations = [dict(text = 'Gender', x = 0.19, y = 0.5, font_size = 10, showarrow = False),\n",
    "                    dict(text = 'Gender by Death Event', x = 0.84, y = 0.5, font_size = 9, showarrow = False)],\n",
    "    autosize = False, width = 1200, height = 500, paper_bgcolor = 'white'\n",
    ")\n",
    "\n",
    "fig.show()"
   ]
  },
  {
   "cell_type": "markdown",
   "id": "b1a27c04",
   "metadata": {},
   "source": [
    "We can conclude that 65.3% of the dataset are male, out of which 44.4% survived and 20.9% died, and 34.7% are female, out of which 23.6% survived and 11.1% died."
   ]
  },
  {
   "cell_type": "code",
   "execution_count": 44,
   "id": "29c9342d",
   "metadata": {},
   "outputs": [
    {
     "data": {
      "application/vnd.plotly.v1+json": {
       "config": {
        "plotlyServerURL": "https://plot.ly"
       },
       "data": [
        {
         "domain": {
          "x": [
           0,
           0.45
          ],
          "y": [
           0,
           1
          ]
         },
         "hole": 0.4,
         "hoverinfo": "label+percent",
         "labels": [
          "No Diabetes",
          "Diabetes"
         ],
         "name": "Diabetes",
         "type": "pie",
         "values": [
          172,
          125
         ]
        },
        {
         "domain": {
          "x": [
           0.55,
           1
          ],
          "y": [
           0,
           1
          ]
         },
         "hole": 0.4,
         "hoverinfo": "label+percent",
         "labels": [
          "No Diabetes - Survived",
          "Diabetes - Survived",
          "No Diabetes - Died",
          "Diabetes - Died"
         ],
         "name": "Diabetes by Death Event",
         "type": "pie",
         "values": [
          117,
          85,
          55,
          40
         ]
        }
       ],
       "layout": {
        "annotations": [
         {
          "font": {
           "size": 10
          },
          "showarrow": false,
          "text": "Diabetes",
          "x": 0.19,
          "y": 0.5
         },
         {
          "font": {
           "size": 8
          },
          "showarrow": false,
          "text": "Diabetes by Death Event",
          "x": 0.84,
          "y": 0.5
         }
        ],
        "autosize": false,
        "height": 500,
        "paper_bgcolor": "white",
        "template": {
         "data": {
          "bar": [
           {
            "error_x": {
             "color": "#2a3f5f"
            },
            "error_y": {
             "color": "#2a3f5f"
            },
            "marker": {
             "line": {
              "color": "#E5ECF6",
              "width": 0.5
             },
             "pattern": {
              "fillmode": "overlay",
              "size": 10,
              "solidity": 0.2
             }
            },
            "type": "bar"
           }
          ],
          "barpolar": [
           {
            "marker": {
             "line": {
              "color": "#E5ECF6",
              "width": 0.5
             },
             "pattern": {
              "fillmode": "overlay",
              "size": 10,
              "solidity": 0.2
             }
            },
            "type": "barpolar"
           }
          ],
          "carpet": [
           {
            "aaxis": {
             "endlinecolor": "#2a3f5f",
             "gridcolor": "white",
             "linecolor": "white",
             "minorgridcolor": "white",
             "startlinecolor": "#2a3f5f"
            },
            "baxis": {
             "endlinecolor": "#2a3f5f",
             "gridcolor": "white",
             "linecolor": "white",
             "minorgridcolor": "white",
             "startlinecolor": "#2a3f5f"
            },
            "type": "carpet"
           }
          ],
          "choropleth": [
           {
            "colorbar": {
             "outlinewidth": 0,
             "ticks": ""
            },
            "type": "choropleth"
           }
          ],
          "contour": [
           {
            "colorbar": {
             "outlinewidth": 0,
             "ticks": ""
            },
            "colorscale": [
             [
              0,
              "#0d0887"
             ],
             [
              0.1111111111111111,
              "#46039f"
             ],
             [
              0.2222222222222222,
              "#7201a8"
             ],
             [
              0.3333333333333333,
              "#9c179e"
             ],
             [
              0.4444444444444444,
              "#bd3786"
             ],
             [
              0.5555555555555556,
              "#d8576b"
             ],
             [
              0.6666666666666666,
              "#ed7953"
             ],
             [
              0.7777777777777778,
              "#fb9f3a"
             ],
             [
              0.8888888888888888,
              "#fdca26"
             ],
             [
              1,
              "#f0f921"
             ]
            ],
            "type": "contour"
           }
          ],
          "contourcarpet": [
           {
            "colorbar": {
             "outlinewidth": 0,
             "ticks": ""
            },
            "type": "contourcarpet"
           }
          ],
          "heatmap": [
           {
            "colorbar": {
             "outlinewidth": 0,
             "ticks": ""
            },
            "colorscale": [
             [
              0,
              "#0d0887"
             ],
             [
              0.1111111111111111,
              "#46039f"
             ],
             [
              0.2222222222222222,
              "#7201a8"
             ],
             [
              0.3333333333333333,
              "#9c179e"
             ],
             [
              0.4444444444444444,
              "#bd3786"
             ],
             [
              0.5555555555555556,
              "#d8576b"
             ],
             [
              0.6666666666666666,
              "#ed7953"
             ],
             [
              0.7777777777777778,
              "#fb9f3a"
             ],
             [
              0.8888888888888888,
              "#fdca26"
             ],
             [
              1,
              "#f0f921"
             ]
            ],
            "type": "heatmap"
           }
          ],
          "heatmapgl": [
           {
            "colorbar": {
             "outlinewidth": 0,
             "ticks": ""
            },
            "colorscale": [
             [
              0,
              "#0d0887"
             ],
             [
              0.1111111111111111,
              "#46039f"
             ],
             [
              0.2222222222222222,
              "#7201a8"
             ],
             [
              0.3333333333333333,
              "#9c179e"
             ],
             [
              0.4444444444444444,
              "#bd3786"
             ],
             [
              0.5555555555555556,
              "#d8576b"
             ],
             [
              0.6666666666666666,
              "#ed7953"
             ],
             [
              0.7777777777777778,
              "#fb9f3a"
             ],
             [
              0.8888888888888888,
              "#fdca26"
             ],
             [
              1,
              "#f0f921"
             ]
            ],
            "type": "heatmapgl"
           }
          ],
          "histogram": [
           {
            "marker": {
             "pattern": {
              "fillmode": "overlay",
              "size": 10,
              "solidity": 0.2
             }
            },
            "type": "histogram"
           }
          ],
          "histogram2d": [
           {
            "colorbar": {
             "outlinewidth": 0,
             "ticks": ""
            },
            "colorscale": [
             [
              0,
              "#0d0887"
             ],
             [
              0.1111111111111111,
              "#46039f"
             ],
             [
              0.2222222222222222,
              "#7201a8"
             ],
             [
              0.3333333333333333,
              "#9c179e"
             ],
             [
              0.4444444444444444,
              "#bd3786"
             ],
             [
              0.5555555555555556,
              "#d8576b"
             ],
             [
              0.6666666666666666,
              "#ed7953"
             ],
             [
              0.7777777777777778,
              "#fb9f3a"
             ],
             [
              0.8888888888888888,
              "#fdca26"
             ],
             [
              1,
              "#f0f921"
             ]
            ],
            "type": "histogram2d"
           }
          ],
          "histogram2dcontour": [
           {
            "colorbar": {
             "outlinewidth": 0,
             "ticks": ""
            },
            "colorscale": [
             [
              0,
              "#0d0887"
             ],
             [
              0.1111111111111111,
              "#46039f"
             ],
             [
              0.2222222222222222,
              "#7201a8"
             ],
             [
              0.3333333333333333,
              "#9c179e"
             ],
             [
              0.4444444444444444,
              "#bd3786"
             ],
             [
              0.5555555555555556,
              "#d8576b"
             ],
             [
              0.6666666666666666,
              "#ed7953"
             ],
             [
              0.7777777777777778,
              "#fb9f3a"
             ],
             [
              0.8888888888888888,
              "#fdca26"
             ],
             [
              1,
              "#f0f921"
             ]
            ],
            "type": "histogram2dcontour"
           }
          ],
          "mesh3d": [
           {
            "colorbar": {
             "outlinewidth": 0,
             "ticks": ""
            },
            "type": "mesh3d"
           }
          ],
          "parcoords": [
           {
            "line": {
             "colorbar": {
              "outlinewidth": 0,
              "ticks": ""
             }
            },
            "type": "parcoords"
           }
          ],
          "pie": [
           {
            "automargin": true,
            "type": "pie"
           }
          ],
          "scatter": [
           {
            "fillpattern": {
             "fillmode": "overlay",
             "size": 10,
             "solidity": 0.2
            },
            "type": "scatter"
           }
          ],
          "scatter3d": [
           {
            "line": {
             "colorbar": {
              "outlinewidth": 0,
              "ticks": ""
             }
            },
            "marker": {
             "colorbar": {
              "outlinewidth": 0,
              "ticks": ""
             }
            },
            "type": "scatter3d"
           }
          ],
          "scattercarpet": [
           {
            "marker": {
             "colorbar": {
              "outlinewidth": 0,
              "ticks": ""
             }
            },
            "type": "scattercarpet"
           }
          ],
          "scattergeo": [
           {
            "marker": {
             "colorbar": {
              "outlinewidth": 0,
              "ticks": ""
             }
            },
            "type": "scattergeo"
           }
          ],
          "scattergl": [
           {
            "marker": {
             "colorbar": {
              "outlinewidth": 0,
              "ticks": ""
             }
            },
            "type": "scattergl"
           }
          ],
          "scattermapbox": [
           {
            "marker": {
             "colorbar": {
              "outlinewidth": 0,
              "ticks": ""
             }
            },
            "type": "scattermapbox"
           }
          ],
          "scatterpolar": [
           {
            "marker": {
             "colorbar": {
              "outlinewidth": 0,
              "ticks": ""
             }
            },
            "type": "scatterpolar"
           }
          ],
          "scatterpolargl": [
           {
            "marker": {
             "colorbar": {
              "outlinewidth": 0,
              "ticks": ""
             }
            },
            "type": "scatterpolargl"
           }
          ],
          "scatterternary": [
           {
            "marker": {
             "colorbar": {
              "outlinewidth": 0,
              "ticks": ""
             }
            },
            "type": "scatterternary"
           }
          ],
          "surface": [
           {
            "colorbar": {
             "outlinewidth": 0,
             "ticks": ""
            },
            "colorscale": [
             [
              0,
              "#0d0887"
             ],
             [
              0.1111111111111111,
              "#46039f"
             ],
             [
              0.2222222222222222,
              "#7201a8"
             ],
             [
              0.3333333333333333,
              "#9c179e"
             ],
             [
              0.4444444444444444,
              "#bd3786"
             ],
             [
              0.5555555555555556,
              "#d8576b"
             ],
             [
              0.6666666666666666,
              "#ed7953"
             ],
             [
              0.7777777777777778,
              "#fb9f3a"
             ],
             [
              0.8888888888888888,
              "#fdca26"
             ],
             [
              1,
              "#f0f921"
             ]
            ],
            "type": "surface"
           }
          ],
          "table": [
           {
            "cells": {
             "fill": {
              "color": "#EBF0F8"
             },
             "line": {
              "color": "white"
             }
            },
            "header": {
             "fill": {
              "color": "#C8D4E3"
             },
             "line": {
              "color": "white"
             }
            },
            "type": "table"
           }
          ]
         },
         "layout": {
          "annotationdefaults": {
           "arrowcolor": "#2a3f5f",
           "arrowhead": 0,
           "arrowwidth": 1
          },
          "autotypenumbers": "strict",
          "coloraxis": {
           "colorbar": {
            "outlinewidth": 0,
            "ticks": ""
           }
          },
          "colorscale": {
           "diverging": [
            [
             0,
             "#8e0152"
            ],
            [
             0.1,
             "#c51b7d"
            ],
            [
             0.2,
             "#de77ae"
            ],
            [
             0.3,
             "#f1b6da"
            ],
            [
             0.4,
             "#fde0ef"
            ],
            [
             0.5,
             "#f7f7f7"
            ],
            [
             0.6,
             "#e6f5d0"
            ],
            [
             0.7,
             "#b8e186"
            ],
            [
             0.8,
             "#7fbc41"
            ],
            [
             0.9,
             "#4d9221"
            ],
            [
             1,
             "#276419"
            ]
           ],
           "sequential": [
            [
             0,
             "#0d0887"
            ],
            [
             0.1111111111111111,
             "#46039f"
            ],
            [
             0.2222222222222222,
             "#7201a8"
            ],
            [
             0.3333333333333333,
             "#9c179e"
            ],
            [
             0.4444444444444444,
             "#bd3786"
            ],
            [
             0.5555555555555556,
             "#d8576b"
            ],
            [
             0.6666666666666666,
             "#ed7953"
            ],
            [
             0.7777777777777778,
             "#fb9f3a"
            ],
            [
             0.8888888888888888,
             "#fdca26"
            ],
            [
             1,
             "#f0f921"
            ]
           ],
           "sequentialminus": [
            [
             0,
             "#0d0887"
            ],
            [
             0.1111111111111111,
             "#46039f"
            ],
            [
             0.2222222222222222,
             "#7201a8"
            ],
            [
             0.3333333333333333,
             "#9c179e"
            ],
            [
             0.4444444444444444,
             "#bd3786"
            ],
            [
             0.5555555555555556,
             "#d8576b"
            ],
            [
             0.6666666666666666,
             "#ed7953"
            ],
            [
             0.7777777777777778,
             "#fb9f3a"
            ],
            [
             0.8888888888888888,
             "#fdca26"
            ],
            [
             1,
             "#f0f921"
            ]
           ]
          },
          "colorway": [
           "#636efa",
           "#EF553B",
           "#00cc96",
           "#ab63fa",
           "#FFA15A",
           "#19d3f3",
           "#FF6692",
           "#B6E880",
           "#FF97FF",
           "#FECB52"
          ],
          "font": {
           "color": "#2a3f5f"
          },
          "geo": {
           "bgcolor": "white",
           "lakecolor": "white",
           "landcolor": "#E5ECF6",
           "showlakes": true,
           "showland": true,
           "subunitcolor": "white"
          },
          "hoverlabel": {
           "align": "left"
          },
          "hovermode": "closest",
          "mapbox": {
           "style": "light"
          },
          "paper_bgcolor": "white",
          "plot_bgcolor": "#E5ECF6",
          "polar": {
           "angularaxis": {
            "gridcolor": "white",
            "linecolor": "white",
            "ticks": ""
           },
           "bgcolor": "#E5ECF6",
           "radialaxis": {
            "gridcolor": "white",
            "linecolor": "white",
            "ticks": ""
           }
          },
          "scene": {
           "xaxis": {
            "backgroundcolor": "#E5ECF6",
            "gridcolor": "white",
            "gridwidth": 2,
            "linecolor": "white",
            "showbackground": true,
            "ticks": "",
            "zerolinecolor": "white"
           },
           "yaxis": {
            "backgroundcolor": "#E5ECF6",
            "gridcolor": "white",
            "gridwidth": 2,
            "linecolor": "white",
            "showbackground": true,
            "ticks": "",
            "zerolinecolor": "white"
           },
           "zaxis": {
            "backgroundcolor": "#E5ECF6",
            "gridcolor": "white",
            "gridwidth": 2,
            "linecolor": "white",
            "showbackground": true,
            "ticks": "",
            "zerolinecolor": "white"
           }
          },
          "shapedefaults": {
           "line": {
            "color": "#2a3f5f"
           }
          },
          "ternary": {
           "aaxis": {
            "gridcolor": "white",
            "linecolor": "white",
            "ticks": ""
           },
           "baxis": {
            "gridcolor": "white",
            "linecolor": "white",
            "ticks": ""
           },
           "bgcolor": "#E5ECF6",
           "caxis": {
            "gridcolor": "white",
            "linecolor": "white",
            "ticks": ""
           }
          },
          "title": {
           "x": 0.05
          },
          "xaxis": {
           "automargin": true,
           "gridcolor": "white",
           "linecolor": "white",
           "ticks": "",
           "title": {
            "standoff": 15
           },
           "zerolinecolor": "white",
           "zerolinewidth": 2
          },
          "yaxis": {
           "automargin": true,
           "gridcolor": "white",
           "linecolor": "white",
           "ticks": "",
           "title": {
            "standoff": 15
           },
           "zerolinecolor": "white",
           "zerolinewidth": 2
          }
         }
        },
        "title": {
         "text": "Diabetes Distribution"
        },
        "width": 1200
       }
      },
      "text/html": [
       "<div>                            <div id=\"bc19d641-90d9-4148-91b4-ebd4fa029ced\" class=\"plotly-graph-div\" style=\"height:500px; width:1200px;\"></div>            <script type=\"text/javascript\">                require([\"plotly\"], function(Plotly) {                    window.PLOTLYENV=window.PLOTLYENV || {};                                    if (document.getElementById(\"bc19d641-90d9-4148-91b4-ebd4fa029ced\")) {                    Plotly.newPlot(                        \"bc19d641-90d9-4148-91b4-ebd4fa029ced\",                        [{\"labels\":[\"No Diabetes\",\"Diabetes\"],\"name\":\"Diabetes\",\"values\":[172,125],\"type\":\"pie\",\"domain\":{\"x\":[0.0,0.45],\"y\":[0.0,1.0]},\"hole\":0.4,\"hoverinfo\":\"label+percent\"},{\"labels\":[\"No Diabetes - Survived\",\"Diabetes - Survived\",\"No Diabetes - Died\",\"Diabetes - Died\"],\"name\":\"Diabetes by Death Event\",\"values\":[117,85,55,40],\"type\":\"pie\",\"domain\":{\"x\":[0.55,1.0],\"y\":[0.0,1.0]},\"hole\":0.4,\"hoverinfo\":\"label+percent\"}],                        {\"template\":{\"data\":{\"histogram2dcontour\":[{\"type\":\"histogram2dcontour\",\"colorbar\":{\"outlinewidth\":0,\"ticks\":\"\"},\"colorscale\":[[0.0,\"#0d0887\"],[0.1111111111111111,\"#46039f\"],[0.2222222222222222,\"#7201a8\"],[0.3333333333333333,\"#9c179e\"],[0.4444444444444444,\"#bd3786\"],[0.5555555555555556,\"#d8576b\"],[0.6666666666666666,\"#ed7953\"],[0.7777777777777778,\"#fb9f3a\"],[0.8888888888888888,\"#fdca26\"],[1.0,\"#f0f921\"]]}],\"choropleth\":[{\"type\":\"choropleth\",\"colorbar\":{\"outlinewidth\":0,\"ticks\":\"\"}}],\"histogram2d\":[{\"type\":\"histogram2d\",\"colorbar\":{\"outlinewidth\":0,\"ticks\":\"\"},\"colorscale\":[[0.0,\"#0d0887\"],[0.1111111111111111,\"#46039f\"],[0.2222222222222222,\"#7201a8\"],[0.3333333333333333,\"#9c179e\"],[0.4444444444444444,\"#bd3786\"],[0.5555555555555556,\"#d8576b\"],[0.6666666666666666,\"#ed7953\"],[0.7777777777777778,\"#fb9f3a\"],[0.8888888888888888,\"#fdca26\"],[1.0,\"#f0f921\"]]}],\"heatmap\":[{\"type\":\"heatmap\",\"colorbar\":{\"outlinewidth\":0,\"ticks\":\"\"},\"colorscale\":[[0.0,\"#0d0887\"],[0.1111111111111111,\"#46039f\"],[0.2222222222222222,\"#7201a8\"],[0.3333333333333333,\"#9c179e\"],[0.4444444444444444,\"#bd3786\"],[0.5555555555555556,\"#d8576b\"],[0.6666666666666666,\"#ed7953\"],[0.7777777777777778,\"#fb9f3a\"],[0.8888888888888888,\"#fdca26\"],[1.0,\"#f0f921\"]]}],\"heatmapgl\":[{\"type\":\"heatmapgl\",\"colorbar\":{\"outlinewidth\":0,\"ticks\":\"\"},\"colorscale\":[[0.0,\"#0d0887\"],[0.1111111111111111,\"#46039f\"],[0.2222222222222222,\"#7201a8\"],[0.3333333333333333,\"#9c179e\"],[0.4444444444444444,\"#bd3786\"],[0.5555555555555556,\"#d8576b\"],[0.6666666666666666,\"#ed7953\"],[0.7777777777777778,\"#fb9f3a\"],[0.8888888888888888,\"#fdca26\"],[1.0,\"#f0f921\"]]}],\"contourcarpet\":[{\"type\":\"contourcarpet\",\"colorbar\":{\"outlinewidth\":0,\"ticks\":\"\"}}],\"contour\":[{\"type\":\"contour\",\"colorbar\":{\"outlinewidth\":0,\"ticks\":\"\"},\"colorscale\":[[0.0,\"#0d0887\"],[0.1111111111111111,\"#46039f\"],[0.2222222222222222,\"#7201a8\"],[0.3333333333333333,\"#9c179e\"],[0.4444444444444444,\"#bd3786\"],[0.5555555555555556,\"#d8576b\"],[0.6666666666666666,\"#ed7953\"],[0.7777777777777778,\"#fb9f3a\"],[0.8888888888888888,\"#fdca26\"],[1.0,\"#f0f921\"]]}],\"surface\":[{\"type\":\"surface\",\"colorbar\":{\"outlinewidth\":0,\"ticks\":\"\"},\"colorscale\":[[0.0,\"#0d0887\"],[0.1111111111111111,\"#46039f\"],[0.2222222222222222,\"#7201a8\"],[0.3333333333333333,\"#9c179e\"],[0.4444444444444444,\"#bd3786\"],[0.5555555555555556,\"#d8576b\"],[0.6666666666666666,\"#ed7953\"],[0.7777777777777778,\"#fb9f3a\"],[0.8888888888888888,\"#fdca26\"],[1.0,\"#f0f921\"]]}],\"mesh3d\":[{\"type\":\"mesh3d\",\"colorbar\":{\"outlinewidth\":0,\"ticks\":\"\"}}],\"scatter\":[{\"fillpattern\":{\"fillmode\":\"overlay\",\"size\":10,\"solidity\":0.2},\"type\":\"scatter\"}],\"parcoords\":[{\"type\":\"parcoords\",\"line\":{\"colorbar\":{\"outlinewidth\":0,\"ticks\":\"\"}}}],\"scatterpolargl\":[{\"type\":\"scatterpolargl\",\"marker\":{\"colorbar\":{\"outlinewidth\":0,\"ticks\":\"\"}}}],\"bar\":[{\"error_x\":{\"color\":\"#2a3f5f\"},\"error_y\":{\"color\":\"#2a3f5f\"},\"marker\":{\"line\":{\"color\":\"#E5ECF6\",\"width\":0.5},\"pattern\":{\"fillmode\":\"overlay\",\"size\":10,\"solidity\":0.2}},\"type\":\"bar\"}],\"scattergeo\":[{\"type\":\"scattergeo\",\"marker\":{\"colorbar\":{\"outlinewidth\":0,\"ticks\":\"\"}}}],\"scatterpolar\":[{\"type\":\"scatterpolar\",\"marker\":{\"colorbar\":{\"outlinewidth\":0,\"ticks\":\"\"}}}],\"histogram\":[{\"marker\":{\"pattern\":{\"fillmode\":\"overlay\",\"size\":10,\"solidity\":0.2}},\"type\":\"histogram\"}],\"scattergl\":[{\"type\":\"scattergl\",\"marker\":{\"colorbar\":{\"outlinewidth\":0,\"ticks\":\"\"}}}],\"scatter3d\":[{\"type\":\"scatter3d\",\"line\":{\"colorbar\":{\"outlinewidth\":0,\"ticks\":\"\"}},\"marker\":{\"colorbar\":{\"outlinewidth\":0,\"ticks\":\"\"}}}],\"scattermapbox\":[{\"type\":\"scattermapbox\",\"marker\":{\"colorbar\":{\"outlinewidth\":0,\"ticks\":\"\"}}}],\"scatterternary\":[{\"type\":\"scatterternary\",\"marker\":{\"colorbar\":{\"outlinewidth\":0,\"ticks\":\"\"}}}],\"scattercarpet\":[{\"type\":\"scattercarpet\",\"marker\":{\"colorbar\":{\"outlinewidth\":0,\"ticks\":\"\"}}}],\"carpet\":[{\"aaxis\":{\"endlinecolor\":\"#2a3f5f\",\"gridcolor\":\"white\",\"linecolor\":\"white\",\"minorgridcolor\":\"white\",\"startlinecolor\":\"#2a3f5f\"},\"baxis\":{\"endlinecolor\":\"#2a3f5f\",\"gridcolor\":\"white\",\"linecolor\":\"white\",\"minorgridcolor\":\"white\",\"startlinecolor\":\"#2a3f5f\"},\"type\":\"carpet\"}],\"table\":[{\"cells\":{\"fill\":{\"color\":\"#EBF0F8\"},\"line\":{\"color\":\"white\"}},\"header\":{\"fill\":{\"color\":\"#C8D4E3\"},\"line\":{\"color\":\"white\"}},\"type\":\"table\"}],\"barpolar\":[{\"marker\":{\"line\":{\"color\":\"#E5ECF6\",\"width\":0.5},\"pattern\":{\"fillmode\":\"overlay\",\"size\":10,\"solidity\":0.2}},\"type\":\"barpolar\"}],\"pie\":[{\"automargin\":true,\"type\":\"pie\"}]},\"layout\":{\"autotypenumbers\":\"strict\",\"colorway\":[\"#636efa\",\"#EF553B\",\"#00cc96\",\"#ab63fa\",\"#FFA15A\",\"#19d3f3\",\"#FF6692\",\"#B6E880\",\"#FF97FF\",\"#FECB52\"],\"font\":{\"color\":\"#2a3f5f\"},\"hovermode\":\"closest\",\"hoverlabel\":{\"align\":\"left\"},\"paper_bgcolor\":\"white\",\"plot_bgcolor\":\"#E5ECF6\",\"polar\":{\"bgcolor\":\"#E5ECF6\",\"angularaxis\":{\"gridcolor\":\"white\",\"linecolor\":\"white\",\"ticks\":\"\"},\"radialaxis\":{\"gridcolor\":\"white\",\"linecolor\":\"white\",\"ticks\":\"\"}},\"ternary\":{\"bgcolor\":\"#E5ECF6\",\"aaxis\":{\"gridcolor\":\"white\",\"linecolor\":\"white\",\"ticks\":\"\"},\"baxis\":{\"gridcolor\":\"white\",\"linecolor\":\"white\",\"ticks\":\"\"},\"caxis\":{\"gridcolor\":\"white\",\"linecolor\":\"white\",\"ticks\":\"\"}},\"coloraxis\":{\"colorbar\":{\"outlinewidth\":0,\"ticks\":\"\"}},\"colorscale\":{\"sequential\":[[0.0,\"#0d0887\"],[0.1111111111111111,\"#46039f\"],[0.2222222222222222,\"#7201a8\"],[0.3333333333333333,\"#9c179e\"],[0.4444444444444444,\"#bd3786\"],[0.5555555555555556,\"#d8576b\"],[0.6666666666666666,\"#ed7953\"],[0.7777777777777778,\"#fb9f3a\"],[0.8888888888888888,\"#fdca26\"],[1.0,\"#f0f921\"]],\"sequentialminus\":[[0.0,\"#0d0887\"],[0.1111111111111111,\"#46039f\"],[0.2222222222222222,\"#7201a8\"],[0.3333333333333333,\"#9c179e\"],[0.4444444444444444,\"#bd3786\"],[0.5555555555555556,\"#d8576b\"],[0.6666666666666666,\"#ed7953\"],[0.7777777777777778,\"#fb9f3a\"],[0.8888888888888888,\"#fdca26\"],[1.0,\"#f0f921\"]],\"diverging\":[[0,\"#8e0152\"],[0.1,\"#c51b7d\"],[0.2,\"#de77ae\"],[0.3,\"#f1b6da\"],[0.4,\"#fde0ef\"],[0.5,\"#f7f7f7\"],[0.6,\"#e6f5d0\"],[0.7,\"#b8e186\"],[0.8,\"#7fbc41\"],[0.9,\"#4d9221\"],[1,\"#276419\"]]},\"xaxis\":{\"gridcolor\":\"white\",\"linecolor\":\"white\",\"ticks\":\"\",\"title\":{\"standoff\":15},\"zerolinecolor\":\"white\",\"automargin\":true,\"zerolinewidth\":2},\"yaxis\":{\"gridcolor\":\"white\",\"linecolor\":\"white\",\"ticks\":\"\",\"title\":{\"standoff\":15},\"zerolinecolor\":\"white\",\"automargin\":true,\"zerolinewidth\":2},\"scene\":{\"xaxis\":{\"backgroundcolor\":\"#E5ECF6\",\"gridcolor\":\"white\",\"linecolor\":\"white\",\"showbackground\":true,\"ticks\":\"\",\"zerolinecolor\":\"white\",\"gridwidth\":2},\"yaxis\":{\"backgroundcolor\":\"#E5ECF6\",\"gridcolor\":\"white\",\"linecolor\":\"white\",\"showbackground\":true,\"ticks\":\"\",\"zerolinecolor\":\"white\",\"gridwidth\":2},\"zaxis\":{\"backgroundcolor\":\"#E5ECF6\",\"gridcolor\":\"white\",\"linecolor\":\"white\",\"showbackground\":true,\"ticks\":\"\",\"zerolinecolor\":\"white\",\"gridwidth\":2}},\"shapedefaults\":{\"line\":{\"color\":\"#2a3f5f\"}},\"annotationdefaults\":{\"arrowcolor\":\"#2a3f5f\",\"arrowhead\":0,\"arrowwidth\":1},\"geo\":{\"bgcolor\":\"white\",\"landcolor\":\"#E5ECF6\",\"subunitcolor\":\"white\",\"showland\":true,\"showlakes\":true,\"lakecolor\":\"white\"},\"title\":{\"x\":0.05},\"mapbox\":{\"style\":\"light\"}}},\"title\":{\"text\":\"Diabetes Distribution\"},\"annotations\":[{\"showarrow\":false,\"text\":\"Diabetes\",\"x\":0.19,\"y\":0.5,\"font\":{\"size\":10}},{\"showarrow\":false,\"text\":\"Diabetes by Death Event\",\"x\":0.84,\"y\":0.5,\"font\":{\"size\":8}}],\"autosize\":false,\"width\":1200,\"height\":500,\"paper_bgcolor\":\"white\"},                        {\"responsive\": true}                    ).then(function(){\n",
       "                            \n",
       "var gd = document.getElementById('bc19d641-90d9-4148-91b4-ebd4fa029ced');\n",
       "var x = new MutationObserver(function (mutations, observer) {{\n",
       "        var display = window.getComputedStyle(gd).display;\n",
       "        if (!display || display === 'none') {{\n",
       "            console.log([gd, 'removed!']);\n",
       "            Plotly.purge(gd);\n",
       "            observer.disconnect();\n",
       "        }}\n",
       "}});\n",
       "\n",
       "// Listen for the removal of the full notebook cells\n",
       "var notebookContainer = gd.closest('#notebook-container');\n",
       "if (notebookContainer) {{\n",
       "    x.observe(notebookContainer, {childList: true});\n",
       "}}\n",
       "\n",
       "// Listen for the clearing of the current output cell\n",
       "var outputEl = gd.closest('.output');\n",
       "if (outputEl) {{\n",
       "    x.observe(outputEl, {childList: true});\n",
       "}}\n",
       "\n",
       "                        })                };                });            </script>        </div>"
      ]
     },
     "metadata": {},
     "output_type": "display_data"
    }
   ],
   "source": [
    "# Diabetes distribution\n",
    "\n",
    "d1 = dataset[(dataset['DEATH_EVENT']==0) & (dataset['diabetes'] == 0)]\n",
    "d2 = dataset[(dataset['DEATH_EVENT']==0) & (dataset['diabetes'] == 1)]\n",
    "d3 = dataset[(dataset['DEATH_EVENT']==1) & (dataset['diabetes'] == 0)]\n",
    "d4 = dataset[(dataset['DEATH_EVENT']==1) & (dataset['diabetes'] == 1)]\n",
    "\n",
    "label_1 = [\"No Diabetes\", 'Diabetes']\n",
    "label_2 = ['No Diabetes - Survived', 'Diabetes - Survived', 'No Diabetes - Died', 'Diabetes - Died']\n",
    "\n",
    "values_1 = [(len(d1) + len(d3)), (len(d2) + len(d4))]\n",
    "values_2 = [len(d1), len(d2), len(d3), len(d4)]\n",
    "\n",
    "fig = make_subplots(rows = 1, cols = 2, specs = [[{'type': 'domain'}, {'type': 'domain'}]])\n",
    "fig.add_trace(go.Pie(labels = label_1, values = values_1, name = 'Diabetes'), 1, 1)\n",
    "fig.add_trace(go.Pie(labels = label_2, values = values_2, name = 'Diabetes by Death Event'), 1, 2)\n",
    "\n",
    "# create donut pie chart\n",
    "fig.update_traces(hole = 0.4, hoverinfo = 'label+percent')\n",
    "\n",
    "fig.update_layout(\n",
    "    title_text = 'Diabetes Distribution',\n",
    "    # annotate center of donut\n",
    "    annotations = [dict(text = 'Diabetes', x = 0.19, y = 0.5, font_size = 10, showarrow = False),\n",
    "                    dict(text = 'Diabetes by Death Event', x = 0.84, y = 0.5, font_size = 8, showarrow = False)],\n",
    "    autosize = False, width = 1200, height = 500, paper_bgcolor = 'white'\n",
    ")\n",
    "\n",
    "fig.show()"
   ]
  },
  {
   "cell_type": "markdown",
   "id": "9f38f38f",
   "metadata": {},
   "source": [
    "We can conclude that 57.9% are non-diabetic, out of which 39.4% survived and 18.5% died, and 42.1% are diabetic, out of which 28.6% survived and 13.5% died."
   ]
  },
  {
   "cell_type": "code",
   "execution_count": 45,
   "id": "1bdb9a1f",
   "metadata": {},
   "outputs": [
    {
     "data": {
      "application/vnd.plotly.v1+json": {
       "config": {
        "plotlyServerURL": "https://plot.ly"
       },
       "data": [
        {
         "domain": {
          "x": [
           0,
           0.45
          ],
          "y": [
           0,
           1
          ]
         },
         "hole": 0.4,
         "hoverinfo": "label+percent",
         "labels": [
          "No Anaemia",
          "Anaemia"
         ],
         "name": "Anaemia",
         "type": "pie",
         "values": [
          169,
          128
         ]
        },
        {
         "domain": {
          "x": [
           0.55,
           1
          ],
          "y": [
           0,
           1
          ]
         },
         "hole": 0.4,
         "hoverinfo": "label+percent",
         "labels": [
          "No Anaemia - Survived",
          "No Anaemia - Died",
          "Anaemia - Survived",
          "Anaemia - Died"
         ],
         "name": "Anaemia by Death Event",
         "type": "pie",
         "values": [
          119,
          50,
          83,
          45
         ]
        }
       ],
       "layout": {
        "annotations": [
         {
          "font": {
           "size": 10
          },
          "showarrow": false,
          "text": "Anaemia",
          "x": 0.19,
          "y": 0.5
         },
         {
          "font": {
           "size": 8
          },
          "showarrow": false,
          "text": "Anaemia by Death Event",
          "x": 0.84,
          "y": 0.5
         }
        ],
        "autosize": false,
        "height": 500,
        "paper_bgcolor": "white",
        "template": {
         "data": {
          "bar": [
           {
            "error_x": {
             "color": "#2a3f5f"
            },
            "error_y": {
             "color": "#2a3f5f"
            },
            "marker": {
             "line": {
              "color": "#E5ECF6",
              "width": 0.5
             },
             "pattern": {
              "fillmode": "overlay",
              "size": 10,
              "solidity": 0.2
             }
            },
            "type": "bar"
           }
          ],
          "barpolar": [
           {
            "marker": {
             "line": {
              "color": "#E5ECF6",
              "width": 0.5
             },
             "pattern": {
              "fillmode": "overlay",
              "size": 10,
              "solidity": 0.2
             }
            },
            "type": "barpolar"
           }
          ],
          "carpet": [
           {
            "aaxis": {
             "endlinecolor": "#2a3f5f",
             "gridcolor": "white",
             "linecolor": "white",
             "minorgridcolor": "white",
             "startlinecolor": "#2a3f5f"
            },
            "baxis": {
             "endlinecolor": "#2a3f5f",
             "gridcolor": "white",
             "linecolor": "white",
             "minorgridcolor": "white",
             "startlinecolor": "#2a3f5f"
            },
            "type": "carpet"
           }
          ],
          "choropleth": [
           {
            "colorbar": {
             "outlinewidth": 0,
             "ticks": ""
            },
            "type": "choropleth"
           }
          ],
          "contour": [
           {
            "colorbar": {
             "outlinewidth": 0,
             "ticks": ""
            },
            "colorscale": [
             [
              0,
              "#0d0887"
             ],
             [
              0.1111111111111111,
              "#46039f"
             ],
             [
              0.2222222222222222,
              "#7201a8"
             ],
             [
              0.3333333333333333,
              "#9c179e"
             ],
             [
              0.4444444444444444,
              "#bd3786"
             ],
             [
              0.5555555555555556,
              "#d8576b"
             ],
             [
              0.6666666666666666,
              "#ed7953"
             ],
             [
              0.7777777777777778,
              "#fb9f3a"
             ],
             [
              0.8888888888888888,
              "#fdca26"
             ],
             [
              1,
              "#f0f921"
             ]
            ],
            "type": "contour"
           }
          ],
          "contourcarpet": [
           {
            "colorbar": {
             "outlinewidth": 0,
             "ticks": ""
            },
            "type": "contourcarpet"
           }
          ],
          "heatmap": [
           {
            "colorbar": {
             "outlinewidth": 0,
             "ticks": ""
            },
            "colorscale": [
             [
              0,
              "#0d0887"
             ],
             [
              0.1111111111111111,
              "#46039f"
             ],
             [
              0.2222222222222222,
              "#7201a8"
             ],
             [
              0.3333333333333333,
              "#9c179e"
             ],
             [
              0.4444444444444444,
              "#bd3786"
             ],
             [
              0.5555555555555556,
              "#d8576b"
             ],
             [
              0.6666666666666666,
              "#ed7953"
             ],
             [
              0.7777777777777778,
              "#fb9f3a"
             ],
             [
              0.8888888888888888,
              "#fdca26"
             ],
             [
              1,
              "#f0f921"
             ]
            ],
            "type": "heatmap"
           }
          ],
          "heatmapgl": [
           {
            "colorbar": {
             "outlinewidth": 0,
             "ticks": ""
            },
            "colorscale": [
             [
              0,
              "#0d0887"
             ],
             [
              0.1111111111111111,
              "#46039f"
             ],
             [
              0.2222222222222222,
              "#7201a8"
             ],
             [
              0.3333333333333333,
              "#9c179e"
             ],
             [
              0.4444444444444444,
              "#bd3786"
             ],
             [
              0.5555555555555556,
              "#d8576b"
             ],
             [
              0.6666666666666666,
              "#ed7953"
             ],
             [
              0.7777777777777778,
              "#fb9f3a"
             ],
             [
              0.8888888888888888,
              "#fdca26"
             ],
             [
              1,
              "#f0f921"
             ]
            ],
            "type": "heatmapgl"
           }
          ],
          "histogram": [
           {
            "marker": {
             "pattern": {
              "fillmode": "overlay",
              "size": 10,
              "solidity": 0.2
             }
            },
            "type": "histogram"
           }
          ],
          "histogram2d": [
           {
            "colorbar": {
             "outlinewidth": 0,
             "ticks": ""
            },
            "colorscale": [
             [
              0,
              "#0d0887"
             ],
             [
              0.1111111111111111,
              "#46039f"
             ],
             [
              0.2222222222222222,
              "#7201a8"
             ],
             [
              0.3333333333333333,
              "#9c179e"
             ],
             [
              0.4444444444444444,
              "#bd3786"
             ],
             [
              0.5555555555555556,
              "#d8576b"
             ],
             [
              0.6666666666666666,
              "#ed7953"
             ],
             [
              0.7777777777777778,
              "#fb9f3a"
             ],
             [
              0.8888888888888888,
              "#fdca26"
             ],
             [
              1,
              "#f0f921"
             ]
            ],
            "type": "histogram2d"
           }
          ],
          "histogram2dcontour": [
           {
            "colorbar": {
             "outlinewidth": 0,
             "ticks": ""
            },
            "colorscale": [
             [
              0,
              "#0d0887"
             ],
             [
              0.1111111111111111,
              "#46039f"
             ],
             [
              0.2222222222222222,
              "#7201a8"
             ],
             [
              0.3333333333333333,
              "#9c179e"
             ],
             [
              0.4444444444444444,
              "#bd3786"
             ],
             [
              0.5555555555555556,
              "#d8576b"
             ],
             [
              0.6666666666666666,
              "#ed7953"
             ],
             [
              0.7777777777777778,
              "#fb9f3a"
             ],
             [
              0.8888888888888888,
              "#fdca26"
             ],
             [
              1,
              "#f0f921"
             ]
            ],
            "type": "histogram2dcontour"
           }
          ],
          "mesh3d": [
           {
            "colorbar": {
             "outlinewidth": 0,
             "ticks": ""
            },
            "type": "mesh3d"
           }
          ],
          "parcoords": [
           {
            "line": {
             "colorbar": {
              "outlinewidth": 0,
              "ticks": ""
             }
            },
            "type": "parcoords"
           }
          ],
          "pie": [
           {
            "automargin": true,
            "type": "pie"
           }
          ],
          "scatter": [
           {
            "fillpattern": {
             "fillmode": "overlay",
             "size": 10,
             "solidity": 0.2
            },
            "type": "scatter"
           }
          ],
          "scatter3d": [
           {
            "line": {
             "colorbar": {
              "outlinewidth": 0,
              "ticks": ""
             }
            },
            "marker": {
             "colorbar": {
              "outlinewidth": 0,
              "ticks": ""
             }
            },
            "type": "scatter3d"
           }
          ],
          "scattercarpet": [
           {
            "marker": {
             "colorbar": {
              "outlinewidth": 0,
              "ticks": ""
             }
            },
            "type": "scattercarpet"
           }
          ],
          "scattergeo": [
           {
            "marker": {
             "colorbar": {
              "outlinewidth": 0,
              "ticks": ""
             }
            },
            "type": "scattergeo"
           }
          ],
          "scattergl": [
           {
            "marker": {
             "colorbar": {
              "outlinewidth": 0,
              "ticks": ""
             }
            },
            "type": "scattergl"
           }
          ],
          "scattermapbox": [
           {
            "marker": {
             "colorbar": {
              "outlinewidth": 0,
              "ticks": ""
             }
            },
            "type": "scattermapbox"
           }
          ],
          "scatterpolar": [
           {
            "marker": {
             "colorbar": {
              "outlinewidth": 0,
              "ticks": ""
             }
            },
            "type": "scatterpolar"
           }
          ],
          "scatterpolargl": [
           {
            "marker": {
             "colorbar": {
              "outlinewidth": 0,
              "ticks": ""
             }
            },
            "type": "scatterpolargl"
           }
          ],
          "scatterternary": [
           {
            "marker": {
             "colorbar": {
              "outlinewidth": 0,
              "ticks": ""
             }
            },
            "type": "scatterternary"
           }
          ],
          "surface": [
           {
            "colorbar": {
             "outlinewidth": 0,
             "ticks": ""
            },
            "colorscale": [
             [
              0,
              "#0d0887"
             ],
             [
              0.1111111111111111,
              "#46039f"
             ],
             [
              0.2222222222222222,
              "#7201a8"
             ],
             [
              0.3333333333333333,
              "#9c179e"
             ],
             [
              0.4444444444444444,
              "#bd3786"
             ],
             [
              0.5555555555555556,
              "#d8576b"
             ],
             [
              0.6666666666666666,
              "#ed7953"
             ],
             [
              0.7777777777777778,
              "#fb9f3a"
             ],
             [
              0.8888888888888888,
              "#fdca26"
             ],
             [
              1,
              "#f0f921"
             ]
            ],
            "type": "surface"
           }
          ],
          "table": [
           {
            "cells": {
             "fill": {
              "color": "#EBF0F8"
             },
             "line": {
              "color": "white"
             }
            },
            "header": {
             "fill": {
              "color": "#C8D4E3"
             },
             "line": {
              "color": "white"
             }
            },
            "type": "table"
           }
          ]
         },
         "layout": {
          "annotationdefaults": {
           "arrowcolor": "#2a3f5f",
           "arrowhead": 0,
           "arrowwidth": 1
          },
          "autotypenumbers": "strict",
          "coloraxis": {
           "colorbar": {
            "outlinewidth": 0,
            "ticks": ""
           }
          },
          "colorscale": {
           "diverging": [
            [
             0,
             "#8e0152"
            ],
            [
             0.1,
             "#c51b7d"
            ],
            [
             0.2,
             "#de77ae"
            ],
            [
             0.3,
             "#f1b6da"
            ],
            [
             0.4,
             "#fde0ef"
            ],
            [
             0.5,
             "#f7f7f7"
            ],
            [
             0.6,
             "#e6f5d0"
            ],
            [
             0.7,
             "#b8e186"
            ],
            [
             0.8,
             "#7fbc41"
            ],
            [
             0.9,
             "#4d9221"
            ],
            [
             1,
             "#276419"
            ]
           ],
           "sequential": [
            [
             0,
             "#0d0887"
            ],
            [
             0.1111111111111111,
             "#46039f"
            ],
            [
             0.2222222222222222,
             "#7201a8"
            ],
            [
             0.3333333333333333,
             "#9c179e"
            ],
            [
             0.4444444444444444,
             "#bd3786"
            ],
            [
             0.5555555555555556,
             "#d8576b"
            ],
            [
             0.6666666666666666,
             "#ed7953"
            ],
            [
             0.7777777777777778,
             "#fb9f3a"
            ],
            [
             0.8888888888888888,
             "#fdca26"
            ],
            [
             1,
             "#f0f921"
            ]
           ],
           "sequentialminus": [
            [
             0,
             "#0d0887"
            ],
            [
             0.1111111111111111,
             "#46039f"
            ],
            [
             0.2222222222222222,
             "#7201a8"
            ],
            [
             0.3333333333333333,
             "#9c179e"
            ],
            [
             0.4444444444444444,
             "#bd3786"
            ],
            [
             0.5555555555555556,
             "#d8576b"
            ],
            [
             0.6666666666666666,
             "#ed7953"
            ],
            [
             0.7777777777777778,
             "#fb9f3a"
            ],
            [
             0.8888888888888888,
             "#fdca26"
            ],
            [
             1,
             "#f0f921"
            ]
           ]
          },
          "colorway": [
           "#636efa",
           "#EF553B",
           "#00cc96",
           "#ab63fa",
           "#FFA15A",
           "#19d3f3",
           "#FF6692",
           "#B6E880",
           "#FF97FF",
           "#FECB52"
          ],
          "font": {
           "color": "#2a3f5f"
          },
          "geo": {
           "bgcolor": "white",
           "lakecolor": "white",
           "landcolor": "#E5ECF6",
           "showlakes": true,
           "showland": true,
           "subunitcolor": "white"
          },
          "hoverlabel": {
           "align": "left"
          },
          "hovermode": "closest",
          "mapbox": {
           "style": "light"
          },
          "paper_bgcolor": "white",
          "plot_bgcolor": "#E5ECF6",
          "polar": {
           "angularaxis": {
            "gridcolor": "white",
            "linecolor": "white",
            "ticks": ""
           },
           "bgcolor": "#E5ECF6",
           "radialaxis": {
            "gridcolor": "white",
            "linecolor": "white",
            "ticks": ""
           }
          },
          "scene": {
           "xaxis": {
            "backgroundcolor": "#E5ECF6",
            "gridcolor": "white",
            "gridwidth": 2,
            "linecolor": "white",
            "showbackground": true,
            "ticks": "",
            "zerolinecolor": "white"
           },
           "yaxis": {
            "backgroundcolor": "#E5ECF6",
            "gridcolor": "white",
            "gridwidth": 2,
            "linecolor": "white",
            "showbackground": true,
            "ticks": "",
            "zerolinecolor": "white"
           },
           "zaxis": {
            "backgroundcolor": "#E5ECF6",
            "gridcolor": "white",
            "gridwidth": 2,
            "linecolor": "white",
            "showbackground": true,
            "ticks": "",
            "zerolinecolor": "white"
           }
          },
          "shapedefaults": {
           "line": {
            "color": "#2a3f5f"
           }
          },
          "ternary": {
           "aaxis": {
            "gridcolor": "white",
            "linecolor": "white",
            "ticks": ""
           },
           "baxis": {
            "gridcolor": "white",
            "linecolor": "white",
            "ticks": ""
           },
           "bgcolor": "#E5ECF6",
           "caxis": {
            "gridcolor": "white",
            "linecolor": "white",
            "ticks": ""
           }
          },
          "title": {
           "x": 0.05
          },
          "xaxis": {
           "automargin": true,
           "gridcolor": "white",
           "linecolor": "white",
           "ticks": "",
           "title": {
            "standoff": 15
           },
           "zerolinecolor": "white",
           "zerolinewidth": 2
          },
          "yaxis": {
           "automargin": true,
           "gridcolor": "white",
           "linecolor": "white",
           "ticks": "",
           "title": {
            "standoff": 15
           },
           "zerolinecolor": "white",
           "zerolinewidth": 2
          }
         }
        },
        "title": {
         "text": "Anaemia Distribution"
        },
        "width": 1200
       }
      },
      "text/html": [
       "<div>                            <div id=\"4ab3ae31-9abb-4d50-962a-3f3c6f4503a2\" class=\"plotly-graph-div\" style=\"height:500px; width:1200px;\"></div>            <script type=\"text/javascript\">                require([\"plotly\"], function(Plotly) {                    window.PLOTLYENV=window.PLOTLYENV || {};                                    if (document.getElementById(\"4ab3ae31-9abb-4d50-962a-3f3c6f4503a2\")) {                    Plotly.newPlot(                        \"4ab3ae31-9abb-4d50-962a-3f3c6f4503a2\",                        [{\"labels\":[\"No Anaemia\",\"Anaemia\"],\"name\":\"Anaemia\",\"values\":[169,128],\"type\":\"pie\",\"domain\":{\"x\":[0.0,0.45],\"y\":[0.0,1.0]},\"hole\":0.4,\"hoverinfo\":\"label+percent\"},{\"labels\":[\"No Anaemia - Survived\",\"No Anaemia - Died\",\"Anaemia - Survived\",\"Anaemia - Died\"],\"name\":\"Anaemia by Death Event\",\"values\":[119,50,83,45],\"type\":\"pie\",\"domain\":{\"x\":[0.55,1.0],\"y\":[0.0,1.0]},\"hole\":0.4,\"hoverinfo\":\"label+percent\"}],                        {\"template\":{\"data\":{\"histogram2dcontour\":[{\"type\":\"histogram2dcontour\",\"colorbar\":{\"outlinewidth\":0,\"ticks\":\"\"},\"colorscale\":[[0.0,\"#0d0887\"],[0.1111111111111111,\"#46039f\"],[0.2222222222222222,\"#7201a8\"],[0.3333333333333333,\"#9c179e\"],[0.4444444444444444,\"#bd3786\"],[0.5555555555555556,\"#d8576b\"],[0.6666666666666666,\"#ed7953\"],[0.7777777777777778,\"#fb9f3a\"],[0.8888888888888888,\"#fdca26\"],[1.0,\"#f0f921\"]]}],\"choropleth\":[{\"type\":\"choropleth\",\"colorbar\":{\"outlinewidth\":0,\"ticks\":\"\"}}],\"histogram2d\":[{\"type\":\"histogram2d\",\"colorbar\":{\"outlinewidth\":0,\"ticks\":\"\"},\"colorscale\":[[0.0,\"#0d0887\"],[0.1111111111111111,\"#46039f\"],[0.2222222222222222,\"#7201a8\"],[0.3333333333333333,\"#9c179e\"],[0.4444444444444444,\"#bd3786\"],[0.5555555555555556,\"#d8576b\"],[0.6666666666666666,\"#ed7953\"],[0.7777777777777778,\"#fb9f3a\"],[0.8888888888888888,\"#fdca26\"],[1.0,\"#f0f921\"]]}],\"heatmap\":[{\"type\":\"heatmap\",\"colorbar\":{\"outlinewidth\":0,\"ticks\":\"\"},\"colorscale\":[[0.0,\"#0d0887\"],[0.1111111111111111,\"#46039f\"],[0.2222222222222222,\"#7201a8\"],[0.3333333333333333,\"#9c179e\"],[0.4444444444444444,\"#bd3786\"],[0.5555555555555556,\"#d8576b\"],[0.6666666666666666,\"#ed7953\"],[0.7777777777777778,\"#fb9f3a\"],[0.8888888888888888,\"#fdca26\"],[1.0,\"#f0f921\"]]}],\"heatmapgl\":[{\"type\":\"heatmapgl\",\"colorbar\":{\"outlinewidth\":0,\"ticks\":\"\"},\"colorscale\":[[0.0,\"#0d0887\"],[0.1111111111111111,\"#46039f\"],[0.2222222222222222,\"#7201a8\"],[0.3333333333333333,\"#9c179e\"],[0.4444444444444444,\"#bd3786\"],[0.5555555555555556,\"#d8576b\"],[0.6666666666666666,\"#ed7953\"],[0.7777777777777778,\"#fb9f3a\"],[0.8888888888888888,\"#fdca26\"],[1.0,\"#f0f921\"]]}],\"contourcarpet\":[{\"type\":\"contourcarpet\",\"colorbar\":{\"outlinewidth\":0,\"ticks\":\"\"}}],\"contour\":[{\"type\":\"contour\",\"colorbar\":{\"outlinewidth\":0,\"ticks\":\"\"},\"colorscale\":[[0.0,\"#0d0887\"],[0.1111111111111111,\"#46039f\"],[0.2222222222222222,\"#7201a8\"],[0.3333333333333333,\"#9c179e\"],[0.4444444444444444,\"#bd3786\"],[0.5555555555555556,\"#d8576b\"],[0.6666666666666666,\"#ed7953\"],[0.7777777777777778,\"#fb9f3a\"],[0.8888888888888888,\"#fdca26\"],[1.0,\"#f0f921\"]]}],\"surface\":[{\"type\":\"surface\",\"colorbar\":{\"outlinewidth\":0,\"ticks\":\"\"},\"colorscale\":[[0.0,\"#0d0887\"],[0.1111111111111111,\"#46039f\"],[0.2222222222222222,\"#7201a8\"],[0.3333333333333333,\"#9c179e\"],[0.4444444444444444,\"#bd3786\"],[0.5555555555555556,\"#d8576b\"],[0.6666666666666666,\"#ed7953\"],[0.7777777777777778,\"#fb9f3a\"],[0.8888888888888888,\"#fdca26\"],[1.0,\"#f0f921\"]]}],\"mesh3d\":[{\"type\":\"mesh3d\",\"colorbar\":{\"outlinewidth\":0,\"ticks\":\"\"}}],\"scatter\":[{\"fillpattern\":{\"fillmode\":\"overlay\",\"size\":10,\"solidity\":0.2},\"type\":\"scatter\"}],\"parcoords\":[{\"type\":\"parcoords\",\"line\":{\"colorbar\":{\"outlinewidth\":0,\"ticks\":\"\"}}}],\"scatterpolargl\":[{\"type\":\"scatterpolargl\",\"marker\":{\"colorbar\":{\"outlinewidth\":0,\"ticks\":\"\"}}}],\"bar\":[{\"error_x\":{\"color\":\"#2a3f5f\"},\"error_y\":{\"color\":\"#2a3f5f\"},\"marker\":{\"line\":{\"color\":\"#E5ECF6\",\"width\":0.5},\"pattern\":{\"fillmode\":\"overlay\",\"size\":10,\"solidity\":0.2}},\"type\":\"bar\"}],\"scattergeo\":[{\"type\":\"scattergeo\",\"marker\":{\"colorbar\":{\"outlinewidth\":0,\"ticks\":\"\"}}}],\"scatterpolar\":[{\"type\":\"scatterpolar\",\"marker\":{\"colorbar\":{\"outlinewidth\":0,\"ticks\":\"\"}}}],\"histogram\":[{\"marker\":{\"pattern\":{\"fillmode\":\"overlay\",\"size\":10,\"solidity\":0.2}},\"type\":\"histogram\"}],\"scattergl\":[{\"type\":\"scattergl\",\"marker\":{\"colorbar\":{\"outlinewidth\":0,\"ticks\":\"\"}}}],\"scatter3d\":[{\"type\":\"scatter3d\",\"line\":{\"colorbar\":{\"outlinewidth\":0,\"ticks\":\"\"}},\"marker\":{\"colorbar\":{\"outlinewidth\":0,\"ticks\":\"\"}}}],\"scattermapbox\":[{\"type\":\"scattermapbox\",\"marker\":{\"colorbar\":{\"outlinewidth\":0,\"ticks\":\"\"}}}],\"scatterternary\":[{\"type\":\"scatterternary\",\"marker\":{\"colorbar\":{\"outlinewidth\":0,\"ticks\":\"\"}}}],\"scattercarpet\":[{\"type\":\"scattercarpet\",\"marker\":{\"colorbar\":{\"outlinewidth\":0,\"ticks\":\"\"}}}],\"carpet\":[{\"aaxis\":{\"endlinecolor\":\"#2a3f5f\",\"gridcolor\":\"white\",\"linecolor\":\"white\",\"minorgridcolor\":\"white\",\"startlinecolor\":\"#2a3f5f\"},\"baxis\":{\"endlinecolor\":\"#2a3f5f\",\"gridcolor\":\"white\",\"linecolor\":\"white\",\"minorgridcolor\":\"white\",\"startlinecolor\":\"#2a3f5f\"},\"type\":\"carpet\"}],\"table\":[{\"cells\":{\"fill\":{\"color\":\"#EBF0F8\"},\"line\":{\"color\":\"white\"}},\"header\":{\"fill\":{\"color\":\"#C8D4E3\"},\"line\":{\"color\":\"white\"}},\"type\":\"table\"}],\"barpolar\":[{\"marker\":{\"line\":{\"color\":\"#E5ECF6\",\"width\":0.5},\"pattern\":{\"fillmode\":\"overlay\",\"size\":10,\"solidity\":0.2}},\"type\":\"barpolar\"}],\"pie\":[{\"automargin\":true,\"type\":\"pie\"}]},\"layout\":{\"autotypenumbers\":\"strict\",\"colorway\":[\"#636efa\",\"#EF553B\",\"#00cc96\",\"#ab63fa\",\"#FFA15A\",\"#19d3f3\",\"#FF6692\",\"#B6E880\",\"#FF97FF\",\"#FECB52\"],\"font\":{\"color\":\"#2a3f5f\"},\"hovermode\":\"closest\",\"hoverlabel\":{\"align\":\"left\"},\"paper_bgcolor\":\"white\",\"plot_bgcolor\":\"#E5ECF6\",\"polar\":{\"bgcolor\":\"#E5ECF6\",\"angularaxis\":{\"gridcolor\":\"white\",\"linecolor\":\"white\",\"ticks\":\"\"},\"radialaxis\":{\"gridcolor\":\"white\",\"linecolor\":\"white\",\"ticks\":\"\"}},\"ternary\":{\"bgcolor\":\"#E5ECF6\",\"aaxis\":{\"gridcolor\":\"white\",\"linecolor\":\"white\",\"ticks\":\"\"},\"baxis\":{\"gridcolor\":\"white\",\"linecolor\":\"white\",\"ticks\":\"\"},\"caxis\":{\"gridcolor\":\"white\",\"linecolor\":\"white\",\"ticks\":\"\"}},\"coloraxis\":{\"colorbar\":{\"outlinewidth\":0,\"ticks\":\"\"}},\"colorscale\":{\"sequential\":[[0.0,\"#0d0887\"],[0.1111111111111111,\"#46039f\"],[0.2222222222222222,\"#7201a8\"],[0.3333333333333333,\"#9c179e\"],[0.4444444444444444,\"#bd3786\"],[0.5555555555555556,\"#d8576b\"],[0.6666666666666666,\"#ed7953\"],[0.7777777777777778,\"#fb9f3a\"],[0.8888888888888888,\"#fdca26\"],[1.0,\"#f0f921\"]],\"sequentialminus\":[[0.0,\"#0d0887\"],[0.1111111111111111,\"#46039f\"],[0.2222222222222222,\"#7201a8\"],[0.3333333333333333,\"#9c179e\"],[0.4444444444444444,\"#bd3786\"],[0.5555555555555556,\"#d8576b\"],[0.6666666666666666,\"#ed7953\"],[0.7777777777777778,\"#fb9f3a\"],[0.8888888888888888,\"#fdca26\"],[1.0,\"#f0f921\"]],\"diverging\":[[0,\"#8e0152\"],[0.1,\"#c51b7d\"],[0.2,\"#de77ae\"],[0.3,\"#f1b6da\"],[0.4,\"#fde0ef\"],[0.5,\"#f7f7f7\"],[0.6,\"#e6f5d0\"],[0.7,\"#b8e186\"],[0.8,\"#7fbc41\"],[0.9,\"#4d9221\"],[1,\"#276419\"]]},\"xaxis\":{\"gridcolor\":\"white\",\"linecolor\":\"white\",\"ticks\":\"\",\"title\":{\"standoff\":15},\"zerolinecolor\":\"white\",\"automargin\":true,\"zerolinewidth\":2},\"yaxis\":{\"gridcolor\":\"white\",\"linecolor\":\"white\",\"ticks\":\"\",\"title\":{\"standoff\":15},\"zerolinecolor\":\"white\",\"automargin\":true,\"zerolinewidth\":2},\"scene\":{\"xaxis\":{\"backgroundcolor\":\"#E5ECF6\",\"gridcolor\":\"white\",\"linecolor\":\"white\",\"showbackground\":true,\"ticks\":\"\",\"zerolinecolor\":\"white\",\"gridwidth\":2},\"yaxis\":{\"backgroundcolor\":\"#E5ECF6\",\"gridcolor\":\"white\",\"linecolor\":\"white\",\"showbackground\":true,\"ticks\":\"\",\"zerolinecolor\":\"white\",\"gridwidth\":2},\"zaxis\":{\"backgroundcolor\":\"#E5ECF6\",\"gridcolor\":\"white\",\"linecolor\":\"white\",\"showbackground\":true,\"ticks\":\"\",\"zerolinecolor\":\"white\",\"gridwidth\":2}},\"shapedefaults\":{\"line\":{\"color\":\"#2a3f5f\"}},\"annotationdefaults\":{\"arrowcolor\":\"#2a3f5f\",\"arrowhead\":0,\"arrowwidth\":1},\"geo\":{\"bgcolor\":\"white\",\"landcolor\":\"#E5ECF6\",\"subunitcolor\":\"white\",\"showland\":true,\"showlakes\":true,\"lakecolor\":\"white\"},\"title\":{\"x\":0.05},\"mapbox\":{\"style\":\"light\"}}},\"title\":{\"text\":\"Anaemia Distribution\"},\"annotations\":[{\"showarrow\":false,\"text\":\"Anaemia\",\"x\":0.19,\"y\":0.5,\"font\":{\"size\":10}},{\"showarrow\":false,\"text\":\"Anaemia by Death Event\",\"x\":0.84,\"y\":0.5,\"font\":{\"size\":8}}],\"autosize\":false,\"width\":1200,\"height\":500,\"paper_bgcolor\":\"white\"},                        {\"responsive\": true}                    ).then(function(){\n",
       "                            \n",
       "var gd = document.getElementById('4ab3ae31-9abb-4d50-962a-3f3c6f4503a2');\n",
       "var x = new MutationObserver(function (mutations, observer) {{\n",
       "        var display = window.getComputedStyle(gd).display;\n",
       "        if (!display || display === 'none') {{\n",
       "            console.log([gd, 'removed!']);\n",
       "            Plotly.purge(gd);\n",
       "            observer.disconnect();\n",
       "        }}\n",
       "}});\n",
       "\n",
       "// Listen for the removal of the full notebook cells\n",
       "var notebookContainer = gd.closest('#notebook-container');\n",
       "if (notebookContainer) {{\n",
       "    x.observe(notebookContainer, {childList: true});\n",
       "}}\n",
       "\n",
       "// Listen for the clearing of the current output cell\n",
       "var outputEl = gd.closest('.output');\n",
       "if (outputEl) {{\n",
       "    x.observe(outputEl, {childList: true});\n",
       "}}\n",
       "\n",
       "                        })                };                });            </script>        </div>"
      ]
     },
     "metadata": {},
     "output_type": "display_data"
    }
   ],
   "source": [
    "# Anaemia Distribution\n",
    "\n",
    "d1 = dataset[(dataset['DEATH_EVENT']==0) & (dataset['anaemia'] == 0)]\n",
    "d2 = dataset[(dataset['DEATH_EVENT']==1) & (dataset['anaemia'] == 0)]\n",
    "d3 = dataset[(dataset['DEATH_EVENT']==0) & (dataset['anaemia'] == 1)]\n",
    "d4 = dataset[(dataset['DEATH_EVENT']==1) & (dataset['anaemia'] == 1)]\n",
    "\n",
    "label_1 = ['No Anaemia', 'Anaemia']\n",
    "label_2 = ['No Anaemia - Survived', 'No Anaemia - Died', 'Anaemia - Survived', 'Anaemia - Died']\n",
    "\n",
    "values_1 = [(len(d1) + len(d2)), (len(d3) + len(d4))]\n",
    "values_2 = [len(d1), len(d2), len(d3), len(d4)]\n",
    "\n",
    "fig = make_subplots(rows = 1, cols = 2, specs = [[{'type': 'domain'}, {'type': 'domain'}]])\n",
    "fig.add_trace(go.Pie(labels = label_1, values = values_1, name = 'Anaemia'), 1, 1)\n",
    "fig.add_trace(go.Pie(labels = label_2, values = values_2, name = 'Anaemia by Death Event'), 1, 2)\n",
    "\n",
    "fig.update_traces(hole = 0.4, hoverinfo = 'label+percent')\n",
    "\n",
    "fig.update_layout(\n",
    "    title_text = 'Anaemia Distribution',\n",
    "    # annotate center of donut\n",
    "    annotations = [dict(text = 'Anaemia', x = 0.19, y = 0.5, font_size = 10, showarrow = False),\n",
    "                    dict(text = 'Anaemia by Death Event', x = 0.84, y = 0.5, font_size = 8, showarrow = False)],\n",
    "    autosize = False, width = 1200, height = 500, paper_bgcolor = 'white'\n",
    ")\n",
    "\n",
    "fig.show()"
   ]
  },
  {
   "cell_type": "markdown",
   "id": "70ebfb92",
   "metadata": {},
   "source": [
    "We can conclude that 56.9% of the dataset is non-anaemic, out of which 40.1% survived and 16.8% died, and 43.1% are anaemic, out of which 27.9% survived and 15.2% died."
   ]
  },
  {
   "cell_type": "code",
   "execution_count": 46,
   "id": "fe12ce78",
   "metadata": {},
   "outputs": [
    {
     "data": {
      "application/vnd.plotly.v1+json": {
       "config": {
        "plotlyServerURL": "https://plot.ly"
       },
       "data": [
        {
         "domain": {
          "x": [
           0,
           0.45
          ],
          "y": [
           0,
           1
          ]
         },
         "hole": 0.4,
         "hoverinfo": "label+percent",
         "labels": [
          "No High BP",
          "High BP"
         ],
         "name": "High BP",
         "type": "pie",
         "values": [
          193,
          104
         ]
        },
        {
         "domain": {
          "x": [
           0.55,
           1
          ],
          "y": [
           0,
           1
          ]
         },
         "hole": 0.4,
         "hoverinfo": "label+percent",
         "labels": [
          "No High BP - Survived",
          "No High BP - Died",
          "High BP - Survived",
          "High BP - Died"
         ],
         "name": "High BP by Death Event",
         "type": "pie",
         "values": [
          136,
          57,
          66,
          38
         ]
        }
       ],
       "layout": {
        "annotations": [
         {
          "font": {
           "size": 10
          },
          "showarrow": false,
          "text": "High BP",
          "x": 0.19,
          "y": 0.5
         },
         {
          "font": {
           "size": 8
          },
          "showarrow": false,
          "text": "High BP by Death Event",
          "x": 0.84,
          "y": 0.5
         }
        ],
        "autosize": false,
        "height": 500,
        "paper_bgcolor": "white",
        "template": {
         "data": {
          "bar": [
           {
            "error_x": {
             "color": "#2a3f5f"
            },
            "error_y": {
             "color": "#2a3f5f"
            },
            "marker": {
             "line": {
              "color": "#E5ECF6",
              "width": 0.5
             },
             "pattern": {
              "fillmode": "overlay",
              "size": 10,
              "solidity": 0.2
             }
            },
            "type": "bar"
           }
          ],
          "barpolar": [
           {
            "marker": {
             "line": {
              "color": "#E5ECF6",
              "width": 0.5
             },
             "pattern": {
              "fillmode": "overlay",
              "size": 10,
              "solidity": 0.2
             }
            },
            "type": "barpolar"
           }
          ],
          "carpet": [
           {
            "aaxis": {
             "endlinecolor": "#2a3f5f",
             "gridcolor": "white",
             "linecolor": "white",
             "minorgridcolor": "white",
             "startlinecolor": "#2a3f5f"
            },
            "baxis": {
             "endlinecolor": "#2a3f5f",
             "gridcolor": "white",
             "linecolor": "white",
             "minorgridcolor": "white",
             "startlinecolor": "#2a3f5f"
            },
            "type": "carpet"
           }
          ],
          "choropleth": [
           {
            "colorbar": {
             "outlinewidth": 0,
             "ticks": ""
            },
            "type": "choropleth"
           }
          ],
          "contour": [
           {
            "colorbar": {
             "outlinewidth": 0,
             "ticks": ""
            },
            "colorscale": [
             [
              0,
              "#0d0887"
             ],
             [
              0.1111111111111111,
              "#46039f"
             ],
             [
              0.2222222222222222,
              "#7201a8"
             ],
             [
              0.3333333333333333,
              "#9c179e"
             ],
             [
              0.4444444444444444,
              "#bd3786"
             ],
             [
              0.5555555555555556,
              "#d8576b"
             ],
             [
              0.6666666666666666,
              "#ed7953"
             ],
             [
              0.7777777777777778,
              "#fb9f3a"
             ],
             [
              0.8888888888888888,
              "#fdca26"
             ],
             [
              1,
              "#f0f921"
             ]
            ],
            "type": "contour"
           }
          ],
          "contourcarpet": [
           {
            "colorbar": {
             "outlinewidth": 0,
             "ticks": ""
            },
            "type": "contourcarpet"
           }
          ],
          "heatmap": [
           {
            "colorbar": {
             "outlinewidth": 0,
             "ticks": ""
            },
            "colorscale": [
             [
              0,
              "#0d0887"
             ],
             [
              0.1111111111111111,
              "#46039f"
             ],
             [
              0.2222222222222222,
              "#7201a8"
             ],
             [
              0.3333333333333333,
              "#9c179e"
             ],
             [
              0.4444444444444444,
              "#bd3786"
             ],
             [
              0.5555555555555556,
              "#d8576b"
             ],
             [
              0.6666666666666666,
              "#ed7953"
             ],
             [
              0.7777777777777778,
              "#fb9f3a"
             ],
             [
              0.8888888888888888,
              "#fdca26"
             ],
             [
              1,
              "#f0f921"
             ]
            ],
            "type": "heatmap"
           }
          ],
          "heatmapgl": [
           {
            "colorbar": {
             "outlinewidth": 0,
             "ticks": ""
            },
            "colorscale": [
             [
              0,
              "#0d0887"
             ],
             [
              0.1111111111111111,
              "#46039f"
             ],
             [
              0.2222222222222222,
              "#7201a8"
             ],
             [
              0.3333333333333333,
              "#9c179e"
             ],
             [
              0.4444444444444444,
              "#bd3786"
             ],
             [
              0.5555555555555556,
              "#d8576b"
             ],
             [
              0.6666666666666666,
              "#ed7953"
             ],
             [
              0.7777777777777778,
              "#fb9f3a"
             ],
             [
              0.8888888888888888,
              "#fdca26"
             ],
             [
              1,
              "#f0f921"
             ]
            ],
            "type": "heatmapgl"
           }
          ],
          "histogram": [
           {
            "marker": {
             "pattern": {
              "fillmode": "overlay",
              "size": 10,
              "solidity": 0.2
             }
            },
            "type": "histogram"
           }
          ],
          "histogram2d": [
           {
            "colorbar": {
             "outlinewidth": 0,
             "ticks": ""
            },
            "colorscale": [
             [
              0,
              "#0d0887"
             ],
             [
              0.1111111111111111,
              "#46039f"
             ],
             [
              0.2222222222222222,
              "#7201a8"
             ],
             [
              0.3333333333333333,
              "#9c179e"
             ],
             [
              0.4444444444444444,
              "#bd3786"
             ],
             [
              0.5555555555555556,
              "#d8576b"
             ],
             [
              0.6666666666666666,
              "#ed7953"
             ],
             [
              0.7777777777777778,
              "#fb9f3a"
             ],
             [
              0.8888888888888888,
              "#fdca26"
             ],
             [
              1,
              "#f0f921"
             ]
            ],
            "type": "histogram2d"
           }
          ],
          "histogram2dcontour": [
           {
            "colorbar": {
             "outlinewidth": 0,
             "ticks": ""
            },
            "colorscale": [
             [
              0,
              "#0d0887"
             ],
             [
              0.1111111111111111,
              "#46039f"
             ],
             [
              0.2222222222222222,
              "#7201a8"
             ],
             [
              0.3333333333333333,
              "#9c179e"
             ],
             [
              0.4444444444444444,
              "#bd3786"
             ],
             [
              0.5555555555555556,
              "#d8576b"
             ],
             [
              0.6666666666666666,
              "#ed7953"
             ],
             [
              0.7777777777777778,
              "#fb9f3a"
             ],
             [
              0.8888888888888888,
              "#fdca26"
             ],
             [
              1,
              "#f0f921"
             ]
            ],
            "type": "histogram2dcontour"
           }
          ],
          "mesh3d": [
           {
            "colorbar": {
             "outlinewidth": 0,
             "ticks": ""
            },
            "type": "mesh3d"
           }
          ],
          "parcoords": [
           {
            "line": {
             "colorbar": {
              "outlinewidth": 0,
              "ticks": ""
             }
            },
            "type": "parcoords"
           }
          ],
          "pie": [
           {
            "automargin": true,
            "type": "pie"
           }
          ],
          "scatter": [
           {
            "fillpattern": {
             "fillmode": "overlay",
             "size": 10,
             "solidity": 0.2
            },
            "type": "scatter"
           }
          ],
          "scatter3d": [
           {
            "line": {
             "colorbar": {
              "outlinewidth": 0,
              "ticks": ""
             }
            },
            "marker": {
             "colorbar": {
              "outlinewidth": 0,
              "ticks": ""
             }
            },
            "type": "scatter3d"
           }
          ],
          "scattercarpet": [
           {
            "marker": {
             "colorbar": {
              "outlinewidth": 0,
              "ticks": ""
             }
            },
            "type": "scattercarpet"
           }
          ],
          "scattergeo": [
           {
            "marker": {
             "colorbar": {
              "outlinewidth": 0,
              "ticks": ""
             }
            },
            "type": "scattergeo"
           }
          ],
          "scattergl": [
           {
            "marker": {
             "colorbar": {
              "outlinewidth": 0,
              "ticks": ""
             }
            },
            "type": "scattergl"
           }
          ],
          "scattermapbox": [
           {
            "marker": {
             "colorbar": {
              "outlinewidth": 0,
              "ticks": ""
             }
            },
            "type": "scattermapbox"
           }
          ],
          "scatterpolar": [
           {
            "marker": {
             "colorbar": {
              "outlinewidth": 0,
              "ticks": ""
             }
            },
            "type": "scatterpolar"
           }
          ],
          "scatterpolargl": [
           {
            "marker": {
             "colorbar": {
              "outlinewidth": 0,
              "ticks": ""
             }
            },
            "type": "scatterpolargl"
           }
          ],
          "scatterternary": [
           {
            "marker": {
             "colorbar": {
              "outlinewidth": 0,
              "ticks": ""
             }
            },
            "type": "scatterternary"
           }
          ],
          "surface": [
           {
            "colorbar": {
             "outlinewidth": 0,
             "ticks": ""
            },
            "colorscale": [
             [
              0,
              "#0d0887"
             ],
             [
              0.1111111111111111,
              "#46039f"
             ],
             [
              0.2222222222222222,
              "#7201a8"
             ],
             [
              0.3333333333333333,
              "#9c179e"
             ],
             [
              0.4444444444444444,
              "#bd3786"
             ],
             [
              0.5555555555555556,
              "#d8576b"
             ],
             [
              0.6666666666666666,
              "#ed7953"
             ],
             [
              0.7777777777777778,
              "#fb9f3a"
             ],
             [
              0.8888888888888888,
              "#fdca26"
             ],
             [
              1,
              "#f0f921"
             ]
            ],
            "type": "surface"
           }
          ],
          "table": [
           {
            "cells": {
             "fill": {
              "color": "#EBF0F8"
             },
             "line": {
              "color": "white"
             }
            },
            "header": {
             "fill": {
              "color": "#C8D4E3"
             },
             "line": {
              "color": "white"
             }
            },
            "type": "table"
           }
          ]
         },
         "layout": {
          "annotationdefaults": {
           "arrowcolor": "#2a3f5f",
           "arrowhead": 0,
           "arrowwidth": 1
          },
          "autotypenumbers": "strict",
          "coloraxis": {
           "colorbar": {
            "outlinewidth": 0,
            "ticks": ""
           }
          },
          "colorscale": {
           "diverging": [
            [
             0,
             "#8e0152"
            ],
            [
             0.1,
             "#c51b7d"
            ],
            [
             0.2,
             "#de77ae"
            ],
            [
             0.3,
             "#f1b6da"
            ],
            [
             0.4,
             "#fde0ef"
            ],
            [
             0.5,
             "#f7f7f7"
            ],
            [
             0.6,
             "#e6f5d0"
            ],
            [
             0.7,
             "#b8e186"
            ],
            [
             0.8,
             "#7fbc41"
            ],
            [
             0.9,
             "#4d9221"
            ],
            [
             1,
             "#276419"
            ]
           ],
           "sequential": [
            [
             0,
             "#0d0887"
            ],
            [
             0.1111111111111111,
             "#46039f"
            ],
            [
             0.2222222222222222,
             "#7201a8"
            ],
            [
             0.3333333333333333,
             "#9c179e"
            ],
            [
             0.4444444444444444,
             "#bd3786"
            ],
            [
             0.5555555555555556,
             "#d8576b"
            ],
            [
             0.6666666666666666,
             "#ed7953"
            ],
            [
             0.7777777777777778,
             "#fb9f3a"
            ],
            [
             0.8888888888888888,
             "#fdca26"
            ],
            [
             1,
             "#f0f921"
            ]
           ],
           "sequentialminus": [
            [
             0,
             "#0d0887"
            ],
            [
             0.1111111111111111,
             "#46039f"
            ],
            [
             0.2222222222222222,
             "#7201a8"
            ],
            [
             0.3333333333333333,
             "#9c179e"
            ],
            [
             0.4444444444444444,
             "#bd3786"
            ],
            [
             0.5555555555555556,
             "#d8576b"
            ],
            [
             0.6666666666666666,
             "#ed7953"
            ],
            [
             0.7777777777777778,
             "#fb9f3a"
            ],
            [
             0.8888888888888888,
             "#fdca26"
            ],
            [
             1,
             "#f0f921"
            ]
           ]
          },
          "colorway": [
           "#636efa",
           "#EF553B",
           "#00cc96",
           "#ab63fa",
           "#FFA15A",
           "#19d3f3",
           "#FF6692",
           "#B6E880",
           "#FF97FF",
           "#FECB52"
          ],
          "font": {
           "color": "#2a3f5f"
          },
          "geo": {
           "bgcolor": "white",
           "lakecolor": "white",
           "landcolor": "#E5ECF6",
           "showlakes": true,
           "showland": true,
           "subunitcolor": "white"
          },
          "hoverlabel": {
           "align": "left"
          },
          "hovermode": "closest",
          "mapbox": {
           "style": "light"
          },
          "paper_bgcolor": "white",
          "plot_bgcolor": "#E5ECF6",
          "polar": {
           "angularaxis": {
            "gridcolor": "white",
            "linecolor": "white",
            "ticks": ""
           },
           "bgcolor": "#E5ECF6",
           "radialaxis": {
            "gridcolor": "white",
            "linecolor": "white",
            "ticks": ""
           }
          },
          "scene": {
           "xaxis": {
            "backgroundcolor": "#E5ECF6",
            "gridcolor": "white",
            "gridwidth": 2,
            "linecolor": "white",
            "showbackground": true,
            "ticks": "",
            "zerolinecolor": "white"
           },
           "yaxis": {
            "backgroundcolor": "#E5ECF6",
            "gridcolor": "white",
            "gridwidth": 2,
            "linecolor": "white",
            "showbackground": true,
            "ticks": "",
            "zerolinecolor": "white"
           },
           "zaxis": {
            "backgroundcolor": "#E5ECF6",
            "gridcolor": "white",
            "gridwidth": 2,
            "linecolor": "white",
            "showbackground": true,
            "ticks": "",
            "zerolinecolor": "white"
           }
          },
          "shapedefaults": {
           "line": {
            "color": "#2a3f5f"
           }
          },
          "ternary": {
           "aaxis": {
            "gridcolor": "white",
            "linecolor": "white",
            "ticks": ""
           },
           "baxis": {
            "gridcolor": "white",
            "linecolor": "white",
            "ticks": ""
           },
           "bgcolor": "#E5ECF6",
           "caxis": {
            "gridcolor": "white",
            "linecolor": "white",
            "ticks": ""
           }
          },
          "title": {
           "x": 0.05
          },
          "xaxis": {
           "automargin": true,
           "gridcolor": "white",
           "linecolor": "white",
           "ticks": "",
           "title": {
            "standoff": 15
           },
           "zerolinecolor": "white",
           "zerolinewidth": 2
          },
          "yaxis": {
           "automargin": true,
           "gridcolor": "white",
           "linecolor": "white",
           "ticks": "",
           "title": {
            "standoff": 15
           },
           "zerolinecolor": "white",
           "zerolinewidth": 2
          }
         }
        },
        "title": {
         "text": "High BP Distribution"
        },
        "width": 1200
       }
      },
      "text/html": [
       "<div>                            <div id=\"c63457e2-0022-4834-9235-8116580fd7d5\" class=\"plotly-graph-div\" style=\"height:500px; width:1200px;\"></div>            <script type=\"text/javascript\">                require([\"plotly\"], function(Plotly) {                    window.PLOTLYENV=window.PLOTLYENV || {};                                    if (document.getElementById(\"c63457e2-0022-4834-9235-8116580fd7d5\")) {                    Plotly.newPlot(                        \"c63457e2-0022-4834-9235-8116580fd7d5\",                        [{\"labels\":[\"No High BP\",\"High BP\"],\"name\":\"High BP\",\"values\":[193,104],\"type\":\"pie\",\"domain\":{\"x\":[0.0,0.45],\"y\":[0.0,1.0]},\"hole\":0.4,\"hoverinfo\":\"label+percent\"},{\"labels\":[\"No High BP - Survived\",\"No High BP - Died\",\"High BP - Survived\",\"High BP - Died\"],\"name\":\"High BP by Death Event\",\"values\":[136,57,66,38],\"type\":\"pie\",\"domain\":{\"x\":[0.55,1.0],\"y\":[0.0,1.0]},\"hole\":0.4,\"hoverinfo\":\"label+percent\"}],                        {\"template\":{\"data\":{\"histogram2dcontour\":[{\"type\":\"histogram2dcontour\",\"colorbar\":{\"outlinewidth\":0,\"ticks\":\"\"},\"colorscale\":[[0.0,\"#0d0887\"],[0.1111111111111111,\"#46039f\"],[0.2222222222222222,\"#7201a8\"],[0.3333333333333333,\"#9c179e\"],[0.4444444444444444,\"#bd3786\"],[0.5555555555555556,\"#d8576b\"],[0.6666666666666666,\"#ed7953\"],[0.7777777777777778,\"#fb9f3a\"],[0.8888888888888888,\"#fdca26\"],[1.0,\"#f0f921\"]]}],\"choropleth\":[{\"type\":\"choropleth\",\"colorbar\":{\"outlinewidth\":0,\"ticks\":\"\"}}],\"histogram2d\":[{\"type\":\"histogram2d\",\"colorbar\":{\"outlinewidth\":0,\"ticks\":\"\"},\"colorscale\":[[0.0,\"#0d0887\"],[0.1111111111111111,\"#46039f\"],[0.2222222222222222,\"#7201a8\"],[0.3333333333333333,\"#9c179e\"],[0.4444444444444444,\"#bd3786\"],[0.5555555555555556,\"#d8576b\"],[0.6666666666666666,\"#ed7953\"],[0.7777777777777778,\"#fb9f3a\"],[0.8888888888888888,\"#fdca26\"],[1.0,\"#f0f921\"]]}],\"heatmap\":[{\"type\":\"heatmap\",\"colorbar\":{\"outlinewidth\":0,\"ticks\":\"\"},\"colorscale\":[[0.0,\"#0d0887\"],[0.1111111111111111,\"#46039f\"],[0.2222222222222222,\"#7201a8\"],[0.3333333333333333,\"#9c179e\"],[0.4444444444444444,\"#bd3786\"],[0.5555555555555556,\"#d8576b\"],[0.6666666666666666,\"#ed7953\"],[0.7777777777777778,\"#fb9f3a\"],[0.8888888888888888,\"#fdca26\"],[1.0,\"#f0f921\"]]}],\"heatmapgl\":[{\"type\":\"heatmapgl\",\"colorbar\":{\"outlinewidth\":0,\"ticks\":\"\"},\"colorscale\":[[0.0,\"#0d0887\"],[0.1111111111111111,\"#46039f\"],[0.2222222222222222,\"#7201a8\"],[0.3333333333333333,\"#9c179e\"],[0.4444444444444444,\"#bd3786\"],[0.5555555555555556,\"#d8576b\"],[0.6666666666666666,\"#ed7953\"],[0.7777777777777778,\"#fb9f3a\"],[0.8888888888888888,\"#fdca26\"],[1.0,\"#f0f921\"]]}],\"contourcarpet\":[{\"type\":\"contourcarpet\",\"colorbar\":{\"outlinewidth\":0,\"ticks\":\"\"}}],\"contour\":[{\"type\":\"contour\",\"colorbar\":{\"outlinewidth\":0,\"ticks\":\"\"},\"colorscale\":[[0.0,\"#0d0887\"],[0.1111111111111111,\"#46039f\"],[0.2222222222222222,\"#7201a8\"],[0.3333333333333333,\"#9c179e\"],[0.4444444444444444,\"#bd3786\"],[0.5555555555555556,\"#d8576b\"],[0.6666666666666666,\"#ed7953\"],[0.7777777777777778,\"#fb9f3a\"],[0.8888888888888888,\"#fdca26\"],[1.0,\"#f0f921\"]]}],\"surface\":[{\"type\":\"surface\",\"colorbar\":{\"outlinewidth\":0,\"ticks\":\"\"},\"colorscale\":[[0.0,\"#0d0887\"],[0.1111111111111111,\"#46039f\"],[0.2222222222222222,\"#7201a8\"],[0.3333333333333333,\"#9c179e\"],[0.4444444444444444,\"#bd3786\"],[0.5555555555555556,\"#d8576b\"],[0.6666666666666666,\"#ed7953\"],[0.7777777777777778,\"#fb9f3a\"],[0.8888888888888888,\"#fdca26\"],[1.0,\"#f0f921\"]]}],\"mesh3d\":[{\"type\":\"mesh3d\",\"colorbar\":{\"outlinewidth\":0,\"ticks\":\"\"}}],\"scatter\":[{\"fillpattern\":{\"fillmode\":\"overlay\",\"size\":10,\"solidity\":0.2},\"type\":\"scatter\"}],\"parcoords\":[{\"type\":\"parcoords\",\"line\":{\"colorbar\":{\"outlinewidth\":0,\"ticks\":\"\"}}}],\"scatterpolargl\":[{\"type\":\"scatterpolargl\",\"marker\":{\"colorbar\":{\"outlinewidth\":0,\"ticks\":\"\"}}}],\"bar\":[{\"error_x\":{\"color\":\"#2a3f5f\"},\"error_y\":{\"color\":\"#2a3f5f\"},\"marker\":{\"line\":{\"color\":\"#E5ECF6\",\"width\":0.5},\"pattern\":{\"fillmode\":\"overlay\",\"size\":10,\"solidity\":0.2}},\"type\":\"bar\"}],\"scattergeo\":[{\"type\":\"scattergeo\",\"marker\":{\"colorbar\":{\"outlinewidth\":0,\"ticks\":\"\"}}}],\"scatterpolar\":[{\"type\":\"scatterpolar\",\"marker\":{\"colorbar\":{\"outlinewidth\":0,\"ticks\":\"\"}}}],\"histogram\":[{\"marker\":{\"pattern\":{\"fillmode\":\"overlay\",\"size\":10,\"solidity\":0.2}},\"type\":\"histogram\"}],\"scattergl\":[{\"type\":\"scattergl\",\"marker\":{\"colorbar\":{\"outlinewidth\":0,\"ticks\":\"\"}}}],\"scatter3d\":[{\"type\":\"scatter3d\",\"line\":{\"colorbar\":{\"outlinewidth\":0,\"ticks\":\"\"}},\"marker\":{\"colorbar\":{\"outlinewidth\":0,\"ticks\":\"\"}}}],\"scattermapbox\":[{\"type\":\"scattermapbox\",\"marker\":{\"colorbar\":{\"outlinewidth\":0,\"ticks\":\"\"}}}],\"scatterternary\":[{\"type\":\"scatterternary\",\"marker\":{\"colorbar\":{\"outlinewidth\":0,\"ticks\":\"\"}}}],\"scattercarpet\":[{\"type\":\"scattercarpet\",\"marker\":{\"colorbar\":{\"outlinewidth\":0,\"ticks\":\"\"}}}],\"carpet\":[{\"aaxis\":{\"endlinecolor\":\"#2a3f5f\",\"gridcolor\":\"white\",\"linecolor\":\"white\",\"minorgridcolor\":\"white\",\"startlinecolor\":\"#2a3f5f\"},\"baxis\":{\"endlinecolor\":\"#2a3f5f\",\"gridcolor\":\"white\",\"linecolor\":\"white\",\"minorgridcolor\":\"white\",\"startlinecolor\":\"#2a3f5f\"},\"type\":\"carpet\"}],\"table\":[{\"cells\":{\"fill\":{\"color\":\"#EBF0F8\"},\"line\":{\"color\":\"white\"}},\"header\":{\"fill\":{\"color\":\"#C8D4E3\"},\"line\":{\"color\":\"white\"}},\"type\":\"table\"}],\"barpolar\":[{\"marker\":{\"line\":{\"color\":\"#E5ECF6\",\"width\":0.5},\"pattern\":{\"fillmode\":\"overlay\",\"size\":10,\"solidity\":0.2}},\"type\":\"barpolar\"}],\"pie\":[{\"automargin\":true,\"type\":\"pie\"}]},\"layout\":{\"autotypenumbers\":\"strict\",\"colorway\":[\"#636efa\",\"#EF553B\",\"#00cc96\",\"#ab63fa\",\"#FFA15A\",\"#19d3f3\",\"#FF6692\",\"#B6E880\",\"#FF97FF\",\"#FECB52\"],\"font\":{\"color\":\"#2a3f5f\"},\"hovermode\":\"closest\",\"hoverlabel\":{\"align\":\"left\"},\"paper_bgcolor\":\"white\",\"plot_bgcolor\":\"#E5ECF6\",\"polar\":{\"bgcolor\":\"#E5ECF6\",\"angularaxis\":{\"gridcolor\":\"white\",\"linecolor\":\"white\",\"ticks\":\"\"},\"radialaxis\":{\"gridcolor\":\"white\",\"linecolor\":\"white\",\"ticks\":\"\"}},\"ternary\":{\"bgcolor\":\"#E5ECF6\",\"aaxis\":{\"gridcolor\":\"white\",\"linecolor\":\"white\",\"ticks\":\"\"},\"baxis\":{\"gridcolor\":\"white\",\"linecolor\":\"white\",\"ticks\":\"\"},\"caxis\":{\"gridcolor\":\"white\",\"linecolor\":\"white\",\"ticks\":\"\"}},\"coloraxis\":{\"colorbar\":{\"outlinewidth\":0,\"ticks\":\"\"}},\"colorscale\":{\"sequential\":[[0.0,\"#0d0887\"],[0.1111111111111111,\"#46039f\"],[0.2222222222222222,\"#7201a8\"],[0.3333333333333333,\"#9c179e\"],[0.4444444444444444,\"#bd3786\"],[0.5555555555555556,\"#d8576b\"],[0.6666666666666666,\"#ed7953\"],[0.7777777777777778,\"#fb9f3a\"],[0.8888888888888888,\"#fdca26\"],[1.0,\"#f0f921\"]],\"sequentialminus\":[[0.0,\"#0d0887\"],[0.1111111111111111,\"#46039f\"],[0.2222222222222222,\"#7201a8\"],[0.3333333333333333,\"#9c179e\"],[0.4444444444444444,\"#bd3786\"],[0.5555555555555556,\"#d8576b\"],[0.6666666666666666,\"#ed7953\"],[0.7777777777777778,\"#fb9f3a\"],[0.8888888888888888,\"#fdca26\"],[1.0,\"#f0f921\"]],\"diverging\":[[0,\"#8e0152\"],[0.1,\"#c51b7d\"],[0.2,\"#de77ae\"],[0.3,\"#f1b6da\"],[0.4,\"#fde0ef\"],[0.5,\"#f7f7f7\"],[0.6,\"#e6f5d0\"],[0.7,\"#b8e186\"],[0.8,\"#7fbc41\"],[0.9,\"#4d9221\"],[1,\"#276419\"]]},\"xaxis\":{\"gridcolor\":\"white\",\"linecolor\":\"white\",\"ticks\":\"\",\"title\":{\"standoff\":15},\"zerolinecolor\":\"white\",\"automargin\":true,\"zerolinewidth\":2},\"yaxis\":{\"gridcolor\":\"white\",\"linecolor\":\"white\",\"ticks\":\"\",\"title\":{\"standoff\":15},\"zerolinecolor\":\"white\",\"automargin\":true,\"zerolinewidth\":2},\"scene\":{\"xaxis\":{\"backgroundcolor\":\"#E5ECF6\",\"gridcolor\":\"white\",\"linecolor\":\"white\",\"showbackground\":true,\"ticks\":\"\",\"zerolinecolor\":\"white\",\"gridwidth\":2},\"yaxis\":{\"backgroundcolor\":\"#E5ECF6\",\"gridcolor\":\"white\",\"linecolor\":\"white\",\"showbackground\":true,\"ticks\":\"\",\"zerolinecolor\":\"white\",\"gridwidth\":2},\"zaxis\":{\"backgroundcolor\":\"#E5ECF6\",\"gridcolor\":\"white\",\"linecolor\":\"white\",\"showbackground\":true,\"ticks\":\"\",\"zerolinecolor\":\"white\",\"gridwidth\":2}},\"shapedefaults\":{\"line\":{\"color\":\"#2a3f5f\"}},\"annotationdefaults\":{\"arrowcolor\":\"#2a3f5f\",\"arrowhead\":0,\"arrowwidth\":1},\"geo\":{\"bgcolor\":\"white\",\"landcolor\":\"#E5ECF6\",\"subunitcolor\":\"white\",\"showland\":true,\"showlakes\":true,\"lakecolor\":\"white\"},\"title\":{\"x\":0.05},\"mapbox\":{\"style\":\"light\"}}},\"title\":{\"text\":\"High BP Distribution\"},\"annotations\":[{\"showarrow\":false,\"text\":\"High BP\",\"x\":0.19,\"y\":0.5,\"font\":{\"size\":10}},{\"showarrow\":false,\"text\":\"High BP by Death Event\",\"x\":0.84,\"y\":0.5,\"font\":{\"size\":8}}],\"autosize\":false,\"width\":1200,\"height\":500,\"paper_bgcolor\":\"white\"},                        {\"responsive\": true}                    ).then(function(){\n",
       "                            \n",
       "var gd = document.getElementById('c63457e2-0022-4834-9235-8116580fd7d5');\n",
       "var x = new MutationObserver(function (mutations, observer) {{\n",
       "        var display = window.getComputedStyle(gd).display;\n",
       "        if (!display || display === 'none') {{\n",
       "            console.log([gd, 'removed!']);\n",
       "            Plotly.purge(gd);\n",
       "            observer.disconnect();\n",
       "        }}\n",
       "}});\n",
       "\n",
       "// Listen for the removal of the full notebook cells\n",
       "var notebookContainer = gd.closest('#notebook-container');\n",
       "if (notebookContainer) {{\n",
       "    x.observe(notebookContainer, {childList: true});\n",
       "}}\n",
       "\n",
       "// Listen for the clearing of the current output cell\n",
       "var outputEl = gd.closest('.output');\n",
       "if (outputEl) {{\n",
       "    x.observe(outputEl, {childList: true});\n",
       "}}\n",
       "\n",
       "                        })                };                });            </script>        </div>"
      ]
     },
     "metadata": {},
     "output_type": "display_data"
    }
   ],
   "source": [
    "# Blood Pressure Distribution\n",
    "\n",
    "d1 = dataset[(dataset['DEATH_EVENT']==0) & (dataset['high_blood_pressure'] == 0)]\n",
    "d2 = dataset[(dataset['DEATH_EVENT']==1) & (dataset['high_blood_pressure'] == 0)]\n",
    "d3 = dataset[(dataset['DEATH_EVENT']==0) & (dataset['high_blood_pressure'] == 1)]\n",
    "d4 = dataset[(dataset['DEATH_EVENT']==1) & (dataset['high_blood_pressure'] == 1)]\n",
    "\n",
    "label_1 = ['No High BP', 'High BP']\n",
    "label_2 = ['No High BP - Survived', 'No High BP - Died', 'High BP - Survived', 'High BP - Died']\n",
    "\n",
    "values_1 = [(len(d1) + len(d2)), (len(d3) + len(d4))]\n",
    "values_2 = [len(d1), len(d2), len(d3), len(d4)]\n",
    "\n",
    "fig = make_subplots(rows = 1, cols = 2, specs = [[{'type': 'domain'}, {'type': 'domain'}]])\n",
    "fig.add_trace(go.Pie(labels = label_1, values = values_1, name = 'High BP'), 1, 1)\n",
    "fig.add_trace(go.Pie(labels = label_2, values = values_2, name = 'High BP by Death Event'), 1, 2)\n",
    "\n",
    "fig.update_traces(hole = 0.4, hoverinfo = 'label+percent')\n",
    "\n",
    "fig.update_layout(\n",
    "    title_text = 'High BP Distribution',\n",
    "    # annotate center of donut\n",
    "    annotations = [dict(text = 'High BP', x = 0.19, y = 0.5, font_size = 10, showarrow = False),\n",
    "                    dict(text = 'High BP by Death Event', x = 0.84, y = 0.5, font_size = 8, showarrow = False)],\n",
    "    autosize = False, width = 1200, height = 500, paper_bgcolor = 'white'\n",
    ")\n",
    "\n",
    "fig.show()"
   ]
  },
  {
   "cell_type": "markdown",
   "id": "a14d9626",
   "metadata": {},
   "source": [
    "We can conclude that 65% of the dataset do not have high blood pressure, out of which 45.8% survived and 19.2% died, and 35% do have high blood pressure, out of which 22.2% survived and 12.8% died."
   ]
  },
  {
   "cell_type": "code",
   "execution_count": 47,
   "id": "eaa75871",
   "metadata": {},
   "outputs": [
    {
     "data": {
      "application/vnd.plotly.v1+json": {
       "config": {
        "plotlyServerURL": "https://plot.ly"
       },
       "data": [
        {
         "domain": {
          "x": [
           0,
           0.45
          ],
          "y": [
           0,
           1
          ]
         },
         "hole": 0.4,
         "hoverinfo": "label+percent",
         "labels": [
          "No Smoking",
          "Smoking"
         ],
         "name": "Smoking",
         "type": "pie",
         "values": [
          201,
          96
         ]
        },
        {
         "domain": {
          "x": [
           0.55,
           1
          ],
          "y": [
           0,
           1
          ]
         },
         "hole": 0.4,
         "hoverinfo": "label+percent",
         "labels": [
          "No Smoking - Survived",
          "No Smoking - Died",
          "Smoking - Survived",
          "Smoking - Died"
         ],
         "name": "Smoking",
         "type": "pie",
         "values": [
          136,
          65,
          66,
          30
         ]
        }
       ],
       "layout": {
        "annotations": [
         {
          "font": {
           "size": 10
          },
          "showarrow": false,
          "text": "Smoking",
          "x": 0.19,
          "y": 0.5
         },
         {
          "font": {
           "size": 8
          },
          "showarrow": false,
          "text": "Smoking by Death Event",
          "x": 0.84,
          "y": 0.5
         }
        ],
        "autosize": false,
        "height": 500,
        "paper_bgcolor": "white",
        "template": {
         "data": {
          "bar": [
           {
            "error_x": {
             "color": "#2a3f5f"
            },
            "error_y": {
             "color": "#2a3f5f"
            },
            "marker": {
             "line": {
              "color": "#E5ECF6",
              "width": 0.5
             },
             "pattern": {
              "fillmode": "overlay",
              "size": 10,
              "solidity": 0.2
             }
            },
            "type": "bar"
           }
          ],
          "barpolar": [
           {
            "marker": {
             "line": {
              "color": "#E5ECF6",
              "width": 0.5
             },
             "pattern": {
              "fillmode": "overlay",
              "size": 10,
              "solidity": 0.2
             }
            },
            "type": "barpolar"
           }
          ],
          "carpet": [
           {
            "aaxis": {
             "endlinecolor": "#2a3f5f",
             "gridcolor": "white",
             "linecolor": "white",
             "minorgridcolor": "white",
             "startlinecolor": "#2a3f5f"
            },
            "baxis": {
             "endlinecolor": "#2a3f5f",
             "gridcolor": "white",
             "linecolor": "white",
             "minorgridcolor": "white",
             "startlinecolor": "#2a3f5f"
            },
            "type": "carpet"
           }
          ],
          "choropleth": [
           {
            "colorbar": {
             "outlinewidth": 0,
             "ticks": ""
            },
            "type": "choropleth"
           }
          ],
          "contour": [
           {
            "colorbar": {
             "outlinewidth": 0,
             "ticks": ""
            },
            "colorscale": [
             [
              0,
              "#0d0887"
             ],
             [
              0.1111111111111111,
              "#46039f"
             ],
             [
              0.2222222222222222,
              "#7201a8"
             ],
             [
              0.3333333333333333,
              "#9c179e"
             ],
             [
              0.4444444444444444,
              "#bd3786"
             ],
             [
              0.5555555555555556,
              "#d8576b"
             ],
             [
              0.6666666666666666,
              "#ed7953"
             ],
             [
              0.7777777777777778,
              "#fb9f3a"
             ],
             [
              0.8888888888888888,
              "#fdca26"
             ],
             [
              1,
              "#f0f921"
             ]
            ],
            "type": "contour"
           }
          ],
          "contourcarpet": [
           {
            "colorbar": {
             "outlinewidth": 0,
             "ticks": ""
            },
            "type": "contourcarpet"
           }
          ],
          "heatmap": [
           {
            "colorbar": {
             "outlinewidth": 0,
             "ticks": ""
            },
            "colorscale": [
             [
              0,
              "#0d0887"
             ],
             [
              0.1111111111111111,
              "#46039f"
             ],
             [
              0.2222222222222222,
              "#7201a8"
             ],
             [
              0.3333333333333333,
              "#9c179e"
             ],
             [
              0.4444444444444444,
              "#bd3786"
             ],
             [
              0.5555555555555556,
              "#d8576b"
             ],
             [
              0.6666666666666666,
              "#ed7953"
             ],
             [
              0.7777777777777778,
              "#fb9f3a"
             ],
             [
              0.8888888888888888,
              "#fdca26"
             ],
             [
              1,
              "#f0f921"
             ]
            ],
            "type": "heatmap"
           }
          ],
          "heatmapgl": [
           {
            "colorbar": {
             "outlinewidth": 0,
             "ticks": ""
            },
            "colorscale": [
             [
              0,
              "#0d0887"
             ],
             [
              0.1111111111111111,
              "#46039f"
             ],
             [
              0.2222222222222222,
              "#7201a8"
             ],
             [
              0.3333333333333333,
              "#9c179e"
             ],
             [
              0.4444444444444444,
              "#bd3786"
             ],
             [
              0.5555555555555556,
              "#d8576b"
             ],
             [
              0.6666666666666666,
              "#ed7953"
             ],
             [
              0.7777777777777778,
              "#fb9f3a"
             ],
             [
              0.8888888888888888,
              "#fdca26"
             ],
             [
              1,
              "#f0f921"
             ]
            ],
            "type": "heatmapgl"
           }
          ],
          "histogram": [
           {
            "marker": {
             "pattern": {
              "fillmode": "overlay",
              "size": 10,
              "solidity": 0.2
             }
            },
            "type": "histogram"
           }
          ],
          "histogram2d": [
           {
            "colorbar": {
             "outlinewidth": 0,
             "ticks": ""
            },
            "colorscale": [
             [
              0,
              "#0d0887"
             ],
             [
              0.1111111111111111,
              "#46039f"
             ],
             [
              0.2222222222222222,
              "#7201a8"
             ],
             [
              0.3333333333333333,
              "#9c179e"
             ],
             [
              0.4444444444444444,
              "#bd3786"
             ],
             [
              0.5555555555555556,
              "#d8576b"
             ],
             [
              0.6666666666666666,
              "#ed7953"
             ],
             [
              0.7777777777777778,
              "#fb9f3a"
             ],
             [
              0.8888888888888888,
              "#fdca26"
             ],
             [
              1,
              "#f0f921"
             ]
            ],
            "type": "histogram2d"
           }
          ],
          "histogram2dcontour": [
           {
            "colorbar": {
             "outlinewidth": 0,
             "ticks": ""
            },
            "colorscale": [
             [
              0,
              "#0d0887"
             ],
             [
              0.1111111111111111,
              "#46039f"
             ],
             [
              0.2222222222222222,
              "#7201a8"
             ],
             [
              0.3333333333333333,
              "#9c179e"
             ],
             [
              0.4444444444444444,
              "#bd3786"
             ],
             [
              0.5555555555555556,
              "#d8576b"
             ],
             [
              0.6666666666666666,
              "#ed7953"
             ],
             [
              0.7777777777777778,
              "#fb9f3a"
             ],
             [
              0.8888888888888888,
              "#fdca26"
             ],
             [
              1,
              "#f0f921"
             ]
            ],
            "type": "histogram2dcontour"
           }
          ],
          "mesh3d": [
           {
            "colorbar": {
             "outlinewidth": 0,
             "ticks": ""
            },
            "type": "mesh3d"
           }
          ],
          "parcoords": [
           {
            "line": {
             "colorbar": {
              "outlinewidth": 0,
              "ticks": ""
             }
            },
            "type": "parcoords"
           }
          ],
          "pie": [
           {
            "automargin": true,
            "type": "pie"
           }
          ],
          "scatter": [
           {
            "fillpattern": {
             "fillmode": "overlay",
             "size": 10,
             "solidity": 0.2
            },
            "type": "scatter"
           }
          ],
          "scatter3d": [
           {
            "line": {
             "colorbar": {
              "outlinewidth": 0,
              "ticks": ""
             }
            },
            "marker": {
             "colorbar": {
              "outlinewidth": 0,
              "ticks": ""
             }
            },
            "type": "scatter3d"
           }
          ],
          "scattercarpet": [
           {
            "marker": {
             "colorbar": {
              "outlinewidth": 0,
              "ticks": ""
             }
            },
            "type": "scattercarpet"
           }
          ],
          "scattergeo": [
           {
            "marker": {
             "colorbar": {
              "outlinewidth": 0,
              "ticks": ""
             }
            },
            "type": "scattergeo"
           }
          ],
          "scattergl": [
           {
            "marker": {
             "colorbar": {
              "outlinewidth": 0,
              "ticks": ""
             }
            },
            "type": "scattergl"
           }
          ],
          "scattermapbox": [
           {
            "marker": {
             "colorbar": {
              "outlinewidth": 0,
              "ticks": ""
             }
            },
            "type": "scattermapbox"
           }
          ],
          "scatterpolar": [
           {
            "marker": {
             "colorbar": {
              "outlinewidth": 0,
              "ticks": ""
             }
            },
            "type": "scatterpolar"
           }
          ],
          "scatterpolargl": [
           {
            "marker": {
             "colorbar": {
              "outlinewidth": 0,
              "ticks": ""
             }
            },
            "type": "scatterpolargl"
           }
          ],
          "scatterternary": [
           {
            "marker": {
             "colorbar": {
              "outlinewidth": 0,
              "ticks": ""
             }
            },
            "type": "scatterternary"
           }
          ],
          "surface": [
           {
            "colorbar": {
             "outlinewidth": 0,
             "ticks": ""
            },
            "colorscale": [
             [
              0,
              "#0d0887"
             ],
             [
              0.1111111111111111,
              "#46039f"
             ],
             [
              0.2222222222222222,
              "#7201a8"
             ],
             [
              0.3333333333333333,
              "#9c179e"
             ],
             [
              0.4444444444444444,
              "#bd3786"
             ],
             [
              0.5555555555555556,
              "#d8576b"
             ],
             [
              0.6666666666666666,
              "#ed7953"
             ],
             [
              0.7777777777777778,
              "#fb9f3a"
             ],
             [
              0.8888888888888888,
              "#fdca26"
             ],
             [
              1,
              "#f0f921"
             ]
            ],
            "type": "surface"
           }
          ],
          "table": [
           {
            "cells": {
             "fill": {
              "color": "#EBF0F8"
             },
             "line": {
              "color": "white"
             }
            },
            "header": {
             "fill": {
              "color": "#C8D4E3"
             },
             "line": {
              "color": "white"
             }
            },
            "type": "table"
           }
          ]
         },
         "layout": {
          "annotationdefaults": {
           "arrowcolor": "#2a3f5f",
           "arrowhead": 0,
           "arrowwidth": 1
          },
          "autotypenumbers": "strict",
          "coloraxis": {
           "colorbar": {
            "outlinewidth": 0,
            "ticks": ""
           }
          },
          "colorscale": {
           "diverging": [
            [
             0,
             "#8e0152"
            ],
            [
             0.1,
             "#c51b7d"
            ],
            [
             0.2,
             "#de77ae"
            ],
            [
             0.3,
             "#f1b6da"
            ],
            [
             0.4,
             "#fde0ef"
            ],
            [
             0.5,
             "#f7f7f7"
            ],
            [
             0.6,
             "#e6f5d0"
            ],
            [
             0.7,
             "#b8e186"
            ],
            [
             0.8,
             "#7fbc41"
            ],
            [
             0.9,
             "#4d9221"
            ],
            [
             1,
             "#276419"
            ]
           ],
           "sequential": [
            [
             0,
             "#0d0887"
            ],
            [
             0.1111111111111111,
             "#46039f"
            ],
            [
             0.2222222222222222,
             "#7201a8"
            ],
            [
             0.3333333333333333,
             "#9c179e"
            ],
            [
             0.4444444444444444,
             "#bd3786"
            ],
            [
             0.5555555555555556,
             "#d8576b"
            ],
            [
             0.6666666666666666,
             "#ed7953"
            ],
            [
             0.7777777777777778,
             "#fb9f3a"
            ],
            [
             0.8888888888888888,
             "#fdca26"
            ],
            [
             1,
             "#f0f921"
            ]
           ],
           "sequentialminus": [
            [
             0,
             "#0d0887"
            ],
            [
             0.1111111111111111,
             "#46039f"
            ],
            [
             0.2222222222222222,
             "#7201a8"
            ],
            [
             0.3333333333333333,
             "#9c179e"
            ],
            [
             0.4444444444444444,
             "#bd3786"
            ],
            [
             0.5555555555555556,
             "#d8576b"
            ],
            [
             0.6666666666666666,
             "#ed7953"
            ],
            [
             0.7777777777777778,
             "#fb9f3a"
            ],
            [
             0.8888888888888888,
             "#fdca26"
            ],
            [
             1,
             "#f0f921"
            ]
           ]
          },
          "colorway": [
           "#636efa",
           "#EF553B",
           "#00cc96",
           "#ab63fa",
           "#FFA15A",
           "#19d3f3",
           "#FF6692",
           "#B6E880",
           "#FF97FF",
           "#FECB52"
          ],
          "font": {
           "color": "#2a3f5f"
          },
          "geo": {
           "bgcolor": "white",
           "lakecolor": "white",
           "landcolor": "#E5ECF6",
           "showlakes": true,
           "showland": true,
           "subunitcolor": "white"
          },
          "hoverlabel": {
           "align": "left"
          },
          "hovermode": "closest",
          "mapbox": {
           "style": "light"
          },
          "paper_bgcolor": "white",
          "plot_bgcolor": "#E5ECF6",
          "polar": {
           "angularaxis": {
            "gridcolor": "white",
            "linecolor": "white",
            "ticks": ""
           },
           "bgcolor": "#E5ECF6",
           "radialaxis": {
            "gridcolor": "white",
            "linecolor": "white",
            "ticks": ""
           }
          },
          "scene": {
           "xaxis": {
            "backgroundcolor": "#E5ECF6",
            "gridcolor": "white",
            "gridwidth": 2,
            "linecolor": "white",
            "showbackground": true,
            "ticks": "",
            "zerolinecolor": "white"
           },
           "yaxis": {
            "backgroundcolor": "#E5ECF6",
            "gridcolor": "white",
            "gridwidth": 2,
            "linecolor": "white",
            "showbackground": true,
            "ticks": "",
            "zerolinecolor": "white"
           },
           "zaxis": {
            "backgroundcolor": "#E5ECF6",
            "gridcolor": "white",
            "gridwidth": 2,
            "linecolor": "white",
            "showbackground": true,
            "ticks": "",
            "zerolinecolor": "white"
           }
          },
          "shapedefaults": {
           "line": {
            "color": "#2a3f5f"
           }
          },
          "ternary": {
           "aaxis": {
            "gridcolor": "white",
            "linecolor": "white",
            "ticks": ""
           },
           "baxis": {
            "gridcolor": "white",
            "linecolor": "white",
            "ticks": ""
           },
           "bgcolor": "#E5ECF6",
           "caxis": {
            "gridcolor": "white",
            "linecolor": "white",
            "ticks": ""
           }
          },
          "title": {
           "x": 0.05
          },
          "xaxis": {
           "automargin": true,
           "gridcolor": "white",
           "linecolor": "white",
           "ticks": "",
           "title": {
            "standoff": 15
           },
           "zerolinecolor": "white",
           "zerolinewidth": 2
          },
          "yaxis": {
           "automargin": true,
           "gridcolor": "white",
           "linecolor": "white",
           "ticks": "",
           "title": {
            "standoff": 15
           },
           "zerolinecolor": "white",
           "zerolinewidth": 2
          }
         }
        },
        "title": {
         "text": "Smoking Distribution"
        },
        "width": 1200
       }
      },
      "text/html": [
       "<div>                            <div id=\"ca41ac84-4869-4c0d-8f01-9ec0baaf2db4\" class=\"plotly-graph-div\" style=\"height:500px; width:1200px;\"></div>            <script type=\"text/javascript\">                require([\"plotly\"], function(Plotly) {                    window.PLOTLYENV=window.PLOTLYENV || {};                                    if (document.getElementById(\"ca41ac84-4869-4c0d-8f01-9ec0baaf2db4\")) {                    Plotly.newPlot(                        \"ca41ac84-4869-4c0d-8f01-9ec0baaf2db4\",                        [{\"labels\":[\"No Smoking\",\"Smoking\"],\"name\":\"Smoking\",\"values\":[201,96],\"type\":\"pie\",\"domain\":{\"x\":[0.0,0.45],\"y\":[0.0,1.0]},\"hole\":0.4,\"hoverinfo\":\"label+percent\"},{\"labels\":[\"No Smoking - Survived\",\"No Smoking - Died\",\"Smoking - Survived\",\"Smoking - Died\"],\"name\":\"Smoking\",\"values\":[136,65,66,30],\"type\":\"pie\",\"domain\":{\"x\":[0.55,1.0],\"y\":[0.0,1.0]},\"hole\":0.4,\"hoverinfo\":\"label+percent\"}],                        {\"template\":{\"data\":{\"histogram2dcontour\":[{\"type\":\"histogram2dcontour\",\"colorbar\":{\"outlinewidth\":0,\"ticks\":\"\"},\"colorscale\":[[0.0,\"#0d0887\"],[0.1111111111111111,\"#46039f\"],[0.2222222222222222,\"#7201a8\"],[0.3333333333333333,\"#9c179e\"],[0.4444444444444444,\"#bd3786\"],[0.5555555555555556,\"#d8576b\"],[0.6666666666666666,\"#ed7953\"],[0.7777777777777778,\"#fb9f3a\"],[0.8888888888888888,\"#fdca26\"],[1.0,\"#f0f921\"]]}],\"choropleth\":[{\"type\":\"choropleth\",\"colorbar\":{\"outlinewidth\":0,\"ticks\":\"\"}}],\"histogram2d\":[{\"type\":\"histogram2d\",\"colorbar\":{\"outlinewidth\":0,\"ticks\":\"\"},\"colorscale\":[[0.0,\"#0d0887\"],[0.1111111111111111,\"#46039f\"],[0.2222222222222222,\"#7201a8\"],[0.3333333333333333,\"#9c179e\"],[0.4444444444444444,\"#bd3786\"],[0.5555555555555556,\"#d8576b\"],[0.6666666666666666,\"#ed7953\"],[0.7777777777777778,\"#fb9f3a\"],[0.8888888888888888,\"#fdca26\"],[1.0,\"#f0f921\"]]}],\"heatmap\":[{\"type\":\"heatmap\",\"colorbar\":{\"outlinewidth\":0,\"ticks\":\"\"},\"colorscale\":[[0.0,\"#0d0887\"],[0.1111111111111111,\"#46039f\"],[0.2222222222222222,\"#7201a8\"],[0.3333333333333333,\"#9c179e\"],[0.4444444444444444,\"#bd3786\"],[0.5555555555555556,\"#d8576b\"],[0.6666666666666666,\"#ed7953\"],[0.7777777777777778,\"#fb9f3a\"],[0.8888888888888888,\"#fdca26\"],[1.0,\"#f0f921\"]]}],\"heatmapgl\":[{\"type\":\"heatmapgl\",\"colorbar\":{\"outlinewidth\":0,\"ticks\":\"\"},\"colorscale\":[[0.0,\"#0d0887\"],[0.1111111111111111,\"#46039f\"],[0.2222222222222222,\"#7201a8\"],[0.3333333333333333,\"#9c179e\"],[0.4444444444444444,\"#bd3786\"],[0.5555555555555556,\"#d8576b\"],[0.6666666666666666,\"#ed7953\"],[0.7777777777777778,\"#fb9f3a\"],[0.8888888888888888,\"#fdca26\"],[1.0,\"#f0f921\"]]}],\"contourcarpet\":[{\"type\":\"contourcarpet\",\"colorbar\":{\"outlinewidth\":0,\"ticks\":\"\"}}],\"contour\":[{\"type\":\"contour\",\"colorbar\":{\"outlinewidth\":0,\"ticks\":\"\"},\"colorscale\":[[0.0,\"#0d0887\"],[0.1111111111111111,\"#46039f\"],[0.2222222222222222,\"#7201a8\"],[0.3333333333333333,\"#9c179e\"],[0.4444444444444444,\"#bd3786\"],[0.5555555555555556,\"#d8576b\"],[0.6666666666666666,\"#ed7953\"],[0.7777777777777778,\"#fb9f3a\"],[0.8888888888888888,\"#fdca26\"],[1.0,\"#f0f921\"]]}],\"surface\":[{\"type\":\"surface\",\"colorbar\":{\"outlinewidth\":0,\"ticks\":\"\"},\"colorscale\":[[0.0,\"#0d0887\"],[0.1111111111111111,\"#46039f\"],[0.2222222222222222,\"#7201a8\"],[0.3333333333333333,\"#9c179e\"],[0.4444444444444444,\"#bd3786\"],[0.5555555555555556,\"#d8576b\"],[0.6666666666666666,\"#ed7953\"],[0.7777777777777778,\"#fb9f3a\"],[0.8888888888888888,\"#fdca26\"],[1.0,\"#f0f921\"]]}],\"mesh3d\":[{\"type\":\"mesh3d\",\"colorbar\":{\"outlinewidth\":0,\"ticks\":\"\"}}],\"scatter\":[{\"fillpattern\":{\"fillmode\":\"overlay\",\"size\":10,\"solidity\":0.2},\"type\":\"scatter\"}],\"parcoords\":[{\"type\":\"parcoords\",\"line\":{\"colorbar\":{\"outlinewidth\":0,\"ticks\":\"\"}}}],\"scatterpolargl\":[{\"type\":\"scatterpolargl\",\"marker\":{\"colorbar\":{\"outlinewidth\":0,\"ticks\":\"\"}}}],\"bar\":[{\"error_x\":{\"color\":\"#2a3f5f\"},\"error_y\":{\"color\":\"#2a3f5f\"},\"marker\":{\"line\":{\"color\":\"#E5ECF6\",\"width\":0.5},\"pattern\":{\"fillmode\":\"overlay\",\"size\":10,\"solidity\":0.2}},\"type\":\"bar\"}],\"scattergeo\":[{\"type\":\"scattergeo\",\"marker\":{\"colorbar\":{\"outlinewidth\":0,\"ticks\":\"\"}}}],\"scatterpolar\":[{\"type\":\"scatterpolar\",\"marker\":{\"colorbar\":{\"outlinewidth\":0,\"ticks\":\"\"}}}],\"histogram\":[{\"marker\":{\"pattern\":{\"fillmode\":\"overlay\",\"size\":10,\"solidity\":0.2}},\"type\":\"histogram\"}],\"scattergl\":[{\"type\":\"scattergl\",\"marker\":{\"colorbar\":{\"outlinewidth\":0,\"ticks\":\"\"}}}],\"scatter3d\":[{\"type\":\"scatter3d\",\"line\":{\"colorbar\":{\"outlinewidth\":0,\"ticks\":\"\"}},\"marker\":{\"colorbar\":{\"outlinewidth\":0,\"ticks\":\"\"}}}],\"scattermapbox\":[{\"type\":\"scattermapbox\",\"marker\":{\"colorbar\":{\"outlinewidth\":0,\"ticks\":\"\"}}}],\"scatterternary\":[{\"type\":\"scatterternary\",\"marker\":{\"colorbar\":{\"outlinewidth\":0,\"ticks\":\"\"}}}],\"scattercarpet\":[{\"type\":\"scattercarpet\",\"marker\":{\"colorbar\":{\"outlinewidth\":0,\"ticks\":\"\"}}}],\"carpet\":[{\"aaxis\":{\"endlinecolor\":\"#2a3f5f\",\"gridcolor\":\"white\",\"linecolor\":\"white\",\"minorgridcolor\":\"white\",\"startlinecolor\":\"#2a3f5f\"},\"baxis\":{\"endlinecolor\":\"#2a3f5f\",\"gridcolor\":\"white\",\"linecolor\":\"white\",\"minorgridcolor\":\"white\",\"startlinecolor\":\"#2a3f5f\"},\"type\":\"carpet\"}],\"table\":[{\"cells\":{\"fill\":{\"color\":\"#EBF0F8\"},\"line\":{\"color\":\"white\"}},\"header\":{\"fill\":{\"color\":\"#C8D4E3\"},\"line\":{\"color\":\"white\"}},\"type\":\"table\"}],\"barpolar\":[{\"marker\":{\"line\":{\"color\":\"#E5ECF6\",\"width\":0.5},\"pattern\":{\"fillmode\":\"overlay\",\"size\":10,\"solidity\":0.2}},\"type\":\"barpolar\"}],\"pie\":[{\"automargin\":true,\"type\":\"pie\"}]},\"layout\":{\"autotypenumbers\":\"strict\",\"colorway\":[\"#636efa\",\"#EF553B\",\"#00cc96\",\"#ab63fa\",\"#FFA15A\",\"#19d3f3\",\"#FF6692\",\"#B6E880\",\"#FF97FF\",\"#FECB52\"],\"font\":{\"color\":\"#2a3f5f\"},\"hovermode\":\"closest\",\"hoverlabel\":{\"align\":\"left\"},\"paper_bgcolor\":\"white\",\"plot_bgcolor\":\"#E5ECF6\",\"polar\":{\"bgcolor\":\"#E5ECF6\",\"angularaxis\":{\"gridcolor\":\"white\",\"linecolor\":\"white\",\"ticks\":\"\"},\"radialaxis\":{\"gridcolor\":\"white\",\"linecolor\":\"white\",\"ticks\":\"\"}},\"ternary\":{\"bgcolor\":\"#E5ECF6\",\"aaxis\":{\"gridcolor\":\"white\",\"linecolor\":\"white\",\"ticks\":\"\"},\"baxis\":{\"gridcolor\":\"white\",\"linecolor\":\"white\",\"ticks\":\"\"},\"caxis\":{\"gridcolor\":\"white\",\"linecolor\":\"white\",\"ticks\":\"\"}},\"coloraxis\":{\"colorbar\":{\"outlinewidth\":0,\"ticks\":\"\"}},\"colorscale\":{\"sequential\":[[0.0,\"#0d0887\"],[0.1111111111111111,\"#46039f\"],[0.2222222222222222,\"#7201a8\"],[0.3333333333333333,\"#9c179e\"],[0.4444444444444444,\"#bd3786\"],[0.5555555555555556,\"#d8576b\"],[0.6666666666666666,\"#ed7953\"],[0.7777777777777778,\"#fb9f3a\"],[0.8888888888888888,\"#fdca26\"],[1.0,\"#f0f921\"]],\"sequentialminus\":[[0.0,\"#0d0887\"],[0.1111111111111111,\"#46039f\"],[0.2222222222222222,\"#7201a8\"],[0.3333333333333333,\"#9c179e\"],[0.4444444444444444,\"#bd3786\"],[0.5555555555555556,\"#d8576b\"],[0.6666666666666666,\"#ed7953\"],[0.7777777777777778,\"#fb9f3a\"],[0.8888888888888888,\"#fdca26\"],[1.0,\"#f0f921\"]],\"diverging\":[[0,\"#8e0152\"],[0.1,\"#c51b7d\"],[0.2,\"#de77ae\"],[0.3,\"#f1b6da\"],[0.4,\"#fde0ef\"],[0.5,\"#f7f7f7\"],[0.6,\"#e6f5d0\"],[0.7,\"#b8e186\"],[0.8,\"#7fbc41\"],[0.9,\"#4d9221\"],[1,\"#276419\"]]},\"xaxis\":{\"gridcolor\":\"white\",\"linecolor\":\"white\",\"ticks\":\"\",\"title\":{\"standoff\":15},\"zerolinecolor\":\"white\",\"automargin\":true,\"zerolinewidth\":2},\"yaxis\":{\"gridcolor\":\"white\",\"linecolor\":\"white\",\"ticks\":\"\",\"title\":{\"standoff\":15},\"zerolinecolor\":\"white\",\"automargin\":true,\"zerolinewidth\":2},\"scene\":{\"xaxis\":{\"backgroundcolor\":\"#E5ECF6\",\"gridcolor\":\"white\",\"linecolor\":\"white\",\"showbackground\":true,\"ticks\":\"\",\"zerolinecolor\":\"white\",\"gridwidth\":2},\"yaxis\":{\"backgroundcolor\":\"#E5ECF6\",\"gridcolor\":\"white\",\"linecolor\":\"white\",\"showbackground\":true,\"ticks\":\"\",\"zerolinecolor\":\"white\",\"gridwidth\":2},\"zaxis\":{\"backgroundcolor\":\"#E5ECF6\",\"gridcolor\":\"white\",\"linecolor\":\"white\",\"showbackground\":true,\"ticks\":\"\",\"zerolinecolor\":\"white\",\"gridwidth\":2}},\"shapedefaults\":{\"line\":{\"color\":\"#2a3f5f\"}},\"annotationdefaults\":{\"arrowcolor\":\"#2a3f5f\",\"arrowhead\":0,\"arrowwidth\":1},\"geo\":{\"bgcolor\":\"white\",\"landcolor\":\"#E5ECF6\",\"subunitcolor\":\"white\",\"showland\":true,\"showlakes\":true,\"lakecolor\":\"white\"},\"title\":{\"x\":0.05},\"mapbox\":{\"style\":\"light\"}}},\"title\":{\"text\":\"Smoking Distribution\"},\"annotations\":[{\"showarrow\":false,\"text\":\"Smoking\",\"x\":0.19,\"y\":0.5,\"font\":{\"size\":10}},{\"showarrow\":false,\"text\":\"Smoking by Death Event\",\"x\":0.84,\"y\":0.5,\"font\":{\"size\":8}}],\"autosize\":false,\"width\":1200,\"height\":500,\"paper_bgcolor\":\"white\"},                        {\"responsive\": true}                    ).then(function(){\n",
       "                            \n",
       "var gd = document.getElementById('ca41ac84-4869-4c0d-8f01-9ec0baaf2db4');\n",
       "var x = new MutationObserver(function (mutations, observer) {{\n",
       "        var display = window.getComputedStyle(gd).display;\n",
       "        if (!display || display === 'none') {{\n",
       "            console.log([gd, 'removed!']);\n",
       "            Plotly.purge(gd);\n",
       "            observer.disconnect();\n",
       "        }}\n",
       "}});\n",
       "\n",
       "// Listen for the removal of the full notebook cells\n",
       "var notebookContainer = gd.closest('#notebook-container');\n",
       "if (notebookContainer) {{\n",
       "    x.observe(notebookContainer, {childList: true});\n",
       "}}\n",
       "\n",
       "// Listen for the clearing of the current output cell\n",
       "var outputEl = gd.closest('.output');\n",
       "if (outputEl) {{\n",
       "    x.observe(outputEl, {childList: true});\n",
       "}}\n",
       "\n",
       "                        })                };                });            </script>        </div>"
      ]
     },
     "metadata": {},
     "output_type": "display_data"
    }
   ],
   "source": [
    "# Smoking Distribution\n",
    "\n",
    "d1 = dataset[(dataset['DEATH_EVENT']==0) & (dataset['smoking'] == 0)]\n",
    "d2 = dataset[(dataset['DEATH_EVENT']==1) & (dataset['smoking'] == 0)]\n",
    "d3 = dataset[(dataset['DEATH_EVENT']==0) & (dataset['smoking'] == 1)]\n",
    "d4 = dataset[(dataset['DEATH_EVENT']==1) & (dataset['smoking'] == 1)]\n",
    "\n",
    "label_1 = ['No Smoking', 'Smoking']\n",
    "label_2 = ['No Smoking - Survived', 'No Smoking - Died', 'Smoking - Survived', 'Smoking - Died']\n",
    "\n",
    "values_1 = [(len(d1) + len(d2)), (len(d3) + len(d4))]\n",
    "values_2 = [len(d1), len(d2), len(d3), len(d4)]\n",
    "\n",
    "fig = make_subplots(rows = 1, cols = 2, specs = [[{'type': 'domain'}, {'type': 'domain'}]])\n",
    "fig.add_trace(go.Pie(labels = label_1, values = values_1, name = 'Smoking'), 1, 1)\n",
    "fig.add_trace(go.Pie(labels = label_2, values = values_2, name = 'Smoking'), 1, 2)\n",
    "\n",
    "fig.update_traces(hole = 0.4, hoverinfo = 'label+percent')\n",
    "\n",
    "fig.update_layout(\n",
    "    title_text = 'Smoking Distribution',\n",
    "    # annotate center of donut\n",
    "    annotations = [dict(text = 'Smoking', x = 0.19, y = 0.5, font_size = 10, showarrow = False),\n",
    "                    dict(text = 'Smoking by Death Event', x = 0.84, y = 0.5, font_size = 8, showarrow = False)],\n",
    "    autosize = False, width = 1200, height = 500, paper_bgcolor = 'white'\n",
    ")\n",
    "\n",
    "fig.show()"
   ]
  },
  {
   "cell_type": "markdown",
   "id": "d6b1df6a",
   "metadata": {},
   "source": [
    "We can conclude that 67.7% of the dataset do not smoke, out of which 45.8% survived and 21.9% died, and 32.3% of the dataset do smoke, out of which 22.2% survived and 10.1% died."
   ]
  },
  {
   "cell_type": "markdown",
   "id": "43815727",
   "metadata": {},
   "source": [
    "## 5. Splitting the dataset & feature scaling"
   ]
  },
  {
   "cell_type": "code",
   "execution_count": 48,
   "id": "9ea086ae",
   "metadata": {},
   "outputs": [
    {
     "name": "stdout",
     "output_type": "stream",
     "text": [
      "[[ 20.     1.9    4.  ]\n",
      " [ 38.     1.1    6.  ]\n",
      " [ 20.     1.3    7.  ]\n",
      " [ 20.     1.9    7.  ]\n",
      " [ 20.     2.7    8.  ]\n",
      " [ 40.     2.1    8.  ]\n",
      " [ 15.     1.2   10.  ]\n",
      " [ 60.     1.1   10.  ]\n",
      " [ 65.     1.5   10.  ]\n",
      " [ 35.     9.4   10.  ]\n",
      " [ 38.     4.    10.  ]\n",
      " [ 25.     0.9   10.  ]\n",
      " [ 30.     1.1   11.  ]\n",
      " [ 38.     1.1   11.  ]\n",
      " [ 30.     1.    12.  ]\n",
      " [ 50.     1.3   13.  ]\n",
      " [ 38.     0.9   14.  ]\n",
      " [ 14.     0.8   14.  ]\n",
      " [ 25.     1.    15.  ]\n",
      " [ 55.     1.9   15.  ]\n",
      " [ 25.     1.3   16.  ]\n",
      " [ 30.     1.6   20.  ]\n",
      " [ 35.     0.9   20.  ]\n",
      " [ 60.     0.8   22.  ]\n",
      " [ 30.     1.83  23.  ]\n",
      " [ 38.     1.9   23.  ]\n",
      " [ 40.     1.    24.  ]\n",
      " [ 45.     1.3   26.  ]\n",
      " [ 38.     5.8   26.  ]\n",
      " [ 30.     1.2   26.  ]\n",
      " [ 38.     1.83  27.  ]\n",
      " [ 45.     3.    28.  ]\n",
      " [ 35.     1.    28.  ]\n",
      " [ 30.     1.2   29.  ]\n",
      " [ 50.     1.    29.  ]\n",
      " [ 35.     3.5   30.  ]\n",
      " [ 50.     1.    30.  ]\n",
      " [ 50.     1.    30.  ]\n",
      " [ 30.     2.3   30.  ]\n",
      " [ 38.     3.    30.  ]\n",
      " [ 20.     1.83  31.  ]\n",
      " [ 30.     1.2   32.  ]\n",
      " [ 45.     1.2   33.  ]\n",
      " [ 50.     1.    33.  ]\n",
      " [ 60.     1.1   33.  ]\n",
      " [ 38.     1.9   35.  ]\n",
      " [ 25.     0.9   38.  ]\n",
      " [ 38.     0.6   40.  ]\n",
      " [ 20.     4.4   41.  ]\n",
      " [ 30.     1.    42.  ]\n",
      " [ 25.     1.    43.  ]\n",
      " [ 20.     1.4   43.  ]\n",
      " [ 62.     6.8   43.  ]\n",
      " [ 50.     1.    44.  ]\n",
      " [ 38.     2.2   45.  ]\n",
      " [ 30.     2.    50.  ]\n",
      " [ 35.     2.7   54.  ]\n",
      " [ 40.     0.6   54.  ]\n",
      " [ 20.     1.1   55.  ]\n",
      " [ 20.     1.3   59.  ]\n",
      " [ 25.     1.    60.  ]\n",
      " [ 40.     2.3   60.  ]\n",
      " [ 35.     1.1   60.  ]\n",
      " [ 35.     1.    61.  ]\n",
      " [ 20.     2.9   64.  ]\n",
      " [ 15.     1.3   65.  ]\n",
      " [ 25.     1.    65.  ]\n",
      " [ 25.     1.2   66.  ]\n",
      " [ 25.     1.83  67.  ]\n",
      " [ 40.     0.8   68.  ]\n",
      " [ 35.     0.9   71.  ]\n",
      " [ 35.     1.    72.  ]\n",
      " [ 50.     1.3   72.  ]\n",
      " [ 20.     1.2   73.  ]\n",
      " [ 20.     0.7   73.  ]\n",
      " [ 60.     0.8   74.  ]\n",
      " [ 40.     1.2   74.  ]\n",
      " [ 38.     0.6   74.  ]\n",
      " [ 45.     0.9   74.  ]\n",
      " [ 40.     1.7   75.  ]\n",
      " [ 50.     1.18  76.  ]\n",
      " [ 25.     2.5   77.  ]\n",
      " [ 50.     1.8   78.  ]\n",
      " [ 25.     1.    78.  ]\n",
      " [ 50.     0.7   79.  ]\n",
      " [ 35.     1.1   79.  ]\n",
      " [ 60.     0.8   79.  ]\n",
      " [ 40.     0.7   79.  ]\n",
      " [ 25.     1.1   79.  ]\n",
      " [ 45.     0.8   80.  ]\n",
      " [ 45.     1.    80.  ]\n",
      " [ 60.     1.18  82.  ]\n",
      " [ 25.     1.7   82.  ]\n",
      " [ 38.     0.7   83.  ]\n",
      " [ 60.     1.    83.  ]\n",
      " [ 25.     1.3   83.  ]\n",
      " [ 60.     1.1   85.  ]\n",
      " [ 25.     1.2   85.  ]\n",
      " [ 40.     1.1   86.  ]\n",
      " [ 25.     1.1   87.  ]\n",
      " [ 45.     1.18  87.  ]\n",
      " [ 25.     1.1   87.  ]\n",
      " [ 30.     1.    87.  ]\n",
      " [ 50.     2.3   87.  ]\n",
      " [ 30.     1.7   88.  ]\n",
      " [ 45.     1.3   88.  ]\n",
      " [ 35.     0.9   88.  ]\n",
      " [ 38.     1.1   88.  ]\n",
      " [ 35.     1.3   88.  ]\n",
      " [ 60.     1.2   90.  ]\n",
      " [ 35.     1.2   90.  ]\n",
      " [ 25.     1.6   90.  ]\n",
      " [ 60.     1.3   90.  ]\n",
      " [ 40.     1.2   91.  ]\n",
      " [ 40.     1.    91.  ]\n",
      " [ 60.     0.7   94.  ]\n",
      " [ 60.     3.2   94.  ]\n",
      " [ 60.     0.9   94.  ]\n",
      " [ 38.     1.83  95.  ]\n",
      " [ 60.     1.5   95.  ]\n",
      " [ 38.     1.    95.  ]\n",
      " [ 38.     0.75  95.  ]\n",
      " [ 30.     0.9   95.  ]\n",
      " [ 40.     3.7   96.  ]\n",
      " [ 50.     1.3   97.  ]\n",
      " [ 17.     2.1  100.  ]\n",
      " [ 60.     0.8  104.  ]\n",
      " [ 30.     0.7  104.  ]\n",
      " [ 35.     3.4  105.  ]\n",
      " [ 60.     0.7  106.  ]\n",
      " [ 45.     6.1  107.  ]\n",
      " [ 40.     1.18 107.  ]\n",
      " [ 60.     1.3  107.  ]\n",
      " [ 35.     1.18 107.  ]\n",
      " [ 40.     1.18 107.  ]\n",
      " [ 60.     0.9  107.  ]\n",
      " [ 25.     2.1  108.  ]\n",
      " [ 35.     1.   108.  ]\n",
      " [ 30.     0.8  108.  ]\n",
      " [ 38.     1.1  109.  ]\n",
      " [ 35.     0.9  109.  ]\n",
      " [ 30.     0.9  109.  ]\n",
      " [ 40.     0.9  110.  ]\n",
      " [ 25.     1.7  111.  ]\n",
      " [ 30.     0.7  112.  ]\n",
      " [ 30.     0.7  112.  ]\n",
      " [ 60.     1.   113.  ]\n",
      " [ 30.     1.83 113.  ]\n",
      " [ 35.     0.9  115.  ]\n",
      " [ 45.     2.5  115.  ]\n",
      " [ 60.     0.9  117.  ]\n",
      " [ 45.     0.9  118.  ]\n",
      " [ 35.     1.18 119.  ]\n",
      " [ 35.     0.8  120.  ]\n",
      " [ 25.     1.7  120.  ]\n",
      " [ 35.     1.4  120.  ]\n",
      " [ 25.     1.   120.  ]\n",
      " [ 50.     1.3  121.  ]\n",
      " [ 45.     1.1  121.  ]\n",
      " [ 40.     1.2  121.  ]\n",
      " [ 35.     0.8  121.  ]\n",
      " [ 40.     0.9  123.  ]\n",
      " [ 35.     0.9  126.  ]\n",
      " [ 30.     1.1  129.  ]\n",
      " [ 38.     1.3  130.  ]\n",
      " [ 60.     0.7  134.  ]\n",
      " [ 20.     2.4  135.  ]\n",
      " [ 40.     1.   140.  ]\n",
      " [ 35.     0.8  145.  ]\n",
      " [ 35.     1.5  145.  ]\n",
      " [ 40.     0.9  146.  ]\n",
      " [ 60.     1.1  146.  ]\n",
      " [ 20.     0.8  146.  ]\n",
      " [ 35.     0.9  146.  ]\n",
      " [ 60.     1.   146.  ]\n",
      " [ 40.     1.   147.  ]\n",
      " [ 50.     1.   147.  ]\n",
      " [ 60.     1.2  147.  ]\n",
      " [ 40.     0.7  147.  ]\n",
      " [ 30.     0.9  148.  ]\n",
      " [ 25.     1.   150.  ]\n",
      " [ 25.     1.2  154.  ]\n",
      " [ 38.     2.5  162.  ]\n",
      " [ 25.     1.2  170.  ]\n",
      " [ 30.     1.5  171.  ]\n",
      " [ 50.     0.6  172.  ]\n",
      " [ 25.     2.1  172.  ]\n",
      " [ 40.     1.   172.  ]\n",
      " [ 45.     0.9  174.  ]\n",
      " [ 35.     2.1  174.  ]\n",
      " [ 60.     1.5  174.  ]\n",
      " [ 40.     0.7  175.  ]\n",
      " [ 30.     1.18 180.  ]\n",
      " [ 20.     1.6  180.  ]\n",
      " [ 45.     1.8  180.  ]\n",
      " [ 38.     1.18 185.  ]\n",
      " [ 30.     0.8  186.  ]\n",
      " [ 20.     1.   186.  ]\n",
      " [ 35.     1.8  186.  ]\n",
      " [ 45.     0.7  186.  ]\n",
      " [ 60.     1.   186.  ]\n",
      " [ 60.     0.9  186.  ]\n",
      " [ 25.     3.5  187.  ]\n",
      " [ 40.     0.7  187.  ]\n",
      " [ 45.     1.   187.  ]\n",
      " [ 40.     0.8  187.  ]\n",
      " [ 38.     0.9  187.  ]\n",
      " [ 40.     1.   187.  ]\n",
      " [ 35.     0.8  187.  ]\n",
      " [ 17.     1.   188.  ]\n",
      " [ 62.     0.8  192.  ]\n",
      " [ 50.     1.4  192.  ]\n",
      " [ 30.     1.6  193.  ]\n",
      " [ 35.     0.8  194.  ]\n",
      " [ 35.     1.3  195.  ]\n",
      " [ 50.     0.9  196.  ]\n",
      " [ 35.     1.1  197.  ]\n",
      " [ 35.     0.7  197.  ]\n",
      " [ 20.     1.83 198.  ]\n",
      " [ 50.     1.1  200.  ]\n",
      " [ 35.     1.1  201.  ]\n",
      " [ 25.     0.8  201.  ]\n",
      " [ 25.     1.   205.  ]\n",
      " [ 60.     1.4  205.  ]\n",
      " [ 25.     1.3  205.  ]\n",
      " [ 35.     1.   206.  ]\n",
      " [ 25.     5.   207.  ]\n",
      " [ 25.     1.2  207.  ]\n",
      " [ 30.     1.7  207.  ]\n",
      " [ 35.     1.1  208.  ]\n",
      " [ 35.     0.9  209.  ]\n",
      " [ 38.     1.4  209.  ]\n",
      " [ 45.     1.1  209.  ]\n",
      " [ 50.     1.1  209.  ]\n",
      " [ 50.     1.1  209.  ]\n",
      " [ 30.     1.2  210.  ]\n",
      " [ 40.     1.   210.  ]\n",
      " [ 45.     1.18 211.  ]\n",
      " [ 35.     1.3  212.  ]\n",
      " [ 30.     1.3  212.  ]\n",
      " [ 35.     1.1  212.  ]\n",
      " [ 40.     0.9  213.  ]\n",
      " [ 38.     1.8  213.  ]\n",
      " [ 38.     1.4  213.  ]\n",
      " [ 25.     1.1  214.  ]\n",
      " [ 25.     2.4  214.  ]\n",
      " [ 35.     1.   214.  ]\n",
      " [ 40.     1.2  214.  ]\n",
      " [ 30.     0.5  214.  ]\n",
      " [ 35.     0.8  215.  ]\n",
      " [ 45.     1.   215.  ]\n",
      " [ 35.     1.2  215.  ]\n",
      " [ 60.     1.   215.  ]\n",
      " [ 30.     1.   216.  ]\n",
      " [ 38.     1.7  220.  ]\n",
      " [ 38.     1.   230.  ]\n",
      " [ 25.     0.8  230.  ]\n",
      " [ 50.     0.7  231.  ]\n",
      " [ 40.     1.   233.  ]\n",
      " [ 40.     0.7  233.  ]\n",
      " [ 25.     1.4  235.  ]\n",
      " [ 60.     1.   237.  ]\n",
      " [ 38.     1.2  237.  ]\n",
      " [ 35.     0.9  240.  ]\n",
      " [ 20.     1.83 241.  ]\n",
      " [ 38.     1.7  244.  ]\n",
      " [ 38.     0.9  244.  ]\n",
      " [ 35.     1.   244.  ]\n",
      " [ 30.     1.6  244.  ]\n",
      " [ 40.     0.9  244.  ]\n",
      " [ 38.     1.2  245.  ]\n",
      " [ 40.     0.7  245.  ]\n",
      " [ 30.     1.   245.  ]\n",
      " [ 38.     0.8  245.  ]\n",
      " [ 35.     1.1  245.  ]\n",
      " [ 38.     1.1  246.  ]\n",
      " [ 30.     0.7  246.  ]\n",
      " [ 38.     1.3  246.  ]\n",
      " [ 40.     1.   247.  ]\n",
      " [ 40.     2.7  250.  ]\n",
      " [ 30.     3.8  250.  ]\n",
      " [ 38.     1.1  250.  ]\n",
      " [ 40.     0.8  250.  ]\n",
      " [ 40.     1.2  250.  ]\n",
      " [ 35.     1.7  250.  ]\n",
      " [ 55.     1.   250.  ]\n",
      " [ 35.     1.1  256.  ]\n",
      " [ 38.     0.9  256.  ]\n",
      " [ 55.     0.8  257.  ]\n",
      " [ 35.     1.4  258.  ]\n",
      " [ 38.     1.   258.  ]\n",
      " [ 35.     0.9  270.  ]\n",
      " [ 38.     1.1  270.  ]\n",
      " [ 38.     1.2  271.  ]\n",
      " [ 60.     0.8  278.  ]\n",
      " [ 38.     1.4  280.  ]\n",
      " [ 45.     1.6  285.  ]]\n"
     ]
    }
   ],
   "source": [
    "x = dataset.iloc[:, [4,7,11]].values\n",
    "y = dataset.iloc[:, -1].values\n",
    "print(x)"
   ]
  },
  {
   "cell_type": "code",
   "execution_count": 49,
   "id": "97db3d5f",
   "metadata": {},
   "outputs": [
    {
     "name": "stdout",
     "output_type": "stream",
     "text": [
      "[1 1 1 1 1 1 1 1 1 1 1 1 1 1 0 1 1 1 1 1 0 1 1 0 1 1 1 1 1 1 1 1 1 0 1 1 1\n",
      " 1 0 1 1 1 1 0 1 1 1 1 1 1 1 1 1 1 1 1 0 0 1 1 1 1 0 1 1 1 1 1 1 0 0 1 0 1\n",
      " 1 0 0 0 0 0 0 1 0 1 0 0 0 0 0 0 0 0 1 0 0 0 0 0 0 0 0 0 0 0 1 0 0 0 0 1 0\n",
      " 0 1 0 0 0 0 0 1 0 0 0 0 1 0 1 0 0 0 0 0 0 0 0 0 0 0 0 0 1 0 0 0 1 0 0 0 1\n",
      " 0 1 0 0 0 0 0 0 0 0 0 0 0 0 1 1 1 0 1 0 0 0 0 0 0 0 0 0 0 0 0 0 1 1 1 1 1\n",
      " 1 1 0 0 0 0 0 0 1 1 0 0 0 0 0 0 0 0 0 0 0 0 0 0 0 0 0 1 0 0 0 0 0 1 0 0 0\n",
      " 0 0 0 0 0 0 1 0 0 0 0 0 0 0 0 0 0 0 0 0 0 0 1 0 0 0 0 0 0 0 0 0 0 0 0 0 0\n",
      " 0 1 0 0 0 1 0 0 0 0 0 0 0 0 0 0 0 0 0 0 0 0 0 0 0 0 0 0 0 0 0 0 0 0 0 0 0\n",
      " 0]\n"
     ]
    }
   ],
   "source": [
    "print(y)"
   ]
  },
  {
   "cell_type": "code",
   "execution_count": 51,
   "id": "831829e0",
   "metadata": {},
   "outputs": [
    {
     "name": "stdout",
     "output_type": "stream",
     "text": [
      "[[ 40.     0.8  250.  ]\n",
      " [ 25.     2.5   77.  ]\n",
      " [ 35.     1.3   88.  ]\n",
      " [ 60.     1.   113.  ]\n",
      " [ 35.     0.7  197.  ]\n",
      " [ 25.     1.3   16.  ]\n",
      " [ 25.     0.9   38.  ]\n",
      " [ 35.     0.8  120.  ]\n",
      " [ 60.     1.4  205.  ]\n",
      " [ 35.     1.1  208.  ]\n",
      " [ 45.     1.3   26.  ]\n",
      " [ 20.     1.83 198.  ]\n",
      " [ 25.     0.8  230.  ]\n",
      " [ 50.     1.    30.  ]\n",
      " [ 25.     1.7   82.  ]\n",
      " [ 40.     1.2  121.  ]\n",
      " [ 45.     1.    80.  ]\n",
      " [ 40.     0.9  244.  ]\n",
      " [ 50.     1.3  121.  ]\n",
      " [ 35.     1.8  186.  ]\n",
      " [ 30.     1.3  212.  ]\n",
      " [ 50.     1.1  209.  ]\n",
      " [ 40.     1.2   74.  ]\n",
      " [ 25.     1.   205.  ]\n",
      " [ 40.     1.   140.  ]\n",
      " [ 35.     1.   206.  ]\n",
      " [ 25.     1.2   85.  ]\n",
      " [ 60.     1.1   33.  ]\n",
      " [ 35.     1.3  212.  ]\n",
      " [ 25.     1.2  154.  ]\n",
      " [ 35.     0.8  145.  ]\n",
      " [ 40.     1.   147.  ]\n",
      " [ 38.     2.2   45.  ]\n",
      " [ 60.     0.9  107.  ]\n",
      " [ 25.     1.    15.  ]\n",
      " [ 45.     0.9  174.  ]\n",
      " [ 25.     2.4  214.  ]\n",
      " [ 60.     3.2   94.  ]\n",
      " [ 38.     1.83  95.  ]\n",
      " [ 35.     1.    72.  ]\n",
      " [ 35.     1.   108.  ]\n",
      " [ 35.     1.1  212.  ]\n",
      " [ 60.     0.9  186.  ]\n",
      " [ 55.     1.   250.  ]\n",
      " [ 62.     0.8  192.  ]\n",
      " [ 40.     0.7  233.  ]\n",
      " [ 25.     1.   120.  ]\n",
      " [ 30.     1.2   29.  ]\n",
      " [ 25.     1.    78.  ]\n",
      " [ 60.     0.7  106.  ]\n",
      " [ 25.     1.    60.  ]\n",
      " [ 35.     1.18 119.  ]\n",
      " [ 55.     0.8  257.  ]\n",
      " [ 35.     1.2   90.  ]\n",
      " [ 30.     1.6   20.  ]\n",
      " [ 30.     1.2   26.  ]\n",
      " [ 40.     1.   187.  ]\n",
      " [ 38.     0.9   14.  ]\n",
      " [ 35.     2.7   54.  ]\n",
      " [ 60.     0.8   74.  ]\n",
      " [ 50.     1.3   97.  ]\n",
      " [ 30.     0.7  112.  ]\n",
      " [ 45.     1.1  121.  ]\n",
      " [ 60.     1.   215.  ]\n",
      " [ 60.     1.2   90.  ]\n",
      " [ 35.     0.9  146.  ]\n",
      " [ 20.     2.7    8.  ]\n",
      " [ 60.     1.1   85.  ]\n",
      " [ 30.     1.   245.  ]\n",
      " [ 40.     2.3   60.  ]\n",
      " [ 25.     1.2   66.  ]\n",
      " [ 40.     1.18 107.  ]\n",
      " [ 45.     1.8  180.  ]\n",
      " [ 20.     2.4  135.  ]\n",
      " [ 30.     0.7  246.  ]\n",
      " [ 20.     1.83  31.  ]\n",
      " [ 38.     2.5  162.  ]\n",
      " [ 38.     1.1   11.  ]\n",
      " [ 38.     1.1   88.  ]\n",
      " [ 40.     1.2  250.  ]\n",
      " [ 20.     1.9    7.  ]\n",
      " [ 25.     1.7  120.  ]\n",
      " [ 17.     2.1  100.  ]\n",
      " [ 30.     1.83  23.  ]\n",
      " [ 38.     1.83  27.  ]\n",
      " [ 38.     0.6   74.  ]\n",
      " [ 35.     1.1  245.  ]\n",
      " [ 50.     0.7  231.  ]\n",
      " [ 55.     1.9   15.  ]\n",
      " [ 35.     0.8  215.  ]\n",
      " [ 25.     5.   207.  ]\n",
      " [ 35.     0.9  240.  ]\n",
      " [ 50.     1.18  76.  ]\n",
      " [ 20.     1.4   43.  ]\n",
      " [ 20.     1.3    7.  ]\n",
      " [ 35.     0.9  209.  ]\n",
      " [ 30.     1.7   88.  ]\n",
      " [ 50.     1.   147.  ]\n",
      " [ 60.     0.8   79.  ]\n",
      " [ 38.     4.    10.  ]\n",
      " [ 35.     2.1  174.  ]\n",
      " [ 20.     1.1   55.  ]\n",
      " [ 30.     1.2   32.  ]\n",
      " [ 30.     1.    12.  ]\n",
      " [ 35.     1.4  120.  ]\n",
      " [ 25.     1.    43.  ]\n",
      " [ 38.     0.9  187.  ]\n",
      " [ 30.     1.7  207.  ]\n",
      " [ 40.     3.7   96.  ]\n",
      " [ 50.     0.9  196.  ]\n",
      " [ 35.     1.1   60.  ]\n",
      " [ 30.     1.5  171.  ]\n",
      " [ 25.     0.8  201.  ]\n",
      " [ 45.     6.1  107.  ]\n",
      " [ 35.     1.4  258.  ]\n",
      " [ 17.     1.   188.  ]\n",
      " [ 50.     1.    33.  ]\n",
      " [ 40.     1.    91.  ]\n",
      " [ 30.     0.8  108.  ]\n",
      " [ 35.     0.9  270.  ]\n",
      " [ 35.     0.8  194.  ]\n",
      " [ 45.     2.5  115.  ]\n",
      " [ 60.     1.3   90.  ]\n",
      " [ 38.     0.9  256.  ]\n",
      " [ 40.     1.1   86.  ]\n",
      " [ 30.     1.6  193.  ]\n",
      " [ 38.     0.7   83.  ]\n",
      " [ 60.     1.   186.  ]\n",
      " [ 35.     0.9  126.  ]\n",
      " [ 50.     1.    30.  ]\n",
      " [ 40.     0.7  147.  ]\n",
      " [ 40.     1.2   91.  ]\n",
      " [ 20.     1.9    4.  ]\n",
      " [ 60.     1.    83.  ]\n",
      " [ 25.     1.3   83.  ]\n",
      " [ 38.     1.2  271.  ]\n",
      " [ 40.     1.   233.  ]\n",
      " [ 30.     1.2  210.  ]\n",
      " [ 40.     0.8   68.  ]\n",
      " [ 30.     1.    42.  ]\n",
      " [ 20.     4.4   41.  ]\n",
      " [ 35.     1.1   79.  ]\n",
      " [ 60.     0.8  278.  ]\n",
      " [ 30.     0.9  109.  ]\n",
      " [ 60.     0.8   22.  ]\n",
      " [ 40.     0.9  213.  ]\n",
      " [ 35.     0.9  115.  ]\n",
      " [ 25.     1.7  111.  ]\n",
      " [ 45.     0.9   74.  ]\n",
      " [ 25.     1.   150.  ]\n",
      " [ 45.     1.18  87.  ]\n",
      " [ 45.     1.   187.  ]\n",
      " [ 40.     1.18 107.  ]\n",
      " [ 20.     1.83 241.  ]\n",
      " [ 38.     1.4  280.  ]\n",
      " [ 30.     0.8  186.  ]\n",
      " [ 15.     1.2   10.  ]\n",
      " [ 25.     1.83  67.  ]\n",
      " [ 40.     0.7  187.  ]\n",
      " [ 50.     0.7   79.  ]\n",
      " [ 40.     0.9  146.  ]\n",
      " [ 38.     0.75  95.  ]\n",
      " [ 35.     0.9  109.  ]\n",
      " [ 38.     1.1  270.  ]\n",
      " [ 40.     0.7  245.  ]\n",
      " [ 40.     0.9  110.  ]\n",
      " [ 30.     1.   216.  ]\n",
      " [ 60.     1.18  82.  ]\n",
      " [ 50.     1.8   78.  ]\n",
      " [ 30.     3.8  250.  ]\n",
      " [ 25.     0.9   10.  ]\n",
      " [ 60.     1.5   95.  ]\n",
      " [ 30.     1.    87.  ]\n",
      " [ 35.     3.5   30.  ]\n",
      " [ 40.     0.6   54.  ]\n",
      " [ 35.     1.5  145.  ]\n",
      " [ 38.     1.4  209.  ]\n",
      " [ 15.     1.3   65.  ]\n",
      " [ 38.     1.1    6.  ]\n",
      " [ 38.     1.    95.  ]\n",
      " [ 38.     1.2  237.  ]\n",
      " [ 25.     2.1  172.  ]\n",
      " [ 45.     1.2   33.  ]\n",
      " [ 45.     1.3   88.  ]\n",
      " [ 60.     1.3  107.  ]\n",
      " [ 40.     1.7   75.  ]\n",
      " [ 14.     0.8   14.  ]\n",
      " [ 25.     1.4  235.  ]\n",
      " [ 45.     1.1  209.  ]\n",
      " [ 30.     2.3   30.  ]\n",
      " [ 35.     1.18 107.  ]\n",
      " [ 50.     1.    44.  ]\n",
      " [ 38.     1.3  130.  ]\n",
      " [ 38.     1.7  220.  ]\n",
      " [ 35.     3.4  105.  ]\n",
      " [ 50.     1.    29.  ]\n",
      " [ 38.     5.8   26.  ]\n",
      " [ 25.     1.2  170.  ]\n",
      " [ 30.     1.1  129.  ]\n",
      " [ 45.     0.9  118.  ]\n",
      " [ 25.     1.1  214.  ]\n",
      " [ 25.     3.5  187.  ]\n",
      " [ 45.     3.    28.  ]\n",
      " [ 35.     1.    28.  ]\n",
      " [ 30.     0.7  104.  ]\n",
      " [ 50.     0.6  172.  ]\n",
      " [ 38.     1.1  246.  ]\n",
      " [ 30.     1.6  244.  ]\n",
      " [ 30.     1.83 113.  ]\n",
      " [ 38.     0.8  245.  ]\n",
      " [ 60.     1.2  147.  ]\n",
      " [ 25.     1.1   87.  ]\n",
      " [ 20.     1.   186.  ]\n",
      " [ 38.     1.4  213.  ]\n",
      " [ 60.     0.7   94.  ]\n",
      " [ 38.     1.7  244.  ]\n",
      " [ 50.     1.3   72.  ]\n",
      " [ 38.     1.9   23.  ]\n",
      " [ 60.     0.7  134.  ]\n",
      " [ 35.     1.7  250.  ]\n",
      " [ 60.     1.   146.  ]\n",
      " [ 35.     1.1  256.  ]\n",
      " [ 38.     3.    30.  ]\n",
      " [ 20.     1.6  180.  ]\n",
      " [ 25.     1.1   79.  ]\n",
      " [ 35.     0.9   71.  ]\n",
      " [ 40.     0.7   79.  ]\n",
      " [ 38.     1.8  213.  ]\n",
      " [ 38.     1.3  246.  ]\n",
      " [ 50.     1.4  192.  ]\n",
      " [ 35.     9.4   10.  ]\n",
      " [ 38.     1.18 185.  ]\n",
      " [ 35.     1.2  215.  ]\n",
      " [ 30.     1.18 180.  ]\n",
      " [ 60.     0.9   94.  ]\n",
      " [ 38.     0.6   40.  ]\n",
      " [ 20.     0.8  146.  ]]\n"
     ]
    }
   ],
   "source": [
    "x_train, x_test, y_train, y_test = train_test_split(x, y, test_size = 0.2, random_state = 0)\n",
    "\n",
    "print(x_train)"
   ]
  },
  {
   "cell_type": "code",
   "execution_count": 52,
   "id": "5dc93b25",
   "metadata": {},
   "outputs": [
    {
     "name": "stdout",
     "output_type": "stream",
     "text": [
      "[0 0 1 0 1 1 0 0 0 0 1 1 0 0 1 0 0 0 0 0 1 0 0 0 0 1 0 0 0 1 1 0 0 0 0 0 1\n",
      " 0 0 0 0 0 0 0 1 1 0 0 0 0 1 0 0 1 1 0 0 0 1 0]\n"
     ]
    }
   ],
   "source": [
    "print(y_test)"
   ]
  },
  {
   "cell_type": "code",
   "execution_count": 54,
   "id": "50be539f",
   "metadata": {},
   "outputs": [],
   "source": [
    "sc = StandardScaler()\n",
    "x_train = sc.fit_transform(x_train)\n",
    "x_test = sc.transform(x_test)"
   ]
  },
  {
   "cell_type": "markdown",
   "id": "1d930986",
   "metadata": {},
   "source": [
    "## 6. Logistic Regression"
   ]
  },
  {
   "cell_type": "code",
   "execution_count": 56,
   "id": "be352955",
   "metadata": {},
   "outputs": [
    {
     "data": {
      "text/html": [
       "<style>#sk-container-id-1 {color: black;background-color: white;}#sk-container-id-1 pre{padding: 0;}#sk-container-id-1 div.sk-toggleable {background-color: white;}#sk-container-id-1 label.sk-toggleable__label {cursor: pointer;display: block;width: 100%;margin-bottom: 0;padding: 0.3em;box-sizing: border-box;text-align: center;}#sk-container-id-1 label.sk-toggleable__label-arrow:before {content: \"▸\";float: left;margin-right: 0.25em;color: #696969;}#sk-container-id-1 label.sk-toggleable__label-arrow:hover:before {color: black;}#sk-container-id-1 div.sk-estimator:hover label.sk-toggleable__label-arrow:before {color: black;}#sk-container-id-1 div.sk-toggleable__content {max-height: 0;max-width: 0;overflow: hidden;text-align: left;background-color: #f0f8ff;}#sk-container-id-1 div.sk-toggleable__content pre {margin: 0.2em;color: black;border-radius: 0.25em;background-color: #f0f8ff;}#sk-container-id-1 input.sk-toggleable__control:checked~div.sk-toggleable__content {max-height: 200px;max-width: 100%;overflow: auto;}#sk-container-id-1 input.sk-toggleable__control:checked~label.sk-toggleable__label-arrow:before {content: \"▾\";}#sk-container-id-1 div.sk-estimator input.sk-toggleable__control:checked~label.sk-toggleable__label {background-color: #d4ebff;}#sk-container-id-1 div.sk-label input.sk-toggleable__control:checked~label.sk-toggleable__label {background-color: #d4ebff;}#sk-container-id-1 input.sk-hidden--visually {border: 0;clip: rect(1px 1px 1px 1px);clip: rect(1px, 1px, 1px, 1px);height: 1px;margin: -1px;overflow: hidden;padding: 0;position: absolute;width: 1px;}#sk-container-id-1 div.sk-estimator {font-family: monospace;background-color: #f0f8ff;border: 1px dotted black;border-radius: 0.25em;box-sizing: border-box;margin-bottom: 0.5em;}#sk-container-id-1 div.sk-estimator:hover {background-color: #d4ebff;}#sk-container-id-1 div.sk-parallel-item::after {content: \"\";width: 100%;border-bottom: 1px solid gray;flex-grow: 1;}#sk-container-id-1 div.sk-label:hover label.sk-toggleable__label {background-color: #d4ebff;}#sk-container-id-1 div.sk-serial::before {content: \"\";position: absolute;border-left: 1px solid gray;box-sizing: border-box;top: 0;bottom: 0;left: 50%;z-index: 0;}#sk-container-id-1 div.sk-serial {display: flex;flex-direction: column;align-items: center;background-color: white;padding-right: 0.2em;padding-left: 0.2em;position: relative;}#sk-container-id-1 div.sk-item {position: relative;z-index: 1;}#sk-container-id-1 div.sk-parallel {display: flex;align-items: stretch;justify-content: center;background-color: white;position: relative;}#sk-container-id-1 div.sk-item::before, #sk-container-id-1 div.sk-parallel-item::before {content: \"\";position: absolute;border-left: 1px solid gray;box-sizing: border-box;top: 0;bottom: 0;left: 50%;z-index: -1;}#sk-container-id-1 div.sk-parallel-item {display: flex;flex-direction: column;z-index: 1;position: relative;background-color: white;}#sk-container-id-1 div.sk-parallel-item:first-child::after {align-self: flex-end;width: 50%;}#sk-container-id-1 div.sk-parallel-item:last-child::after {align-self: flex-start;width: 50%;}#sk-container-id-1 div.sk-parallel-item:only-child::after {width: 0;}#sk-container-id-1 div.sk-dashed-wrapped {border: 1px dashed gray;margin: 0 0.4em 0.5em 0.4em;box-sizing: border-box;padding-bottom: 0.4em;background-color: white;}#sk-container-id-1 div.sk-label label {font-family: monospace;font-weight: bold;display: inline-block;line-height: 1.2em;}#sk-container-id-1 div.sk-label-container {text-align: center;}#sk-container-id-1 div.sk-container {/* jupyter's `normalize.less` sets `[hidden] { display: none; }` but bootstrap.min.css set `[hidden] { display: none !important; }` so we also need the `!important` here to be able to override the default hidden behavior on the sphinx rendered scikit-learn.org. See: https://github.com/scikit-learn/scikit-learn/issues/21755 */display: inline-block !important;position: relative;}#sk-container-id-1 div.sk-text-repr-fallback {display: none;}</style><div id=\"sk-container-id-1\" class=\"sk-top-container\"><div class=\"sk-text-repr-fallback\"><pre>LogisticRegression()</pre><b>In a Jupyter environment, please rerun this cell to show the HTML representation or trust the notebook. <br />On GitHub, the HTML representation is unable to render, please try loading this page with nbviewer.org.</b></div><div class=\"sk-container\" hidden><div class=\"sk-item\"><div class=\"sk-estimator sk-toggleable\"><input class=\"sk-toggleable__control sk-hidden--visually\" id=\"sk-estimator-id-1\" type=\"checkbox\" checked><label for=\"sk-estimator-id-1\" class=\"sk-toggleable__label sk-toggleable__label-arrow\">LogisticRegression</label><div class=\"sk-toggleable__content\"><pre>LogisticRegression()</pre></div></div></div></div></div>"
      ],
      "text/plain": [
       "LogisticRegression()"
      ]
     },
     "execution_count": 56,
     "metadata": {},
     "output_type": "execute_result"
    }
   ],
   "source": [
    "classifier = LogisticRegression()\n",
    "classifier.fit(x_train, y_train)"
   ]
  },
  {
   "cell_type": "code",
   "execution_count": 57,
   "id": "ae37db49",
   "metadata": {},
   "outputs": [],
   "source": [
    "# predicting test set\n",
    "\n",
    "y_pred = classifier.predict(x_test)"
   ]
  },
  {
   "cell_type": "code",
   "execution_count": 75,
   "id": "bd5e7a55",
   "metadata": {},
   "outputs": [
    {
     "name": "stdout",
     "output_type": "stream",
     "text": [
      "[[39  4]\n",
      " [ 3 14]]\n",
      "0.8833333333333333\n"
     ]
    }
   ],
   "source": [
    "# confusion matrix and accuracy score\n",
    "mylist = []\n",
    "cm = confusion_matrix(y_test, y_pred)\n",
    "ac = accuracy_score(y_test, y_pred)\n",
    "\n",
    "mylist.append(ac)\n",
    "print(cm)\n",
    "print(ac)"
   ]
  },
  {
   "cell_type": "markdown",
   "id": "e2923799",
   "metadata": {},
   "source": [
    "We can see that the accuracy score for our logistic regression model is about 88.3%"
   ]
  },
  {
   "cell_type": "markdown",
   "id": "b8f4d4d3",
   "metadata": {},
   "source": [
    "## 7. K-Nearest Neighbors"
   ]
  },
  {
   "cell_type": "code",
   "execution_count": 62,
   "id": "3f002b50",
   "metadata": {},
   "outputs": [
    {
     "data": {
      "image/png": "[encoded data removed]",
      "text/plain": [
       "<Figure size 1500x600 with 1 Axes>"
      ]
     },
     "metadata": {},
     "output_type": "display_data"
    }
   ],
   "source": [
    "# finding optimal number of neighbors\n",
    "\n",
    "list_2 = []\n",
    "\n",
    "for neighbors in range(3, 10):\n",
    "    classifier = KNeighborsClassifier(n_neighbors = neighbors, metric = 'minkowski')\n",
    "    classifier.fit(x_train, y_train)\n",
    "    y_pred = classifier.predict(x_test)\n",
    "    list_2.append(accuracy_score(y_test, y_pred))\n",
    "    \n",
    "plt.plot(list(range(3,10)), list_2)\n",
    "plt.show()"
   ]
  },
  {
   "cell_type": "markdown",
   "id": "5e47cbeb",
   "metadata": {},
   "source": [
    "We can see that the optimal number of neighbors is 6, at the peak of the graph."
   ]
  },
  {
   "cell_type": "code",
   "execution_count": 63,
   "id": "a164dc73",
   "metadata": {},
   "outputs": [
    {
     "data": {
      "text/html": [
       "<style>#sk-container-id-2 {color: black;background-color: white;}#sk-container-id-2 pre{padding: 0;}#sk-container-id-2 div.sk-toggleable {background-color: white;}#sk-container-id-2 label.sk-toggleable__label {cursor: pointer;display: block;width: 100%;margin-bottom: 0;padding: 0.3em;box-sizing: border-box;text-align: center;}#sk-container-id-2 label.sk-toggleable__label-arrow:before {content: \"▸\";float: left;margin-right: 0.25em;color: #696969;}#sk-container-id-2 label.sk-toggleable__label-arrow:hover:before {color: black;}#sk-container-id-2 div.sk-estimator:hover label.sk-toggleable__label-arrow:before {color: black;}#sk-container-id-2 div.sk-toggleable__content {max-height: 0;max-width: 0;overflow: hidden;text-align: left;background-color: #f0f8ff;}#sk-container-id-2 div.sk-toggleable__content pre {margin: 0.2em;color: black;border-radius: 0.25em;background-color: #f0f8ff;}#sk-container-id-2 input.sk-toggleable__control:checked~div.sk-toggleable__content {max-height: 200px;max-width: 100%;overflow: auto;}#sk-container-id-2 input.sk-toggleable__control:checked~label.sk-toggleable__label-arrow:before {content: \"▾\";}#sk-container-id-2 div.sk-estimator input.sk-toggleable__control:checked~label.sk-toggleable__label {background-color: #d4ebff;}#sk-container-id-2 div.sk-label input.sk-toggleable__control:checked~label.sk-toggleable__label {background-color: #d4ebff;}#sk-container-id-2 input.sk-hidden--visually {border: 0;clip: rect(1px 1px 1px 1px);clip: rect(1px, 1px, 1px, 1px);height: 1px;margin: -1px;overflow: hidden;padding: 0;position: absolute;width: 1px;}#sk-container-id-2 div.sk-estimator {font-family: monospace;background-color: #f0f8ff;border: 1px dotted black;border-radius: 0.25em;box-sizing: border-box;margin-bottom: 0.5em;}#sk-container-id-2 div.sk-estimator:hover {background-color: #d4ebff;}#sk-container-id-2 div.sk-parallel-item::after {content: \"\";width: 100%;border-bottom: 1px solid gray;flex-grow: 1;}#sk-container-id-2 div.sk-label:hover label.sk-toggleable__label {background-color: #d4ebff;}#sk-container-id-2 div.sk-serial::before {content: \"\";position: absolute;border-left: 1px solid gray;box-sizing: border-box;top: 0;bottom: 0;left: 50%;z-index: 0;}#sk-container-id-2 div.sk-serial {display: flex;flex-direction: column;align-items: center;background-color: white;padding-right: 0.2em;padding-left: 0.2em;position: relative;}#sk-container-id-2 div.sk-item {position: relative;z-index: 1;}#sk-container-id-2 div.sk-parallel {display: flex;align-items: stretch;justify-content: center;background-color: white;position: relative;}#sk-container-id-2 div.sk-item::before, #sk-container-id-2 div.sk-parallel-item::before {content: \"\";position: absolute;border-left: 1px solid gray;box-sizing: border-box;top: 0;bottom: 0;left: 50%;z-index: -1;}#sk-container-id-2 div.sk-parallel-item {display: flex;flex-direction: column;z-index: 1;position: relative;background-color: white;}#sk-container-id-2 div.sk-parallel-item:first-child::after {align-self: flex-end;width: 50%;}#sk-container-id-2 div.sk-parallel-item:last-child::after {align-self: flex-start;width: 50%;}#sk-container-id-2 div.sk-parallel-item:only-child::after {width: 0;}#sk-container-id-2 div.sk-dashed-wrapped {border: 1px dashed gray;margin: 0 0.4em 0.5em 0.4em;box-sizing: border-box;padding-bottom: 0.4em;background-color: white;}#sk-container-id-2 div.sk-label label {font-family: monospace;font-weight: bold;display: inline-block;line-height: 1.2em;}#sk-container-id-2 div.sk-label-container {text-align: center;}#sk-container-id-2 div.sk-container {/* jupyter's `normalize.less` sets `[hidden] { display: none; }` but bootstrap.min.css set `[hidden] { display: none !important; }` so we also need the `!important` here to be able to override the default hidden behavior on the sphinx rendered scikit-learn.org. See: https://github.com/scikit-learn/scikit-learn/issues/21755 */display: inline-block !important;position: relative;}#sk-container-id-2 div.sk-text-repr-fallback {display: none;}</style><div id=\"sk-container-id-2\" class=\"sk-top-container\"><div class=\"sk-text-repr-fallback\"><pre>KNeighborsClassifier(n_neighbors=6)</pre><b>In a Jupyter environment, please rerun this cell to show the HTML representation or trust the notebook. <br />On GitHub, the HTML representation is unable to render, please try loading this page with nbviewer.org.</b></div><div class=\"sk-container\" hidden><div class=\"sk-item\"><div class=\"sk-estimator sk-toggleable\"><input class=\"sk-toggleable__control sk-hidden--visually\" id=\"sk-estimator-id-2\" type=\"checkbox\" checked><label for=\"sk-estimator-id-2\" class=\"sk-toggleable__label sk-toggleable__label-arrow\">KNeighborsClassifier</label><div class=\"sk-toggleable__content\"><pre>KNeighborsClassifier(n_neighbors=6)</pre></div></div></div></div></div>"
      ],
      "text/plain": [
       "KNeighborsClassifier(n_neighbors=6)"
      ]
     },
     "execution_count": 63,
     "metadata": {},
     "output_type": "execute_result"
    }
   ],
   "source": [
    "# training the classifer on the training set\n",
    "\n",
    "classifier = KNeighborsClassifier(n_neighbors = 6)\n",
    "classifier.fit(x_train, y_train)"
   ]
  },
  {
   "cell_type": "code",
   "execution_count": 64,
   "id": "6817d8ab",
   "metadata": {},
   "outputs": [
    {
     "name": "stdout",
     "output_type": "stream",
     "text": [
      "[0 0 1 0 0 1 0 0 0 0 1 1 0 0 1 0 0 0 0 1 1 0 0 0 0 1 0 0 0 0 0 0 0 0 0 0 1\n",
      " 0 0 0 0 0 0 0 1 1 0 0 0 0 1 0 0 1 1 0 0 0 1 0]\n"
     ]
    }
   ],
   "source": [
    "# predicting test set results\n",
    "\n",
    "y_pred = classifier.predict(x_test)\n",
    "print(y_pred)"
   ]
  },
  {
   "cell_type": "code",
   "execution_count": 77,
   "id": "96a91c1a",
   "metadata": {},
   "outputs": [
    {
     "name": "stdout",
     "output_type": "stream",
     "text": [
      "[[39  4]\n",
      " [ 3 14]]\n",
      "0.8833333333333333\n"
     ]
    }
   ],
   "source": [
    "# confusion matrix and accuracy score\n",
    "\n",
    "cm = confusion_matrix(y_test, y_pred)\n",
    "ac = accuracy_score(y_test, y_pred)\n",
    "mylist.append(ac)\n",
    "\n",
    "print(cm)\n",
    "print(ac)"
   ]
  },
  {
   "cell_type": "markdown",
   "id": "cc08ee65",
   "metadata": {},
   "source": [
    "We can see that the accuracy score for our KNN model is about 93.3%"
   ]
  },
  {
   "cell_type": "markdown",
   "id": "d5e116d8",
   "metadata": {},
   "source": [
    "## 8. Support Vector Classifier"
   ]
  },
  {
   "cell_type": "code",
   "execution_count": 68,
   "id": "c225e76d",
   "metadata": {},
   "outputs": [
    {
     "data": {
      "image/png": "[encoded data removed]",
      "text/plain": [
       "<Figure size 1500x600 with 1 Axes>"
      ]
     },
     "metadata": {},
     "output_type": "display_data"
    }
   ],
   "source": [
    "list_2 = []\n",
    "for c in [0.5, 0.6, 0.7, 0.8, 0.9, 1.0]:\n",
    "    classifier = SVC(C = c, random_state = 0, kernel = 'rbf')\n",
    "    classifier.fit(x_train, y_train)\n",
    "    y_pred = classifier.predict(x_test)\n",
    "    list_2.append(accuracy_score(y_test, y_pred))\n",
    "\n",
    "plt.plot([0.5, 0.6, 0.7, 0.8, 0.9, 1.0], list_2)\n",
    "plt.show()"
   ]
  },
  {
   "cell_type": "code",
   "execution_count": 69,
   "id": "be086208",
   "metadata": {},
   "outputs": [
    {
     "data": {
      "text/html": [
       "<style>#sk-container-id-3 {color: black;background-color: white;}#sk-container-id-3 pre{padding: 0;}#sk-container-id-3 div.sk-toggleable {background-color: white;}#sk-container-id-3 label.sk-toggleable__label {cursor: pointer;display: block;width: 100%;margin-bottom: 0;padding: 0.3em;box-sizing: border-box;text-align: center;}#sk-container-id-3 label.sk-toggleable__label-arrow:before {content: \"▸\";float: left;margin-right: 0.25em;color: #696969;}#sk-container-id-3 label.sk-toggleable__label-arrow:hover:before {color: black;}#sk-container-id-3 div.sk-estimator:hover label.sk-toggleable__label-arrow:before {color: black;}#sk-container-id-3 div.sk-toggleable__content {max-height: 0;max-width: 0;overflow: hidden;text-align: left;background-color: #f0f8ff;}#sk-container-id-3 div.sk-toggleable__content pre {margin: 0.2em;color: black;border-radius: 0.25em;background-color: #f0f8ff;}#sk-container-id-3 input.sk-toggleable__control:checked~div.sk-toggleable__content {max-height: 200px;max-width: 100%;overflow: auto;}#sk-container-id-3 input.sk-toggleable__control:checked~label.sk-toggleable__label-arrow:before {content: \"▾\";}#sk-container-id-3 div.sk-estimator input.sk-toggleable__control:checked~label.sk-toggleable__label {background-color: #d4ebff;}#sk-container-id-3 div.sk-label input.sk-toggleable__control:checked~label.sk-toggleable__label {background-color: #d4ebff;}#sk-container-id-3 input.sk-hidden--visually {border: 0;clip: rect(1px 1px 1px 1px);clip: rect(1px, 1px, 1px, 1px);height: 1px;margin: -1px;overflow: hidden;padding: 0;position: absolute;width: 1px;}#sk-container-id-3 div.sk-estimator {font-family: monospace;background-color: #f0f8ff;border: 1px dotted black;border-radius: 0.25em;box-sizing: border-box;margin-bottom: 0.5em;}#sk-container-id-3 div.sk-estimator:hover {background-color: #d4ebff;}#sk-container-id-3 div.sk-parallel-item::after {content: \"\";width: 100%;border-bottom: 1px solid gray;flex-grow: 1;}#sk-container-id-3 div.sk-label:hover label.sk-toggleable__label {background-color: #d4ebff;}#sk-container-id-3 div.sk-serial::before {content: \"\";position: absolute;border-left: 1px solid gray;box-sizing: border-box;top: 0;bottom: 0;left: 50%;z-index: 0;}#sk-container-id-3 div.sk-serial {display: flex;flex-direction: column;align-items: center;background-color: white;padding-right: 0.2em;padding-left: 0.2em;position: relative;}#sk-container-id-3 div.sk-item {position: relative;z-index: 1;}#sk-container-id-3 div.sk-parallel {display: flex;align-items: stretch;justify-content: center;background-color: white;position: relative;}#sk-container-id-3 div.sk-item::before, #sk-container-id-3 div.sk-parallel-item::before {content: \"\";position: absolute;border-left: 1px solid gray;box-sizing: border-box;top: 0;bottom: 0;left: 50%;z-index: -1;}#sk-container-id-3 div.sk-parallel-item {display: flex;flex-direction: column;z-index: 1;position: relative;background-color: white;}#sk-container-id-3 div.sk-parallel-item:first-child::after {align-self: flex-end;width: 50%;}#sk-container-id-3 div.sk-parallel-item:last-child::after {align-self: flex-start;width: 50%;}#sk-container-id-3 div.sk-parallel-item:only-child::after {width: 0;}#sk-container-id-3 div.sk-dashed-wrapped {border: 1px dashed gray;margin: 0 0.4em 0.5em 0.4em;box-sizing: border-box;padding-bottom: 0.4em;background-color: white;}#sk-container-id-3 div.sk-label label {font-family: monospace;font-weight: bold;display: inline-block;line-height: 1.2em;}#sk-container-id-3 div.sk-label-container {text-align: center;}#sk-container-id-3 div.sk-container {/* jupyter's `normalize.less` sets `[hidden] { display: none; }` but bootstrap.min.css set `[hidden] { display: none !important; }` so we also need the `!important` here to be able to override the default hidden behavior on the sphinx rendered scikit-learn.org. See: https://github.com/scikit-learn/scikit-learn/issues/21755 */display: inline-block !important;position: relative;}#sk-container-id-3 div.sk-text-repr-fallback {display: none;}</style><div id=\"sk-container-id-3\" class=\"sk-top-container\"><div class=\"sk-text-repr-fallback\"><pre>SVC(C=0.6, random_state=0)</pre><b>In a Jupyter environment, please rerun this cell to show the HTML representation or trust the notebook. <br />On GitHub, the HTML representation is unable to render, please try loading this page with nbviewer.org.</b></div><div class=\"sk-container\" hidden><div class=\"sk-item\"><div class=\"sk-estimator sk-toggleable\"><input class=\"sk-toggleable__control sk-hidden--visually\" id=\"sk-estimator-id-3\" type=\"checkbox\" checked><label for=\"sk-estimator-id-3\" class=\"sk-toggleable__label sk-toggleable__label-arrow\">SVC</label><div class=\"sk-toggleable__content\"><pre>SVC(C=0.6, random_state=0)</pre></div></div></div></div></div>"
      ],
      "text/plain": [
       "SVC(C=0.6, random_state=0)"
      ]
     },
     "execution_count": 69,
     "metadata": {},
     "output_type": "execute_result"
    }
   ],
   "source": [
    "# training SVC on training set\n",
    "\n",
    "classifier = SVC(C = 0.6, random_state = 0, kernel = 'rbf')\n",
    "classifier.fit(x_train, y_train)"
   ]
  },
  {
   "cell_type": "code",
   "execution_count": 79,
   "id": "65d72845",
   "metadata": {},
   "outputs": [
    {
     "name": "stdout",
     "output_type": "stream",
     "text": [
      "[[39  4]\n",
      " [ 3 14]]\n",
      "0.8833333333333333\n"
     ]
    }
   ],
   "source": [
    "# predicting test set results\n",
    "\n",
    "cm = confusion_matrix(y_test, y_pred)\n",
    "ac = accuracy_score(y_test, y_pred)\n",
    "mylist.append(ac)\n",
    "\n",
    "print(cm)\n",
    "print(ac)"
   ]
  },
  {
   "cell_type": "code",
   "execution_count": null,
   "id": "e78a9e55",
   "metadata": {},
   "outputs": [],
   "source": []
  }
 ],
 "metadata": {
  "kernelspec": {
   "display_name": "Python 3 (ipykernel)",
   "language": "python",
   "name": "python3"
  },
  "language_info": {
   "codemirror_mode": {
    "name": "ipython",
    "version": 3
   },
   "file_extension": ".py",
   "mimetype": "text/x-python",
   "name": "python",
   "nbconvert_exporter": "python",
   "pygments_lexer": "ipython3",
   "version": "3.9.16"
  }
 },
 "nbformat": 4,
 "nbformat_minor": 5
}
